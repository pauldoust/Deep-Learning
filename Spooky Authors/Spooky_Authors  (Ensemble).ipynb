{
 "cells": [
  {
   "cell_type": "markdown",
   "metadata": {},
   "source": [
    "# <center> Deep Learning Project</center>\n",
    "## <center>Spooky Authors Identification</center>\n",
    "### <center>Ensemble of different methods</center>\n",
    "#### <center>Score on Kaggle: 0.33 log loss</center>\n",
    "\n",
    "\n",
    "---\n",
    "\n",
    "\n",
    "*   Eduardo Brendao (MLDM)\n",
    "*   Mohammad Poul Doust (MLDM)\n",
    "\n"
   ]
  },
  {
   "cell_type": "markdown",
   "metadata": {
    "colab_type": "text",
    "id": "mTFp3B59TxiP"
   },
   "source": [
    "# Ensemble classifiers"
   ]
  },
  {
   "cell_type": "code",
   "execution_count": 0,
   "metadata": {
    "colab": {},
    "colab_type": "code",
    "id": "Igkl48fKCr10"
   },
   "outputs": [],
   "source": [
    "import pandas as pd\n",
    "import numpy as np"
   ]
  },
  {
   "cell_type": "code",
   "execution_count": 0,
   "metadata": {
    "colab": {},
    "colab_type": "code",
    "id": "DLszDtGbmEmX"
   },
   "outputs": [],
   "source": [
    "df1 = pd.read_csv(\"fasttext_submission.csv\")\n",
    "df2 = pd.read_csv(\"lstm_submission.csv\")\n",
    "df3 = pd.read_csv(\"submission_0.37602.csv\")\n",
    "df3_2 = pd.read_csv(\"hist_embeddings.csv\")"
   ]
  },
  {
   "cell_type": "code",
   "execution_count": 0,
   "metadata": {
    "colab": {},
    "colab_type": "code",
    "id": "Ppj8fdH9JNvV"
   },
   "outputs": [],
   "source": [
    "# Linear combination classifier, equal weights\n",
    "simplest = pd.DataFrame(data=df1.values,index=None, columns = [\"id\", \"EAP\", \"HPL\", \"MWS\"])\n",
    "simplest[[\"EAP\", \"HPL\", \"MWS\"]] = 0.25*(df1[[\"EAP\", \"HPL\", \"MWS\"]]+0.25*df2[[\"EAP\", \"HPL\", \"MWS\"]]+0.25*df3[[\"EAP\", \"HPL\", \"MWS\"]])+0.25*df3_2[[\"EAP\", \"HPL\", \"MWS\"]]\n",
    "simplest.to_csv(\"ensemble_new.csv\", index=False)"
   ]
  },
  {
   "cell_type": "code",
   "execution_count": 0,
   "metadata": {
    "colab": {},
    "colab_type": "code",
    "id": "GvjZiuPbmnot"
   },
   "outputs": [],
   "source": [
    "# Linear combination classifier, random weights\n",
    "\n",
    "df4 = pd.DataFrame(data=df1.values,index=None, columns = [\"id\", \"EAP\", \"HPL\", \"MWS\"])\n",
    "\n",
    "for i in range(10):\n",
    "  w = np.zeros(3)\n",
    "  interval_edges = np.sort(np.random.random_sample(2))\n",
    "  w[0] = interval_edges[0]\n",
    "  w[1] = interval_edges[1]-interval_edges[0]\n",
    "  w[2] = 1-interval_edges[1]\n",
    "\n",
    "  df4[[\"EAP\", \"HPL\", \"MWS\"]] = w[0]*(df1[[\"EAP\", \"HPL\", \"MWS\"]]+w[1]*df2[[\"EAP\", \"HPL\", \"MWS\"]]+w[2]*df3[[\"EAP\", \"HPL\", \"MWS\"]])\n",
    "  df4.to_csv(\"ensemble_\"+str(w[0])+\"_\"+str(w[1])+\"_\"+str(w[2])+\".csv\", index=False)"
   ]
  },
  {
   "cell_type": "code",
   "execution_count": 0,
   "metadata": {
    "colab": {},
    "colab_type": "code",
    "id": "az7I9Q5Ynr2a"
   },
   "outputs": [],
   "source": [
    "# Highest least confident ensemble classifier\n",
    "\n",
    "df5 = pd.DataFrame(data=df1.values,index=None, columns = [\"id\", \"EAP\", \"HPL\", \"MWS\"])\n",
    "\n",
    "for author in df5.columns[1:]:\n",
    "  df5[author] = pd.concat([df1[author], df2[author], df3[author]], axis=1).min(axis=1)\n",
    "\n",
    "df5[df5.columns[1:]] = df5[df5.columns[1:]].div(df5[df5.columns[1:]].sum(axis=1), axis=0)\n",
    "\n",
    "df5.to_csv(\"ensemble_min_renorm.csv\", index=False)"
   ]
  },
  {
   "cell_type": "code",
   "execution_count": 0,
   "metadata": {
    "colab": {},
    "colab_type": "code",
    "id": "9OG0rLy-UFRg"
   },
   "outputs": [],
   "source": [
    "# Least sure of itself (descriminative) classifier\n",
    "\n",
    "df6 = pd.DataFrame(data=df1.values,index=None, columns = [\"id\", \"EAP\", \"HPL\", \"MWS\"])\n",
    "\n",
    "df1[\"std\"] = df1[df1.columns[1:4]].std(axis=1)\n",
    "df2[\"std\"] = df2[df2.columns[1:4]].std(axis=1)\n",
    "df3[\"std\"] = df3[df3.columns[1:4]].std(axis=1)"
   ]
  },
  {
   "cell_type": "code",
   "execution_count": 0,
   "metadata": {
    "colab": {},
    "colab_type": "code",
    "id": "qxoaRnVfVW_F"
   },
   "outputs": [],
   "source": [
    "choice = []\n",
    "for a,b,c in zip(df1[\"std\"], df2[\"std\"], df3[\"std\"]):\n",
    "  d = min([a,b,c])\n",
    "  if a == d:\n",
    "    choice.append(0)\n",
    "  elif b == d:\n",
    "    choice.append(1)\n",
    "  elif c ==d:\n",
    "    choice.append(2)\n",
    "  else:\n",
    "    print(a,b,c)"
   ]
  },
  {
   "cell_type": "code",
   "execution_count": 0,
   "metadata": {
    "colab": {},
    "colab_type": "code",
    "id": "f5tXN1GcaDhB"
   },
   "outputs": [],
   "source": [
    "# the least descriminative (and best Kaggle submission) is usually the last one. This is in line with what we expect from  log loss."
   ]
  },
  {
   "cell_type": "code",
   "execution_count": 0,
   "metadata": {
    "colab": {
     "base_uri": "https://localhost:8080/",
     "height": 34
    },
    "colab_type": "code",
    "id": "qBgSrPB9VZ0_",
    "outputId": "722fd506-8c81-4515-8a33-eeaca9288b06"
   },
   "outputs": [
    {
     "data": {
      "text/plain": [
       "(423, 2675, 5294)"
      ]
     },
     "execution_count": 114,
     "metadata": {
      "tags": []
     },
     "output_type": "execute_result"
    }
   ],
   "source": [
    "sum([1 if i == 0 else 0 for i in choice]), sum([1 if i == 1 else 0 for i in choice]), sum([1 if i == 2 else 0 for i in choice])"
   ]
  },
  {
   "cell_type": "code",
   "execution_count": 0,
   "metadata": {
    "colab": {},
    "colab_type": "code",
    "id": "H0sf_SDaZ_fe"
   },
   "outputs": [],
   "source": [
    "for i in range(len(choice)):\n",
    "  if choice[i] == 0:\n",
    "    df6.iloc[[i]] = df1.iloc[[i]][df6.columns]\n",
    "  elif choice[i] == 1:\n",
    "    df6.iloc[[i]] = df2.iloc[[i]][df6.columns]\n",
    "  elif choice[i] == 2:\n",
    "    df6.iloc[[i]] = df3.iloc[[i]][df6.columns]"
   ]
  },
  {
   "cell_type": "code",
   "execution_count": 0,
   "metadata": {
    "colab": {},
    "colab_type": "code",
    "id": "B2f5awr9bUI6"
   },
   "outputs": [],
   "source": [
    "# doesn't do very well\n",
    "df6.to_csv(\"ensemble_least_descriminative.csv\", index=False)"
   ]
  },
  {
   "cell_type": "code",
   "execution_count": 0,
   "metadata": {
    "colab": {},
    "colab_type": "code",
    "id": "5GhqjDCWeP-R"
   },
   "outputs": [],
   "source": [
    "# mean weighted by confidence\n",
    "df7 = pd.DataFrame(data=df1[[\"id\", \"EAP\", \"HPL\", \"MWS\"]],index=None)\n",
    "\n",
    "df7[[\"EAP\", \"HPL\", \"MWS\"]] = (df1[[\"EAP\", \"HPL\", \"MWS\"]].multiply(df1[\"std\"], axis=\"index\")+\n",
    "df2[[\"EAP\", \"HPL\", \"MWS\"]].multiply(df2[\"std\"], axis=\"index\")+\n",
    "df3[[\"EAP\", \"HPL\", \"MWS\"]].multiply(df3[\"std\"], axis=\"index\"))\n",
    "\n",
    "df7[df7.columns[1:]] = df7[df7.columns[1:]].div(df7[df7.columns[1:]].sum(axis=1), axis=0)\n",
    "df7.to_csv(\"ensemble_weighted_by_sd.csv\", index=False)"
   ]
  },
  {
   "cell_type": "code",
   "execution_count": 0,
   "metadata": {
    "colab": {},
    "colab_type": "code",
    "id": "Hj5D53Fgec_c"
   },
   "outputs": [],
   "source": [
    "# mean weighted by humbleness\n",
    "df8 = pd.DataFrame(data=df1[[\"id\", \"EAP\", \"HPL\", \"MWS\"]],index=None)\n",
    "\n",
    "df8[[\"EAP\", \"HPL\", \"MWS\"]] = (df1[[\"EAP\", \"HPL\", \"MWS\"]].div(df1[\"std\"], axis=\"index\")+\n",
    "df2[[\"EAP\", \"HPL\", \"MWS\"]].div(df2[\"std\"], axis=\"index\")+\n",
    "df3[[\"EAP\", \"HPL\", \"MWS\"]].div(df3[\"std\"], axis=\"index\"))\n",
    "\n",
    "df8[df8.columns[1:]] = df8[df8.columns[1:]].div(df8[df8.columns[1:]].sum(axis=1), axis=0)\n",
    "df8.to_csv(\"ensemble_weighted_by_inverse_std.csv\", index=False)"
   ]
  },
  {
   "cell_type": "code",
   "execution_count": 0,
   "metadata": {
    "colab": {},
    "colab_type": "code",
    "id": "5-DIEb3bgHot"
   },
   "outputs": [],
   "source": []
  }
 ],
 "metadata": {
  "colab": {
   "collapsed_sections": [],
   "name": "ensemble_DL_Spooky_Authors.ipynb",
   "provenance": [],
   "toc_visible": true
  },
  "kernelspec": {
   "display_name": "Python 3",
   "language": "python",
   "name": "python3"
  },
  "language_info": {
   "codemirror_mode": {
    "name": "ipython",
    "version": 3
   },
   "file_extension": ".py",
   "mimetype": "text/x-python",
   "name": "python",
   "nbconvert_exporter": "python",
   "pygments_lexer": "ipython3",
   "version": "3.7.4"
  }
 },
 "nbformat": 4,
 "nbformat_minor": 1
}
