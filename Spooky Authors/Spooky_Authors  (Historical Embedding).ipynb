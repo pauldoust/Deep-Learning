{
 "cells": [
  {
   "cell_type": "markdown",
   "metadata": {},
   "source": [
    "# <center> Deep Learning Project</center>\n",
    "## <center>Spooky Authors Identification</center>\n",
    "### <center>Historical Embedding Experiment</center>\n",
    "#### <center>Score on Kaggle: 0.36 log loss</center>\n",
    "\n",
    "\n",
    "---\n",
    "\n",
    "\n",
    "*   Eduardo Brendao (MLDM)\n",
    "*   Mohammad Poul Doust (MLDM)\n",
    "\n"
   ]
  },
  {
   "cell_type": "markdown",
   "metadata": {
    "colab_type": "text",
    "id": "U7MUGdx74ApB"
   },
   "source": [
    "# Preprocessing"
   ]
  },
  {
   "cell_type": "code",
   "execution_count": 0,
   "metadata": {
    "colab": {},
    "colab_type": "code",
    "id": "hSech93p4HSa"
   },
   "outputs": [],
   "source": [
    "# Preprocessing\n",
    "def add_puctuation_and_n_grams(df, n_gram_max=2):\n",
    "    def add_ngram(q, n_gram_max):\n",
    "            ngrams = []\n",
    "            for n in range(2, n_gram_max+1):\n",
    "                for w_index in range(len(q)-n+1):\n",
    "                    ngrams.append('--'.join(q[w_index:w_index+n]))\n",
    "            return q + ngrams\n",
    "    \n",
    "    def punctuation_to_words(text):\n",
    "      text = text.replace(\"' \", \" ' \")\n",
    "      signs = set(',.:;\"?!')\n",
    "      prods = set(text) & signs\n",
    "      if not prods:\n",
    "          return text\n",
    "\n",
    "      for sign in prods:\n",
    "          text = text.replace(sign, ' {} '.format(sign) )\n",
    "      return text\n",
    "\n",
    "    docs = []\n",
    "\n",
    "    if isinstance(df, pd.DataFrame):\n",
    "      for doc in df.text:\n",
    "        doc = punctuation_to_words(doc).split()\n",
    "        docs.append(' '.join(add_ngram(doc, n_gram_max)))\n",
    "    else:\n",
    "      for doc in df:\n",
    "        doc = punctuation_to_words(doc).split()\n",
    "        docs.append(' '.join(add_ngram(doc, n_gram_max)))\n",
    "   \n",
    "    return docs"
   ]
  },
  {
   "cell_type": "code",
   "execution_count": 0,
   "metadata": {
    "colab": {
     "base_uri": "https://localhost:8080/",
     "height": 79
    },
    "colab_type": "code",
    "id": "-kWdQpzsOllo",
    "outputId": "1ab605ce-caff-4634-ef88-b094444e0f2f"
   },
   "outputs": [
    {
     "name": "stderr",
     "output_type": "stream",
     "text": [
      "Using TensorFlow backend.\n"
     ]
    },
    {
     "data": {
      "text/html": [
       "<p style=\"color: red;\">\n",
       "The default version of TensorFlow in Colab will soon switch to TensorFlow 2.x.<br>\n",
       "We recommend you <a href=\"https://www.tensorflow.org/guide/migrate\" target=\"_blank\">upgrade</a> now \n",
       "or ensure your notebook will continue to use TensorFlow 1.x via the <code>%tensorflow_version 1.x</code> magic:\n",
       "<a href=\"https://colab.research.google.com/notebooks/tensorflow_version.ipynb\" target=\"_blank\">more info</a>.</p>\n"
      ],
      "text/plain": [
       "<IPython.core.display.HTML object>"
      ]
     },
     "metadata": {
      "tags": []
     },
     "output_type": "display_data"
    }
   ],
   "source": [
    "#imports\n",
    "import pandas as pd\n",
    "import numpy as np\n",
    "import string\n",
    "import nltk\n",
    "from nltk.corpus import stopwords\n",
    "from nltk.tokenize import word_tokenize\n",
    "from nltk.stem.porter import PorterStemmer\n",
    "from sklearn.feature_extraction.text import TfidfVectorizer\n",
    "from sklearn.model_selection import train_test_split\n",
    "from sklearn.decomposition import NMF, LatentDirichletAllocation\n",
    "from math import floor\n",
    "import pickle\n",
    "from sklearn import preprocessing\n",
    "from sklearn.pipeline import make_pipeline\n",
    "\n",
    "#keras\n",
    "from keras.initializers import Constant\n",
    "from keras.models import Sequential, Model\n",
    "from keras.layers import Dense, Embedding, GlobalAveragePooling1D, LSTM, Dropout,BatchNormalization, Input, Conv1D, MaxPooling1D, Flatten\n",
    "import keras\n",
    "from keras.preprocessing.text import Tokenizer\n",
    "from keras.preprocessing.sequence import pad_sequences\n",
    "from keras.callbacks import EarlyStopping\n",
    "import warnings\n",
    "warnings.filterwarnings('ignore')\n"
   ]
  },
  {
   "cell_type": "markdown",
   "metadata": {
    "colab_type": "text",
    "id": "lb8dmKoq5X5v"
   },
   "source": [
    "# HistWords scikit learn estimator"
   ]
  },
  {
   "cell_type": "code",
   "execution_count": 0,
   "metadata": {
    "colab": {},
    "colab_type": "code",
    "id": "eo4I8i-yjxJH"
   },
   "outputs": [],
   "source": [
    "# An estimator for use with ELI5 plus a bonus function because that's how I got it to work\n",
    "\n",
    "from sklearn.base import BaseEstimator, TransformerMixin\n",
    "\n",
    "class HistoricalClassifier(BaseEstimator, TransformerMixin):\n",
    "  '''Wrapper class for keras text classification models that takes raw text as input.'''\n",
    "  \n",
    "  def __init__(self, input_dim, min_count =2, input_length=256, n_classes=3, epochs=25, batch_size=16, number_of_n_grams =2, embedding_dim =20, weights = None):\n",
    "    self.emb_dim = embedding_dim\n",
    "    self.input_dim = input_dim\n",
    "    self.input_length = input_length\n",
    "    self.n_classes = n_classes\n",
    "    self.epochs = epochs\n",
    "    self.bs = batch_size\n",
    "    self.min_count = min_count\n",
    "    self.model = self._get_model(weights)\n",
    "    self.number_of_n_grams = number_of_n_grams\n",
    "    self.tokenizer = None\n",
    "    return self.model.summary()\n",
    "    \n",
    "  def _get_model(self, _weights = None):\n",
    "    \"\"\"This is fast text, as per https://arxiv.org/abs/1607.01759\"\"\"\n",
    "    model = Sequential()\n",
    "    if _weights is not None:\n",
    "      model.add(Embedding(input_dim = self.input_dim,output_dim=self.emb_dim, weights = [_weights], trainable = True))\n",
    "      # model.add(Embedding(input_dim = self.input_dim,output_dim=self.emb_dim, embeddings_initializer=Constant(weights)))\n",
    "      print('weights initialized')\n",
    "    else:\n",
    "      model.add(Embedding(input_dim = self.input_dim,output_dim=self.emb_dim))\n",
    "    model.add(GlobalAveragePooling1D())\n",
    "    model.add(Dense(self.n_classes, activation='softmax'))\n",
    "\n",
    "    model.compile(loss='categorical_crossentropy',\n",
    "                  optimizer=\"adam\",\n",
    "                  metrics=['accuracy']) \n",
    "    return model\n",
    "\n",
    "  def _get_tokenizer(self, X):\n",
    "    texts = self._preprocess(X)\n",
    "    tokenizer = Tokenizer(lower=True, filters='')\n",
    "    tokenizer.fit_on_texts(texts)\n",
    "    return tokenizer\n",
    "\n",
    "\n",
    "  \n",
    "  def _get_sequences(self, X):\n",
    "    \"\"\"Change lower=False not to match case\"\"\"\n",
    "    texts = self._preprocess(X)\n",
    "    tokenizer = Tokenizer(lower=True, filters='')\n",
    "    tokenizer.fit_on_texts(texts)\n",
    "    num_words = sum([1 for _, v in tokenizer.word_counts.items() if v >= self.min_count])\n",
    "    \n",
    "    tokenizer = Tokenizer(num_words=num_words, lower=True, filters='')\n",
    "    tokenizer.fit_on_texts(texts)\n",
    "    texts = tokenizer.texts_to_sequences(texts)\n",
    "    texts = pad_sequences(sequences = texts, maxlen=self.input_length)\n",
    "    self.tokenizer =tokenizer \n",
    "    return texts\n",
    "  \n",
    "  def _preprocess(self, texts):\n",
    "    return add_puctuation_and_n_grams(texts, n_gram_max=self.number_of_n_grams)\n",
    "  \n",
    "  def fit(self, X, y):\n",
    "    '''Fit the vocabulary and the model.\n",
    "       :params: X: list of texts. y: labels.\n",
    "    '''\n",
    "    docs = self._get_sequences(X)\n",
    "    x_train, x_test, y_train, y_test = train_test_split(docs, y, test_size=0.1)\n",
    "\n",
    "    self.model.fit(x_train, y_train,\n",
    "                 batch_size=self.bs,\n",
    "                 validation_data=(x_test, y_test),\n",
    "                 epochs=self.epochs,\n",
    "                 callbacks=[EarlyStopping(patience=2, monitor='val_loss')])\n",
    "\n",
    "  def predict_proba(self, X, y=None):\n",
    "    seqs = self._get_sequences(self._preprocess(X))\n",
    "    return self.model.predict(seqs)\n",
    "  \n",
    "  def predict(self, X, y=None):\n",
    "    return np.argmax(self.predict_proba(X), axis=1)\n",
    "  \n",
    "  def score(self, X, y):\n",
    "    y_pred = self.predict(X)\n",
    "    return accuracy_score(np.argmax(y, axis=1), y_pred)\n",
    "\n",
    "def get_input_dimension(X, min_count=2, maxlen=256):\n",
    "  \"\"\" Before creating a model, input dimension changes cuz we remove low freq words (lower than min_count)\"\"\"\n",
    "  docs = add_puctuation_and_n_grams(X, n_gram_max=2)\n",
    "\n",
    "  tokenizer = Tokenizer(lower=False, filters='')\n",
    "  tokenizer.fit_on_texts(docs)\n",
    "  num_words = sum([1 for _, v in tokenizer.word_counts.items() if v >= min_count])\n",
    "\n",
    "  tokenizer = Tokenizer(num_words=num_words, lower=False, filters='')\n",
    "  tokenizer.fit_on_texts(docs)\n",
    "  docs = tokenizer.texts_to_sequences(docs)\n",
    "  \n",
    "  docs = pad_sequences(sequences=docs, maxlen=maxlen)\n",
    "  return np.max(docs) + 1"
   ]
  },
  {
   "cell_type": "markdown",
   "metadata": {
    "colab_type": "text",
    "id": "RGxXafTe5gs4"
   },
   "source": [
    "# Get Data\n",
    "... and split to debug with ELI5. Submission would use the entire training set."
   ]
  },
  {
   "cell_type": "code",
   "execution_count": 0,
   "metadata": {
    "colab": {
     "base_uri": "https://localhost:8080/",
     "height": 252
    },
    "colab_type": "code",
    "id": "RJHtACv_iyN4",
    "outputId": "9d617742-bd84-4db5-bc84-8ddb4dbfdf22"
   },
   "outputs": [
    {
     "name": "stdout",
     "output_type": "stream",
     "text": [
      "Warning: Looks like you're using an outdated API Version, please consider updating (server 1.5.6 / client 1.5.4)\n",
      "Downloading sample_submission.zip to /content\n",
      "  0% 0.00/29.4k [00:00<?, ?B/s]\n",
      "100% 29.4k/29.4k [00:00<00:00, 26.4MB/s]\n",
      "Downloading train.zip to /content\n",
      "  0% 0.00/1.26M [00:00<?, ?B/s]\n",
      "100% 1.26M/1.26M [00:00<00:00, 84.8MB/s]\n",
      "Downloading test.zip to /content\n",
      "  0% 0.00/538k [00:00<?, ?B/s]\n",
      "100% 538k/538k [00:00<00:00, 177MB/s]\n",
      "Archive:  train.zip\n",
      "  inflating: train.csv               \n",
      "Archive:  test.zip\n",
      "  inflating: test.csv                \n"
     ]
    }
   ],
   "source": [
    "# get dataset from Kaggle -- feel free to use my API key :)\n",
    "import os\n",
    "os.environ['KAGGLE_USERNAME'] = \"extremelydifficult\" # username from the json file\n",
    "os.environ['KAGGLE_KEY'] = \"238120927f9705524c124fcbdb19b699\" # key from the json file\n",
    "!kaggle competitions download -c spooky-author-identification\n",
    "!unzip train.zip\n",
    "!unzip test.zip"
   ]
  },
  {
   "cell_type": "code",
   "execution_count": 0,
   "metadata": {
    "colab": {},
    "colab_type": "code",
    "id": "gTe09WpdzLav"
   },
   "outputs": [],
   "source": [
    "import pandas as pd\n",
    "import numpy as np\n",
    "from keras.utils import to_categorical\n",
    "from sklearn.model_selection import train_test_split\n",
    "\n",
    "# get data from dataset\n",
    "train = pd.read_csv('train.csv')\n",
    "test = pd.read_csv('test.csv')\n",
    "# sample = pd.read_csv('sample_submission.csv')\n",
    "# Keras likes categorical\n",
    "a2c = {'EAP': 0, 'HPL' : 1, 'MWS' : 2}\n",
    "c2a = {value:key for key, value in a2c.items()}\n",
    "\n",
    "authors = np.array([a2c[a] for a in train.author])\n",
    "authors = to_categorical(authors)\n",
    "\n",
    "# split data (JUST FOR DEBUGGING WITH ELI5 -- submission would use all training data)\n",
    "text_train, text_valid, authors_train, authors_valid = train_test_split(train.text.values, authors, \n",
    "                                                   stratify=authors, \n",
    "                                                   test_size=0.1, shuffle=True)\n",
    "\n",
    "# because it's easier than changing the loop below\n",
    "x_train = pd.DataFrame(text_train, columns = [\"text\"])\n",
    "x_test = pd.DataFrame(text_valid, columns = [\"text\"])"
   ]
  },
  {
   "cell_type": "markdown",
   "metadata": {
    "colab_type": "text",
    "id": "bo4TLLVCJt8z"
   },
   "source": [
    "# Historical Embeddings"
   ]
  },
  {
   "cell_type": "code",
   "execution_count": 0,
   "metadata": {
    "colab": {
     "base_uri": "https://localhost:8080/",
     "height": 202
    },
    "colab_type": "code",
    "id": "7knWlTncSv9a",
    "outputId": "aa93aba6-f5cf-4c53-908e-638dbb6d37eb"
   },
   "outputs": [
    {
     "name": "stdout",
     "output_type": "stream",
     "text": [
      "--2019-12-27 15:54:17--  http://snap.stanford.edu/historical_embeddings/eng-all_sgns.zip\n",
      "Resolving snap.stanford.edu (snap.stanford.edu)... 171.64.75.80\n",
      "Connecting to snap.stanford.edu (snap.stanford.edu)|171.64.75.80|:80... connected.\n",
      "HTTP request sent, awaiting response... 200 OK\n",
      "Length: 1686718098 (1.6G) [application/zip]\n",
      "Saving to: ‘all_english.zip’\n",
      "\n",
      "all_english.zip     100%[===================>]   1.57G   109MB/s    in 15s     \n",
      "\n",
      "2019-12-27 15:54:32 (105 MB/s) - ‘all_english.zip’ saved [1686718098/1686718098]\n",
      "\n"
     ]
    }
   ],
   "source": [
    "#historical all english\n",
    "!wget 'http://snap.stanford.edu/historical_embeddings/eng-all_sgns.zip' -O \"all_english.zip\" "
   ]
  },
  {
   "cell_type": "code",
   "execution_count": 0,
   "metadata": {
    "colab": {
     "base_uri": "https://localhost:8080/",
     "height": 722
    },
    "colab_type": "code",
    "id": "6gr6WQeTS7U4",
    "outputId": "062816be-7eb3-4fc0-a0b5-3ba78d5f2841"
   },
   "outputs": [
    {
     "name": "stdout",
     "output_type": "stream",
     "text": [
      "Archive:  all_english.zip\n",
      "   creating: all_english/sgns/\n",
      "  inflating: all_english/sgns/1860-vocab.pkl  \n",
      "  inflating: all_english/sgns/1850-w.npy  \n",
      "  inflating: all_english/sgns/1900-vocab.pkl  \n",
      "  inflating: all_english/sgns/1930-w.npy  \n",
      "  inflating: all_english/sgns/1880-w.npy  \n",
      "  inflating: all_english/sgns/1870-w.npy  \n",
      "  inflating: all_english/sgns/1910-w.npy  \n",
      "  inflating: all_english/sgns/1970-vocab.pkl  \n",
      "  inflating: all_english/sgns/1810-vocab.pkl  \n",
      "  inflating: all_english/sgns/1970-w.npy  \n",
      "  inflating: all_english/sgns/1810-w.npy  \n",
      "  inflating: all_english/sgns/1920-vocab.pkl  \n",
      "  inflating: all_english/sgns/1840-vocab.pkl  \n",
      "  inflating: all_english/sgns/1990-vocab.pkl  \n",
      "  inflating: all_english/sgns/1950-w.npy  \n",
      "  inflating: all_english/sgns/1880-vocab.pkl  \n",
      "  inflating: all_english/sgns/1980-w.npy  \n",
      "  inflating: all_english/sgns/1830-w.npy  \n",
      "  inflating: all_english/sgns/1830-vocab.pkl  \n",
      "  inflating: all_english/sgns/1950-vocab.pkl  \n",
      "  inflating: all_english/sgns/1890-vocab.pkl  \n",
      "  inflating: all_english/sgns/1820-vocab.pkl  \n",
      "  inflating: all_english/sgns/1800-w.npy  \n",
      "  inflating: all_english/sgns/1940-vocab.pkl  \n",
      "  inflating: all_english/sgns/1960-w.npy  \n",
      "  inflating: all_english/sgns/1930-vocab.pkl  \n",
      "  inflating: all_english/sgns/1850-vocab.pkl  \n",
      "  inflating: all_english/sgns/1990-w.npy  \n",
      "  inflating: all_english/sgns/1820-w.npy  \n",
      "  inflating: all_english/sgns/1940-w.npy  \n",
      "  inflating: all_english/sgns/1980-vocab.pkl  \n",
      "  inflating: all_english/sgns/1920-w.npy  \n",
      "  inflating: all_english/sgns/1890-w.npy  \n",
      "  inflating: all_english/sgns/1960-vocab.pkl  \n",
      "  inflating: all_english/sgns/1800-vocab.pkl  \n",
      "  inflating: all_english/sgns/1840-w.npy  \n",
      "  inflating: all_english/sgns/1870-vocab.pkl  \n",
      "  inflating: all_english/sgns/1910-vocab.pkl  \n",
      "  inflating: all_english/sgns/1900-w.npy  \n",
      "  inflating: all_english/sgns/1860-w.npy  \n"
     ]
    }
   ],
   "source": [
    "!unzip all_english.zip -d all_english"
   ]
  },
  {
   "cell_type": "markdown",
   "metadata": {
    "colab_type": "text",
    "id": "-bD7NXbISutH"
   },
   "source": []
  },
  {
   "cell_type": "code",
   "execution_count": 0,
   "metadata": {
    "colab": {},
    "colab_type": "code",
    "id": "jRPgG7tf2SpF"
   },
   "outputs": [],
   "source": [
    "embeddings_index = {}\n",
    "coefs = np.load('/content/all_english/sgns/1990-w.npy')\n",
    "words = pickle.load( open( \"/content/all_english/sgns/1990-vocab.pkl\", \"rb\" ) )\n",
    "embedding_index = {words[i] : coefs[i] for i in range(len(words))}"
   ]
  },
  {
   "cell_type": "code",
   "execution_count": 0,
   "metadata": {
    "colab": {},
    "colab_type": "code",
    "id": "hjh_VSdeOUoO"
   },
   "outputs": [],
   "source": [
    "EMBEDDING_DIM = 300\n",
    "in_dim = get_input_dimension(x_train)"
   ]
  },
  {
   "cell_type": "code",
   "execution_count": 0,
   "metadata": {
    "colab": {},
    "colab_type": "code",
    "id": "8GtnVMS-J-AU"
   },
   "outputs": [],
   "source": [
    "# word_index = text_model._get_tokenizer(x_train).word_index\n",
    "texts = add_puctuation_and_n_grams(x_train,n_gram_max=2)\n",
    "tokenizer = Tokenizer(lower=True, filters='')\n",
    "tokenizer.fit_on_texts(texts)\n",
    "word_index = tokenizer.word_index\n",
    "\n",
    "MAX_NUM_WORDS = 100000\n",
    "num_words = in_dim\n",
    "embedding_matrix = np.zeros((num_words, EMBEDDING_DIM))\n",
    "for word, i in word_index.items():\n",
    "    if i >= MAX_NUM_WORDS:\n",
    "        continue\n",
    "    embedding_vector = embeddings_index.get(word)\n",
    "    if embedding_vector is not None:\n",
    "        # words not found in embedding index will be all-zeros.\n",
    "        embedding_matrix[i] = embedding_vector"
   ]
  },
  {
   "cell_type": "code",
   "execution_count": 0,
   "metadata": {
    "colab": {
     "base_uri": "https://localhost:8080/",
     "height": 658
    },
    "colab_type": "code",
    "id": "B9Va_ZDhObO3",
    "outputId": "3904e264-72d4-4506-c521-3185ad1f1f7d"
   },
   "outputs": [
    {
     "name": "stdout",
     "output_type": "stream",
     "text": [
      "WARNING:tensorflow:From /usr/local/lib/python3.6/dist-packages/keras/backend/tensorflow_backend.py:66: The name tf.get_default_graph is deprecated. Please use tf.compat.v1.get_default_graph instead.\n",
      "\n",
      "WARNING:tensorflow:From /usr/local/lib/python3.6/dist-packages/keras/backend/tensorflow_backend.py:541: The name tf.placeholder is deprecated. Please use tf.compat.v1.placeholder instead.\n",
      "\n",
      "WARNING:tensorflow:From /usr/local/lib/python3.6/dist-packages/keras/backend/tensorflow_backend.py:4432: The name tf.random_uniform is deprecated. Please use tf.random.uniform instead.\n",
      "\n",
      "WARNING:tensorflow:From /usr/local/lib/python3.6/dist-packages/keras/backend/tensorflow_backend.py:190: The name tf.get_default_session is deprecated. Please use tf.compat.v1.get_default_session instead.\n",
      "\n",
      "WARNING:tensorflow:From /usr/local/lib/python3.6/dist-packages/keras/backend/tensorflow_backend.py:197: The name tf.ConfigProto is deprecated. Please use tf.compat.v1.ConfigProto instead.\n",
      "\n",
      "WARNING:tensorflow:From /usr/local/lib/python3.6/dist-packages/keras/backend/tensorflow_backend.py:203: The name tf.Session is deprecated. Please use tf.compat.v1.Session instead.\n",
      "\n",
      "WARNING:tensorflow:From /usr/local/lib/python3.6/dist-packages/keras/backend/tensorflow_backend.py:207: The name tf.global_variables is deprecated. Please use tf.compat.v1.global_variables instead.\n",
      "\n",
      "WARNING:tensorflow:From /usr/local/lib/python3.6/dist-packages/keras/backend/tensorflow_backend.py:216: The name tf.is_variable_initialized is deprecated. Please use tf.compat.v1.is_variable_initialized instead.\n",
      "\n",
      "WARNING:tensorflow:From /usr/local/lib/python3.6/dist-packages/keras/backend/tensorflow_backend.py:223: The name tf.variables_initializer is deprecated. Please use tf.compat.v1.variables_initializer instead.\n",
      "\n",
      "weights initialized\n",
      "WARNING:tensorflow:From /usr/local/lib/python3.6/dist-packages/keras/optimizers.py:793: The name tf.train.Optimizer is deprecated. Please use tf.compat.v1.train.Optimizer instead.\n",
      "\n",
      "WARNING:tensorflow:From /usr/local/lib/python3.6/dist-packages/keras/backend/tensorflow_backend.py:3576: The name tf.log is deprecated. Please use tf.math.log instead.\n",
      "\n",
      "Model: \"sequential_1\"\n",
      "_________________________________________________________________\n",
      "Layer (type)                 Output Shape              Param #   \n",
      "=================================================================\n",
      "embedding_1 (Embedding)      (None, None, 300)         21020100  \n",
      "_________________________________________________________________\n",
      "global_average_pooling1d_1 ( (None, 300)               0         \n",
      "_________________________________________________________________\n",
      "dense_1 (Dense)              (None, 3)                 903       \n",
      "=================================================================\n",
      "Total params: 21,021,003\n",
      "Trainable params: 21,021,003\n",
      "Non-trainable params: 0\n",
      "_________________________________________________________________\n"
     ]
    }
   ],
   "source": [
    "text_model = HistoricalClassifier(input_dim = in_dim, n_classes=3, weights= embedding_matrix, embedding_dim=300)"
   ]
  },
  {
   "cell_type": "code",
   "execution_count": 0,
   "metadata": {
    "colab": {
     "base_uri": "https://localhost:8080/",
     "height": 778
    },
    "colab_type": "code",
    "id": "8P9xc2LGO-Ui",
    "outputId": "2d437b9a-4ffd-4489-e1df-ebfec3984518"
   },
   "outputs": [
    {
     "name": "stdout",
     "output_type": "stream",
     "text": [
      "WARNING:tensorflow:From /usr/local/lib/python3.6/dist-packages/tensorflow_core/python/ops/math_grad.py:1424: where (from tensorflow.python.ops.array_ops) is deprecated and will be removed in a future version.\n",
      "Instructions for updating:\n",
      "Use tf.where in 2.0, which has the same broadcast rule as np.where\n",
      "WARNING:tensorflow:From /usr/local/lib/python3.6/dist-packages/keras/backend/tensorflow_backend.py:1033: The name tf.assign_add is deprecated. Please use tf.compat.v1.assign_add instead.\n",
      "\n",
      "WARNING:tensorflow:From /usr/local/lib/python3.6/dist-packages/keras/backend/tensorflow_backend.py:1020: The name tf.assign is deprecated. Please use tf.compat.v1.assign instead.\n",
      "\n",
      "Train on 15858 samples, validate on 1763 samples\n",
      "Epoch 1/25\n",
      "15858/15858 [==============================] - 12s 738us/step - loss: 0.8978 - acc: 0.5935 - val_loss: 0.6468 - val_acc: 0.7567\n",
      "Epoch 2/25\n",
      "15858/15858 [==============================] - 10s 601us/step - loss: 0.4354 - acc: 0.8576 - val_loss: 0.4631 - val_acc: 0.8174\n",
      "Epoch 3/25\n",
      "15858/15858 [==============================] - 10s 602us/step - loss: 0.2304 - acc: 0.9344 - val_loss: 0.4035 - val_acc: 0.8406\n",
      "Epoch 4/25\n",
      "15858/15858 [==============================] - 9s 599us/step - loss: 0.1295 - acc: 0.9689 - val_loss: 0.3787 - val_acc: 0.8457\n",
      "Epoch 5/25\n",
      "15858/15858 [==============================] - 9s 597us/step - loss: 0.0767 - acc: 0.9833 - val_loss: 0.3734 - val_acc: 0.8440\n",
      "Epoch 6/25\n",
      "15858/15858 [==============================] - 10s 599us/step - loss: 0.0458 - acc: 0.9912 - val_loss: 0.3784 - val_acc: 0.8455\n"
     ]
    },
    {
     "data": {
      "image/png": "[encoded data removed]",
      "text/plain": [
       "<IPython.core.display.Image object>"
      ]
     },
     "execution_count": 12,
     "metadata": {
      "tags": []
     },
     "output_type": "execute_result"
    }
   ],
   "source": [
    "from keras.utils.vis_utils import plot_model\n",
    "\n",
    "text_model.fit(x_train, authors_train)\n",
    "plot_model(text_model.model, to_file='model_plot.png', show_shapes=True, show_layer_names=True)"
   ]
  },
  {
   "cell_type": "markdown",
   "metadata": {
    "colab_type": "text",
    "id": "tYYWSSppzjgi"
   },
   "source": [
    "**Private Score: 0.36**"
   ]
  }
 ],
 "metadata": {
  "accelerator": "GPU",
  "colab": {
   "collapsed_sections": [
    "U7MUGdx74ApB"
   ],
   "name": "Historical Embedding.ipynb",
   "provenance": [],
   "toc_visible": true
  },
  "kernelspec": {
   "display_name": "Python 3",
   "language": "python",
   "name": "python3"
  },
  "language_info": {
   "codemirror_mode": {
    "name": "ipython",
    "version": 3
   },
   "file_extension": ".py",
   "mimetype": "text/x-python",
   "name": "python",
   "nbconvert_exporter": "python",
   "pygments_lexer": "ipython3",
   "version": "3.7.4"
  }
 },
 "nbformat": 4,
 "nbformat_minor": 1
}
