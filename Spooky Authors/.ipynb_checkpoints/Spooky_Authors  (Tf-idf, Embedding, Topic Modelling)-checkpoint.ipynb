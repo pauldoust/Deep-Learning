{
 "cells": [
  {
   "cell_type": "markdown",
   "metadata": {
    "colab_type": "text",
    "id": "BBfYMFywRYOK"
   },
   "source": [
    "# <center> Deep Learning Project</center>\n",
    "## <center>Spooky Authors Identification</center>\n",
    "\n",
    "\n",
    "---\n",
    "\n",
    "\n",
    "*   Eduardo Brendao (MLDM)\n",
    "*   Mohammad Poul Doust (MLDM)\n",
    "\n"
   ]
  },
  {
   "cell_type": "markdown",
   "metadata": {
    "colab_type": "text",
    "id": "UuvZ0h5-SYfE"
   },
   "source": [
    "# Prepare Environment"
   ]
  },
  {
   "cell_type": "code",
   "execution_count": 0,
   "metadata": {
    "colab": {},
    "colab_type": "code",
    "id": "9vMCIWAdSlBc"
   },
   "outputs": [],
   "source": [
    "import sys\n",
    "colab = 'google.colab' in sys.modules"
   ]
  },
  {
   "cell_type": "code",
   "execution_count": 0,
   "metadata": {
    "colab": {
     "base_uri": "https://localhost:8080/",
     "height": 390
    },
    "colab_type": "code",
    "id": "UkPvogiwSudR",
    "outputId": "47ba02fa-8c97-49c6-e671-8233da924fe2"
   },
   "outputs": [
    {
     "name": "stdout",
     "output_type": "stream",
     "text": [
      "--2019-12-27 15:32:14--  https://drive.google.com/uc?authuser=0&id=1G5_dbnac9vCXAPj69loM0Z6q2l4Hfe3O&export=download\n",
      "Resolving drive.google.com (drive.google.com)... 74.125.142.138, 74.125.142.113, 74.125.142.139, ...\n",
      "Connecting to drive.google.com (drive.google.com)|74.125.142.138|:443... connected.\n",
      "HTTP request sent, awaiting response... 302 Moved Temporarily\n",
      "Location: https://drive.google.com/uc?id=1G5_dbnac9vCXAPj69loM0Z6q2l4Hfe3O&export=download [following]\n",
      "--2019-12-27 15:32:14--  https://drive.google.com/uc?id=1G5_dbnac9vCXAPj69loM0Z6q2l4Hfe3O&export=download\n",
      "Reusing existing connection to drive.google.com:443.\n",
      "HTTP request sent, awaiting response... 302 Moved Temporarily\n",
      "Location: https://doc-00-2c-docs.googleusercontent.com/docs/securesc/ha0ro937gcuc7l7deffksulhg5h7mbp1/oug03qvm37aksb6f6pc7njblnvpnk32n/1577455200000/13355630674048329756/*/1G5_dbnac9vCXAPj69loM0Z6q2l4Hfe3O?e=download [following]\n",
      "Warning: wildcards not supported in HTTP.\n",
      "--2019-12-27 15:32:15--  https://doc-00-2c-docs.googleusercontent.com/docs/securesc/ha0ro937gcuc7l7deffksulhg5h7mbp1/oug03qvm37aksb6f6pc7njblnvpnk32n/1577455200000/13355630674048329756/*/1G5_dbnac9vCXAPj69loM0Z6q2l4Hfe3O?e=download\n",
      "Resolving doc-00-2c-docs.googleusercontent.com (doc-00-2c-docs.googleusercontent.com)... 74.125.20.132, 2607:f8b0:400e:c07::84\n",
      "Connecting to doc-00-2c-docs.googleusercontent.com (doc-00-2c-docs.googleusercontent.com)|74.125.20.132|:443... connected.\n",
      "HTTP request sent, awaiting response... 200 OK\n",
      "Length: unspecified [text/csv]\n",
      "Saving to: ‘spooky_train.csv’\n",
      "\n",
      "spooky_train.csv        [ <=>                ]   3.14M  --.-KB/s    in 0.01s   \n",
      "\n",
      "2019-12-27 15:32:15 (262 MB/s) - ‘spooky_train.csv’ saved [3295644]\n",
      "\n"
     ]
    }
   ],
   "source": [
    "if colab:\n",
    "  !wget 'https://drive.google.com/uc?authuser=0&id=1G5_dbnac9vCXAPj69loM0Z6q2l4Hfe3O&export=download' -O \"spooky_train.csv\""
   ]
  },
  {
   "cell_type": "code",
   "execution_count": 0,
   "metadata": {
    "colab": {},
    "colab_type": "code",
    "id": "Mqw52nnHt6-P"
   },
   "outputs": [],
   "source": [
    "!pip install ktrain"
   ]
  },
  {
   "cell_type": "code",
   "execution_count": 0,
   "metadata": {
    "colab": {},
    "colab_type": "code",
    "id": "odjQEctyTBuS"
   },
   "outputs": [],
   "source": [
    "#imports\n",
    "import pandas as pd\n",
    "import numpy as np\n",
    "import string\n",
    "import nltk\n",
    "from nltk.corpus import stopwords\n",
    "from nltk.tokenize import word_tokenize\n",
    "from nltk.stem.porter import PorterStemmer\n",
    "from sklearn.feature_extraction.text import TfidfVectorizer\n",
    "from sklearn.model_selection import train_test_split\n",
    "from sklearn.decomposition import NMF, LatentDirichletAllocation\n",
    "from math import floor\n",
    "import pickle\n",
    "from sklearn import preprocessing\n",
    "\n",
    "\n",
    "#keras\n",
    "from keras.models import Sequential, Model\n",
    "from keras.layers import Dense, Embedding, GlobalAveragePooling1D, LSTM, Dropout,BatchNormalization, Input, Conv1D, MaxPooling1D, Flatten\n",
    "import keras\n",
    "from keras.preprocessing.text import Tokenizer\n",
    "from keras.preprocessing.sequence import pad_sequences\n",
    "\n",
    "\n",
    "#ktrain\n",
    "# import ktrain\n",
    "# from ktrain import text"
   ]
  },
  {
   "cell_type": "code",
   "execution_count": 0,
   "metadata": {
    "colab": {
     "base_uri": "https://localhost:8080/",
     "height": 84
    },
    "colab_type": "code",
    "id": "ELYdcY7LTxfO",
    "outputId": "b493313f-8101-4bff-b026-2dc3da7779d8"
   },
   "outputs": [
    {
     "name": "stdout",
     "output_type": "stream",
     "text": [
      "[nltk_data] Downloading package stopwords to /root/nltk_data...\n",
      "[nltk_data]   Package stopwords is already up-to-date!\n",
      "[nltk_data] Downloading package punkt to /root/nltk_data...\n",
      "[nltk_data]   Package punkt is already up-to-date!\n"
     ]
    }
   ],
   "source": [
    "nltk.download('stopwords')\n",
    "nltk.download('punkt')\n",
    "stopword = set(stopwords.words('english'))\n",
    "porter = PorterStemmer()"
   ]
  },
  {
   "cell_type": "markdown",
   "metadata": {
    "colab_type": "text",
    "id": "ixxG_ywAS0ac"
   },
   "source": [
    "# Prepare Dataset"
   ]
  },
  {
   "cell_type": "code",
   "execution_count": 0,
   "metadata": {
    "colab": {
     "base_uri": "https://localhost:8080/",
     "height": 195
    },
    "colab_type": "code",
    "id": "lKQdEZiuS55s",
    "outputId": "43bfecb1-244f-489b-bea6-6b178af67dfa"
   },
   "outputs": [
    {
     "data": {
      "text/html": [
       "<div>\n",
       "<style scoped>\n",
       "    .dataframe tbody tr th:only-of-type {\n",
       "        vertical-align: middle;\n",
       "    }\n",
       "\n",
       "    .dataframe tbody tr th {\n",
       "        vertical-align: top;\n",
       "    }\n",
       "\n",
       "    .dataframe thead th {\n",
       "        text-align: right;\n",
       "    }\n",
       "</style>\n",
       "<table border=\"1\" class=\"dataframe\">\n",
       "  <thead>\n",
       "    <tr style=\"text-align: right;\">\n",
       "      <th></th>\n",
       "      <th>id</th>\n",
       "      <th>text</th>\n",
       "      <th>author</th>\n",
       "    </tr>\n",
       "  </thead>\n",
       "  <tbody>\n",
       "    <tr>\n",
       "      <th>0</th>\n",
       "      <td>id26305</td>\n",
       "      <td>This process, however, afforded me no means of...</td>\n",
       "      <td>EAP</td>\n",
       "    </tr>\n",
       "    <tr>\n",
       "      <th>1</th>\n",
       "      <td>id17569</td>\n",
       "      <td>It never once occurred to me that the fumbling...</td>\n",
       "      <td>HPL</td>\n",
       "    </tr>\n",
       "    <tr>\n",
       "      <th>2</th>\n",
       "      <td>id11008</td>\n",
       "      <td>In his left hand was a gold snuff box, from wh...</td>\n",
       "      <td>EAP</td>\n",
       "    </tr>\n",
       "    <tr>\n",
       "      <th>3</th>\n",
       "      <td>id27763</td>\n",
       "      <td>How lovely is spring As we looked from Windsor...</td>\n",
       "      <td>MWS</td>\n",
       "    </tr>\n",
       "    <tr>\n",
       "      <th>4</th>\n",
       "      <td>id12958</td>\n",
       "      <td>Finding nothing else, not even gold, the Super...</td>\n",
       "      <td>HPL</td>\n",
       "    </tr>\n",
       "  </tbody>\n",
       "</table>\n",
       "</div>"
      ],
      "text/plain": [
       "        id                                               text author\n",
       "0  id26305  This process, however, afforded me no means of...    EAP\n",
       "1  id17569  It never once occurred to me that the fumbling...    HPL\n",
       "2  id11008  In his left hand was a gold snuff box, from wh...    EAP\n",
       "3  id27763  How lovely is spring As we looked from Windsor...    MWS\n",
       "4  id12958  Finding nothing else, not even gold, the Super...    HPL"
      ]
     },
     "execution_count": 90,
     "metadata": {
      "tags": []
     },
     "output_type": "execute_result"
    }
   ],
   "source": [
    "path = \"/content/spooky_train.csv\"\n",
    "df = pd.read_csv(path)\n",
    "df.head()\n"
   ]
  },
  {
   "cell_type": "code",
   "execution_count": 0,
   "metadata": {
    "colab": {
     "base_uri": "https://localhost:8080/",
     "height": 34
    },
    "colab_type": "code",
    "id": "1NtM-KghTUHo",
    "outputId": "b9093685-185f-41d3-a0e2-038ba2f0ceba"
   },
   "outputs": [
    {
     "data": {
      "text/plain": [
       "{'EAP': 0, 'HPL': 1, 'MWS': 2}"
      ]
     },
     "execution_count": 91,
     "metadata": {
      "tags": []
     },
     "output_type": "execute_result"
    }
   ],
   "source": [
    "x_text = df['text'].to_numpy()\n",
    "y_text = df['author'].to_numpy()\n",
    "label_di = dict([(y,x) for (x,y) in enumerate(np.unique(y_text).tolist())])\n",
    "label_di"
   ]
  },
  {
   "cell_type": "code",
   "execution_count": 0,
   "metadata": {
    "colab": {},
    "colab_type": "code",
    "id": "C1EyDqyQT7cf"
   },
   "outputs": [],
   "source": [
    "def tokenize(text):\n",
    "    # words = word_tokenize(text) #split words\n",
    "    # words = text.split() #split words\n",
    "    # words = [w.lower() for w in words if w.isalpha()] \n",
    "    # words =[w for w in words if  not w in stopword]\n",
    "    # stemmed = [porter.stem(w) for w in words]\n",
    "    # stemmed = words\n",
    "    # stemmed = ' '.join(w for w in stemmed)\n",
    "    # return stemmed\n",
    "    return text"
   ]
  },
  {
   "cell_type": "code",
   "execution_count": 0,
   "metadata": {
    "colab": {
     "base_uri": "https://localhost:8080/",
     "height": 34
    },
    "colab_type": "code",
    "id": "MWfLUlTceobI",
    "outputId": "d6fa0765-c10f-44c1-a900-2974d91c71ac"
   },
   "outputs": [
    {
     "data": {
      "text/plain": [
       "\"all over the reef an' swimmin' up the harbour into the Manuxet. . . .\""
      ]
     },
     "execution_count": 93,
     "metadata": {
      "tags": []
     },
     "output_type": "execute_result"
    }
   ],
   "source": [
    "tokenize(\"all over the reef an' swimmin' up the harbour into the Manuxet. . . .\")\n"
   ]
  },
  {
   "cell_type": "code",
   "execution_count": 0,
   "metadata": {
    "colab": {
     "base_uri": "https://localhost:8080/",
     "height": 195
    },
    "colab_type": "code",
    "id": "BBnmGmvPTaNl",
    "outputId": "dfebe8a1-38c6-42be-b300-e05249e883f6"
   },
   "outputs": [
    {
     "data": {
      "text/html": [
       "<div>\n",
       "<style scoped>\n",
       "    .dataframe tbody tr th:only-of-type {\n",
       "        vertical-align: middle;\n",
       "    }\n",
       "\n",
       "    .dataframe tbody tr th {\n",
       "        vertical-align: top;\n",
       "    }\n",
       "\n",
       "    .dataframe thead th {\n",
       "        text-align: right;\n",
       "    }\n",
       "</style>\n",
       "<table border=\"1\" class=\"dataframe\">\n",
       "  <thead>\n",
       "    <tr style=\"text-align: right;\">\n",
       "      <th></th>\n",
       "      <th>id</th>\n",
       "      <th>text</th>\n",
       "      <th>author</th>\n",
       "      <th>processed</th>\n",
       "    </tr>\n",
       "  </thead>\n",
       "  <tbody>\n",
       "    <tr>\n",
       "      <th>0</th>\n",
       "      <td>id26305</td>\n",
       "      <td>This process, however, afforded me no means of...</td>\n",
       "      <td>EAP</td>\n",
       "      <td>This process, however, afforded me no means of...</td>\n",
       "    </tr>\n",
       "    <tr>\n",
       "      <th>1</th>\n",
       "      <td>id17569</td>\n",
       "      <td>It never once occurred to me that the fumbling...</td>\n",
       "      <td>HPL</td>\n",
       "      <td>It never once occurred to me that the fumbling...</td>\n",
       "    </tr>\n",
       "    <tr>\n",
       "      <th>2</th>\n",
       "      <td>id11008</td>\n",
       "      <td>In his left hand was a gold snuff box, from wh...</td>\n",
       "      <td>EAP</td>\n",
       "      <td>In his left hand was a gold snuff box, from wh...</td>\n",
       "    </tr>\n",
       "    <tr>\n",
       "      <th>3</th>\n",
       "      <td>id27763</td>\n",
       "      <td>How lovely is spring As we looked from Windsor...</td>\n",
       "      <td>MWS</td>\n",
       "      <td>How lovely is spring As we looked from Windsor...</td>\n",
       "    </tr>\n",
       "    <tr>\n",
       "      <th>4</th>\n",
       "      <td>id12958</td>\n",
       "      <td>Finding nothing else, not even gold, the Super...</td>\n",
       "      <td>HPL</td>\n",
       "      <td>Finding nothing else, not even gold, the Super...</td>\n",
       "    </tr>\n",
       "  </tbody>\n",
       "</table>\n",
       "</div>"
      ],
      "text/plain": [
       "        id  ...                                          processed\n",
       "0  id26305  ...  This process, however, afforded me no means of...\n",
       "1  id17569  ...  It never once occurred to me that the fumbling...\n",
       "2  id11008  ...  In his left hand was a gold snuff box, from wh...\n",
       "3  id27763  ...  How lovely is spring As we looked from Windsor...\n",
       "4  id12958  ...  Finding nothing else, not even gold, the Super...\n",
       "\n",
       "[5 rows x 4 columns]"
      ]
     },
     "execution_count": 94,
     "metadata": {
      "tags": []
     },
     "output_type": "execute_result"
    }
   ],
   "source": [
    "df['processed'] = df.text.map(tokenize)\n",
    "x_text = df['processed'].to_numpy()\n",
    "df.head()"
   ]
  },
  {
   "cell_type": "code",
   "execution_count": 0,
   "metadata": {
    "colab": {
     "base_uri": "https://localhost:8080/",
     "height": 34
    },
    "colab_type": "code",
    "id": "CwnBwmacVUAy",
    "outputId": "442b3ae1-c379-450f-ffc8-35b9cf5fbead"
   },
   "outputs": [
    {
     "data": {
      "text/plain": [
       "array(['EAP', 'HPL', 'MWS'], dtype=object)"
      ]
     },
     "execution_count": 95,
     "metadata": {
      "tags": []
     },
     "output_type": "execute_result"
    }
   ],
   "source": [
    "classes=df['author'].unique()\n",
    "classes"
   ]
  },
  {
   "cell_type": "code",
   "execution_count": 0,
   "metadata": {
    "colab": {},
    "colab_type": "code",
    "id": "acv7mGYoVVbe"
   },
   "outputs": [],
   "source": [
    "\n",
    "x_text_train, x_text_test, y_text_train, y_text_test = train_test_split(x_text, y_text, test_size=0.33)\n"
   ]
  },
  {
   "cell_type": "code",
   "execution_count": 0,
   "metadata": {
    "colab": {},
    "colab_type": "code",
    "id": "rQIb7ZuwoPL6"
   },
   "outputs": [],
   "source": [
    "# encoding classes\n",
    "le = preprocessing.LabelEncoder()\n",
    "le.fit(classes)\n",
    "le.transform(classes)\n",
    "y_text_train = le.transform(y_text_train)\n",
    "y_text_test = le.transform(y_text_test)\n",
    "#convert to one-hot encoding\n"
   ]
  },
  {
   "cell_type": "markdown",
   "metadata": {
    "colab_type": "text",
    "id": "NHUOqVdpadUB"
   },
   "source": [
    "# Exploratory data analysis"
   ]
  },
  {
   "cell_type": "markdown",
   "metadata": {
    "colab_type": "text",
    "id": "0VAcQLx5VsRj"
   },
   "source": [
    "#  1.Tf-idf with simple dense network"
   ]
  },
  {
   "cell_type": "code",
   "execution_count": 0,
   "metadata": {
    "colab": {},
    "colab_type": "code",
    "id": "94GzBALsV57r"
   },
   "outputs": [],
   "source": [
    "tfidf = TfidfVectorizer(max_features = 1000, stop_words='english')\n",
    "x_train = tfidf.fit_transform(list(x_text_train))\n",
    "x_test = tfidf.transform(list(x_text_test))"
   ]
  },
  {
   "cell_type": "code",
   "execution_count": 0,
   "metadata": {
    "colab": {
     "base_uri": "https://localhost:8080/",
     "height": 218
    },
    "colab_type": "code",
    "id": "nOGmJPLTdbVA",
    "outputId": "02784fbf-dd7b-4084-bfd5-7e40abde524a"
   },
   "outputs": [
    {
     "name": "stdout",
     "output_type": "stream",
     "text": [
      "Model: \"sequential_7\"\n",
      "_________________________________________________________________\n",
      "Layer (type)                 Output Shape              Param #   \n",
      "=================================================================\n",
      "dense_11 (Dense)             (None, 10)                10010     \n",
      "_________________________________________________________________\n",
      "dense_12 (Dense)             (None, 3)                 33        \n",
      "=================================================================\n",
      "Total params: 10,043\n",
      "Trainable params: 10,043\n",
      "Non-trainable params: 0\n",
      "_________________________________________________________________\n"
     ]
    }
   ],
   "source": [
    "#Simple Model\n",
    "def get_model():\n",
    "    model = Sequential()\n",
    "    model.add(Dense(10,input_shape=(x_train.shape[1],), activation='relu'))\n",
    "    # model.add(Dropout(0.6))\n",
    "    # model.add(Dense(3, activation=\"tanh\"))\n",
    "    model.add(Dense(len(classes),activation='softmax'))\n",
    "    model.compile(loss='categorical_crossentropy', optimizer='adam', metrics=['accuracy'])\n",
    "    return model\n",
    "model = get_model()\n",
    "model.summary()"
   ]
  },
  {
   "cell_type": "code",
   "execution_count": 0,
   "metadata": {
    "colab": {
     "base_uri": "https://localhost:8080/",
     "height": 554
    },
    "colab_type": "code",
    "id": "cNoGVFJAdofD",
    "outputId": "6f17f79a-f23a-4bd0-a42c-7368be48be01"
   },
   "outputs": [
    {
     "name": "stdout",
     "output_type": "stream",
     "text": [
      "Train on 13117 samples, validate on 6462 samples\n",
      "Epoch 1/15\n",
      "13117/13117 [==============================] - 6s 447us/step - loss: 1.0864 - acc: 0.5340 - val_loss: 1.0653 - val_acc: 0.7369\n",
      "Epoch 2/15\n",
      "13117/13117 [==============================] - 3s 238us/step - loss: 1.0345 - acc: 0.8364 - val_loss: 1.0171 - val_acc: 0.7946\n",
      "Epoch 3/15\n",
      "13117/13117 [==============================] - 3s 241us/step - loss: 0.9723 - acc: 0.8775 - val_loss: 0.9662 - val_acc: 0.8075\n",
      "Epoch 4/15\n",
      "13117/13117 [==============================] - 3s 240us/step - loss: 0.9066 - acc: 0.8892 - val_loss: 0.9142 - val_acc: 0.8090\n",
      "Epoch 5/15\n",
      "13117/13117 [==============================] - 3s 236us/step - loss: 0.8396 - acc: 0.8995 - val_loss: 0.8625 - val_acc: 0.8080\n",
      "Epoch 6/15\n",
      "13117/13117 [==============================] - 3s 234us/step - loss: 0.7734 - acc: 0.9038 - val_loss: 0.8121 - val_acc: 0.8166\n",
      "Epoch 7/15\n",
      "13117/13117 [==============================] - 3s 230us/step - loss: 0.7099 - acc: 0.9119 - val_loss: 0.7655 - val_acc: 0.8202\n",
      "Epoch 8/15\n",
      "13117/13117 [==============================] - 3s 238us/step - loss: 0.6503 - acc: 0.9164 - val_loss: 0.7223 - val_acc: 0.8245\n",
      "Epoch 9/15\n",
      "13117/13117 [==============================] - 3s 234us/step - loss: 0.5950 - acc: 0.9218 - val_loss: 0.6830 - val_acc: 0.8262\n",
      "Epoch 10/15\n",
      "13117/13117 [==============================] - 3s 229us/step - loss: 0.5445 - acc: 0.9273 - val_loss: 0.6481 - val_acc: 0.8282\n",
      "Epoch 11/15\n",
      "13117/13117 [==============================] - 3s 231us/step - loss: 0.4987 - acc: 0.9316 - val_loss: 0.6169 - val_acc: 0.8293\n",
      "Epoch 12/15\n",
      "13117/13117 [==============================] - 3s 231us/step - loss: 0.4574 - acc: 0.9362 - val_loss: 0.5894 - val_acc: 0.8313\n",
      "Epoch 13/15\n",
      "13117/13117 [==============================] - 3s 234us/step - loss: 0.4203 - acc: 0.9389 - val_loss: 0.5652 - val_acc: 0.8321\n",
      "Epoch 14/15\n",
      "13117/13117 [==============================] - 3s 233us/step - loss: 0.3870 - acc: 0.9425 - val_loss: 0.5444 - val_acc: 0.8323\n",
      "Epoch 15/15\n",
      "13117/13117 [==============================] - 3s 231us/step - loss: 0.3573 - acc: 0.9456 - val_loss: 0.5262 - val_acc: 0.8326\n"
     ]
    },
    {
     "data": {
      "text/plain": [
       "<keras.callbacks.History at 0x7f176bc28ef0>"
      ]
     },
     "execution_count": 118,
     "metadata": {
      "tags": []
     },
     "output_type": "execute_result"
    }
   ],
   "source": [
    "# Train\n",
    "model.fit(x_train, y_train,\n",
    "          epochs=15,\n",
    "          batch_size=512, validation_data=(x_test, y_test) )"
   ]
  },
  {
   "cell_type": "code",
   "execution_count": 0,
   "metadata": {
    "colab": {
     "base_uri": "https://localhost:8080/",
     "height": 84
    },
    "colab_type": "code",
    "id": "4zHAdtZso4UU",
    "outputId": "9fd02dac-3f51-4f0c-97ba-4a7dcf656d79"
   },
   "outputs": [
    {
     "name": "stdout",
     "output_type": "stream",
     "text": [
      "(13705, 2000)\n",
      "(13705, 3)\n",
      "(5874, 2000)\n",
      "(5874, 3)\n"
     ]
    }
   ],
   "source": [
    "print(x_seq_train.shape)\n",
    "print(y_seq_train.shape)\n",
    "print(x_seq_test.shape)\n",
    "print(y_seq_test.shape)"
   ]
  },
  {
   "cell_type": "code",
   "execution_count": 0,
   "metadata": {
    "colab": {
     "base_uri": "https://localhost:8080/",
     "height": 370
    },
    "colab_type": "code",
    "id": "qYZYTUbsTIBH",
    "outputId": "994c9955-2c44-4b01-fe08-6a0fdb71ccc4"
   },
   "outputs": [
    {
     "name": "stdout",
     "output_type": "stream",
     "text": [
      "Model: \"model_4\"\n",
      "__________________________________________________________________________________________________\n",
      "Layer (type)                    Output Shape         Param #     Connected to                     \n",
      "==================================================================================================\n",
      "input_5 (InputLayer)            (None, 2000)         0                                            \n",
      "__________________________________________________________________________________________________\n",
      "embedding_15 (Embedding)        (None, 2000, 3)      3240309     input_5[0][0]                    \n",
      "__________________________________________________________________________________________________\n",
      "embedding_14 (Embedding)        (None, 2000, 1)      1080103     input_5[0][0]                    \n",
      "__________________________________________________________________________________________________\n",
      "dot_4 (Dot)                     (None, 3, 1)         0           embedding_15[0][0]               \n",
      "                                                                 embedding_14[0][0]               \n",
      "__________________________________________________________________________________________________\n",
      "flatten_7 (Flatten)             (None, 3)            0           dot_4[0][0]                      \n",
      "__________________________________________________________________________________________________\n",
      "activation_4 (Activation)       (None, 3)            0           flatten_7[0][0]                  \n",
      "==================================================================================================\n",
      "Total params: 4,320,412\n",
      "Trainable params: 4,320,412\n",
      "Non-trainable params: 0\n",
      "__________________________________________________________________________________________________\n"
     ]
    }
   ],
   "source": [
    "\n",
    "# model = Sequential()\n",
    "# model.add(Embedding(2000, 500, input_length = x_seq_train.shape[1]))\n",
    "# model.add(Conv1D(filters=128, kernel_size=3, activation='relu', input_shape=(29,1)))\n",
    "# model.add(Conv1D(filters=64, kernel_size=3, activation='relu'))\n",
    "# model.add(Dropout(0.5))\n",
    "# model.add(MaxPooling1D(pool_size=2))\n",
    "# model.add(Flatten())\n",
    "# model.add(Dense(50, activation='relu'))\n",
    "# model.add(Dense(3, activation='softmax'))\n",
    "\n",
    "# # model = Model(sequence_input, preds)\n",
    "# model.compile(loss='categorical_crossentropy',\n",
    "#               optimizer='adam',\n",
    "#               metrics=['acc'])\n",
    "\n",
    "# model.summary()\n",
    "\n",
    "\n",
    "\n",
    "def get_model():\n",
    "    # maxlen =x_seq_train.shape[1]\n",
    "    num_classes=len(label_di)\n",
    "    max_features=1080103\n",
    "    embedding_matrix = np.ones((max_features, 1))\n",
    "    embedding_matrix[0] = 0\n",
    "    model_input = keras.Input(shape=(maxlen,))\n",
    "    y = keras.layers.Embedding(max_features,1,input_length=maxlen,weights=[embedding_matrix])(model_input)\n",
    "    x = keras.layers.Embedding(max_features,num_classes,input_length=maxlen,embeddings_initializer='glorot_normal')(model_input)\n",
    "    x = keras.layers.dot([x,y],axes=1)\n",
    "    x = keras.layers.Flatten()(x)\n",
    "    x = keras.layers.Activation('softmax')(x)\n",
    "    model = keras.models.Model(inputs=model_input,outputs=x)\n",
    "    model.compile(loss='categorical_crossentropy', optimizer='adam', metrics=['accuracy'])\n",
    "    return model\n",
    "model = get_model()\n",
    "model.summary()"
   ]
  },
  {
   "cell_type": "code",
   "execution_count": 0,
   "metadata": {
    "colab": {
     "base_uri": "https://localhost:8080/",
     "height": 722
    },
    "colab_type": "code",
    "id": "O0-xOQq_Tz92",
    "outputId": "9ffb946f-451c-4e45-db40-d126b145c5b8"
   },
   "outputs": [
    {
     "name": "stdout",
     "output_type": "stream",
     "text": [
      "Train on 13705 samples, validate on 5874 samples\n",
      "Epoch 1/20\n",
      "13705/13705 [==============================] - 1s 90us/step - loss: 1.0264 - acc: 0.4887 - val_loss: 0.9620 - val_acc: 0.6055\n",
      "Epoch 2/20\n",
      "13705/13705 [==============================] - 1s 44us/step - loss: 0.9056 - acc: 0.6430 - val_loss: 0.8714 - val_acc: 0.6634\n",
      "Epoch 3/20\n",
      "13705/13705 [==============================] - 1s 43us/step - loss: 0.8209 - acc: 0.7037 - val_loss: 0.8077 - val_acc: 0.7113\n",
      "Epoch 4/20\n",
      "13705/13705 [==============================] - 1s 43us/step - loss: 0.7579 - acc: 0.7386 - val_loss: 0.7586 - val_acc: 0.7177\n",
      "Epoch 5/20\n",
      "13705/13705 [==============================] - 1s 42us/step - loss: 0.7090 - acc: 0.7540 - val_loss: 0.7227 - val_acc: 0.7388\n",
      "Epoch 6/20\n",
      "13705/13705 [==============================] - 1s 43us/step - loss: 0.6695 - acc: 0.7690 - val_loss: 0.6933 - val_acc: 0.7506\n",
      "Epoch 7/20\n",
      "13705/13705 [==============================] - 1s 42us/step - loss: 0.6369 - acc: 0.7818 - val_loss: 0.6689 - val_acc: 0.7550\n",
      "Epoch 8/20\n",
      "13705/13705 [==============================] - 1s 43us/step - loss: 0.6091 - acc: 0.7891 - val_loss: 0.6466 - val_acc: 0.7572\n",
      "Epoch 9/20\n",
      "13705/13705 [==============================] - 1s 42us/step - loss: 0.5858 - acc: 0.7962 - val_loss: 0.6294 - val_acc: 0.7620\n",
      "Epoch 10/20\n",
      "13705/13705 [==============================] - 1s 43us/step - loss: 0.5649 - acc: 0.8041 - val_loss: 0.6154 - val_acc: 0.7652\n",
      "Epoch 11/20\n",
      "13705/13705 [==============================] - 1s 43us/step - loss: 0.5464 - acc: 0.8096 - val_loss: 0.6043 - val_acc: 0.7673\n",
      "Epoch 12/20\n",
      "13705/13705 [==============================] - 1s 44us/step - loss: 0.5313 - acc: 0.8156 - val_loss: 0.5922 - val_acc: 0.7690\n",
      "Epoch 13/20\n",
      "13705/13705 [==============================] - 1s 43us/step - loss: 0.5163 - acc: 0.8169 - val_loss: 0.5836 - val_acc: 0.7717\n",
      "Epoch 14/20\n",
      "13705/13705 [==============================] - 1s 42us/step - loss: 0.5038 - acc: 0.8217 - val_loss: 0.5755 - val_acc: 0.7698\n",
      "Epoch 15/20\n",
      "13705/13705 [==============================] - 1s 45us/step - loss: 0.4920 - acc: 0.8244 - val_loss: 0.5691 - val_acc: 0.7731\n",
      "Epoch 16/20\n",
      "13705/13705 [==============================] - 1s 41us/step - loss: 0.4825 - acc: 0.8272 - val_loss: 0.5630 - val_acc: 0.7720\n",
      "Epoch 17/20\n",
      "13705/13705 [==============================] - 1s 44us/step - loss: 0.4719 - acc: 0.8320 - val_loss: 0.5577 - val_acc: 0.7717\n",
      "Epoch 18/20\n",
      "13705/13705 [==============================] - 1s 42us/step - loss: 0.4629 - acc: 0.8323 - val_loss: 0.5545 - val_acc: 0.7717\n",
      "Epoch 19/20\n",
      "13705/13705 [==============================] - 1s 43us/step - loss: 0.4548 - acc: 0.8359 - val_loss: 0.5495 - val_acc: 0.7731\n",
      "Epoch 20/20\n",
      "13705/13705 [==============================] - 1s 42us/step - loss: 0.4474 - acc: 0.8392 - val_loss: 0.5463 - val_acc: 0.7743\n"
     ]
    },
    {
     "data": {
      "text/plain": [
       "<keras.callbacks.History at 0x7f5478117780>"
      ]
     },
     "execution_count": 63,
     "metadata": {
      "tags": []
     },
     "output_type": "execute_result"
    }
   ],
   "source": [
    "# happy learning!\n",
    "model.fit(x_seq_train, y_seq_train, validation_data=(x_seq_test, y_seq_test),\n",
    "          epochs=20, batch_size=256)"
   ]
  },
  {
   "cell_type": "markdown",
   "metadata": {
    "colab_type": "text",
    "id": "wBqkkQkQvBdp"
   },
   "source": [
    "# 2.Word Embeddings Network "
   ]
  },
  {
   "cell_type": "code",
   "execution_count": 0,
   "metadata": {
    "colab": {
     "base_uri": "https://localhost:8080/",
     "height": 286
    },
    "colab_type": "code",
    "id": "1A0D2d1ovG46",
    "outputId": "b9dd5852-74e2-4c41-b0e2-9de3fc458a89"
   },
   "outputs": [
    {
     "name": "stdout",
     "output_type": "stream",
     "text": [
      "[2 0 2 ... 0 1 2]\n",
      "language: en\n",
      "Word Counts: 22271\n",
      "Nrows: 13117\n",
      "13117 train sequences\n",
      "Average train sequence length: 26\n",
      "Adding 2-gram features\n",
      "max_features changed to 243368 with addition of ngrams\n",
      "Average train sequence length with ngrams: 52\n",
      "x_train shape: (13117,2000)\n",
      "y_train shape: (13117,3)\n",
      "6462 test sequences\n",
      "Average test sequence length: 26\n",
      "Average test sequence length with ngrams: 42\n",
      "x_test shape: (6462,2000)\n",
      "y_test shape: (6462,3)\n"
     ]
    }
   ],
   "source": [
    "maxlen=2000\n",
    "max_features=80000\n",
    "ngrams=2\n",
    "print(y_text_train)\n",
    "(x_train, y_train), (x_test, y_test), preproc = text.texts_from_array(x_text_train,y_text_train,x_text_test,y_text_test,\n",
    "                                                                      class_names=list(label_di.keys()),\n",
    "                                                                      max_features=max_features, maxlen=maxlen, \n",
    "                                                                      ngram_range=ngrams, \n",
    "                                                                      preprocess_mode='standard', val_pct=0.3)"
   ]
  },
  {
   "cell_type": "code",
   "execution_count": 0,
   "metadata": {
    "colab": {},
    "colab_type": "code",
    "id": "lBRbJiJ3wPIN"
   },
   "outputs": [],
   "source": [
    "def show_model(model):\n",
    "  from keras.utils.vis_utils import plot_model\n",
    "  from PIL import Image\n",
    "  plot_model(model, to_file='model_plot.png', show_shapes=True, show_layer_names=True)\n",
    "  return Image.open('model_plot.png')"
   ]
  },
  {
   "cell_type": "code",
   "execution_count": 0,
   "metadata": {
    "colab": {
     "base_uri": "https://localhost:8080/",
     "height": 353
    },
    "colab_type": "code",
    "id": "p2-fG2wrwoHr",
    "outputId": "a2c1801a-1abf-4eb3-ec73-8b9949a4444f"
   },
   "outputs": [
    {
     "name": "stdout",
     "output_type": "stream",
     "text": [
      "__________________________________________________________________________________________________\n",
      "Layer (type)                    Output Shape         Param #     Connected to                     \n",
      "==================================================================================================\n",
      "input_10 (InputLayer)           (None, 2000)         0                                            \n",
      "__________________________________________________________________________________________________\n",
      "embedding_23 (Embedding)        (None, 2000, 3)      3240309     input_10[0][0]                   \n",
      "__________________________________________________________________________________________________\n",
      "embedding_22 (Embedding)        (None, 2000, 1)      1080103     input_10[0][0]                   \n",
      "__________________________________________________________________________________________________\n",
      "dot_9 (Dot)                     (None, 3, 1)         0           embedding_23[0][0]               \n",
      "                                                                 embedding_22[0][0]               \n",
      "__________________________________________________________________________________________________\n",
      "flatten_9 (Flatten)             (None, 3)            0           dot_9[0][0]                      \n",
      "__________________________________________________________________________________________________\n",
      "activation_9 (Activation)       (None, 3)            0           flatten_9[0][0]                  \n",
      "==================================================================================================\n",
      "Total params: 4,320,412\n",
      "Trainable params: 4,320,412\n",
      "Non-trainable params: 0\n",
      "__________________________________________________________________________________________________\n"
     ]
    }
   ],
   "source": [
    "from keras.models import Sequential\n",
    "from keras.layers import Dense, Embedding, GlobalAveragePooling1D, LSTM\n",
    "import keras\n",
    "def get_model():\n",
    "    num_classes=len(label_di)\n",
    "    max_features=1080103\n",
    "    embedding_matrix = np.ones((max_features, 1))\n",
    "    embedding_matrix[0] = 0\n",
    "    model_input = keras.Input(shape=(maxlen,))\n",
    "    y = keras.layers.Embedding(max_features,1,input_length=maxlen,weights=[embedding_matrix])(model_input)\n",
    "    x = keras.layers.Embedding(max_features,num_classes,input_length=maxlen,embeddings_initializer='glorot_normal')(model_input)\n",
    "    x = keras.layers.dot([x,y],axes=1)\n",
    "    x = keras.layers.Flatten()(x)\n",
    "    x = keras.layers.Activation('softmax')(x)\n",
    "    model = keras.models.Model(inputs=model_input,outputs=x)\n",
    "    # model.add(Embedding(max_features+1, 50, input_length=maxlen)) # add 1 for padding token\n",
    "    # model.add(GlobalAveragePooling1D())\n",
    "    # model.add(LSTM(16))\n",
    "    # model.add(Dense(num_classes, activation='softmax'))\n",
    "    model.compile(loss='categorical_crossentropy', optimizer='adam', metrics=['accuracy'])\n",
    "    return model\n",
    "model = get_model()\n",
    "model.summary()"
   ]
  },
  {
   "cell_type": "code",
   "execution_count": 0,
   "metadata": {
    "colab": {
     "base_uri": "https://localhost:8080/",
     "height": 533
    },
    "colab_type": "code",
    "id": "SHSpSSPcwriO",
    "outputId": "52dbd398-9dc4-4ca2-8298-c1db62b79c61"
   },
   "outputs": [
    {
     "data": {
      "image/png": "[encoded data removed]",
      "text/plain": [
       "<PIL.PngImagePlugin.PngImageFile image mode=RGB size=960x516 at 0x7F8FA98C0C18>"
      ]
     },
     "execution_count": 72,
     "metadata": {
      "tags": []
     },
     "output_type": "execute_result"
    }
   ],
   "source": [
    "show_model(model)"
   ]
  },
  {
   "cell_type": "code",
   "execution_count": 0,
   "metadata": {
    "colab": {
     "base_uri": "https://localhost:8080/",
     "height": 386
    },
    "colab_type": "code",
    "id": "cG_TC6QqxGdH",
    "outputId": "88c21f48-7b2a-4ef5-bce4-0e244da69b1c"
   },
   "outputs": [
    {
     "name": "stdout",
     "output_type": "stream",
     "text": [
      "Train on 13117 samples, validate on 6462 samples\n",
      "Epoch 1/10\n",
      "13117/13117 [==============================] - 4s 294us/step - loss: 0.8370 - acc: 0.6795 - val_loss: 0.6801 - val_acc: 0.7716\n",
      "Epoch 2/10\n",
      "13117/13117 [==============================] - 2s 174us/step - loss: 0.4458 - acc: 0.9074 - val_loss: 0.5747 - val_acc: 0.8197\n",
      "Epoch 3/10\n",
      "13117/13117 [==============================] - 2s 168us/step - loss: 0.2855 - acc: 0.9616 - val_loss: 0.5143 - val_acc: 0.8288\n",
      "Epoch 4/10\n",
      "13117/13117 [==============================] - 2s 173us/step - loss: 0.1979 - acc: 0.9806 - val_loss: 0.4823 - val_acc: 0.8346\n",
      "Epoch 5/10\n",
      "13117/13117 [==============================] - 2s 171us/step - loss: 0.1438 - acc: 0.9893 - val_loss: 0.4571 - val_acc: 0.8358\n",
      "Epoch 6/10\n",
      "13117/13117 [==============================] - 2s 170us/step - loss: 0.1079 - acc: 0.9938 - val_loss: 0.4422 - val_acc: 0.8415\n",
      "Epoch 7/10\n",
      "13117/13117 [==============================] - 2s 172us/step - loss: 0.0828 - acc: 0.9960 - val_loss: 0.4337 - val_acc: 0.8412\n",
      "Epoch 8/10\n",
      "13117/13117 [==============================] - 2s 171us/step - loss: 0.0645 - acc: 0.9973 - val_loss: 0.4308 - val_acc: 0.8336\n",
      "Epoch 9/10\n",
      "13117/13117 [==============================] - 2s 172us/step - loss: 0.0508 - acc: 0.9985 - val_loss: 0.4180 - val_acc: 0.8409\n",
      "Epoch 10/10\n",
      "13117/13117 [==============================] - 2s 171us/step - loss: 0.0405 - acc: 0.9987 - val_loss: 0.4135 - val_acc: 0.8400\n"
     ]
    },
    {
     "data": {
      "text/plain": [
       "<keras.callbacks.History at 0x7f8fa9767198>"
      ]
     },
     "execution_count": 73,
     "metadata": {
      "tags": []
     },
     "output_type": "execute_result"
    }
   ],
   "source": [
    "model.fit(x_train, y_train,\n",
    "          epochs=10,\n",
    "          batch_size=32, validation_data=(x_test, y_test) )"
   ]
  },
  {
   "cell_type": "code",
   "execution_count": 0,
   "metadata": {
    "colab": {
     "base_uri": "https://localhost:8080/",
     "height": 195
    },
    "colab_type": "code",
    "id": "geehPGkJ8WyB",
    "outputId": "692dfb78-ce26-4a8c-ca13-09a0f59ba230"
   },
   "outputs": [
    {
     "data": {
      "text/html": [
       "<div>\n",
       "<style scoped>\n",
       "    .dataframe tbody tr th:only-of-type {\n",
       "        vertical-align: middle;\n",
       "    }\n",
       "\n",
       "    .dataframe tbody tr th {\n",
       "        vertical-align: top;\n",
       "    }\n",
       "\n",
       "    .dataframe thead th {\n",
       "        text-align: right;\n",
       "    }\n",
       "</style>\n",
       "<table border=\"1\" class=\"dataframe\">\n",
       "  <thead>\n",
       "    <tr style=\"text-align: right;\">\n",
       "      <th></th>\n",
       "      <th>id</th>\n",
       "      <th>EAP</th>\n",
       "      <th>HPL</th>\n",
       "      <th>MWS</th>\n",
       "    </tr>\n",
       "  </thead>\n",
       "  <tbody>\n",
       "    <tr>\n",
       "      <th>0</th>\n",
       "      <td>id02310</td>\n",
       "      <td>0.107272</td>\n",
       "      <td>0.041389</td>\n",
       "      <td>0.851339</td>\n",
       "    </tr>\n",
       "    <tr>\n",
       "      <th>1</th>\n",
       "      <td>id24541</td>\n",
       "      <td>0.979675</td>\n",
       "      <td>0.019925</td>\n",
       "      <td>0.000400</td>\n",
       "    </tr>\n",
       "    <tr>\n",
       "      <th>2</th>\n",
       "      <td>id00134</td>\n",
       "      <td>0.008782</td>\n",
       "      <td>0.977574</td>\n",
       "      <td>0.013644</td>\n",
       "    </tr>\n",
       "    <tr>\n",
       "      <th>3</th>\n",
       "      <td>id27757</td>\n",
       "      <td>0.736435</td>\n",
       "      <td>0.199536</td>\n",
       "      <td>0.064028</td>\n",
       "    </tr>\n",
       "    <tr>\n",
       "      <th>4</th>\n",
       "      <td>id04081</td>\n",
       "      <td>0.564595</td>\n",
       "      <td>0.198042</td>\n",
       "      <td>0.237364</td>\n",
       "    </tr>\n",
       "  </tbody>\n",
       "</table>\n",
       "</div>"
      ],
      "text/plain": [
       "        id       EAP       HPL       MWS\n",
       "0  id02310  0.107272  0.041389  0.851339\n",
       "1  id24541  0.979675  0.019925  0.000400\n",
       "2  id00134  0.008782  0.977574  0.013644\n",
       "3  id27757  0.736435  0.199536  0.064028\n",
       "4  id04081  0.564595  0.198042  0.237364"
      ]
     },
     "execution_count": 85,
     "metadata": {
      "tags": []
     },
     "output_type": "execute_result"
    }
   ],
   "source": [
    "# create submission file\n",
    "test_df = pd.read_csv('test.csv')\n",
    "test_data = preproc.preprocess(test_df.text)\n",
    "preds = model.predict(test_data, batch_size=1)\n",
    "result = pd.DataFrame(preds, columns=['EAP','HPL','MWS'])\n",
    "result.insert(0, 'id', test_df['id'])\n",
    "result.to_csv('submission.csv', index=False, float_format='%.20f')\n",
    "result.head()\n",
    "# preds\n",
    "# le.inverse_transform([2,1,0])"
   ]
  },
  {
   "cell_type": "markdown",
   "metadata": {
    "colab_type": "text",
    "id": "Egc2U01ErM5o"
   },
   "source": [
    "# 3.Topic Modelling approach"
   ]
  },
  {
   "cell_type": "code",
   "execution_count": 0,
   "metadata": {
    "colab": {},
    "colab_type": "code",
    "id": "SIjol1_IrUF4"
   },
   "outputs": [],
   "source": [
    "lda = LatentDirichletAllocation(n_components=20,learning_method='online',\n",
    "                                learning_offset=50.)"
   ]
  },
  {
   "cell_type": "code",
   "execution_count": 0,
   "metadata": {
    "colab": {
     "base_uri": "https://localhost:8080/",
     "height": 151
    },
    "colab_type": "code",
    "id": "OXW7F2_GsPbU",
    "outputId": "f7893a01-14b8-47ae-8aeb-6f4708107f27"
   },
   "outputs": [
    {
     "data": {
      "text/plain": [
       "LatentDirichletAllocation(batch_size=128, doc_topic_prior=None,\n",
       "                          evaluate_every=-1, learning_decay=0.7,\n",
       "                          learning_method='online', learning_offset=50.0,\n",
       "                          max_doc_update_iter=100, max_iter=10,\n",
       "                          mean_change_tol=0.001, n_components=20, n_jobs=None,\n",
       "                          perp_tol=0.1, random_state=None,\n",
       "                          topic_word_prior=None, total_samples=1000000.0,\n",
       "                          verbose=0)"
      ]
     },
     "execution_count": 18,
     "metadata": {
      "tags": []
     },
     "output_type": "execute_result"
    }
   ],
   "source": [
    "lda.fit(x_train)"
   ]
  },
  {
   "cell_type": "code",
   "execution_count": 0,
   "metadata": {
    "colab": {},
    "colab_type": "code",
    "id": "11YvAw5Lsiy-"
   },
   "outputs": [],
   "source": [
    "def print_top_words(model, feature_names, n_top_words):\n",
    "    for topic_idx, topic in enumerate(model.components_):\n",
    "        message = \"Topic #%d: \" % topic_idx\n",
    "        message += \" \".join([feature_names[i]\n",
    "                             for i in topic.argsort()[:-n_top_words - 1:-1]])\n",
    "        print(message)\n",
    "    print()\n"
   ]
  },
  {
   "cell_type": "code",
   "execution_count": 0,
   "metadata": {
    "colab": {
     "base_uri": "https://localhost:8080/",
     "height": 390
    },
    "colab_type": "code",
    "id": "feraexZgsnAE",
    "outputId": "993f8eae-3eb3-4d92-81aa-1a266b4913a8"
   },
   "outputs": [
    {
     "name": "stdout",
     "output_type": "stream",
     "text": [
      "Topic #0: quit left right entir possess open best second circumst realli imposs terribl struggl write home endeavour duti piec space visibl\n",
      "Topic #1: said gener man eye sound express wonder felt began account told effect possibl spoke mad age shadow scarc met condit\n",
      "Topic #2: point earth tri read known thought clear subject sweet gentl soul born mother famili creatur joy besid littl tree action\n",
      "Topic #3: noth perhap make father sure strang especi equal lie believ paper use secur child troubl togeth sort conceiv dog farther\n",
      "Topic #4: say year thu reason live regard sometim respect inde chang scene attempt rememb charact watch got dear power learn consid\n",
      "Topic #5: present door raymond street busi close smile room alreadi receiv earli short west heard direct ground gilman singl vast chamber\n",
      "Topic #6: fear grew alon proceed perceiv hope mind like forc probabl listen evil prove increas face posit adrian descend dread fell\n",
      "Topic #7: great human old everi head dark soon die men form wall work citi new leav gave studi stone like save\n",
      "Topic #8: thing knew return tell horror heart came voic cut repli ask think pain held hear breath stand reach blood resolv\n",
      "Topic #9: mean saw mere visit air expect light continu dare attent window exist morn brought sleep way drop taken discov parti\n",
      "Topic #10: went come follow object sea end letter walk white act god mysteri motion care late mention employ distant whilst anyth\n",
      "Topic #11: love remain beauti life spirit better poor final escap fulli paus seek describ peculiar fellow altogeth anim delight sole hardli\n",
      "Topic #12: evid appar arriv person arm somewhat differ excit prepar knowledg threw utter obtain mark disturb danger self fate number desert\n",
      "Topic #13: someth night hand pass day far moment wish promis talk suggest carri fit companion necessari occupi relat seiz floor bore\n",
      "Topic #14: seen sens thousand impress perdita bear state wild admit bring hour perfect cri young near permit presenc exceedingli grace unusu\n",
      "Topic #15: shall let anoth word peopl sever doubt look sight time answer high suffer past destroy land crowd want enjoy start\n",
      "Topic #16: becom nearli lay dead question feet play step minut figur suffici determin need secret twenti experi thrown ladi throw hundr\n",
      "Topic #17: friend turn approach hous manner becam away usual took month wind round drew scream sat sun order fright wander excess\n",
      "Topic #18: bodi half larg alway kind mani origin extrem long appear happi design small rise gaze reflect miser moon madam gentleman\n",
      "Topic #19: matter know observ enter set attend immedi complet fanci certain given notic fail imagin purpos truth excel understand opinion similar\n",
      "\n"
     ]
    }
   ],
   "source": [
    "n_top_words = 20\n",
    "tf_feature_names = tfidf.get_feature_names()\n",
    "print_top_words(lda, tf_feature_names, n_top_words)"
   ]
  },
  {
   "cell_type": "code",
   "execution_count": 0,
   "metadata": {
    "colab": {
     "base_uri": "https://localhost:8080/",
     "height": 34
    },
    "colab_type": "code",
    "id": "tkdDad4kthkL",
    "outputId": "db6dd864-26ca-4f3b-952f-31deb1cb39a8"
   },
   "outputs": [
    {
     "name": "stdout",
     "output_type": "stream",
     "text": [
      "x_train_topic.shape:  (13117, 20)\n"
     ]
    }
   ],
   "source": [
    "#new topic-based data\n",
    "x_train_topic = lda.transform(x_train)\n",
    "x_test_topic = lda.transform(x_test)\n",
    "print('x_train_topic.shape: ', x_train_topic.shape)"
   ]
  },
  {
   "cell_type": "code",
   "execution_count": 0,
   "metadata": {
    "colab": {
     "base_uri": "https://localhost:8080/",
     "height": 218
    },
    "colab_type": "code",
    "id": "ES3I_NEVtyKl",
    "outputId": "b79c2c83-ac03-404b-c01c-923a2063f25e"
   },
   "outputs": [
    {
     "name": "stdout",
     "output_type": "stream",
     "text": [
      "Model: \"sequential_7\"\n",
      "_________________________________________________________________\n",
      "Layer (type)                 Output Shape              Param #   \n",
      "=================================================================\n",
      "dense_13 (Dense)             (None, 20)                420       \n",
      "_________________________________________________________________\n",
      "dense_14 (Dense)             (None, 3)                 63        \n",
      "=================================================================\n",
      "Total params: 483\n",
      "Trainable params: 483\n",
      "Non-trainable params: 0\n",
      "_________________________________________________________________\n"
     ]
    }
   ],
   "source": [
    "#build simple network:\n",
    "#Simple Model\n",
    "model_lda = Sequential()\n",
    "model_lda.add(Dense(20,input_shape=(x_train_topic.shape[1],), activation='tanh'))\n",
    "model_lda.add(Dense(len(classes),activation='softmax'))\n",
    "model_lda.compile(loss='categorical_crossentropy', optimizer='adam', metrics=['accuracy'])\n",
    "model_lda.summary()"
   ]
  },
  {
   "cell_type": "code",
   "execution_count": 0,
   "metadata": {
    "colab": {
     "base_uri": "https://localhost:8080/",
     "height": 386
    },
    "colab_type": "code",
    "id": "tIj6T6mwuGLc",
    "outputId": "50958867-4130-4db5-e2d8-b46afee30d60"
   },
   "outputs": [
    {
     "name": "stdout",
     "output_type": "stream",
     "text": [
      "Train on 13117 samples, validate on 6462 samples\n",
      "Epoch 1/10\n",
      "13117/13117 [==============================] - 1s 63us/step - loss: 1.0913 - acc: 0.3877 - val_loss: 1.0837 - val_acc: 0.4005\n",
      "Epoch 2/10\n",
      "13117/13117 [==============================] - 1s 40us/step - loss: 1.0751 - acc: 0.4127 - val_loss: 1.0730 - val_acc: 0.4141\n",
      "Epoch 3/10\n",
      "13117/13117 [==============================] - 1s 41us/step - loss: 1.0657 - acc: 0.4265 - val_loss: 1.0656 - val_acc: 0.4302\n",
      "Epoch 4/10\n",
      "13117/13117 [==============================] - 1s 40us/step - loss: 1.0600 - acc: 0.4387 - val_loss: 1.0614 - val_acc: 0.4407\n",
      "Epoch 5/10\n",
      "13117/13117 [==============================] - 1s 40us/step - loss: 1.0564 - acc: 0.4410 - val_loss: 1.0593 - val_acc: 0.4409\n",
      "Epoch 6/10\n",
      "13117/13117 [==============================] - 1s 38us/step - loss: 1.0547 - acc: 0.4468 - val_loss: 1.0586 - val_acc: 0.4381\n",
      "Epoch 7/10\n",
      "13117/13117 [==============================] - 1s 41us/step - loss: 1.0542 - acc: 0.4465 - val_loss: 1.0580 - val_acc: 0.4417\n",
      "Epoch 8/10\n",
      "13117/13117 [==============================] - 1s 41us/step - loss: 1.0536 - acc: 0.4496 - val_loss: 1.0576 - val_acc: 0.4480\n",
      "Epoch 9/10\n",
      "13117/13117 [==============================] - 1s 42us/step - loss: 1.0535 - acc: 0.4467 - val_loss: 1.0576 - val_acc: 0.4446\n",
      "Epoch 10/10\n",
      "13117/13117 [==============================] - 1s 40us/step - loss: 1.0534 - acc: 0.4444 - val_loss: 1.0575 - val_acc: 0.4458\n"
     ]
    },
    {
     "data": {
      "text/plain": [
       "<keras.callbacks.History at 0x7f653aa75e48>"
      ]
     },
     "execution_count": 31,
     "metadata": {
      "tags": []
     },
     "output_type": "execute_result"
    }
   ],
   "source": [
    "# Train\n",
    "model_lda.fit(x_train_topic, y_train,\n",
    "          epochs=10,\n",
    "          batch_size=128, validation_data=(x_test_topic, y_test) )"
   ]
  }
 ],
 "metadata": {
  "accelerator": "GPU",
  "colab": {
   "collapsed_sections": [],
   "name": "Spook Authors - MLDM",
   "provenance": [],
   "toc_visible": true
  },
  "kernelspec": {
   "display_name": "Python 3",
   "language": "python",
   "name": "python3"
  },
  "language_info": {
   "codemirror_mode": {
    "name": "ipython",
    "version": 3
   },
   "file_extension": ".py",
   "mimetype": "text/x-python",
   "name": "python",
   "nbconvert_exporter": "python",
   "pygments_lexer": "ipython3",
   "version": "3.7.4"
  }
 },
 "nbformat": 4,
 "nbformat_minor": 1
}
