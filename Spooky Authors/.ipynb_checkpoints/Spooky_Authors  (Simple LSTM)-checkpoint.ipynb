{
 "cells": [
  {
   "cell_type": "markdown",
   "metadata": {},
   "source": [
    "# <center> Deep Learning Project</center>\n",
    "## <center>Spooky Authors Identification</center>\n",
    "### <center>Simple LSTM</center>\n",
    "#### <center>Score on Kaggle: 0.47 log loss</center>\n",
    "\n",
    "\n",
    "---\n",
    "\n",
    "\n",
    "*   Eduardo Brendao (MLDM)\n",
    "*   Mohammad Poul Doust (MLDM)\n",
    "\n"
   ]
  },
  {
   "cell_type": "markdown",
   "metadata": {
    "colab_type": "text",
    "id": "Y6_yhxGJBMHb"
   },
   "source": [
    "# Preparation"
   ]
  },
  {
   "cell_type": "code",
   "execution_count": 0,
   "metadata": {
    "colab": {
     "base_uri": "https://localhost:8080/",
     "height": 353
    },
    "colab_type": "code",
    "id": "0QKuVR_-doj-",
    "outputId": "275d612e-ff4f-45b9-ccfa-810199874025"
   },
   "outputs": [
    {
     "name": "stdout",
     "output_type": "stream",
     "text": [
      "Warning: Looks like you're using an outdated API Version, please consider updating (server 1.5.6 / client 1.5.4)\n",
      "Downloading train.zip to /content\n",
      "  0% 0.00/1.26M [00:00<?, ?B/s]\n",
      "100% 1.26M/1.26M [00:00<00:00, 84.5MB/s]\n",
      "Downloading sample_submission.zip to /content\n",
      "  0% 0.00/29.4k [00:00<?, ?B/s]\n",
      "100% 29.4k/29.4k [00:00<00:00, 59.1MB/s]\n",
      "Downloading test.zip to /content\n",
      "  0% 0.00/538k [00:00<?, ?B/s]\n",
      "100% 538k/538k [00:00<00:00, 169MB/s]\n",
      "Archive:  train.zip\n",
      "  inflating: train.csv               \n",
      "\n",
      "Archive:  test.zip\n",
      "  inflating: test.csv                \n",
      "\n",
      "Archive:  sample_submission.zip\n",
      "  inflating: sample_submission.csv   \n",
      "\n",
      "3 archives were successfully processed.\n"
     ]
    }
   ],
   "source": [
    "# we need the text. We get it from Kaggle -- feel free to use my API key :)\n",
    "import os\n",
    "os.environ['KAGGLE_USERNAME'] = \"extremelydifficult\" # username from the json file\n",
    "os.environ['KAGGLE_KEY'] = \"238120927f9705524c124fcbdb19b699\" # key from the json file\n",
    "!kaggle competitions download -c spooky-author-identification\n",
    "!unzip \\*.zip"
   ]
  },
  {
   "cell_type": "code",
   "execution_count": 0,
   "metadata": {
    "colab": {
     "base_uri": "https://localhost:8080/",
     "height": 84
    },
    "colab_type": "code",
    "id": "PFJMiuQw-Gn8",
    "outputId": "3643c9f2-134a-48d8-d79d-586992641ba8"
   },
   "outputs": [
    {
     "name": "stdout",
     "output_type": "stream",
     "text": [
      "[nltk_data] Downloading package punkt to /root/nltk_data...\n",
      "[nltk_data]   Unzipping tokenizers/punkt.zip.\n",
      "[nltk_data] Downloading package stopwords to /root/nltk_data...\n",
      "[nltk_data]   Unzipping corpora/stopwords.zip.\n"
     ]
    }
   ],
   "source": [
    "import nltk\n",
    "import warnings\n",
    "\n",
    "warnings.filterwarnings('ignore')\n",
    "\n",
    "nltk.download('punkt')\n",
    "nltk.download('stopwords')\n",
    "\n",
    "from nltk.corpus import stopwords\n",
    "stop_words = set(stopwords.words('english')) "
   ]
  },
  {
   "cell_type": "code",
   "execution_count": 0,
   "metadata": {
    "colab": {},
    "colab_type": "code",
    "id": "j1FzCG6g90_v"
   },
   "outputs": [],
   "source": [
    "#Import libraries\n",
    "from nltk.tokenize import word_tokenize\n",
    "from sklearn.preprocessing import LabelEncoder\n",
    "from keras.models import Sequential\n",
    "from keras.layers import Dense\n",
    "from keras.layers import LSTM\n",
    "from keras.layers.embeddings import Embedding\n",
    "from keras.utils import np_utils\n",
    "import itertools\n",
    "import pandas as pd\n",
    "import numpy as np\n",
    "import copy\n",
    "from keras.utils.vis_utils import plot_model"
   ]
  },
  {
   "cell_type": "code",
   "execution_count": 0,
   "metadata": {
    "colab": {
     "base_uri": "https://localhost:8080/",
     "height": 34
    },
    "colab_type": "code",
    "id": "ooBon6ALBUpa",
    "outputId": "02c37081-9f1a-42fe-bb9b-6303de973b23"
   },
   "outputs": [
    {
     "name": "stdout",
     "output_type": "stream",
     "text": [
      "Importing data sets...\n"
     ]
    }
   ],
   "source": [
    "print('Importing data sets...')\n",
    "df_train = pd.read_csv(\"train.csv\")\n",
    "df_train = df_train.drop(['id'], axis=1)\n",
    "\n",
    "df_test = pd.read_csv(\"test.csv\")\n",
    "ids = df_test['id']\n",
    "df_test = df_test.drop(['id'], axis=1)"
   ]
  },
  {
   "cell_type": "markdown",
   "metadata": {
    "colab_type": "text",
    "id": "FGPZpC51BVoN"
   },
   "source": [
    "# Preprocessing"
   ]
  },
  {
   "cell_type": "code",
   "execution_count": 0,
   "metadata": {
    "colab": {
     "base_uri": "https://localhost:8080/",
     "height": 84
    },
    "colab_type": "code",
    "id": "qi_6zvpA95Rl",
    "outputId": "0cc71f70-8bde-4201-8267-c0169dc4c7f7"
   },
   "outputs": [
    {
     "name": "stdout",
     "output_type": "stream",
     "text": [
      "Tokenizing in progress...\n",
      "Pre-processing Train set...\n",
      "Pre-processing Test set...\n",
      "Making some more pre-processing to train and test sets...\n"
     ]
    }
   ],
   "source": [
    "#Tokenize sentences\n",
    "print(\"Tokenizing in progress...\")\n",
    "#1. Train set\n",
    "text_list_train = list(df_train['text'])\n",
    "#text_list_train_lower = [word.lower() for word in text_list_train]\n",
    "tokenized_text_train = [word_tokenize(i) for i in text_list_train]\n",
    "\n",
    "#2. Test set\n",
    "text_list_test = list(df_test['text'])\n",
    "#text_list_test_lower = [word.lower() for word in text_list_test]\n",
    "tokenized_text_test = [word_tokenize(i) for i in text_list_test]\n",
    "\n",
    "#Create vocabulary from train set only\n",
    "list_of_all_words = list(itertools.chain.from_iterable(tokenized_text_test))\n",
    "vocabulary =sorted(list(set(list_of_all_words)))\n",
    "\n",
    "#Remove stopwords (I found out that it makes no difference but you can try on your own)\n",
    "vocabulary = [word for word in vocabulary if word not in stopwords.words('english')]\n",
    "\n",
    "#--------------------------Pre-processing train and test sets----------------------------------\n",
    "print('Pre-processing Train set...')\n",
    "tokenized_numbers_train = copy.deepcopy(tokenized_text_train)\n",
    "\n",
    "i=-1\n",
    "for list in tokenized_numbers_train:\n",
    "    i=i+1\n",
    "    j=-1\n",
    "    for number in list:\n",
    "        j = j + 1\n",
    "        if tokenized_numbers_train[i][j] in vocabulary:\n",
    "            tokenized_numbers_train[i][j]= vocabulary.index(number)\n",
    "        else:\n",
    "            tokenized_numbers_train[i][j] = 0\n",
    "\n",
    "tokens_train = pd.DataFrame(tokenized_numbers_train, dtype='int32')\n",
    "tokens_train = tokens_train.fillna(0)\n",
    "tokens_train = tokens_train.astype(int)\n",
    "\n",
    "print('Pre-processing Test set...')\n",
    "tokenized_numbers_test = copy.deepcopy(tokenized_text_test)\n",
    "\n",
    "i=-1\n",
    "for list in tokenized_numbers_test:\n",
    "    i=i+1\n",
    "    j=-1\n",
    "    for number in list:\n",
    "        j = j + 1\n",
    "        if tokenized_numbers_test[i][j] in vocabulary:\n",
    "            tokenized_numbers_test[i][j] = vocabulary.index(number)\n",
    "        else:\n",
    "            tokenized_numbers_test[i][j] = 0\n",
    "\n",
    "tokens_test = pd.DataFrame(tokenized_numbers_test, dtype='int32')\n",
    "tokens_test = tokens_test.fillna(0)\n",
    "tokens_test = tokens_test.astype(int)\n",
    "\n",
    "print('Making some more pre-processing to train and test sets...')\n",
    "\n",
    "#Bring both sets to same shape (Choose how many words to use)\n",
    "max_words_in_sentence=100\n",
    "\n",
    "#Shorten or extend Train set to reach selected length\n",
    "if tokens_train.shape[1]>max_words_in_sentence:\n",
    "    tokens_train = tokens_train.drop(tokens_train.columns[[range(max_words_in_sentence,tokens_train.shape[1])]], axis=1)\n",
    "else:\n",
    "    for col in range(tokens_train.shape[1],max_words_in_sentence):\n",
    "        tokens_train[col]=0\n",
    "\n",
    "#Shorten or extend Test set to reach selected length\n",
    "if tokens_test.shape[1] > max_words_in_sentence:\n",
    "    tokens_test = tokens_test.drop(tokens_test.columns[[range(max_words_in_sentence, tokens_test.shape[1])]],\n",
    "                                     axis=1)\n",
    "else:\n",
    "    for col in range(tokens_test.shape[1], max_words_in_sentence):\n",
    "        tokens_test[col] = 0\n",
    "\n",
    "#------------------------------End of Pre-processing----------------------------------------------------"
   ]
  },
  {
   "cell_type": "markdown",
   "metadata": {
    "colab_type": "text",
    "id": "Df9pdvEIBavK"
   },
   "source": [
    "# Rest"
   ]
  },
  {
   "cell_type": "code",
   "execution_count": 0,
   "metadata": {
    "colab": {},
    "colab_type": "code",
    "id": "gxRPC4PU__6a"
   },
   "outputs": [],
   "source": [
    "#Define train and Test sets\n",
    "train_x = np.array(tokens_train)\n",
    "train_y = np.array(df_train['author'])\n",
    "\n",
    "\n",
    "test_x = np.array(tokens_test)\n",
    "\n",
    "encoder1 = LabelEncoder()\n",
    "encoder1.fit(train_y)\n",
    "encoded_train_Y = encoder1.transform(train_y)\n",
    "dummy_train_y = np_utils.to_categorical(encoded_train_Y).astype(int)"
   ]
  },
  {
   "cell_type": "code",
   "execution_count": 0,
   "metadata": {
    "colab": {
     "base_uri": "https://localhost:8080/",
     "height": 541
    },
    "colab_type": "code",
    "id": "nyXQ8Ied8QOZ",
    "outputId": "f4c5cd2f-d432-4461-e75a-5f8dd9899ce7"
   },
   "outputs": [
    {
     "name": "stdout",
     "output_type": "stream",
     "text": [
      "WARNING:tensorflow:From /usr/local/lib/python3.6/dist-packages/keras/backend/tensorflow_backend.py:66: The name tf.get_default_graph is deprecated. Please use tf.compat.v1.get_default_graph instead.\n",
      "\n",
      "WARNING:tensorflow:From /usr/local/lib/python3.6/dist-packages/keras/backend/tensorflow_backend.py:541: The name tf.placeholder is deprecated. Please use tf.compat.v1.placeholder instead.\n",
      "\n",
      "WARNING:tensorflow:From /usr/local/lib/python3.6/dist-packages/keras/backend/tensorflow_backend.py:4432: The name tf.random_uniform is deprecated. Please use tf.random.uniform instead.\n",
      "\n",
      "WARNING:tensorflow:From /usr/local/lib/python3.6/dist-packages/keras/backend/tensorflow_backend.py:148: The name tf.placeholder_with_default is deprecated. Please use tf.compat.v1.placeholder_with_default instead.\n",
      "\n",
      "WARNING:tensorflow:From /usr/local/lib/python3.6/dist-packages/keras/backend/tensorflow_backend.py:3733: calling dropout (from tensorflow.python.ops.nn_ops) with keep_prob is deprecated and will be removed in a future version.\n",
      "Instructions for updating:\n",
      "Please use `rate` instead of `keep_prob`. Rate should be set to `rate = 1 - keep_prob`.\n",
      "WARNING:tensorflow:From /usr/local/lib/python3.6/dist-packages/keras/optimizers.py:793: The name tf.train.Optimizer is deprecated. Please use tf.compat.v1.train.Optimizer instead.\n",
      "\n",
      "WARNING:tensorflow:From /usr/local/lib/python3.6/dist-packages/keras/backend/tensorflow_backend.py:3576: The name tf.log is deprecated. Please use tf.math.log instead.\n",
      "\n",
      "Model: \"sequential_1\"\n",
      "_________________________________________________________________\n",
      "Layer (type)                 Output Shape              Param #   \n",
      "=================================================================\n",
      "embedding_1 (Embedding)      (None, 100, 64)           1209984   \n",
      "_________________________________________________________________\n",
      "lstm_1 (LSTM)                (None, 32)                12416     \n",
      "_________________________________________________________________\n",
      "dense_1 (Dense)              (None, 3)                 99        \n",
      "=================================================================\n",
      "Total params: 1,222,499\n",
      "Trainable params: 1,222,499\n",
      "Non-trainable params: 0\n",
      "_________________________________________________________________\n",
      "None\n"
     ]
    }
   ],
   "source": [
    "l=len(vocabulary)+1\n",
    "inp=train_x.shape[1]\n",
    "\n",
    "#Build an LSTM model\n",
    "model = Sequential()\n",
    "model.add(Embedding(l, 64,input_length=inp))\n",
    "model.add(LSTM(32, dropout=0.4, recurrent_dropout=0.1))\n",
    "model.add(Dense(3, activation='softmax'))\n",
    "model.compile(loss='categorical_crossentropy', optimizer='adam', metrics=['accuracy'])\n",
    "print(model.summary())"
   ]
  },
  {
   "cell_type": "code",
   "execution_count": 0,
   "metadata": {
    "colab": {
     "base_uri": "https://localhost:8080/",
     "height": 422
    },
    "colab_type": "code",
    "id": "6z0cDJJxJUn0",
    "outputId": "bb245d56-c41d-464b-c6bc-c8d33a10f562"
   },
   "outputs": [
    {
     "data": {
      "image/png": "[encoded data removed]",
      "text/plain": [
       "<IPython.core.display.Image object>"
      ]
     },
     "execution_count": 12,
     "metadata": {
      "tags": []
     },
     "output_type": "execute_result"
    }
   ],
   "source": [
    "plot_model(model, to_file='model_plot.png', show_shapes=True, show_layer_names=True)"
   ]
  },
  {
   "cell_type": "code",
   "execution_count": 0,
   "metadata": {
    "colab": {
     "base_uri": "https://localhost:8080/",
     "height": 489
    },
    "colab_type": "code",
    "id": "j9_i4Z6274Vw",
    "outputId": "7b2da296-0bc0-4865-d434-9236b2187510"
   },
   "outputs": [
    {
     "name": "stdout",
     "output_type": "stream",
     "text": [
      "WARNING:tensorflow:From /usr/local/lib/python3.6/dist-packages/tensorflow_core/python/ops/math_grad.py:1424: where (from tensorflow.python.ops.array_ops) is deprecated and will be removed in a future version.\n",
      "Instructions for updating:\n",
      "Use tf.where in 2.0, which has the same broadcast rule as np.where\n",
      "WARNING:tensorflow:From /usr/local/lib/python3.6/dist-packages/keras/backend/tensorflow_backend.py:1033: The name tf.assign_add is deprecated. Please use tf.compat.v1.assign_add instead.\n",
      "\n",
      "WARNING:tensorflow:From /usr/local/lib/python3.6/dist-packages/keras/backend/tensorflow_backend.py:1020: The name tf.assign is deprecated. Please use tf.compat.v1.assign instead.\n",
      "\n",
      "WARNING:tensorflow:From /usr/local/lib/python3.6/dist-packages/keras/backend/tensorflow_backend.py:3005: The name tf.Session is deprecated. Please use tf.compat.v1.Session instead.\n",
      "\n",
      "Epoch 1/3\n",
      "WARNING:tensorflow:From /usr/local/lib/python3.6/dist-packages/keras/backend/tensorflow_backend.py:190: The name tf.get_default_session is deprecated. Please use tf.compat.v1.get_default_session instead.\n",
      "\n",
      "WARNING:tensorflow:From /usr/local/lib/python3.6/dist-packages/keras/backend/tensorflow_backend.py:197: The name tf.ConfigProto is deprecated. Please use tf.compat.v1.ConfigProto instead.\n",
      "\n",
      "WARNING:tensorflow:From /usr/local/lib/python3.6/dist-packages/keras/backend/tensorflow_backend.py:207: The name tf.global_variables is deprecated. Please use tf.compat.v1.global_variables instead.\n",
      "\n",
      "WARNING:tensorflow:From /usr/local/lib/python3.6/dist-packages/keras/backend/tensorflow_backend.py:216: The name tf.is_variable_initialized is deprecated. Please use tf.compat.v1.is_variable_initialized instead.\n",
      "\n",
      "WARNING:tensorflow:From /usr/local/lib/python3.6/dist-packages/keras/backend/tensorflow_backend.py:223: The name tf.variables_initializer is deprecated. Please use tf.compat.v1.variables_initializer instead.\n",
      "\n",
      "19579/19579 [==============================] - 122s 6ms/step - loss: 1.0888 - acc: 0.4030\n",
      "Epoch 2/3\n",
      "19579/19579 [==============================] - 123s 6ms/step - loss: 1.0880 - acc: 0.4035\n",
      "Epoch 3/3\n",
      "19579/19579 [==============================] - 124s 6ms/step - loss: 1.0875 - acc: 0.4035\n"
     ]
    },
    {
     "data": {
      "text/plain": [
       "<keras.callbacks.History at 0x7f6daddc3240>"
      ]
     },
     "execution_count": 7,
     "metadata": {
      "tags": []
     },
     "output_type": "execute_result"
    }
   ],
   "source": [
    "model.fit(train_x, dummy_train_y,\n",
    "                 batch_size=16,\n",
    "                 epochs=3)"
   ]
  },
  {
   "cell_type": "markdown",
   "metadata": {
    "colab_type": "text",
    "id": "-bKacBhqA5eq"
   },
   "source": [
    "# Submission\n",
    "0.47210 Private score"
   ]
  },
  {
   "cell_type": "code",
   "execution_count": 0,
   "metadata": {
    "colab": {},
    "colab_type": "code",
    "id": "_EAUkXTdK-ZI"
   },
   "outputs": [],
   "source": [
    "results = model.predict(test_x)\n",
    "results = pd.DataFrame(results, columns=['EAP', 'HPL','MWS'])\n",
    "results.insert(0, \"id\", ids)\n",
    "results.to_csv(\"lstm_submission.csv\", index=False)"
   ]
  }
 ],
 "metadata": {
  "accelerator": "GPU",
  "anaconda-cloud": {},
  "colab": {
   "collapsed_sections": [
    "Y6_yhxGJBMHb",
    "Df9pdvEIBavK",
    "-bKacBhqA5eq"
   ],
   "name": "Spooky_Authors_simple_lstm_.ipynb",
   "provenance": [],
   "toc_visible": true
  },
  "kernelspec": {
   "display_name": "Python 3",
   "language": "python",
   "name": "python3"
  },
  "language_info": {
   "codemirror_mode": {
    "name": "ipython",
    "version": 3
   },
   "file_extension": ".py",
   "mimetype": "text/x-python",
   "name": "python",
   "nbconvert_exporter": "python",
   "pygments_lexer": "ipython3",
   "version": "3.7.4"
  }
 },
 "nbformat": 4,
 "nbformat_minor": 1
}
