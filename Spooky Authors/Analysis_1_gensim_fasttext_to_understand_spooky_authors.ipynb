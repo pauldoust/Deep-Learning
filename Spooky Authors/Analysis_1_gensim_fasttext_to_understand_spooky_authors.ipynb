{
  "nbformat": 4,
  "nbformat_minor": 0,
  "metadata": {
    "anaconda-cloud": {},
    "kernelspec": {
      "name": "python3",
      "display_name": "Python 3"
    },
    "language_info": {
      "codemirror_mode": {
        "name": "ipython",
        "version": 3
      },
      "file_extension": ".py",
      "mimetype": "text/x-python",
      "name": "python",
      "nbconvert_exporter": "python",
      "pygments_lexer": "ipython3",
      "version": "3.7.1"
    },
    "colab": {
      "name": "Analysis 1 - gensim_fasttext_to_understand_spooky_authors.ipynb",
      "provenance": [],
      "collapsed_sections": [
        "xqka-TbijJtF"
      ],
      "toc_visible": true
    },
    "accelerator": "GPU"
  },
  "cells": [
    {
      "cell_type": "markdown",
      "metadata": {
        "id": "k2RVBSjvcss4",
        "colab_type": "text"
      },
      "source": [
        "# FastText\n",
        "The idea is extracting syntax and morphology particular to each author.\n",
        "\n",
        "I'm using the first part of [this article](https://stackabuse.com/python-for-nlp-working-with-facebook-fasttext-library/)."
      ]
    },
    {
      "cell_type": "code",
      "metadata": {
        "id": "WPjzB_BCHzxf",
        "colab_type": "code",
        "outputId": "025335aa-4181-44e9-8432-7b29272a6655",
        "colab": {
          "base_uri": "https://localhost:8080/",
          "height": 295
        }
      },
      "source": [
        "# we get facebook's FastText\n",
        "!git clone https://github.com/facebookresearch/fastText.git\n",
        "! pip install fastText/.\n",
        "# ... and import it\n",
        "import fasttext"
      ],
      "execution_count": 0,
      "outputs": [
        {
          "output_type": "stream",
          "text": [
            "Cloning into 'fastText'...\n",
            "remote: Enumerating objects: 3531, done.\u001b[K\n",
            "remote: Total 3531 (delta 0), reused 0 (delta 0), pack-reused 3531\u001b[K\n",
            "Receiving objects: 100% (3531/3531), 8.02 MiB | 9.59 MiB/s, done.\n",
            "Resolving deltas: 100% (2225/2225), done.\n",
            "Processing ./fastText\n",
            "Requirement already satisfied: pybind11>=2.2 in /usr/local/lib/python3.6/dist-packages (from fasttext==0.9.1) (2.4.3)\n",
            "Requirement already satisfied: setuptools>=0.7.0 in /usr/local/lib/python3.6/dist-packages (from fasttext==0.9.1) (42.0.2)\n",
            "Requirement already satisfied: numpy in /usr/local/lib/python3.6/dist-packages (from fasttext==0.9.1) (1.17.4)\n",
            "Building wheels for collected packages: fasttext\n",
            "  Building wheel for fasttext (setup.py) ... \u001b[?25l\u001b[?25hdone\n",
            "  Created wheel for fasttext: filename=fasttext-0.9.1-cp36-cp36m-linux_x86_64.whl size=2824920 sha256=1999c612dd7b0fd0d38d2833739e84035f07a64406da827eb728fefbfbdbd0a4\n",
            "  Stored in directory: /tmp/pip-ephem-wheel-cache-vpbyoznm/wheels/a1/9f/52/696ce6c5c46325e840c76614ee5051458c0df10306987e7443\n",
            "Successfully built fasttext\n",
            "Installing collected packages: fasttext\n",
            "Successfully installed fasttext-0.9.1\n"
          ],
          "name": "stdout"
        }
      ]
    },
    {
      "cell_type": "code",
      "metadata": {
        "id": "Fbx_5bGGNB5n",
        "colab_type": "code",
        "outputId": "c10d51ff-692c-46fe-cd1d-3baf5258ca94",
        "colab": {
          "base_uri": "https://localhost:8080/",
          "height": 454
        }
      },
      "source": [
        "# we also use Gensim for convenience, so we get it\n",
        "!pip install --upgrade gensim\n",
        "# ... and import it\n",
        "from gensim.models.fasttext import FastText"
      ],
      "execution_count": 0,
      "outputs": [
        {
          "output_type": "stream",
          "text": [
            "Collecting gensim\n",
            "\u001b[?25l  Downloading https://files.pythonhosted.org/packages/d1/dd/112bd4258cee11e0baaaba064060eb156475a42362e59e3ff28e7ca2d29d/gensim-3.8.1-cp36-cp36m-manylinux1_x86_64.whl (24.2MB)\n",
            "\u001b[K     |████████████████████████████████| 24.2MB 127kB/s \n",
            "\u001b[?25hRequirement already satisfied, skipping upgrade: numpy>=1.11.3 in /usr/local/lib/python3.6/dist-packages (from gensim) (1.17.4)\n",
            "Requirement already satisfied, skipping upgrade: scipy>=0.18.1 in /usr/local/lib/python3.6/dist-packages (from gensim) (1.3.3)\n",
            "Requirement already satisfied, skipping upgrade: smart-open>=1.8.1 in /usr/local/lib/python3.6/dist-packages (from gensim) (1.9.0)\n",
            "Requirement already satisfied, skipping upgrade: six>=1.5.0 in /usr/local/lib/python3.6/dist-packages (from gensim) (1.12.0)\n",
            "Requirement already satisfied, skipping upgrade: boto>=2.32 in /usr/local/lib/python3.6/dist-packages (from smart-open>=1.8.1->gensim) (2.49.0)\n",
            "Requirement already satisfied, skipping upgrade: requests in /usr/local/lib/python3.6/dist-packages (from smart-open>=1.8.1->gensim) (2.21.0)\n",
            "Requirement already satisfied, skipping upgrade: boto3 in /usr/local/lib/python3.6/dist-packages (from smart-open>=1.8.1->gensim) (1.10.40)\n",
            "Requirement already satisfied, skipping upgrade: idna<2.9,>=2.5 in /usr/local/lib/python3.6/dist-packages (from requests->smart-open>=1.8.1->gensim) (2.8)\n",
            "Requirement already satisfied, skipping upgrade: urllib3<1.25,>=1.21.1 in /usr/local/lib/python3.6/dist-packages (from requests->smart-open>=1.8.1->gensim) (1.24.3)\n",
            "Requirement already satisfied, skipping upgrade: certifi>=2017.4.17 in /usr/local/lib/python3.6/dist-packages (from requests->smart-open>=1.8.1->gensim) (2019.11.28)\n",
            "Requirement already satisfied, skipping upgrade: chardet<3.1.0,>=3.0.2 in /usr/local/lib/python3.6/dist-packages (from requests->smart-open>=1.8.1->gensim) (3.0.4)\n",
            "Requirement already satisfied, skipping upgrade: jmespath<1.0.0,>=0.7.1 in /usr/local/lib/python3.6/dist-packages (from boto3->smart-open>=1.8.1->gensim) (0.9.4)\n",
            "Requirement already satisfied, skipping upgrade: s3transfer<0.3.0,>=0.2.0 in /usr/local/lib/python3.6/dist-packages (from boto3->smart-open>=1.8.1->gensim) (0.2.1)\n",
            "Requirement already satisfied, skipping upgrade: botocore<1.14.0,>=1.13.40 in /usr/local/lib/python3.6/dist-packages (from boto3->smart-open>=1.8.1->gensim) (1.13.40)\n",
            "Requirement already satisfied, skipping upgrade: python-dateutil<2.8.1,>=2.1; python_version >= \"2.7\" in /usr/local/lib/python3.6/dist-packages (from botocore<1.14.0,>=1.13.40->boto3->smart-open>=1.8.1->gensim) (2.6.1)\n",
            "Requirement already satisfied, skipping upgrade: docutils<0.16,>=0.10 in /usr/local/lib/python3.6/dist-packages (from botocore<1.14.0,>=1.13.40->boto3->smart-open>=1.8.1->gensim) (0.15.2)\n",
            "Installing collected packages: gensim\n",
            "  Found existing installation: gensim 3.6.0\n",
            "    Uninstalling gensim-3.6.0:\n",
            "      Successfully uninstalled gensim-3.6.0\n",
            "Successfully installed gensim-3.8.1\n"
          ],
          "name": "stdout"
        }
      ]
    },
    {
      "cell_type": "code",
      "metadata": {
        "id": "0QKuVR_-doj-",
        "colab_type": "code",
        "outputId": "2755f0f3-e6ba-4531-ab47-9103f6e8dfcc",
        "colab": {
          "base_uri": "https://localhost:8080/",
          "height": 364
        }
      },
      "source": [
        "# we now need the text. We get it from Kaggle -- feel free to use my API key :)\n",
        "import os\n",
        "os.environ['KAGGLE_USERNAME'] = \"extremelydifficult\" # username from the json file\n",
        "os.environ['KAGGLE_KEY'] = \"238120927f9705524c124fcbdb19b699\" # key from the json file\n",
        "!kaggle competitions download -c spooky-author-identification\n",
        "!unzip \\*.zip"
      ],
      "execution_count": 0,
      "outputs": [
        {
          "output_type": "stream",
          "text": [
            "Warning: Looks like you're using an outdated API Version, please consider updating (server 1.5.6 / client 1.5.4)\n",
            "Downloading test.zip to /content\n",
            "  0% 0.00/538k [00:00<?, ?B/s]\n",
            "100% 538k/538k [00:00<00:00, 74.4MB/s]\n",
            "Downloading sample_submission.zip to /content\n",
            "  0% 0.00/29.4k [00:00<?, ?B/s]\n",
            "100% 29.4k/29.4k [00:00<00:00, 29.8MB/s]\n",
            "Downloading train.zip to /content\n",
            "  0% 0.00/1.26M [00:00<?, ?B/s]\n",
            "100% 1.26M/1.26M [00:00<00:00, 85.9MB/s]\n",
            "Archive:  test.zip\n",
            "  inflating: test.csv                \n",
            "\n",
            "Archive:  sample_submission.zip\n",
            "  inflating: sample_submission.csv   \n",
            "\n",
            "Archive:  train.zip\n",
            "  inflating: train.csv               \n",
            "\n",
            "3 archives were successfully processed.\n"
          ],
          "name": "stdout"
        }
      ]
    },
    {
      "cell_type": "code",
      "metadata": {
        "id": "0eUHtJW4ex54",
        "colab_type": "code",
        "outputId": "94a43b3c-bf11-4ec8-f2ec-851dc4605eeb",
        "colab": {
          "base_uri": "https://localhost:8080/",
          "height": 260
        }
      },
      "source": [
        "# we now take everything into a dataframe\n",
        "import pandas as pd\n",
        "# get data from dataset\n",
        "train = pd.read_csv('train.csv')\n",
        "train.head"
      ],
      "execution_count": 0,
      "outputs": [
        {
          "output_type": "execute_result",
          "data": {
            "text/plain": [
              "<bound method NDFrame.head of             id                                               text author\n",
              "0      id26305  This process, however, afforded me no means of...    EAP\n",
              "1      id17569  It never once occurred to me that the fumbling...    HPL\n",
              "2      id11008  In his left hand was a gold snuff box, from wh...    EAP\n",
              "3      id27763  How lovely is spring As we looked from Windsor...    MWS\n",
              "4      id12958  Finding nothing else, not even gold, the Super...    HPL\n",
              "...        ...                                                ...    ...\n",
              "19574  id17718  I could have fancied, while I looked at it, th...    EAP\n",
              "19575  id08973  The lids clenched themselves together as if in...    EAP\n",
              "19576  id05267  Mais il faut agir that is to say, a Frenchman ...    EAP\n",
              "19577  id17513  For an item of news like this, it strikes us i...    EAP\n",
              "19578  id00393  He laid a gnarled claw on my shoulder, and it ...    HPL\n",
              "\n",
              "[19579 rows x 3 columns]>"
            ]
          },
          "metadata": {
            "tags": []
          },
          "execution_count": 4
        }
      ]
    },
    {
      "cell_type": "code",
      "metadata": {
        "id": "rrI7GX-DfjTb",
        "colab_type": "code",
        "outputId": "1eb734a0-fc94-4cd9-b425-9494d93f07de",
        "colab": {
          "base_uri": "https://localhost:8080/",
          "height": 86
        }
      },
      "source": [
        "# we see that there's id, text, and author columns\n",
        "print(\"Columns: \", train.columns)\n",
        "# and that the most frequent author is EAP\n",
        "import numpy as np\n",
        "for author in np.unique(train['author']):\n",
        "  print(str(author), len(train[train['author']==author]))\n",
        "# the dataset is somewhat imbalanced."
      ],
      "execution_count": 0,
      "outputs": [
        {
          "output_type": "stream",
          "text": [
            "Columns:  Index(['id', 'text', 'author'], dtype='object')\n",
            "EAP 7900\n",
            "HPL 5635\n",
            "MWS 6044\n"
          ],
          "name": "stdout"
        }
      ]
    },
    {
      "cell_type": "code",
      "metadata": {
        "id": "WqLZQjq1gpyH",
        "colab_type": "code",
        "colab": {}
      },
      "source": [
        "# we split into 3 corpora for training\n",
        "eap = train[train['author']=='EAP']\n",
        "hpl = train[train['author']=='HPL']\n",
        "mws = train[train['author']=='MWS']"
      ],
      "execution_count": 0,
      "outputs": []
    },
    {
      "cell_type": "markdown",
      "metadata": {
        "id": "aURV134277Wg",
        "colab_type": "text"
      },
      "source": [
        "# Preprocessing"
      ]
    },
    {
      "cell_type": "markdown",
      "metadata": {
        "id": "D-HSonCDNyEE",
        "colab_type": "text"
      },
      "source": [
        "## Removing periods from honorifics and such\n",
        "These need to be done by hand"
      ]
    },
    {
      "cell_type": "code",
      "metadata": {
        "id": "LlhdnfxeN7j-",
        "colab_type": "code",
        "outputId": "0d5d56dc-8fc4-4597-b8ab-71921c80cba0",
        "colab": {
          "base_uri": "https://localhost:8080/",
          "height": 34
        }
      },
      "source": [
        "import re\n",
        "\n",
        "test_text = \"Dr. John H. lived in the U. S. A. with  Mrs. H. for five years. . . He had lived in N.Y. before, at No. 7 Fleet St.. He was a good man.\"\n",
        "\n",
        "test_text.replace(\"Dr.\", \"Dr\")\n",
        "test_text.replace(\"Mr.\", \"Mr\")\n",
        "test_text.replace(\"Mrs.\", \"Mrs\")\n",
        "test_text.replace(\"Esq.\", \"Esq\")\n",
        "test_text.replace(\"Messrs.\", \"Messrs\")"
      ],
      "execution_count": 0,
      "outputs": [
        {
          "output_type": "execute_result",
          "data": {
            "text/plain": [
              "'Dr John H. lived in the U. S. A. with  Mrs. H. for five years. . . He had lived in N.Y. before, at No. 7 Fleet St.. He was a good man.'"
            ]
          },
          "metadata": {
            "tags": []
          },
          "execution_count": 150
        }
      ]
    },
    {
      "cell_type": "markdown",
      "metadata": {
        "id": "zpulL3Fcsnn7",
        "colab_type": "text"
      },
      "source": [
        "## Removing Acronymns and one-letter abreviations [DONE]"
      ]
    },
    {
      "cell_type": "code",
      "metadata": {
        "colab_type": "code",
        "outputId": "a93d5ce5-d9ac-433e-e2a0-d1fd876892d8",
        "id": "WCrn-FMKKGXA",
        "colab": {
          "base_uri": "https://localhost:8080/",
          "height": 72
        }
      },
      "source": [
        "[i for i in train[\"text\"] if \" : \" in i][:10]"
      ],
      "execution_count": 0,
      "outputs": [
        {
          "output_type": "execute_result",
          "data": {
            "text/plain": [
              "['It was at : P.M., August , that poor Klenze went wholly mad.',\n",
              " 'About noon I encountered a suitable supply house far downtown, and at approximately : p.m. arrived at my boarding place with the necessary paraphernalia and two sturdy and intelligent mechanics.']"
            ]
          },
          "metadata": {
            "tags": []
          },
          "execution_count": 176
        }
      ]
    },
    {
      "cell_type": "code",
      "metadata": {
        "id": "RVoXdWKFssWL",
        "colab_type": "code",
        "colab": {}
      },
      "source": [
        "#remove dots from acronyms and one-letter abreviations\n",
        "acronym = re.compile(r\"(?<!\\w)([A-Za-z])\\.\")\n",
        "new_test_text = acronym.sub(r\"\\1\", test_text)"
      ],
      "execution_count": 0,
      "outputs": []
    },
    {
      "cell_type": "code",
      "metadata": {
        "id": "a1ssLdy5GG8T",
        "colab_type": "code",
        "outputId": "c54bcf4b-baf4-43b2-8c1b-fbaaca2e7b9b",
        "colab": {
          "base_uri": "https://localhost:8080/",
          "height": 34
        }
      },
      "source": [
        "new_test_text"
      ],
      "execution_count": 0,
      "outputs": [
        {
          "output_type": "execute_result",
          "data": {
            "text/plain": [
              "'John H lived in the U S A for five years. . . He had lived in NY before, at No. 7 Fleet St.. He was a good man.'"
            ]
          },
          "metadata": {
            "tags": []
          },
          "execution_count": 101
        }
      ]
    },
    {
      "cell_type": "code",
      "metadata": {
        "id": "ro2oMFWww_6y",
        "colab_type": "code",
        "outputId": "b1d83342-1559-4a55-a695-fba5bdaaa0b2",
        "colab": {
          "base_uri": "https://localhost:8080/",
          "height": 34
        }
      },
      "source": [
        "#remove spaces from separated acronyms\n",
        "wierd_acronym = re.compile(r\"([A-Z])\\s(?=[A-Z])\")\n",
        "wierd_acronym.sub(r\"\\1\", new_test_text)"
      ],
      "execution_count": 0,
      "outputs": [
        {
          "output_type": "execute_result",
          "data": {
            "text/plain": [
              "'John H lived in the USA for five years. . . He had lived in NY before, at No. 7 Fleet St.. He was a good man.'"
            ]
          },
          "metadata": {
            "tags": []
          },
          "execution_count": 103
        }
      ]
    },
    {
      "cell_type": "markdown",
      "metadata": {
        "id": "0w9SCFh3f-BW",
        "colab_type": "text"
      },
      "source": [
        "## We replace . . . with ellipses [DONE] "
      ]
    },
    {
      "cell_type": "code",
      "metadata": {
        "id": "gRS7b1Isj1AF",
        "colab_type": "code",
        "outputId": "a9862b87-102b-4b95-d904-f388ce96f42d",
        "colab": {
          "base_uri": "https://localhost:8080/",
          "height": 211
        }
      },
      "source": [
        "[i for i in train[\"text\"] if \". .\" in i][:10]"
      ],
      "execution_count": 0,
      "outputs": [
        {
          "output_type": "execute_result",
          "data": {
            "text/plain": [
              "[\"they never stopped swimmin' in an' aout o' the river from that cursed reef o' Satan an' more an' more attic winders got a boarded up, an' more an' more noises was heerd in haouses as wa'n't s'posed to hev nobody in 'em. . . .\",\n",
              " \"all over the reef an' swimmin' up the harbour into the Manuxet. . . .\",\n",
              " \"and one, who led the way, was clad in a ghoulishly humped black coat and striped trousers, and had a man's felt hat perched on the shapeless thing that answered for a head. . . .\",\n",
              " \"An' the smell was awful, like what it is araound Wizard Whateley's ol' haouse. . .\",\n",
              " \"all made o' squirmin' ropes . . .\",\n",
              " \"Remember we're dealing with a hideous world in which we are practically helpless. . . .\",\n",
              " 'Madness rides the star wind . . .',\n",
              " 'Mr. Maelzel, to be sure, is not very tall, but upon drawing near the machine, his head will be found at least eighteen inches below the head of the Turk, although the latter, it will be remembered, is in a sitting position. .',\n",
              " \"that face with the red eyes an' crinkly albino hair, an' no chin, like the Whateleys . . .\",\n",
              " \"others'll worship with us at meetin' time, an' sarten haouses hez got to entertain guests . . .\"]"
            ]
          },
          "metadata": {
            "tags": []
          },
          "execution_count": 115
        }
      ]
    },
    {
      "cell_type": "code",
      "metadata": {
        "id": "qtTiJaumgL54",
        "colab_type": "code",
        "outputId": "474ab8f3-393b-48d3-c602-3d949298ab1b",
        "colab": {
          "base_uri": "https://localhost:8080/",
          "height": 34
        }
      },
      "source": [
        "fake_ellipsis = re.compile(r'(\\. ){3,}')\n",
        "print(fake_ellipsis.sub(\"\\u2026 \", test_text))"
      ],
      "execution_count": 0,
      "outputs": [
        {
          "output_type": "stream",
          "text": [
            "John H. lived in the U.S.A. for five years… He lived in No. 7 Fleet St.. He was a good man.\n"
          ],
          "name": "stdout"
        }
      ]
    },
    {
      "cell_type": "markdown",
      "metadata": {
        "id": "xqka-TbijJtF",
        "colab_type": "text"
      },
      "source": [
        "## Turn consecutive periods into one [DONE]"
      ]
    },
    {
      "cell_type": "code",
      "metadata": {
        "id": "wzXbsdS7jmFp",
        "colab_type": "code",
        "outputId": "147a984c-aca6-4b40-f00f-e6b796ddbfe7",
        "colab": {
          "base_uri": "https://localhost:8080/",
          "height": 54
        }
      },
      "source": [
        "[i for i in train[\"text\"] if \"..\" in i][:10]\n",
        "[i for i in train[\"text\"] if \"I said I was distrustful of the Authenticity of Ossian\" in i][:10]"
      ],
      "execution_count": 0,
      "outputs": [
        {
          "output_type": "execute_result",
          "data": {
            "text/plain": [
              "['When, to agree with him, I said I was distrustful of the Authenticity of Ossian\\'s ms, Mr. Johnson said: \"That, Sir, does not do your Understanding particular Credit; for what all the Town is sensible of, is no great Discovery for a Grub Street Critick to make.']"
            ]
          },
          "metadata": {
            "tags": []
          },
          "execution_count": 140
        }
      ]
    },
    {
      "cell_type": "code",
      "metadata": {
        "id": "2otmAXBDjPaq",
        "colab_type": "code",
        "outputId": "6e9a7747-cca7-4180-91fe-f8eaf9f28f3e",
        "colab": {
          "base_uri": "https://localhost:8080/",
          "height": 34
        }
      },
      "source": [
        "consecutiveperiods = re.compile(r'\\.{2,}')\n",
        "print(consecutiveperiods.sub('.', test_text))"
      ],
      "execution_count": 0,
      "outputs": [
        {
          "output_type": "stream",
          "text": [
            "John H. lived in the U. S. A. for five years. . . He had lived in N.Y. before, at No. 7 Fleet St. He was a good man.\n"
          ],
          "name": "stdout"
        }
      ]
    },
    {
      "cell_type": "markdown",
      "metadata": {
        "id": "w3xvEDHiTM0j",
        "colab_type": "text"
      },
      "source": [
        "## Final Preprocessing"
      ]
    },
    {
      "cell_type": "code",
      "metadata": {
        "id": "GUVl5mlfrkwM",
        "colab_type": "code",
        "colab": {}
      },
      "source": [
        "# First idea is to do minimal preprocessing and adding punctuation as words\n",
        "# The idea is that authors use punctuation distinctively.\n",
        "# Maybe get rid of capitalization?\n",
        "\n",
        "import re\n",
        "\n",
        "from gensim.parsing.preprocessing import preprocess_string\n",
        "from gensim.parsing.preprocessing import strip_tags\n",
        "from gensim.parsing.preprocessing import strip_multiple_whitespaces\n",
        "\n",
        "\n",
        "CUSTOM_FILTERS = [strip_multiple_whitespaces, strip_tags]\n",
        "emdash= u\"\\u2014\"\n",
        "ellipsis = u\"\\u2026\"\n",
        "punctuation = list(set(',.:;\\'()\"?!-'))\n",
        "punctuation.append(emdash)\n",
        "punctuation.append(ellipsis)\n",
        "\n",
        "\n",
        "def preprocess(text):\n",
        "  \"\"\"Things that we were able to find\"\"\"\n",
        "  text = text.replace(\"Dr.\", \"Dr\")\n",
        "  text = text.replace(\"Mr.\", \"Mr\")\n",
        "  text = text.replace(\"Mrs.\", \"Mrs\")\n",
        "  text = text.replace(\"Esq.\", \"Esq\")\n",
        "  text = text.replace(\"Messrs.\", \"Messrs\")\n",
        "  acronym = re.compile(r\"(?<!\\w)([A-Za-z])\\.\")\n",
        "  text = acronym.sub(r\"\\1\", text)\n",
        "  wierd_acronym = re.compile(r\"([A-Z])\\s(?=[A-Z])\")\n",
        "  text = wierd_acronym.sub(r\"\\1\", text)\n",
        "  fake_ellipsis = re.compile(r'(\\. ){3,}')\n",
        "  text = fake_ellipsis.sub(\"\\u2026 \", text)\n",
        "  consecutiveperiods = re.compile(r'\\.{2,}')\n",
        "  text = consecutiveperiods.sub('.', text)\n",
        "  return text\n",
        "\n",
        "def words_as_punctuation_preprocess(text):\n",
        "    \n",
        "    text = preprocess(text)\n",
        "    text = text.replace(\"' \", \" ' \")\n",
        "    prods = set(text) & set(punctuation)\n",
        "    if not prods:\n",
        "        return text\n",
        "    for sign in prods:\n",
        "        text = text.replace(sign, ' {} '.format(sign) )\n",
        "    text = \" \".join(preprocess_string(text, CUSTOM_FILTERS)) #we still have the same problem\n",
        "    # text = \" \".join(fasttext.tokenize(text))\n",
        "    # text = text.encode('utf-8').strip().decode(\"utf-8\", \"strict\") #we had whitespace in EAP\n",
        "    return text.lower()\n",
        "\n",
        " # from the documentation https://github.com/facebookresearch/fastText/tree/master/python#text-classification-model, this is expected behavior: \n",
        " # \"The newline character is used to delimit lines of text. In particular, the EOS token is appended to a line of text if a newline character is encountered.\""
      ],
      "execution_count": 0,
      "outputs": []
    },
    {
      "cell_type": "code",
      "metadata": {
        "id": "AtKllswzLE15",
        "colab_type": "code",
        "colab": {}
      },
      "source": [
        "all_corpus = pd.DataFrame([words_as_punctuation_preprocess(i) for i in train['text']], columns= ['text'])"
      ],
      "execution_count": 0,
      "outputs": []
    },
    {
      "cell_type": "code",
      "metadata": {
        "id": "Y3tHr6SqLocG",
        "colab_type": "code",
        "outputId": "26bf7f2e-04ec-432f-f4ae-940c7c5330d5",
        "colab": {
          "base_uri": "https://localhost:8080/",
          "height": 211
        }
      },
      "source": [
        "[i for i in all_corpus[\"text\"] if \" mr \" in i][:10]"
      ],
      "execution_count": 0,
      "outputs": [
        {
          "output_type": "execute_result",
          "data": {
            "text/plain": [
              "['matters had now assumed a really serious aspect , and i resolved to call at once upon my particular friend , mr theodore sinivate ; for i knew that here at least i should get something like definite information .',\n",
              " 'i suppose some astonishment was exhibited in my countenance , for mr kirwin hastened to say , \" immediately upon your being taken ill , all the papers that were on your person were brought me , and i examined them that i might discover some trace by which i could send to your relations an account of your misfortune and illness .',\n",
              " 'sir , through our common friend , mr p , i have received your note of this evening .',\n",
              " 'long and earnestly did i continue the investigation : but the contemptible reward of my industry and perseverance proved to be only a set of false teeth , two pair of hips , an eye , and a bundle of billets doux from mr windenough to my wife .',\n",
              " 'when , to agree with him , i said i was distrustful of the authenticity of ossian \\' s ms , mr johnson said : \" that , sir , does not do your understanding particular credit ; for what all the town is sensible of , is no great discovery for a grub street critick to make .',\n",
              " 'to carry out his views , he solicited and obtained the patronage of sir everard bringhurst and mr osborne , two gentlemen well known for scientific acquirement , and especially for the interest they have exhibited in the progress of ærostation .',\n",
              " 'i have little to record , except the fact to me quite a surprising one that , at an elevation equal to that of cotopaxi , i experienced neither very intense cold , nor headache , nor difficulty of breathing ; neither , i find , did mr mason , nor mr holland , nor sir everard .',\n",
              " 'it was nearly dead calm when the voyagers first came in view of the coast , which was immediately recognized by both the seamen , and by mr osborne .',\n",
              " \"the writer professes to have translated his work from the english of one mr d ' avisson davidson ?\",\n",
              " 'the patient , mr edward stapleton , had died , apparently of typhus fever , accompanied with some anomalous symptoms which had excited the curiosity of his medical attendants .']"
            ]
          },
          "metadata": {
            "tags": []
          },
          "execution_count": 175
        }
      ]
    },
    {
      "cell_type": "code",
      "metadata": {
        "id": "nQZq7sAehAHr",
        "colab_type": "code",
        "colab": {}
      },
      "source": [
        "eap_corpus = pd.DataFrame([words_as_punctuation_preprocess(i) for i in eap['text']], columns= ['text'])\n",
        "hpl_corpus = pd.DataFrame([words_as_punctuation_preprocess(i) for i in hpl['text']], columns= ['text'])\n",
        "mws_corpus = pd.DataFrame([words_as_punctuation_preprocess(i) for i in mws['text']], columns= ['text'])"
      ],
      "execution_count": 0,
      "outputs": []
    },
    {
      "cell_type": "code",
      "metadata": {
        "id": "zzfhdgswqmkj",
        "colab_type": "code",
        "outputId": "dc72f144-f436-427a-a0e7-3f7937f96576",
        "colab": {
          "base_uri": "https://localhost:8080/",
          "height": 34
        }
      },
      "source": [
        "words_as_punctuation_preprocess(\"this is an example. But…I shouldn't wait!\")"
      ],
      "execution_count": 0,
      "outputs": [
        {
          "output_type": "execute_result",
          "data": {
            "text/plain": [
              "\"this is an example . but … i shouldn ' t wait !\""
            ]
          },
          "metadata": {
            "tags": []
          },
          "execution_count": 178
        }
      ]
    },
    {
      "cell_type": "code",
      "metadata": {
        "id": "DCzavkCroR3m",
        "colab_type": "code",
        "colab": {}
      },
      "source": [
        "# embedding_size = 60\n",
        "# window_size = 40\n",
        "# min_word = 5\n",
        "# down_sampling = 1e-2\n",
        "\n",
        "from gensim.models.fasttext import FastText"
      ],
      "execution_count": 0,
      "outputs": []
    },
    {
      "cell_type": "code",
      "metadata": {
        "id": "PREYdMdUxWB-",
        "colab_type": "code",
        "colab": {}
      },
      "source": [
        "from io import StringIO\n",
        "import csv\n",
        "from sklearn.utils import shuffle\n",
        "\n",
        "# EAP\n",
        "eap_corpus.to_csv(r'/content/eap_corpus.txt', index=False, sep=' ', header=False, quoting=csv.QUOTE_NONE, quotechar=\"\", escapechar=\" \")\n",
        "eap_ft_model = fasttext.train_unsupervised('eap_corpus.txt')\n",
        "eap_ft_model.save_model('eap_ft_model.bin')\n",
        "\n",
        "# HPL\n",
        "hpl_corpus.to_csv(r'/content/hpl_corpus.txt', index=False, sep=' ', header=False, quoting=csv.QUOTE_NONE, quotechar=\"\", escapechar=\" \")\n",
        "hpl_ft_model = fasttext.train_unsupervised('hpl_corpus.txt')\n",
        "hpl_ft_model.save_model('hpl_ft_model.bin')\n",
        "# MWS\n",
        "mws_corpus.to_csv(r'/content/mws_corpus.txt', index=False, sep=' ', header=False, quoting=csv.QUOTE_NONE, quotechar=\"\", escapechar=\" \")\n",
        "mws_ft_model = fasttext.train_unsupervised('mws_corpus.txt')\n",
        "mws_ft_model.save_model('mws_ft_model.bin')"
      ],
      "execution_count": 0,
      "outputs": []
    },
    {
      "cell_type": "markdown",
      "metadata": {
        "id": "gnRfB2QxfFk1",
        "colab_type": "text"
      },
      "source": [
        "# MWS"
      ]
    },
    {
      "cell_type": "code",
      "metadata": {
        "id": "YMKWA50euBZW",
        "colab_type": "code",
        "outputId": "097a7595-6f0b-45c3-b786-fb8193150ba2",
        "colab": {
          "base_uri": "https://localhost:8080/",
          "height": 1000
        }
      },
      "source": [
        "from sklearn.decomposition import PCA\n",
        "import matplotlib.pyplot as plt\n",
        "\n",
        "ft_mws_model = FastText.load_fasttext_format('mws_ft_model.bin')\n",
        "\n",
        "# first we check the punctuation assertion: which tokens are the most similar to exisiting punctuation?\n",
        "\n",
        "for i in punctuation:\n",
        "  print(i + ' exists: ' +str(i in ft_mws_model.wv.vocab))\n",
        "# and remove the ones that don't since we need at least one n-gram with it for comparison\n",
        "punctuation_in_mws = [i for i in punctuation if i in ft_mws_model.wv.vocab]\n",
        "\n",
        "semantically_similar_words = {words: [item[0] for item in ft_mws_model.wv.most_similar([words], topn=5)] for words in punctuation_in_mws}\n",
        "for k,v in semantically_similar_words.items():\n",
        "    print(k+\":\"+str(v))\n",
        "all_similar_words = sum([[k] + v for k, v in semantically_similar_words.items()], [])\n",
        "\n",
        "print(all_similar_words)\n",
        "print(type(all_similar_words))\n",
        "print(len(all_similar_words))\n",
        "\n",
        "word_vectors = ft_mws_model.wv[all_similar_words]\n",
        "\n",
        "pca = PCA(n_components=2)\n",
        "\n",
        "p_comps = pca.fit_transform(word_vectors)\n",
        "word_names = all_similar_words\n",
        "\n",
        "plt.figure(figsize=(18, 10))\n",
        "plt.scatter(p_comps[:, 0], p_comps[:, 1], c=[i-i%6 for i in range(len(all_similar_words))], cmap='Set1')\n",
        "\n",
        "for word_names, x, y in zip(word_names, p_comps[:, 0], p_comps[:, 1]):\n",
        "    plt.annotate(word_names, xy=(x+0.06, y+0.03), xytext=(0, 0), textcoords='offset points')"
      ],
      "execution_count": 0,
      "outputs": [
        {
          "output_type": "stream",
          "text": [
            "/usr/local/lib/python3.6/dist-packages/ipykernel_launcher.py:4: DeprecationWarning: Call to deprecated `load_fasttext_format` (use load_facebook_vectors (to use pretrained embeddings) or load_facebook_model (to continue training with the loaded full model, more RAM) instead).\n",
            "  after removing the cwd from sys.path.\n"
          ],
          "name": "stderr"
        },
        {
          "output_type": "stream",
          "text": [
            "( exists: False\n",
            "\" exists: True\n",
            ": exists: True\n",
            "- exists: False\n",
            "? exists: True\n",
            "' exists: True\n",
            "! exists: False\n",
            ", exists: True\n",
            ") exists: False\n",
            ". exists: True\n",
            "; exists: True\n",
            "— exists: False\n",
            "… exists: False\n"
          ],
          "name": "stdout"
        },
        {
          "output_type": "stream",
          "text": [
            "/usr/local/lib/python3.6/dist-packages/gensim/models/keyedvectors.py:2377: RuntimeWarning: invalid value encountered in true_divide\n",
            "  return (m / dist).astype(REAL)\n"
          ],
          "name": "stderr"
        },
        {
          "output_type": "stream",
          "text": [
            "\":['you', 'do', 'dear', 'said', 'will']\n",
            "::['swear', 'gone', 'kill', 'alas', 'done']\n",
            "?:['can', 'go', 'am', 'cannot', 'why']\n",
            "':['s', 'father', 'mother', 'adrian', 'brother']\n",
            ",:['where', ';', 'sweet', 'when', 'ryland']\n",
            ".:['nature', 'future', 'opinion', 'instructions', 'dominion']\n",
            ";:['sweet', 'heart', 'till', 'again', 'gods']\n",
            "['\"', 'you', 'do', 'dear', 'said', 'will', ':', 'swear', 'gone', 'kill', 'alas', 'done', '?', 'can', 'go', 'am', 'cannot', 'why', \"'\", 's', 'father', 'mother', 'adrian', 'brother', ',', 'where', ';', 'sweet', 'when', 'ryland', '.', 'nature', 'future', 'opinion', 'instructions', 'dominion', ';', 'sweet', 'heart', 'till', 'again', 'gods']\n",
            "<class 'list'>\n",
            "42\n"
          ],
          "name": "stdout"
        },
        {
          "output_type": "display_data",
          "data": {
            "image/png": "[encoded data removed]",
            "text/plain": [
              "<Figure size 1296x720 with 1 Axes>"
            ]
          },
          "metadata": {
            "tags": []
          }
        }
      ]
    },
    {
      "cell_type": "markdown",
      "metadata": {
        "id": "yHOdoskMgQy7",
        "colab_type": "text"
      },
      "source": [
        "We see that mws uses the apostrophe in conjuction with the words \"mother\", \"father\", \"other\", \"rather\"; so she will tend to use these words to denote someone's mother and someone's father, and probably uses the expression Pronoun+'d + rather. Her interrogative sentences begin with \"What\", \"Why\". She uses the expression \", Heaven forbid\" a lot, and also \", then\".\n",
        "\n",
        "Three clusters:\n",
        "1. questions marks with quotes, suggesting the use of questions in direct speech\n",
        "2. periods \n",
        "3. and the rest (, and : and ; are together, suggesting similar syntactic roles; I would suggest that pause time is the vertical axis)"
      ]
    },
    {
      "cell_type": "markdown",
      "metadata": {
        "id": "0HvxRPpCx8OE",
        "colab_type": "text"
      },
      "source": [
        "# EAP"
      ]
    },
    {
      "cell_type": "code",
      "metadata": {
        "id": "D02vkyQtiDru",
        "colab_type": "code",
        "outputId": "cee40f31-f679-4cac-e707-f92c0db3ed9c",
        "colab": {
          "base_uri": "https://localhost:8080/",
          "height": 1000
        }
      },
      "source": [
        "eap_ft_model = FastText.load_fasttext_format('eap_ft_model.bin')\n",
        "\n",
        "# first we check the punctuation assertion: which tokens are the most similar to exisiting punctuation?\n",
        "\n",
        "for i in punctuation:\n",
        "  print(i + ' exists: ' +str(i in eap_ft_model.wv.vocab))\n",
        "# and remove the ones that don't since we need at least one n-gram with it for comparison\n",
        "punctuation_in_eap = [i for i in punctuation if i in eap_ft_model.wv.vocab]\n",
        "\n",
        "semantically_similar_words = {words: [item[0] for item in eap_ft_model.wv.most_similar([words], topn=5)] for words in punctuation_in_eap}\n",
        "for k,v in semantically_similar_words.items():\n",
        "    print(k+\":\"+str(v))\n",
        "all_similar_words = sum([[k] + v for k, v in semantically_similar_words.items()], [])\n",
        "\n",
        "print(all_similar_words)\n",
        "print(type(all_similar_words))\n",
        "print(len(all_similar_words))\n",
        "\n",
        "word_vectors = eap_ft_model.wv[all_similar_words]\n",
        "\n",
        "pca = PCA(n_components=2)\n",
        "\n",
        "p_comps = pca.fit_transform(word_vectors)\n",
        "word_names = all_similar_words\n",
        "\n",
        "plt.figure(figsize=(18, 10))\n",
        "plt.scatter(p_comps[:, 0], p_comps[:, 1],c=[i-i%6 for i in range(len(all_similar_words))], cmap='Set1')\n",
        "\n",
        "for word_names, x, y in zip(word_names, p_comps[:, 0], p_comps[:, 1]):\n",
        "    plt.annotate(word_names, xy=(x+0.06, y+0.03), xytext=(0, 0), textcoords='offset points')"
      ],
      "execution_count": 0,
      "outputs": [
        {
          "output_type": "stream",
          "text": [
            "/usr/local/lib/python3.6/dist-packages/ipykernel_launcher.py:1: DeprecationWarning: Call to deprecated `load_fasttext_format` (use load_facebook_vectors (to use pretrained embeddings) or load_facebook_model (to continue training with the loaded full model, more RAM) instead).\n",
            "  \"\"\"Entry point for launching an IPython kernel.\n"
          ],
          "name": "stderr"
        },
        {
          "output_type": "stream",
          "text": [
            "( exists: False\n",
            "\" exists: True\n",
            ": exists: True\n",
            "- exists: False\n",
            "? exists: True\n",
            "' exists: True\n",
            "! exists: False\n",
            ", exists: True\n",
            ") exists: False\n",
            ". exists: True\n",
            "; exists: True\n",
            "— exists: False\n",
            "… exists: False\n"
          ],
          "name": "stdout"
        },
        {
          "output_type": "stream",
          "text": [
            "/usr/local/lib/python3.6/dist-packages/gensim/models/keyedvectors.py:2377: RuntimeWarning: invalid value encountered in true_divide\n",
            "  return (m / dist).astype(REAL)\n"
          ],
          "name": "stderr"
        },
        {
          "output_type": "stream",
          "text": [
            "\":['said', 'dupin', 'voissart', 'croissart', 'your']\n",
            "::['abc', 'n', 'qui', 'ah', 'kissam']\n",
            "?:['voissart', 'croissart', 'john', 'moissart', 'bug']\n",
            "':['s', 'l', 'bob', 'yxu', 'de']\n",
            ",:['willing', 'travelling', 'writing', 'calling', 'scratching']\n",
            ".:['journal', 'pest', 'demonstrate', 'deliberate', 'advantage']\n",
            ";:['sleep', 'freedom', 'stroke', 'chantilly', 'fearfully']\n",
            "['\"', 'said', 'dupin', 'voissart', 'croissart', 'your', ':', 'abc', 'n', 'qui', 'ah', 'kissam', '?', 'voissart', 'croissart', 'john', 'moissart', 'bug', \"'\", 's', 'l', 'bob', 'yxu', 'de', ',', 'willing', 'travelling', 'writing', 'calling', 'scratching', '.', 'journal', 'pest', 'demonstrate', 'deliberate', 'advantage', ';', 'sleep', 'freedom', 'stroke', 'chantilly', 'fearfully']\n",
            "<class 'list'>\n",
            "42\n"
          ],
          "name": "stdout"
        },
        {
          "output_type": "display_data",
          "data": {
            "image/png": "[encoded data removed]",
            "text/plain": [
              "<Figure size 1296x720 with 1 Axes>"
            ]
          },
          "metadata": {
            "tags": []
          }
        }
      ]
    },
    {
      "cell_type": "markdown",
      "metadata": {
        "id": "DWC_S2YVydBn",
        "colab_type": "text"
      },
      "source": [
        "EAP uses paragraphs after a period. He starts questions using words other than \"Why\". \" is catching person names rather than concepts, so these are probably the most quoted people. Periods are used for abreviations most often (this can be used).\n",
        "\n",
        "Clustering\n",
        "\n",
        "1. EAP uses commas in almost the same way as semicolons.\n",
        "2. Questions are associated with quotes, suggesting direct speech\n",
        "3. Periods are not being clustered correctly because they are being used as abreviations! TODO\n",
        "4. Colons are in their own cluster now."
      ]
    },
    {
      "cell_type": "markdown",
      "metadata": {
        "id": "b05z3eZjyD33",
        "colab_type": "text"
      },
      "source": [
        "# HPL"
      ]
    },
    {
      "cell_type": "code",
      "metadata": {
        "id": "_SC982NCw51W",
        "colab_type": "code",
        "outputId": "09772978-eee3-44c1-d46f-6b402d32cd6c",
        "colab": {
          "base_uri": "https://localhost:8080/",
          "height": 1000
        }
      },
      "source": [
        "hpl_ft_model = FastText.load_fasttext_format('hpl_ft_model.bin')\n",
        "\n",
        "# first we check the punctuation assertion: which tokens are the most similar to exisiting punctuation?\n",
        "\n",
        "for i in punctuation:\n",
        "  print(i + ' exists: ' +str(i in hpl_ft_model.wv.vocab))\n",
        "# and remove the ones that don't since we need at least one n-gram with it for comparison\n",
        "punctuation_in_eap = [i for i in punctuation if i in hpl_ft_model.wv.vocab]\n",
        "\n",
        "semantically_similar_words = {words: [item[0] for item in hpl_ft_model.wv.most_similar([words], topn=5)] for words in punctuation_in_eap}\n",
        "for k,v in semantically_similar_words.items():\n",
        "    print(k+\":\"+str(v))\n",
        "all_similar_words = sum([[k] + v for k, v in semantically_similar_words.items()], [])\n",
        "\n",
        "print(all_similar_words)\n",
        "print(type(all_similar_words))\n",
        "print(len(all_similar_words))\n",
        "\n",
        "word_vectors = hpl_ft_model.wv[all_similar_words]\n",
        "\n",
        "pca = PCA(n_components=2)\n",
        "\n",
        "p_comps = pca.fit_transform(word_vectors)\n",
        "word_names = all_similar_words\n",
        "\n",
        "plt.figure(figsize=(18, 10))\n",
        "plt.scatter(p_comps[:, 0], p_comps[:, 1], c=[i-i%6 for i in range(len(all_similar_words))], cmap='Set1')\n",
        "\n",
        "for word_names, x, y in zip(word_names, p_comps[:, 0], p_comps[:, 1]):\n",
        "    plt.annotate(word_names, xy=(x+0.06, y+0.03), xytext=(0, 0), textcoords='offset points')"
      ],
      "execution_count": 0,
      "outputs": [
        {
          "output_type": "stream",
          "text": [
            "/usr/local/lib/python3.6/dist-packages/ipykernel_launcher.py:1: DeprecationWarning: Call to deprecated `load_fasttext_format` (use load_facebook_vectors (to use pretrained embeddings) or load_facebook_model (to continue training with the loaded full model, more RAM) instead).\n",
            "  \"\"\"Entry point for launching an IPython kernel.\n"
          ],
          "name": "stderr"
        },
        {
          "output_type": "stream",
          "text": [
            "( exists: False\n",
            "\" exists: True\n",
            ": exists: True\n",
            "- exists: False\n",
            "? exists: True\n",
            "' exists: True\n",
            "! exists: False\n",
            ", exists: True\n",
            ") exists: False\n",
            ". exists: True\n",
            "; exists: True\n",
            "— exists: False\n",
            "… exists: True\n"
          ],
          "name": "stdout"
        },
        {
          "output_type": "stream",
          "text": [
            "/usr/local/lib/python3.6/dist-packages/gensim/models/keyedvectors.py:2377: RuntimeWarning: invalid value encountered in true_divide\n",
            "  return (m / dist).astype(REAL)\n"
          ],
          "name": "stderr"
        },
        {
          "output_type": "stream",
          "text": [
            "\":['d', 'go', 'didn', 'thin', 'you']\n",
            "::['calc', 'said', 'keep', 'm', 'let']\n",
            "?:['suthin', 've', 'they', 'somethin', 'believe']\n",
            "':['aout', 'o', 'n', 'abaout', 'ye']\n",
            ",:['sat', 'afraid', 'when', 'wish', 'dropped']\n",
            ".:['england', 'dead', 'brain', 'bite', 'item']\n",
            ";:['madly', 'responsible', 'vaguely', 'merely', 'dimly']\n",
            "…:['gawd', 'youth', 'satan', 'herd', 'kinds']\n",
            "['\"', 'd', 'go', 'didn', 'thin', 'you', ':', 'calc', 'said', 'keep', 'm', 'let', '?', 'suthin', 've', 'they', 'somethin', 'believe', \"'\", 'aout', 'o', 'n', 'abaout', 'ye', ',', 'sat', 'afraid', 'when', 'wish', 'dropped', '.', 'england', 'dead', 'brain', 'bite', 'item', ';', 'madly', 'responsible', 'vaguely', 'merely', 'dimly', '…', 'gawd', 'youth', 'satan', 'herd', 'kinds']\n",
            "<class 'list'>\n",
            "48\n"
          ],
          "name": "stdout"
        },
        {
          "output_type": "display_data",
          "data": {
            "image/png": "[encoded data removed]",
            "text/plain": [
              "<Figure size 1296x720 with 1 Axes>"
            ]
          },
          "metadata": {
            "tags": []
          }
        }
      ]
    },
    {
      "cell_type": "markdown",
      "metadata": {
        "id": "szjkFGBEL0ZF",
        "colab_type": "text"
      },
      "source": [
        "HPL clusters:\n",
        "1. Commas, semicolons and periods are in the same cluster\n",
        "2. HPL uses apostrophes as a punctuation -- they have their own cluster now\n",
        "3. HPL probably tends to introduce speech with a colon; questions are associated with speech (not just by looking at the clusters but also looking at the words associated with \"?\")\n"
      ]
    },
    {
      "cell_type": "markdown",
      "metadata": {
        "id": "A5lW_fItL0Zx",
        "colab_type": "text"
      },
      "source": [
        "# Death\n",
        "Nothing very interesting here at first sight"
      ]
    },
    {
      "cell_type": "markdown",
      "metadata": {
        "id": "7z-7bXdiL0Zy",
        "colab_type": "text"
      },
      "source": [
        "Similarity operations work the same way as word2vec. **Out-of-vocabulary words can also be used, provided they have at least one character ngram present in the training data.**"
      ]
    },
    {
      "cell_type": "code",
      "metadata": {
        "id": "O-AC17gJOTbD",
        "colab_type": "code",
        "outputId": "19b76b7f-d3f8-4f2d-ca67-bcac257a5ecf",
        "colab": {
          "base_uri": "https://localhost:8080/",
          "height": 208
        }
      },
      "source": [
        "#MWS\n",
        "print(\"fear\" in ft_mws_model.wv.vocab)\n",
        "ft_mws_model.wv.most_similar(\"death\")"
      ],
      "execution_count": 0,
      "outputs": [
        {
          "output_type": "stream",
          "text": [
            "True\n"
          ],
          "name": "stdout"
        },
        {
          "output_type": "execute_result",
          "data": {
            "text/plain": [
              "[('false', 0.9993152618408203),\n",
              " ('guest', 0.9990917444229126),\n",
              " ('sympathize', 0.9990544319152832),\n",
              " ('deceit', 0.9990068674087524),\n",
              " ('deaths', 0.9989871978759766),\n",
              " ('deer', 0.9989736080169678),\n",
              " ('excuse', 0.99892258644104),\n",
              " ('expire', 0.9988962411880493),\n",
              " ('earnest', 0.9988080859184265),\n",
              " ('ernest', 0.9988028407096863)]"
            ]
          },
          "metadata": {
            "tags": []
          },
          "execution_count": 212
        }
      ]
    },
    {
      "cell_type": "code",
      "metadata": {
        "id": "psVM9GOOL0Z0",
        "colab_type": "code",
        "outputId": "6f91787f-936f-4f6f-a239-54b6bc7075d5",
        "colab": {
          "base_uri": "https://localhost:8080/",
          "height": 208
        }
      },
      "source": [
        "#EAP\n",
        "print(\"death\" in eap_ft_model.wv.vocab)\n",
        "eap_ft_model.wv.most_similar(\"death\")"
      ],
      "execution_count": 0,
      "outputs": [
        {
          "output_type": "stream",
          "text": [
            "True\n"
          ],
          "name": "stdout"
        },
        {
          "output_type": "execute_result",
          "data": {
            "text/plain": [
              "[('crow', 0.9959381222724915),\n",
              " ('story', 0.9958697557449341),\n",
              " ('off', 0.9953331351280212),\n",
              " ('brandy', 0.994671106338501),\n",
              " ('blackwood', 0.9946651458740234),\n",
              " ('slang', 0.9943873286247253),\n",
              " ('bottle', 0.9943444132804871),\n",
              " ('drunk', 0.9943166375160217),\n",
              " ('legs', 0.9941433072090149),\n",
              " ('born', 0.993762731552124)]"
            ]
          },
          "metadata": {
            "tags": []
          },
          "execution_count": 185
        }
      ]
    },
    {
      "cell_type": "code",
      "metadata": {
        "id": "g7Kxgd2cOxKK",
        "colab_type": "code",
        "outputId": "aee0352e-086a-447d-cd32-93ee35dc7e23",
        "colab": {
          "base_uri": "https://localhost:8080/",
          "height": 208
        }
      },
      "source": [
        "#HPL\n",
        "print(\"death\" in hpl_ft_model.wv.vocab)\n",
        "hpl_ft_model.wv.most_similar(\"death\")"
      ],
      "execution_count": 0,
      "outputs": [
        {
          "output_type": "stream",
          "text": [
            "True\n"
          ],
          "name": "stdout"
        },
        {
          "output_type": "execute_result",
          "data": {
            "text/plain": [
              "[('deaths', 0.9991796016693115),\n",
              " ('unknown', 0.9990354776382446),\n",
              " ('martenses', 0.99898362159729),\n",
              " ('qualities', 0.9988864660263062),\n",
              " ('authorities', 0.9988760948181152),\n",
              " ('part', 0.9988508224487305),\n",
              " ('parts', 0.9988467693328857),\n",
              " ('breath', 0.9987707138061523),\n",
              " ('corpses', 0.9987377524375916),\n",
              " ('forces', 0.9987298250198364)]"
            ]
          },
          "metadata": {
            "tags": []
          },
          "execution_count": 186
        }
      ]
    },
    {
      "cell_type": "markdown",
      "metadata": {
        "id": "Vq7xuzxJL0Z5",
        "colab_type": "text"
      },
      "source": [
        "Syntactically similar words generally have high similarity in fastText models, since a large number of the component char-ngrams will be the same. As a result, fastText generally does better at syntactic tasks than Word2Vec. A detailed comparison is provided [here](Word2Vec_FastText_Comparison.ipynb)."
      ]
    },
    {
      "cell_type": "markdown",
      "metadata": {
        "id": "nMDa3WwTL0Z7",
        "colab_type": "text"
      },
      "source": [
        "### Other similarity operations"
      ]
    },
    {
      "cell_type": "code",
      "metadata": {
        "id": "_XL1ZY2XL0aD",
        "colab_type": "code",
        "outputId": "c48bb80d-7604-4747-c272-095ef77b90c2",
        "colab": {
          "base_uri": "https://localhost:8080/",
          "height": 34
        }
      },
      "source": [
        "ft_mws_model.wv.n_similarity(['very', 'old'], ['quite', 'ancient'])"
      ],
      "execution_count": 0,
      "outputs": [
        {
          "output_type": "execute_result",
          "data": {
            "text/plain": [
              "0.99783206"
            ]
          },
          "metadata": {
            "tags": []
          },
          "execution_count": 188
        }
      ]
    },
    {
      "cell_type": "code",
      "metadata": {
        "id": "KD_E3ka4PtWc",
        "colab_type": "code",
        "outputId": "1aaba7c4-6354-4d6a-f2fc-d858d8d822f2",
        "colab": {
          "base_uri": "https://localhost:8080/",
          "height": 34
        }
      },
      "source": [
        "eap_ft_model.wv.n_similarity(['very', 'old'], ['quite', 'ancient'])"
      ],
      "execution_count": 0,
      "outputs": [
        {
          "output_type": "execute_result",
          "data": {
            "text/plain": [
              "0.9711867"
            ]
          },
          "metadata": {
            "tags": []
          },
          "execution_count": 189
        }
      ]
    },
    {
      "cell_type": "code",
      "metadata": {
        "id": "iTD0mVCCPuIb",
        "colab_type": "code",
        "outputId": "71551872-95ea-4c93-dcc7-2fc4476fb348",
        "colab": {
          "base_uri": "https://localhost:8080/",
          "height": 34
        }
      },
      "source": [
        "hpl_ft_model.wv.n_similarity(['very', 'old'], ['quite', 'ancient'])"
      ],
      "execution_count": 0,
      "outputs": [
        {
          "output_type": "execute_result",
          "data": {
            "text/plain": [
              "0.99599016"
            ]
          },
          "metadata": {
            "tags": []
          },
          "execution_count": 190
        }
      ]
    },
    {
      "cell_type": "code",
      "metadata": {
        "id": "fFS1ryiCL0aJ",
        "colab_type": "code",
        "outputId": "f6efff74-69bb-43a4-8027-63ac781d0acf",
        "colab": {
          "base_uri": "https://localhost:8080/",
          "height": 89
        }
      },
      "source": [
        "ft_mws_model.wv.doesnt_match(\"death sadness sorrow despair\".split())"
      ],
      "execution_count": 0,
      "outputs": [
        {
          "output_type": "stream",
          "text": [
            "/usr/local/lib/python3.6/dist-packages/gensim/models/keyedvectors.py:877: FutureWarning: arrays to stack must be passed as a \"sequence\" type such as list or tuple. Support for non-sequence iterables such as generators is deprecated as of NumPy 1.16 and will raise an error in the future.\n",
            "  vectors = vstack(self.word_vec(word, use_norm=True) for word in used_words).astype(REAL)\n"
          ],
          "name": "stderr"
        },
        {
          "output_type": "execute_result",
          "data": {
            "text/plain": [
              "'death'"
            ]
          },
          "metadata": {
            "tags": []
          },
          "execution_count": 191
        }
      ]
    },
    {
      "cell_type": "code",
      "metadata": {
        "id": "usMQwI9WQF-F",
        "colab_type": "code",
        "outputId": "819d922e-100b-4d86-d8ed-521d09233adb",
        "colab": {
          "base_uri": "https://localhost:8080/",
          "height": 89
        }
      },
      "source": [
        "eap_ft_model.wv.doesnt_match(\"death sadness sorrow despair\".split())"
      ],
      "execution_count": 0,
      "outputs": [
        {
          "output_type": "stream",
          "text": [
            "/usr/local/lib/python3.6/dist-packages/gensim/models/keyedvectors.py:877: FutureWarning: arrays to stack must be passed as a \"sequence\" type such as list or tuple. Support for non-sequence iterables such as generators is deprecated as of NumPy 1.16 and will raise an error in the future.\n",
            "  vectors = vstack(self.word_vec(word, use_norm=True) for word in used_words).astype(REAL)\n"
          ],
          "name": "stderr"
        },
        {
          "output_type": "execute_result",
          "data": {
            "text/plain": [
              "'death'"
            ]
          },
          "metadata": {
            "tags": []
          },
          "execution_count": 192
        }
      ]
    },
    {
      "cell_type": "code",
      "metadata": {
        "id": "vCozNv79QMm5",
        "colab_type": "code",
        "outputId": "e14dbde6-7170-44bf-93ed-d8b08f4cd8f7",
        "colab": {
          "base_uri": "https://localhost:8080/",
          "height": 89
        }
      },
      "source": [
        "hpl_ft_model.wv.doesnt_match(\"death sadness sorrow despair\".split())"
      ],
      "execution_count": 0,
      "outputs": [
        {
          "output_type": "stream",
          "text": [
            "/usr/local/lib/python3.6/dist-packages/gensim/models/keyedvectors.py:877: FutureWarning: arrays to stack must be passed as a \"sequence\" type such as list or tuple. Support for non-sequence iterables such as generators is deprecated as of NumPy 1.16 and will raise an error in the future.\n",
            "  vectors = vstack(self.word_vec(word, use_norm=True) for word in used_words).astype(REAL)\n"
          ],
          "name": "stderr"
        },
        {
          "output_type": "execute_result",
          "data": {
            "text/plain": [
              "'death'"
            ]
          },
          "metadata": {
            "tags": []
          },
          "execution_count": 193
        }
      ]
    },
    {
      "cell_type": "code",
      "metadata": {
        "id": "5hbFufQ-L0aR",
        "colab_type": "code",
        "outputId": "5ad04ed9-2fcd-45eb-be9b-7c8e99248447",
        "colab": {
          "base_uri": "https://localhost:8080/",
          "height": 191
        }
      },
      "source": [
        "ft_mws_model.wv.most_similar(positive=['dead'], negative=['alive'])"
      ],
      "execution_count": 0,
      "outputs": [
        {
          "output_type": "execute_result",
          "data": {
            "text/plain": [
              "[('round', 0.7440902590751648),\n",
              " ('ground', 0.7176748514175415),\n",
              " ('trees', 0.7013810873031616),\n",
              " ('ring', 0.6968589425086975),\n",
              " ('around', 0.6805155277252197),\n",
              " ('waving', 0.6765666007995605),\n",
              " ('mound', 0.6760733127593994),\n",
              " ('morning', 0.6670819520950317),\n",
              " ('opening', 0.6657222509384155),\n",
              " ('sound', 0.6626291871070862)]"
            ]
          },
          "metadata": {
            "tags": []
          },
          "execution_count": 199
        }
      ]
    },
    {
      "cell_type": "code",
      "metadata": {
        "id": "suGBO1Y8RQ_6",
        "colab_type": "code",
        "outputId": "a1aaeb43-cdf7-44ba-8b65-2fcc679c5b75",
        "colab": {
          "base_uri": "https://localhost:8080/",
          "height": 191
        }
      },
      "source": [
        "eap_ft_model.wv.most_similar(positive=['dead'], negative=['alive'])"
      ],
      "execution_count": 0,
      "outputs": [
        {
          "output_type": "execute_result",
          "data": {
            "text/plain": [
              "[('head', 0.5249279141426086),\n",
              " ('wing', 0.4917924106121063),\n",
              " ('door', 0.45284396409988403),\n",
              " ('back', 0.4392590820789337),\n",
              " ('low', 0.4177038371562958),\n",
              " ('ring', 0.41403132677078247),\n",
              " ('king', 0.41333380341529846),\n",
              " ('down', 0.4126995801925659),\n",
              " ('up', 0.41182756423950195),\n",
              " ('looking', 0.4095637798309326)]"
            ]
          },
          "metadata": {
            "tags": []
          },
          "execution_count": 198
        }
      ]
    },
    {
      "cell_type": "code",
      "metadata": {
        "id": "SiEOunMxRRwI",
        "colab_type": "code",
        "outputId": "9c9b9fec-c7aa-407d-dd0d-8398cf0a7d22",
        "colab": {
          "base_uri": "https://localhost:8080/",
          "height": 191
        }
      },
      "source": [
        "hpl_ft_model.wv.most_similar(positive=['dead'], negative=['alive'])"
      ],
      "execution_count": 0,
      "outputs": [
        {
          "output_type": "execute_result",
          "data": {
            "text/plain": [
              "[('ring', 0.634052038192749),\n",
              " ('st', 0.5999596118927002),\n",
              " ('sing', 0.5916623473167419),\n",
              " ('rotting', 0.5900056958198547),\n",
              " ('mounting', 0.578026533126831),\n",
              " ('lightning', 0.5698394775390625),\n",
              " ('slanting', 0.5627540349960327),\n",
              " ('flying', 0.5609480738639832),\n",
              " ('street', 0.5595967769622803),\n",
              " ('lying', 0.5569024085998535)]"
            ]
          },
          "metadata": {
            "tags": []
          },
          "execution_count": 200
        }
      ]
    },
    {
      "cell_type": "code",
      "metadata": {
        "id": "GVtGFDREL0ab",
        "colab_type": "code",
        "colab": {}
      },
      "source": [
        "# Word Movers distance\n",
        "sentence_1 = 'Her food must be gettin\\' cold, right?'.lower().split()\n",
        "sentence_2 = 'The food of Louise must be getting cold?'.lower().split()"
      ],
      "execution_count": 0,
      "outputs": []
    },
    {
      "cell_type": "code",
      "metadata": {
        "id": "Wd9YlHkTTUPz",
        "colab_type": "code",
        "outputId": "5764d9c6-6f8f-4d95-ceeb-309bab1866b1",
        "colab": {
          "base_uri": "https://localhost:8080/",
          "height": 34
        }
      },
      "source": [
        "ft_mws_model.wv.wmdistance(sentence_1, sentence_2)"
      ],
      "execution_count": 0,
      "outputs": [
        {
          "output_type": "execute_result",
          "data": {
            "text/plain": [
              "0.36727540676119"
            ]
          },
          "metadata": {
            "tags": []
          },
          "execution_count": 202
        }
      ]
    },
    {
      "cell_type": "code",
      "metadata": {
        "id": "-MTgfSBqL0ah",
        "colab_type": "code",
        "outputId": "2ee866e2-ca85-4bc7-c5eb-ea96cfc4d2e5",
        "colab": {
          "base_uri": "https://localhost:8080/",
          "height": 34
        }
      },
      "source": [
        "eap_ft_model.wv.wmdistance(sentence_1, sentence_2)"
      ],
      "execution_count": 0,
      "outputs": [
        {
          "output_type": "execute_result",
          "data": {
            "text/plain": [
              "0.38716141543477617"
            ]
          },
          "metadata": {
            "tags": []
          },
          "execution_count": 203
        }
      ]
    },
    {
      "cell_type": "code",
      "metadata": {
        "id": "R_ibvBT5TLG6",
        "colab_type": "code",
        "outputId": "28a5209b-c6d6-462e-e4f8-7ca831d15579",
        "colab": {
          "base_uri": "https://localhost:8080/",
          "height": 34
        }
      },
      "source": [
        "hpl_ft_model.wv.wmdistance(sentence_1, sentence_2)"
      ],
      "execution_count": 0,
      "outputs": [
        {
          "output_type": "execute_result",
          "data": {
            "text/plain": [
              "0.45824471665024535"
            ]
          },
          "metadata": {
            "tags": []
          },
          "execution_count": 204
        }
      ]
    }
  ]
}