{
 "cells": [
  {
   "cell_type": "markdown",
   "metadata": {},
   "source": [
    "# <center> Deep Learning Project</center>\n",
    "## <center>Spooky Authors Identification</center>\n",
    "### <center>Functional Architecture (Tfi-df + Historical Embedding + Handcrafted Features)</center>\n",
    "#### <center>Score on Kaggle: 0.35 log loss</center>\n",
    "\n",
    "\n",
    "---\n",
    "\n",
    "\n",
    "*   Eduardo Brendao (MLDM)\n",
    "*   Mohammad Poul Doust (MLDM)\n",
    "\n"
   ]
  },
  {
   "cell_type": "markdown",
   "metadata": {
    "colab_type": "text",
    "id": "U7MUGdx74ApB"
   },
   "source": [
    "# Preprocessing"
   ]
  },
  {
   "cell_type": "code",
   "execution_count": 0,
   "metadata": {
    "colab": {},
    "colab_type": "code",
    "id": "hSech93p4HSa"
   },
   "outputs": [],
   "source": [
    "# Preprocessing\n",
    "def add_puctuation_and_n_grams(df, n_gram_max=3):\n",
    "    def add_ngram(q, n_gram_max):\n",
    "            ngrams = []\n",
    "            for n in range(2, n_gram_max+1):\n",
    "                for w_index in range(len(q)-n+1):\n",
    "                    ngrams.append('--'.join(q[w_index:w_index+n]))\n",
    "            return q + ngrams\n",
    "    \n",
    "    def punctuation_to_words(text):\n",
    "      text = text.replace(\"' \", \" ' \")\n",
    "      signs = set(',.:;\"?!')\n",
    "      prods = set(text) & signs\n",
    "      if not prods:\n",
    "          return text\n",
    "\n",
    "      for sign in prods:\n",
    "          text = text.replace(sign, ' {} '.format(sign) )\n",
    "      return text\n",
    "\n",
    "    docs = []\n",
    "\n",
    "    if isinstance(df, pd.DataFrame):\n",
    "      for doc in df.text:\n",
    "        doc = punctuation_to_words(doc).split()\n",
    "        docs.append(' '.join(add_ngram(doc, n_gram_max)))\n",
    "    else:\n",
    "      for doc in df:\n",
    "        doc = punctuation_to_words(doc).split()\n",
    "        docs.append(' '.join(add_ngram(doc, n_gram_max)))\n",
    "   \n",
    "    return docs"
   ]
  },
  {
   "cell_type": "code",
   "execution_count": 0,
   "metadata": {
    "colab": {
     "base_uri": "https://localhost:8080/",
     "height": 197
    },
    "colab_type": "code",
    "id": "-kWdQpzsOllo",
    "outputId": "4ba839cd-19a6-4ff6-b7fb-f59974562bcd"
   },
   "outputs": [
    {
     "name": "stderr",
     "output_type": "stream",
     "text": [
      "Using TensorFlow backend.\n"
     ]
    },
    {
     "data": {
      "text/html": [
       "<p style=\"color: red;\">\n",
       "The default version of TensorFlow in Colab will soon switch to TensorFlow 2.x.<br>\n",
       "We recommend you <a href=\"https://www.tensorflow.org/guide/migrate\" target=\"_blank\">upgrade</a> now \n",
       "or ensure your notebook will continue to use TensorFlow 1.x via the <code>%tensorflow_version 1.x</code> magic:\n",
       "<a href=\"https://colab.research.google.com/notebooks/tensorflow_version.ipynb\" target=\"_blank\">more info</a>.</p>\n"
      ],
      "text/plain": [
       "<IPython.core.display.HTML object>"
      ]
     },
     "metadata": {
      "tags": []
     },
     "output_type": "display_data"
    },
    {
     "name": "stdout",
     "output_type": "stream",
     "text": [
      "[nltk_data] Downloading package stopwords to /root/nltk_data...\n",
      "[nltk_data]   Package stopwords is already up-to-date!\n",
      "[nltk_data] Downloading package averaged_perceptron_tagger to\n",
      "[nltk_data]     /root/nltk_data...\n",
      "[nltk_data]   Package averaged_perceptron_tagger is already up-to-\n",
      "[nltk_data]       date!\n"
     ]
    },
    {
     "data": {
      "text/plain": [
       "True"
      ]
     },
     "execution_count": 2,
     "metadata": {
      "tags": []
     },
     "output_type": "execute_result"
    }
   ],
   "source": [
    "#imports\n",
    "import pandas as pd\n",
    "import numpy as np\n",
    "import string\n",
    "import nltk\n",
    "from nltk.corpus import stopwords\n",
    "from nltk.tokenize import word_tokenize\n",
    "from nltk.stem.porter import PorterStemmer\n",
    "from sklearn.feature_extraction.text import TfidfVectorizer\n",
    "from sklearn.model_selection import train_test_split\n",
    "from sklearn.decomposition import NMF, LatentDirichletAllocation\n",
    "from math import floor\n",
    "import pickle\n",
    "from sklearn import preprocessing\n",
    "from sklearn.pipeline import make_pipeline\n",
    "\n",
    "#keras\n",
    "from keras.initializers import Constant\n",
    "from keras.models import Sequential, Model\n",
    "from keras.layers import Dense, Embedding, GlobalAveragePooling1D, LSTM, Dropout,BatchNormalization, Input, Conv1D, MaxPooling1D, Flatten\n",
    "import keras\n",
    "from keras.layers import concatenate\n",
    "from keras.preprocessing.text import Tokenizer\n",
    "from keras.preprocessing.sequence import pad_sequences\n",
    "from keras.callbacks import EarlyStopping\n",
    "from keras.utils.vis_utils import plot_model\n",
    "import warnings\n",
    "\n",
    "nltk.download('stopwords')\n",
    "warnings.filterwarnings('ignore')\n",
    "stop_words = set(stopwords.words('english')) \n",
    "nltk.download('averaged_perceptron_tagger')"
   ]
  },
  {
   "cell_type": "markdown",
   "metadata": {
    "colab_type": "text",
    "id": "lb8dmKoq5X5v"
   },
   "source": [
    "# HistWords scikit learn estimator"
   ]
  },
  {
   "cell_type": "code",
   "execution_count": 0,
   "metadata": {
    "colab": {},
    "colab_type": "code",
    "id": "eo4I8i-yjxJH"
   },
   "outputs": [],
   "source": [
    "# An estimator for use with ELI5 plus a bonus function because that's how I got it to work\n",
    "\n",
    "from sklearn.base import BaseEstimator, TransformerMixin\n",
    "\n",
    "class HistoricalClassifier(BaseEstimator, TransformerMixin):\n",
    "  '''Wrapper class for keras text classification models that takes raw text as input.'''\n",
    "  \n",
    "  def __init__(self, input1_dim, input2_dim,  min_count =50, input_length=1000, n_classes=3, epochs=17, batch_size=128, number_of_n_grams =4, embedding_dim =300, weights = None):\n",
    "    self.emb_dim = embedding_dim\n",
    "    self.input1_dim = input1_dim\n",
    "    self.input2_dim = input2_dim\n",
    "    self.input_length = input_length\n",
    "    self.n_classes = n_classes\n",
    "    self.epochs = epochs\n",
    "    self.bs = batch_size\n",
    "    self.min_count = min_count\n",
    "    self.model = self._get_model(weights)\n",
    "    self.number_of_n_grams = number_of_n_grams\n",
    "    self.tokenizer = None\n",
    "    return self.model.summary()\n",
    "    \n",
    "  # def _get_model(self, _weights = None):\n",
    "  #   \"\"\"This is fast text, as per https://arxiv.org/abs/1607.01759\"\"\"\n",
    "  #   model = Sequential()\n",
    "  #   if _weights is not None:\n",
    "  #     model.add(Embedding(input_dim = self.input_dim,output_dim=self.emb_dim, weights = [_weights], trainable = True))\n",
    "  #     # model.add(Embedding(input_dim = self.input_dim,output_dim=self.emb_dim, embeddings_initializer=Constant(weights)))\n",
    "  #     print('weights initialized')\n",
    "  #   else:\n",
    "  #     model.add(Embedding(input_dim = self.input_dim,output_dim=self.emb_dim))\n",
    "  #   model.add(GlobalAveragePooling1D())\n",
    "  #   model.add(Dense(self.n_classes, activation='softmax'))\n",
    "\n",
    "  #   model.compile(loss='categorical_crossentropy',\n",
    "  #                 optimizer=\"adam\",\n",
    "  #                 metrics=['accuracy']) \n",
    "  #   return model\n",
    "\n",
    "\n",
    "\n",
    "  # def _get_model(self, _weights = None):\n",
    "  #   tfidf_input = keras.Input(shape=(self.input1_dim,))\n",
    "  #   embed_input = keras.Input(shape=(self.input2_dim,))\n",
    "  #   print('self.input2_dim: ', self.input2_dim)\n",
    "  #   print('weight.shape: ', _weights.shape)\n",
    "\n",
    "  #   x = keras.layers.Dense(10, activation='relu')(tfidf_input)\n",
    "  #   x = Model(inputs=tfidf_input, outputs=x)\n",
    "\n",
    "  #   # y = keras.layers.Embedding(input_dim = self.input_dim,output_dim=self.emb_dim, weights = [_weights], trainable = True)(embed_input)\n",
    "  #   # # embed_dense1 = keras.layers.Dense(30, activation='relu')(embed_1)\n",
    "  #   # y = Model(inputs=embed_input, outputs=y)\n",
    "\n",
    "  #   y = keras.layers.Embedding(input_dim = self.input2_dim,output_dim=self.emb_dim, weights = [_weights], trainable = True)(embed_input)\n",
    "  #   y = keras.layers.GlobalAveragePooling1D()(y)\n",
    "  #   y = Model(inputs=embed_input, outputs=y)\n",
    "\n",
    "  #   combined = concatenate([x.output, y.output])\n",
    "  #   z = keras.layers.Dense(self.n_classes, activation='softmax')(combined)\n",
    "\n",
    "  #   model = keras.models.Model(inputs=[x.input, y.input], outputs=z)\n",
    "  #   # model = keras.models.Model(inputs=tfidf_input,outputs=output)\n",
    "\n",
    "  #   print('self.input2_dim: ', self.input2_dim)\n",
    "  #   print('weight.shape: ', _weights.shape)\n",
    "\n",
    "  #   model.compile(loss='categorical_crossentropy',\n",
    "  #                 optimizer=\"adam\",\n",
    "  #                 metrics=['accuracy']) \n",
    "  #   return model\n",
    "\n",
    "  def _get_model(self, _weights = None):\n",
    "    tfidf_input = keras.Input(shape=(self.input1_dim,))\n",
    "    embed_input = keras.Input(shape=(self.input2_dim,))\n",
    "    features_input = keras.Input(shape=(12,))\n",
    "\n",
    "    # print('self.input2_dim: ', self.input2_dim)\n",
    "    # print('weight.shape: ', _weights.shape)\n",
    "\n",
    "    x = keras.layers.Dense(10, activation='relu')(tfidf_input)\n",
    "    x = Model(inputs=tfidf_input, outputs=x)\n",
    "\n",
    "    y = keras.layers.Embedding(input_dim = self.input2_dim,output_dim=self.emb_dim, weights = [_weights], trainable = True)(embed_input)\n",
    "    y = keras.layers.GlobalAveragePooling1D()(y)\n",
    "    # y = keras.layers.Flatten()(y)\n",
    "    # y = keras.layers.Dense(64)(y)\n",
    "    y = Model(inputs=embed_input, outputs=y)\n",
    "\n",
    "    f = keras.layers.Dense(10, activation='relu')(features_input)\n",
    "    f = Model(inputs=features_input, outputs=f)\n",
    "    # f = Model(inputs=features_input, outputs=features_input)\n",
    "\n",
    "    combined = concatenate([x.output, y.output, f.output])\n",
    "    z = keras.layers.Dense(self.n_classes, activation='softmax')(combined)\n",
    "\n",
    "    model = keras.models.Model(inputs=[x.input, y.input, f.input], outputs=z)\n",
    "    # model = keras.models.Model(inputs=tfidf_input,outputs=output)\n",
    "\n",
    "    # print('self.input2_dim: ', self.input2_dim)\n",
    "    # print('weight.shape: ', _weights.shape)\n",
    "\n",
    "    opt = keras.optimizers.Adam()\n",
    "\n",
    "    model.compile(loss='categorical_crossentropy',\n",
    "                  optimizer=opt,\n",
    "                  metrics=['accuracy']) \n",
    "    return model\n",
    "\n",
    "\n",
    "  def _get_tokenizer(self, X):\n",
    "    texts = self._preprocess(X)\n",
    "    tokenizer = Tokenizer(lower=True, filters='')\n",
    "    tokenizer.fit_on_texts(texts)\n",
    "    return tokenizer\n",
    "\n",
    "\n",
    "  \n",
    "  def _get_sequences(self, X):\n",
    "    \"\"\"Change lower=False not to match case\"\"\"\n",
    "    texts = self._preprocess(X)\n",
    "    tokenizer = Tokenizer(lower=True, filters='')\n",
    "    tokenizer.fit_on_texts(texts)\n",
    "    num_words = sum([1 for _, v in tokenizer.word_counts.items() if v >= self.min_count])\n",
    "    \n",
    "    # tokenizer = Tokenizer(lower=False, filters='')\n",
    "    tokenizer = Tokenizer(num_words=num_words, lower=True, filters='')\n",
    "    tokenizer.fit_on_texts(texts)\n",
    "    texts = tokenizer.texts_to_sequences(texts)\n",
    "    texts = pad_sequences(sequences = texts, maxlen=self.input_length)\n",
    "    self.tokenizer =tokenizer \n",
    "    return texts\n",
    "  \n",
    "  def _preprocess(self, texts):\n",
    "    return add_puctuation_and_n_grams(texts)\n",
    "  \n",
    "  def fit(self, X, y):\n",
    "    '''Fit the vocabulary and the model.\n",
    "       :params: X: list of texts. y: labels.\n",
    "    '''\n",
    "    docs = self._get_sequences(X)\n",
    "    x_train, x_test, y_train, y_test = train_test_split(docs, y, test_size=0.1)\n",
    "\n",
    "    self.model.fit(x_train, y_train,\n",
    "                 batch_size=self.bs,\n",
    "                 validation_data=(x_test, y_test),\n",
    "                 epochs=self.epochs,\n",
    "                 callbacks=[EarlyStopping(patience=1, monitor='val_loss')])\n",
    "\n",
    "\n",
    "\n",
    "  # def fit_both(self, X, y):\n",
    "  #   '''Fit the vocabulary and the model.\n",
    "  #      :params: X: list of texts. y: labels.\n",
    "  #   '''\n",
    "  #   tfidf = TfidfVectorizer(max_features = 10000)\n",
    "  #   # X_tfidf = tfidf.fit_transform(X['text'])\n",
    "\n",
    "  #   x_train, x_test, y_train, y_test = train_test_split(X, y, test_size=0.1)\n",
    "  #   x_train_tfidf = tfidf.fit_transform(x_train)\n",
    "  #   x_test_tfidf =  tfidf.transform(x_test)\n",
    "\n",
    "  #   x_train_text = self._get_sequences(x_train)\n",
    "  #   x_test_text = self._get_sequences(x_test)\n",
    "  #   print('x_train_text.shape: ', x_train_text.shape)\n",
    "  #   print('x_test_text.shape: ', x_test_text.shape)\n",
    "\n",
    "  #   self.model.fit([x_train_tfidf, x_train_text], y_train,\n",
    "  #                batch_size=self.bs,\n",
    "  #                validation_data=([x_test_tfidf, x_test_text], y_test),\n",
    "  #                epochs=self.epochs,\n",
    "  #                callbacks=[EarlyStopping(patience=3, monitor='val_loss')])\n",
    "\n",
    "\n",
    "  def fit_both(self, X, y):\n",
    "    '''Fit the vocabulary and the model.\n",
    "       :params: X: list of texts. y: labels.\n",
    "    '''\n",
    "    self.tfidf = TfidfVectorizer(max_features = self.input1_dim)\n",
    "\n",
    "    # X_tfidf = tfidf.fit_transform(X['text'])\n",
    "\n",
    "    x_train, x_test, y_train, y_test = train_test_split(X, y, test_size=0.1)\n",
    "    x_train_tfidf = self.tfidf.fit_transform(x_train.text)\n",
    "    x_test_tfidf =  self.tfidf.transform(x_test.text)\n",
    "\n",
    "    x_train_text = self._get_sequences(x_train.text)\n",
    "    x_test_text = self._get_sequences(x_test.text)\n",
    "\n",
    "    x_train_features = x_train.iloc[:,3:]\n",
    "    x_test_features = x_test.iloc[:,3:]\n",
    "\n",
    "    print('x_train_tfidf.shape: ', x_train_tfidf.shape)\n",
    "    print('x_train_text.shape: ', x_train_text.shape)\n",
    "    print('x_train_features.shape: ', x_train_features.shape)\n",
    "\n",
    "    self.model.fit([x_train_tfidf, x_train_text, x_train_features], y_train,\n",
    "                 batch_size=self.bs,\n",
    "                 validation_data=([x_test_tfidf, x_test_text, x_test_features], y_test),\n",
    "                 epochs=self.epochs,\n",
    "                 callbacks=[EarlyStopping(patience=0, monitor='val_loss')])\n",
    "\n",
    "\n",
    "\n",
    "\n",
    "  def fit_both_submit(self, X, y):\n",
    "    '''Fit the vocabulary and the model.\n",
    "       :params: X: list of texts. y: labels.\n",
    "    '''\n",
    "    x_train_tfidf = self.tfidf.fit_transform(X.text)\n",
    "    x_train_text = self._get_sequences(X.text)\n",
    "    x_train_features = X.iloc[:,3:]\n",
    "\n",
    "    self.model.fit([x_train_tfidf, x_train_text, x_train_features], y,\n",
    "                 batch_size=self.bs,\n",
    "                 epochs=self.epochs,\n",
    "                 callbacks=[EarlyStopping(patience=1, monitor='val_loss')])\n",
    "\n",
    "\n",
    "\n",
    "  def predict_proba_both(self, X, y= None):\n",
    "    # tfidf = TfidfVectorizer(max_features = self.input1_dim)\n",
    "\n",
    "\n",
    "    x_train_tfidf = self.tfidf.transform(X.text)\n",
    "    x_train_text = self._get_sequences(X.text)\n",
    "    x_train_features = X.iloc[:,3:]\n",
    "\n",
    "    print('x_train_tfidf.shape: ', x_train_tfidf.shape)\n",
    "    print('x_train_text.shape: ', x_train_text.shape)\n",
    "    print('x_train_features.shape: ', x_train_features.shape)\n",
    "\n",
    "    print('self.input1_dim.shape: ', self.input1_dim)\n",
    "\n",
    "\n",
    "    return self.model.predict([x_train_tfidf, x_train_text, x_train_features])\n",
    "\n",
    "  def predict_proba(self, X, y=None):\n",
    "    seqs = self._get_sequences(self._preprocess(X))\n",
    "    return self.model.predict(seqs)\n",
    "  \n",
    "  def predict(self, X, y=None):\n",
    "    return np.argmax(self.predict_proba(X), axis=1)\n",
    "  \n",
    "  def score(self, X, y):\n",
    "    y_pred = self.predict(X)\n",
    "    return accuracy_score(np.argmax(y, axis=1), y_pred)\n",
    "\n",
    "def get_input_dimension(X, min_count=10, maxlen=512):\n",
    "  \"\"\" Before creating a model, input dimension changes cuz we remove low freq words (lower than min_count)\"\"\"\n",
    "  docs = add_puctuation_and_n_grams(X)\n",
    "\n",
    "  tokenizer = Tokenizer(lower=True, filters='')\n",
    "  tokenizer.fit_on_texts(docs)\n",
    "  num_words = sum([1 for _, v in tokenizer.word_counts.items() if v >= min_count])\n",
    "\n",
    "  tokenizer = Tokenizer(num_words=num_words, lower=True, filters='')\n",
    "  tokenizer.fit_on_texts(docs)\n",
    "  docs = tokenizer.texts_to_sequences(docs)\n",
    "  \n",
    "  docs = pad_sequences(sequences=docs, maxlen=maxlen)\n",
    "\n",
    "  print('docs: ', docs)\n",
    "  return np.max(docs) + 1\n"
   ]
  },
  {
   "cell_type": "markdown",
   "metadata": {
    "colab_type": "text",
    "id": "RGxXafTe5gs4"
   },
   "source": [
    "# Get Data\n",
    "... and split to debug with ELI5. Submission would use the entire training set."
   ]
  },
  {
   "cell_type": "markdown",
   "metadata": {
    "colab_type": "text",
    "id": "a_6j2Qob-24R"
   },
   "source": [
    "## Downloading"
   ]
  },
  {
   "cell_type": "code",
   "execution_count": 0,
   "metadata": {
    "colab": {
     "base_uri": "https://localhost:8080/",
     "height": 151
    },
    "colab_type": "code",
    "id": "RJHtACv_iyN4",
    "outputId": "a7ce35e9-a437-4c6f-f2c9-fbd2fe0b2b59"
   },
   "outputs": [
    {
     "name": "stdout",
     "output_type": "stream",
     "text": [
      "Warning: Looks like you're using an outdated API Version, please consider updating (server 1.5.6 / client 1.5.4)\n",
      "train.zip: Skipping, found more recently modified local copy (use --force to force download)\n",
      "test.zip: Skipping, found more recently modified local copy (use --force to force download)\n",
      "sample_submission.zip: Skipping, found more recently modified local copy (use --force to force download)\n",
      "Archive:  train.zip\n",
      "replace train.csv? [y]es, [n]o, [A]ll, [N]one, [r]ename: n\n",
      "Archive:  test.zip\n",
      "replace test.csv? [y]es, [n]o, [A]ll, [N]one, [r]ename: n\n"
     ]
    }
   ],
   "source": [
    "# get dataset from Kaggle -- feel free to use my API key :)\n",
    "import os\n",
    "os.environ['KAGGLE_USERNAME'] = \"extremelydifficult\" # username from the json file\n",
    "os.environ['KAGGLE_KEY'] = \"238120927f9705524c124fcbdb19b699\" # key from the json file\n",
    "!kaggle competitions download -c spooky-author-identification\n",
    "!unzip train.zip\n",
    "!unzip test.zip"
   ]
  },
  {
   "cell_type": "markdown",
   "metadata": {
    "colab_type": "text",
    "id": "h1mIdStT-7Yb"
   },
   "source": [
    "## Processing"
   ]
  },
  {
   "cell_type": "code",
   "execution_count": 0,
   "metadata": {
    "colab": {},
    "colab_type": "code",
    "id": "gTe09WpdzLav"
   },
   "outputs": [],
   "source": [
    "import pandas as pd\n",
    "import numpy as np\n",
    "from keras.utils import to_categorical\n",
    "from sklearn.model_selection import train_test_split\n",
    "\n",
    "# get data from dataset\n",
    "train = pd.read_csv('train.csv')\n",
    "test = pd.read_csv('test.csv')\n",
    "# sample = pd.read_csv('sample_submission.csv')\n",
    "# Keras likes categorical\n",
    "a2c = {'EAP': 0, 'HPL' : 1, 'MWS' : 2}\n",
    "c2a = {value:key for key, value in a2c.items()}\n",
    "\n",
    "\n",
    "\n",
    "authors = np.array([a2c[a] for a in train.author])\n",
    "authors = to_categorical(authors)\n",
    "\n",
    "# split data (JUST FOR DEBUGGING WITH ELI5 -- submission would use all training data)\n",
    "text_train, text_valid, authors_train, authors_valid = train_test_split(train.text.values, authors, \n",
    "                                                   stratify=authors, \n",
    "                                                   test_size=0.1, shuffle=True)\n",
    "\n",
    "# because it's easier than changing the loop below\n",
    "x_train = pd.DataFrame(text_train, columns = [\"text\"])\n",
    "x_test = pd.DataFrame(text_valid, columns = [\"text\"])\n",
    "train = train.drop('author', 1)"
   ]
  },
  {
   "cell_type": "markdown",
   "metadata": {
    "colab_type": "text",
    "id": "e6xzzgpIiSq_"
   },
   "source": [
    "## Extra Features"
   ]
  },
  {
   "cell_type": "code",
   "execution_count": 0,
   "metadata": {
    "colab": {},
    "colab_type": "code",
    "id": "xHRXSWWCjF_h"
   },
   "outputs": [],
   "source": [
    "# def char_count(row):\n",
    "#     \"\"\"function to return number of chracters \"\"\"\n",
    "#     return len(row['text'])\n",
    "\n",
    "def unique_word_fraction(row):\n",
    "    \"\"\"function to calculate the fraction of unique words on total words of the text\"\"\"\n",
    "    text = row\n",
    "    text_splited = text.split(' ')\n",
    "    text_splited = [''.join(c for c in s if c not in string.punctuation) for s in text_splited]\n",
    "    text_splited = [s for s in text_splited if s]\n",
    "    word_count = text_splited.__len__()\n",
    "    unique_count = list(set(text_splited)).__len__()\n",
    "    return (unique_count/word_count)\n",
    "\n",
    "def punctuations_fraction(row):\n",
    "    \"\"\"functiopn to claculate the fraction of punctuations over total number of characters for a given text \"\"\"\n",
    "    text = row\n",
    "    char_count = len(text)\n",
    "    punctuation_count = len([c for c in text if c in string.punctuation])\n",
    "    return (punctuation_count/char_count)\n",
    "\n",
    "\n",
    "def fraction_noun(row):\n",
    "    \"\"\"function to give us fraction of noun over total words \"\"\"\n",
    "    text = row\n",
    "    # text = row['text']\n",
    "    text_splited = text.split(' ')\n",
    "    text_splited = [''.join(c for c in s if c not in string.punctuation) for s in text_splited]\n",
    "    text_splited = [s for s in text_splited if s]\n",
    "    word_count = text_splited.__len__()\n",
    "    pos_list = nltk.pos_tag(text_splited)\n",
    "    noun_count = len([w for w in pos_list if w[1] in ('NN','NNP','NNPS','NNS')])\n",
    "    return (noun_count/word_count)\n",
    "\n",
    "def fraction_adj(row):\n",
    "    \"\"\"function to give us fraction of adjectives over total words in given text\"\"\"\n",
    "    text = row\n",
    "    # text = row['text']\n",
    "    text_splited = text.split(' ')\n",
    "    text_splited = [''.join(c for c in s if c not in string.punctuation) for s in text_splited]\n",
    "    text_splited = [s for s in text_splited if s]\n",
    "    word_count = text_splited.__len__()\n",
    "    pos_list = nltk.pos_tag(text_splited)\n",
    "    adj_count = len([w for w in pos_list if w[1] in ('JJ','JJR','JJS')])\n",
    "    return (adj_count/word_count)\n",
    "\n",
    "def fraction_verbs(row):\n",
    "    \"\"\"function to give us fraction of verbs over total words in given text\"\"\"\n",
    "    text = row\n",
    "    # text = row['text']\n",
    "    text_splited = text.split(' ')\n",
    "    text_splited = [''.join(c for c in s if c not in string.punctuation) for s in text_splited]\n",
    "    text_splited = [s for s in text_splited if s]\n",
    "    word_count = text_splited.__len__()\n",
    "    pos_list = nltk.pos_tag(text_splited)\n",
    "    verbs_count = len([w for w in pos_list if w[1] in ('VB','VBD','VBG','VBN','VBP','VBZ')])\n",
    "    return (verbs_count/word_count)\n",
    "\n",
    "\n",
    "\n",
    "def fraction_adverbs(row):\n",
    "    \"\"\"function to give us fraction of verbs over total words in given text\"\"\"\n",
    "    text = row\n",
    "    # text = row['text']\n",
    "    text_splited = text.split(' ')\n",
    "    text_splited = [''.join(c for c in s if c not in string.punctuation) for s in text_splited]\n",
    "    text_splited = [s for s in text_splited if s]\n",
    "    word_count = text_splited.__len__()\n",
    "    pos_list = nltk.pos_tag(text_splited)\n",
    "    verbs_count = len([w for w in pos_list if w[1] in ('RB','RBR','RBS', 'WRB')])\n",
    "    return (verbs_count/word_count)\n",
    "\n",
    "def special(row):\n",
    "    \"\"\"function to give us fraction of verbs over total words in given text\"\"\"\n",
    "    text = row\n",
    "    # text = row['text']\n",
    "    text_splited = text.split(' ')\n",
    "    text_splited = [''.join(c for c in s if c not in string.punctuation) for s in text_splited]\n",
    "    text_splited = [s for s in text_splited if s]\n",
    "    word_count = text_splited.__len__()\n",
    "    pos_list = nltk.pos_tag(text_splited)\n",
    "    verbs_count = len([w for w in pos_list if w[1] in ('PDT','POS')])\n",
    "    # verbs_count = len([w for w in pos_list if w[1] in ('PDT','POS\t','PRP$', 'UH')])\n",
    "    return (verbs_count/word_count)"
   ]
  },
  {
   "cell_type": "code",
   "execution_count": 0,
   "metadata": {
    "colab": {},
    "colab_type": "code",
    "id": "TXjNlHJeiPo9"
   },
   "outputs": [],
   "source": [
    "## Number of words in the text ##\n",
    "train[\"num_words\"] = train[\"text\"].apply(lambda x: len(str(x).split()))\n",
    "\n",
    "## Number of unique words in the text ##\n",
    "# train[\"num_unique_words\"] = train[\"text\"].apply(lambda x: len(set(str(x).split())))\n",
    "train['unique_word_fraction'] = train['text'].apply(lambda row: unique_word_fraction(row))\n",
    "\n",
    "## Number of characters in the text ##\n",
    "train[\"num_chars\"] = train[\"text\"].apply(lambda x: len(str(x)))\n",
    "\n",
    "## Number of stopwords in the text ##\n",
    "train[\"num_stopwords\"] = train[\"text\"].apply(lambda x: len([w for w in str(x).lower().split() if w in stop_words]))\n",
    "\n",
    "## Number of punctuations in the text ##\n",
    "# train[\"num_punctuations\"] =train['text'].apply(lambda x: len([c for c in str(x) if c in string.punctuation]) )\n",
    "train['punctuations_fraction'] = train['text'].apply(lambda row: punctuations_fraction(row))\n",
    "\n",
    "## Number of title case words in the text ##\n",
    "train[\"num_words_upper\"] = train[\"text\"].apply(lambda x: len([w for w in str(x).split() if w.isupper()]))\n",
    "\n",
    "## Number of title case words in the text ##\n",
    "train[\"num_words_title\"] = train[\"text\"].apply(lambda x: len([w for w in str(x).split() if w.istitle()]))\n",
    "\n",
    "## Average length of the words in the text ##\n",
    "train[\"mean_word_len\"] = train[\"text\"].apply(lambda x: np.mean([len(w) for w in str(x).split()]))\n",
    "\n",
    "# train['char_count'] = train[\"text\"].apply(lambda row: char_count(row))\n",
    "train['fraction_noun'] = train['text'].apply(lambda row: fraction_noun(row))\n",
    "train['fraction_adj'] = train['text'].apply(lambda row: fraction_adj(row))\n",
    "train['fraction_verbs'] = train['text'].apply(lambda row: fraction_verbs(row))\n",
    "train['fraction_adverbs'] = train['text'].apply(lambda row: fraction_verbs(row))\n",
    "train['special'] = train['text'].apply(lambda row: fraction_verbs(row))\n",
    "\n"
   ]
  },
  {
   "cell_type": "code",
   "execution_count": 0,
   "metadata": {
    "colab": {},
    "colab_type": "code",
    "id": "J0SexoJBgNan"
   },
   "outputs": [],
   "source": [
    "## Number of words in the text ##\n",
    "test[\"num_words\"] = test[\"text\"].apply(lambda x: len(str(x).split()))\n",
    "\n",
    "## Number of unique words in the text ##\n",
    "# train[\"num_unique_words\"] = train[\"text\"].apply(lambda x: len(set(str(x).split())))\n",
    "test['unique_word_fraction'] = test['text'].apply(lambda row: unique_word_fraction(row))\n",
    "\n",
    "## Number of characters in the text ##\n",
    "test[\"num_chars\"] = test[\"text\"].apply(lambda x: len(str(x)))\n",
    "\n",
    "## Number of stopwords in the text ##\n",
    "test[\"num_stopwords\"] = test[\"text\"].apply(lambda x: len([w for w in str(x).lower().split() if w in stop_words]))\n",
    "\n",
    "## Number of punctuations in the text ##\n",
    "# train[\"num_punctuations\"] =train['text'].apply(lambda x: len([c for c in str(x) if c in string.punctuation]) )\n",
    "test['punctuations_fraction'] = test['text'].apply(lambda row: punctuations_fraction(row))\n",
    "\n",
    "## Number of title case words in the text ##\n",
    "test[\"num_words_upper\"] = test[\"text\"].apply(lambda x: len([w for w in str(x).split() if w.isupper()]))\n",
    "\n",
    "## Number of title case words in the text ##\n",
    "test[\"num_words_title\"] = test[\"text\"].apply(lambda x: len([w for w in str(x).split() if w.istitle()]))\n",
    "\n",
    "## Average length of the words in the text ##\n",
    "test[\"mean_word_len\"] = test[\"text\"].apply(lambda x: np.mean([len(w) for w in str(x).split()]))\n",
    "\n",
    "# train['char_count'] = train[\"text\"].apply(lambda row: char_count(row))\n",
    "test['fraction_noun'] = test['text'].apply(lambda row: fraction_noun(row))\n",
    "test['fraction_adj'] = test['text'].apply(lambda row: fraction_adj(row))\n",
    "test['fraction_verbs'] = test['text'].apply(lambda row: fraction_verbs(row))\n",
    "test['fraction_adverbs'] = test['text'].apply(lambda row: fraction_verbs(row))\n",
    "test['special'] = test['text'].apply(lambda row: fraction_verbs(row))\n",
    "\n"
   ]
  },
  {
   "cell_type": "markdown",
   "metadata": {
    "colab_type": "text",
    "id": "bo4TLLVCJt8z"
   },
   "source": [
    "# Historical Embeddings"
   ]
  },
  {
   "cell_type": "markdown",
   "metadata": {
    "colab_type": "text",
    "id": "1uWm5_Op-oJs"
   },
   "source": [
    "## Downloading"
   ]
  },
  {
   "cell_type": "code",
   "execution_count": 0,
   "metadata": {
    "colab": {
     "base_uri": "https://localhost:8080/",
     "height": 151
    },
    "colab_type": "code",
    "id": "7knWlTncSv9a",
    "outputId": "8d087114-b5b9-4e6c-88f4-ef67f67d4ccc"
   },
   "outputs": [
    {
     "name": "stdout",
     "output_type": "stream",
     "text": [
      "--2020-01-05 13:14:57--  http://snap.stanford.edu/historical_embeddings/eng-all_sgns.zip\n",
      "Resolving snap.stanford.edu (snap.stanford.edu)... 171.64.75.80\n",
      "Connecting to snap.stanford.edu (snap.stanford.edu)|171.64.75.80|:80... connected.\n",
      "HTTP request sent, awaiting response... 200 OK\n",
      "Length: 1686718098 (1.6G) [application/zip]\n",
      "Saving to: ‘all_english.zip’\n",
      "\n",
      "all_english.zip       5%[>                   ]  89.24M  21.6MB/s    eta 2m 10s ^C\n"
     ]
    }
   ],
   "source": [
    "#historical all english\n",
    "!wget 'http://snap.stanford.edu/historical_embeddings/eng-all_sgns.zip' -O \"all_english.zip\" "
   ]
  },
  {
   "cell_type": "code",
   "execution_count": 0,
   "metadata": {
    "colab": {
     "base_uri": "https://localhost:8080/",
     "height": 134
    },
    "colab_type": "code",
    "id": "6gr6WQeTS7U4",
    "outputId": "358331ea-5508-4f74-f415-d9bab709c294"
   },
   "outputs": [
    {
     "name": "stdout",
     "output_type": "stream",
     "text": [
      "Archive:  all_english.zip\n",
      "  End-of-central-directory signature not found.  Either this file is not\n",
      "  a zipfile, or it constitutes one disk of a multi-part archive.  In the\n",
      "  latter case the central directory and zipfile comment will be found on\n",
      "  the last disk(s) of this archive.\n",
      "unzip:  cannot find zipfile directory in one of all_english.zip or\n",
      "        all_english.zip.zip, and cannot find all_english.zip.ZIP, period.\n"
     ]
    }
   ],
   "source": [
    "!unzip all_english.zip -d all_english"
   ]
  },
  {
   "cell_type": "markdown",
   "metadata": {
    "colab_type": "text",
    "id": "-bD7NXbISutH"
   },
   "source": [
    "## Processing"
   ]
  },
  {
   "cell_type": "code",
   "execution_count": 0,
   "metadata": {
    "colab": {},
    "colab_type": "code",
    "id": "jRPgG7tf2SpF"
   },
   "outputs": [],
   "source": [
    "embeddings_index = {}\n",
    "coefs = np.load('/content/all_english/sgns/1800-w.npy')\n",
    "words = pickle.load( open( \"/content/all_english/sgns/1800-vocab.pkl\", \"rb\" ) )\n",
    "embedding_index = {words[i] : coefs[i] for i in range(len(words))}"
   ]
  },
  {
   "cell_type": "code",
   "execution_count": 0,
   "metadata": {
    "colab": {},
    "colab_type": "code",
    "id": "hjh_VSdeOUoO"
   },
   "outputs": [],
   "source": [
    "EMBEDDING_DIM = 150\n",
    "# in_dim = get_input_dimension(train.text)"
   ]
  },
  {
   "cell_type": "code",
   "execution_count": 0,
   "metadata": {
    "colab": {},
    "colab_type": "code",
    "id": "SaL1ooLchRKs"
   },
   "outputs": [],
   "source": [
    "in_dim = 500"
   ]
  },
  {
   "cell_type": "code",
   "execution_count": 0,
   "metadata": {
    "colab": {},
    "colab_type": "code",
    "id": "8GtnVMS-J-AU"
   },
   "outputs": [],
   "source": [
    "# word_index = text_model._get_tokenizer(x_train).word_index\n",
    "texts = add_puctuation_and_n_grams(train.text)\n",
    "tokenizer = Tokenizer(lower=True, filters='')\n",
    "tokenizer.fit_on_texts(texts)\n",
    "word_index = tokenizer.word_index\n",
    "\n",
    "MAX_NUM_WORDS = 200000\n",
    "num_words = in_dim\n",
    "embedding_matrix = np.zeros((num_words, EMBEDDING_DIM))\n",
    "for word, i in word_index.items():\n",
    "    if i >= MAX_NUM_WORDS:\n",
    "        continue\n",
    "    embedding_vector = embeddings_index.get(word)\n",
    "    if embedding_vector is not None:\n",
    "        # words not found in embedding index will be all-zeros.\n",
    "        embedding_matrix[i] = embedding_vector"
   ]
  },
  {
   "cell_type": "code",
   "execution_count": 0,
   "metadata": {
    "colab": {
     "base_uri": "https://localhost:8080/",
     "height": 34
    },
    "colab_type": "code",
    "id": "YKFkbqFwXbdH",
    "outputId": "77f79e27-0dee-4ccc-c38b-16f197d28303"
   },
   "outputs": [
    {
     "data": {
      "text/plain": [
       "(500, 150)"
      ]
     },
     "execution_count": 62,
     "metadata": {
      "tags": []
     },
     "output_type": "execute_result"
    }
   ],
   "source": [
    "embedding_matrix.shape"
   ]
  },
  {
   "cell_type": "markdown",
   "metadata": {
    "colab_type": "text",
    "id": "PrC5SUrZluvR"
   },
   "source": [
    "# Model"
   ]
  },
  {
   "cell_type": "code",
   "execution_count": 0,
   "metadata": {
    "colab": {
     "base_uri": "https://localhost:8080/",
     "height": 1000
    },
    "colab_type": "code",
    "id": "B9Va_ZDhObO3",
    "outputId": "6e5d32ad-1949-419f-bc4e-0d913ec6fd8c"
   },
   "outputs": [
    {
     "name": "stdout",
     "output_type": "stream",
     "text": [
      "Model: \"model_20\"\n",
      "__________________________________________________________________________________________________\n",
      "Layer (type)                    Output Shape         Param #     Connected to                     \n",
      "==================================================================================================\n",
      "input_14 (InputLayer)           (None, 500)          0                                            \n",
      "__________________________________________________________________________________________________\n",
      "input_13 (InputLayer)           (None, 17546)        0                                            \n",
      "__________________________________________________________________________________________________\n",
      "embedding_5 (Embedding)         (None, 500, 150)     75000       input_14[0][0]                   \n",
      "__________________________________________________________________________________________________\n",
      "input_15 (InputLayer)           (None, 12)           0                                            \n",
      "__________________________________________________________________________________________________\n",
      "dense_13 (Dense)                (None, 10)           175470      input_13[0][0]                   \n",
      "__________________________________________________________________________________________________\n",
      "global_average_pooling1d_5 (Glo (None, 150)          0           embedding_5[0][0]                \n",
      "__________________________________________________________________________________________________\n",
      "dense_14 (Dense)                (None, 10)           130         input_15[0][0]                   \n",
      "__________________________________________________________________________________________________\n",
      "concatenate_5 (Concatenate)     (None, 170)          0           dense_13[0][0]                   \n",
      "                                                                 global_average_pooling1d_5[0][0] \n",
      "                                                                 dense_14[0][0]                   \n",
      "__________________________________________________________________________________________________\n",
      "dense_15 (Dense)                (None, 3)            513         concatenate_5[0][0]              \n",
      "==================================================================================================\n",
      "Total params: 251,113\n",
      "Trainable params: 251,113\n",
      "Non-trainable params: 0\n",
      "__________________________________________________________________________________________________\n"
     ]
    },
    {
     "data": {
      "image/png": "[encoded data removed]",
      "text/plain": [
       "<IPython.core.display.Image object>"
      ]
     },
     "execution_count": 63,
     "metadata": {
      "tags": []
     },
     "output_type": "execute_result"
    }
   ],
   "source": [
    "# text_model = HistoricalClassifier(input_dim = in_dim, n_classes=3, weights= embedding_matrix, embedding_dim=300)\n",
    "text_model = HistoricalClassifier(input1_dim = 17546, input2_dim = embedding_matrix.shape[0], input_length = in_dim, n_classes=3, weights= embedding_matrix, embedding_dim=EMBEDDING_DIM)\n",
    "plot_model(text_model.model, to_file='model_plot.png', show_shapes=True, show_layer_names=True)"
   ]
  },
  {
   "cell_type": "code",
   "execution_count": 0,
   "metadata": {
    "colab": {
     "base_uri": "https://localhost:8080/",
     "height": 420
    },
    "colab_type": "code",
    "id": "8P9xc2LGO-Ui",
    "outputId": "eecf467c-1765-472b-f06c-e9f8565c023c"
   },
   "outputs": [
    {
     "name": "stdout",
     "output_type": "stream",
     "text": [
      "x_train_tfidf.shape:  (17621, 17546)\n",
      "x_train_text.shape:  (17621, 500)\n",
      "x_train_features.shape:  (17621, 12)\n",
      "Train on 17621 samples, validate on 1958 samples\n",
      "Epoch 1/17\n",
      "17621/17621 [==============================] - 3s 178us/step - loss: 2.2835 - acc: 0.3582 - val_loss: 1.1256 - val_acc: 0.3943\n",
      "Epoch 2/17\n",
      "17621/17621 [==============================] - 3s 145us/step - loss: 1.0084 - acc: 0.5184 - val_loss: 0.9251 - val_acc: 0.5766\n",
      "Epoch 3/17\n",
      "17621/17621 [==============================] - 3s 143us/step - loss: 0.7661 - acc: 0.7952 - val_loss: 0.6899 - val_acc: 0.7962\n",
      "Epoch 4/17\n",
      "17621/17621 [==============================] - 3s 143us/step - loss: 0.5303 - acc: 0.8812 - val_loss: 0.5287 - val_acc: 0.8519\n",
      "Epoch 5/17\n",
      "17621/17621 [==============================] - 2s 140us/step - loss: 0.3900 - acc: 0.9080 - val_loss: 0.4535 - val_acc: 0.8596\n",
      "Epoch 6/17\n",
      "17621/17621 [==============================] - 3s 142us/step - loss: 0.3071 - acc: 0.9262 - val_loss: 0.4132 - val_acc: 0.8647\n",
      "Epoch 7/17\n",
      "17621/17621 [==============================] - 3s 145us/step - loss: 0.2521 - acc: 0.9401 - val_loss: 0.3894 - val_acc: 0.8672\n",
      "Epoch 8/17\n",
      "17621/17621 [==============================] - 3s 145us/step - loss: 0.2118 - acc: 0.9505 - val_loss: 0.3746 - val_acc: 0.8672\n",
      "Epoch 9/17\n",
      "17621/17621 [==============================] - 3s 146us/step - loss: 0.1815 - acc: 0.9583 - val_loss: 0.3673 - val_acc: 0.8682\n",
      "Epoch 10/17\n",
      "17621/17621 [==============================] - 3s 145us/step - loss: 0.1569 - acc: 0.9652 - val_loss: 0.3675 - val_acc: 0.8652\n"
     ]
    }
   ],
   "source": [
    "text_model.fit_both(train, authors)\n",
    "\n",
    "# text_model.fit_tf(x_train, authors_train)\n",
    "\n",
    "# text_model.fit(x_train, authors_train)"
   ]
  },
  {
   "cell_type": "code",
   "execution_count": 0,
   "metadata": {
    "colab": {},
    "colab_type": "code",
    "id": "Mjt-mqjWYo8i"
   },
   "outputs": [],
   "source": [
    "weightspath= 'weights-spooky.h5'\n",
    "modelpath= 'model-spooky.h5'\n",
    "text_model.model.save_weights(weightspath)\n",
    "text_model.model.save(modelpath)"
   ]
  },
  {
   "cell_type": "code",
   "execution_count": 0,
   "metadata": {
    "colab": {
     "base_uri": "https://localhost:8080/",
     "height": 84
    },
    "colab_type": "code",
    "id": "6Zhqizt6dEN7",
    "outputId": "4d241b48-3c16-44ea-c265-1cf9d78f6328"
   },
   "outputs": [
    {
     "name": "stdout",
     "output_type": "stream",
     "text": [
      "x_train_tfidf.shape:  (8392, 17546)\n",
      "x_train_text.shape:  (8392, 500)\n",
      "x_train_features.shape:  (8392, 12)\n",
      "self.input1_dim.shape:  17546\n"
     ]
    }
   ],
   "source": [
    "preds = text_model.predict_proba_both(test)\n",
    "result = pd.DataFrame(preds, columns=['EAP','HPL','MWS'])\n",
    "result.insert(0, 'id', test['id'])\n",
    "result.to_csv('submission.csv', index=False, float_format='%.20f')\n"
   ]
  },
  {
   "cell_type": "markdown",
   "metadata": {
    "colab_type": "text",
    "id": "qRq-HfT_uaaO"
   },
   "source": [
    "**private score : 0.35**"
   ]
  }
 ],
 "metadata": {
  "accelerator": "GPU",
  "colab": {
   "collapsed_sections": [
    "U7MUGdx74ApB",
    "a_6j2Qob-24R",
    "h1mIdStT-7Yb",
    "e6xzzgpIiSq_"
   ],
   "name": "Historical Embedding II .ipynb",
   "provenance": [],
   "toc_visible": true
  },
  "kernelspec": {
   "display_name": "Python 3",
   "language": "python",
   "name": "python3"
  },
  "language_info": {
   "codemirror_mode": {
    "name": "ipython",
    "version": 3
   },
   "file_extension": ".py",
   "mimetype": "text/x-python",
   "name": "python",
   "nbconvert_exporter": "python",
   "pygments_lexer": "ipython3",
   "version": "3.7.4"
  }
 },
 "nbformat": 4,
 "nbformat_minor": 1
}
