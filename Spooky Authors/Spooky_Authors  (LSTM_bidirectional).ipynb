{
 "cells": [
  {
   "cell_type": "markdown",
   "metadata": {},
   "source": [
    "# <center> Deep Learning Project</center>\n",
    "## <center>Spooky Authors Identification</center>\n",
    "### <center>Bidirectional LSTM</center>\n",
    "#### <center>Score on Kaggle: 0.76 log loss</center>\n",
    "\n",
    "\n",
    "---\n",
    "\n",
    "\n",
    "*   Eduardo Brendao (MLDM)\n",
    "*   Mohammad Poul Doust (MLDM)\n",
    "\n"
   ]
  },
  {
   "cell_type": "code",
   "execution_count": 0,
   "metadata": {
    "colab": {
     "base_uri": "https://localhost:8080/",
     "height": 156
    },
    "colab_type": "code",
    "id": "ZjLDCSBK1e2n",
    "outputId": "ee5683e3-aa3d-4ba3-a19a-3e9f2f23bf97"
   },
   "outputs": [
    {
     "name": "stdout",
     "output_type": "stream",
     "text": [
      "Requirement already up-to-date: keras in /usr/local/lib/python3.6/dist-packages (2.3.1)\n",
      "Requirement already satisfied, skipping upgrade: keras-applications>=1.0.6 in /usr/local/lib/python3.6/dist-packages (from keras) (1.0.8)\n",
      "Requirement already satisfied, skipping upgrade: scipy>=0.14 in /usr/local/lib/python3.6/dist-packages (from keras) (1.4.1)\n",
      "Requirement already satisfied, skipping upgrade: pyyaml in /usr/local/lib/python3.6/dist-packages (from keras) (3.13)\n",
      "Requirement already satisfied, skipping upgrade: keras-preprocessing>=1.0.5 in /usr/local/lib/python3.6/dist-packages (from keras) (1.1.0)\n",
      "Requirement already satisfied, skipping upgrade: numpy>=1.9.1 in /usr/local/lib/python3.6/dist-packages (from keras) (1.17.5)\n",
      "Requirement already satisfied, skipping upgrade: h5py in /usr/local/lib/python3.6/dist-packages (from keras) (2.8.0)\n",
      "Requirement already satisfied, skipping upgrade: six>=1.9.0 in /usr/local/lib/python3.6/dist-packages (from keras) (1.12.0)\n"
     ]
    }
   ],
   "source": [
    "!pip install --upgrade keras"
   ]
  },
  {
   "cell_type": "code",
   "execution_count": 0,
   "metadata": {
    "colab": {},
    "colab_type": "code",
    "id": "ZtXHIF-d4c9J"
   },
   "outputs": [],
   "source": [
    "import pandas as pd\n",
    "import numpy as np\n",
    "\n",
    "from keras.models import Sequential\n",
    "#from keras.layers.recurrent import LSTM, CuDNNLSTM\n",
    "from keras.layers import Bidirectional, CuDNNLSTM\n",
    "from keras.layers.embeddings import Embedding\n",
    "from keras.layers import Bidirectional, SpatialDropout1D\n",
    "from keras.optimizers import SGD,Adam\n",
    "from keras.layers.core import Dense,Activation,Dropout\n",
    "from keras.utils import np_utils\n",
    "from keras.callbacks import EarlyStopping\n",
    "from keras.preprocessing import sequence,text\n",
    "from keras.callbacks import Callback,EarlyStopping,ReduceLROnPlateau\n",
    "\n",
    "from sklearn.model_selection import train_test_split\n",
    "from sklearn.preprocessing import LabelEncoder\n",
    "\n",
    "import matplotlib.pyplot as plt\n",
    "%matplotlib inline"
   ]
  },
  {
   "cell_type": "code",
   "execution_count": 0,
   "metadata": {
    "colab": {
     "base_uri": "https://localhost:8080/",
     "height": 364
    },
    "colab_type": "code",
    "id": "7U72UnA24_Hw",
    "outputId": "628442c0-91e6-420a-c56d-f7ab194b70ac"
   },
   "outputs": [
    {
     "name": "stdout",
     "output_type": "stream",
     "text": [
      "Warning: Looks like you're using an outdated API Version, please consider updating (server 1.5.6 / client 1.5.4)\n",
      "Downloading train.zip to /content\n",
      "  0% 0.00/1.26M [00:00<?, ?B/s]\n",
      "100% 1.26M/1.26M [00:00<00:00, 84.5MB/s]\n",
      "Downloading test.zip to /content\n",
      "  0% 0.00/538k [00:00<?, ?B/s]\n",
      "100% 538k/538k [00:00<00:00, 74.6MB/s]\n",
      "Downloading sample_submission.zip to /content\n",
      "  0% 0.00/29.4k [00:00<?, ?B/s]\n",
      "100% 29.4k/29.4k [00:00<00:00, 30.3MB/s]\n",
      "Archive:  train.zip\n",
      "  inflating: train.csv               \n",
      "\n",
      "Archive:  test.zip\n",
      "  inflating: test.csv                \n",
      "\n",
      "Archive:  sample_submission.zip\n",
      "  inflating: sample_submission.csv   \n",
      "\n",
      "3 archives were successfully processed.\n"
     ]
    }
   ],
   "source": [
    "# We get the text from Kaggle -- feel free to use my API key :)\n",
    "import os\n",
    "os.environ['KAGGLE_USERNAME'] = \"extremelydifficult\" # username from the json file\n",
    "os.environ['KAGGLE_KEY'] = \"238120927f9705524c124fcbdb19b699\" # key from the json file\n",
    "!kaggle competitions download -c spooky-author-identification\n",
    "!unzip \\*.zip"
   ]
  },
  {
   "cell_type": "code",
   "execution_count": 0,
   "metadata": {
    "colab": {},
    "colab_type": "code",
    "id": "ZgEvNf8B4c_H"
   },
   "outputs": [],
   "source": [
    "train_df = pd.read_csv('train.csv')\n",
    "test_df = pd.read_csv('test.csv')\n",
    "sample_df = pd.read_csv('sample_submission.csv')"
   ]
  },
  {
   "cell_type": "code",
   "execution_count": 0,
   "metadata": {
    "colab": {},
    "colab_type": "code",
    "id": "tFsXNbGT4dF4"
   },
   "outputs": [],
   "source": [
    "#convert the authors/labels into one hot encoded values\n",
    "lbl_enc = LabelEncoder()\n",
    "y = lbl_enc.fit_transform(train_df.author.values)\n",
    "y = np_utils.to_categorical(y)"
   ]
  },
  {
   "cell_type": "code",
   "execution_count": 0,
   "metadata": {
    "colab": {},
    "colab_type": "code",
    "id": "wce7ApA-4dG8"
   },
   "outputs": [],
   "source": [
    "#divide the data into train and validation \n",
    "x_train, x_valid, y_train, y_valid = train_test_split(train_df.text.values,\n",
    "                                                      y,\n",
    "                                                      stratify = y,                                        \n",
    "                                                     test_size = 0.1)"
   ]
  },
  {
   "cell_type": "code",
   "execution_count": 0,
   "metadata": {
    "colab": {
     "base_uri": "https://localhost:8080/",
     "height": 139
    },
    "colab_type": "code",
    "id": "2acfR8sK4dIO",
    "outputId": "c7efbf0c-0b83-4d72-af14-f2cb29751b59"
   },
   "outputs": [
    {
     "name": "stdout",
     "output_type": "stream",
     "text": [
      "[[6, 93, 203, 3, 5, 5390, 3103, 4, 7451, 22, 4, 10, 445, 807, 10, 249, 2, 308, 8, 1943, 3, 1, 8537, 3, 7452, 2, 32, 186, 778, 170, 1073, 2545, 4, 22]]\n",
      "[[   6   93  203    3    5 5390 3103    4 7451   22    4   10  445  807\n",
      "    10  249    2  308    8 1943    3    1 8537    3 7452    2   32  186\n",
      "   778  170 1073 2545    4   22    0    0    0    0    0    0    0    0\n",
      "     0    0    0    0    0    0    0    0    0    0    0    0    0    0\n",
      "     0    0    0    0    0    0    0    0    0    0    0    0    0    0\n",
      "     0    0    0    0    0    0    0    0    0    0]]\n"
     ]
    }
   ],
   "source": [
    "#use Keras Tokenizer to tokenize the texts\n",
    "token = text.Tokenizer(num_words = None)\n",
    "max_len = 80\n",
    "\n",
    "token.fit_on_texts(list(x_train) + list(x_valid))\n",
    "xtrain_seq = token.texts_to_sequences(x_train)\n",
    "xvalid_seq = token.texts_to_sequences(x_valid)\n",
    "\n",
    "print(xtrain_seq[:1])\n",
    "# zero pad the sequences\n",
    "xtrain_pad = sequence.pad_sequences(xtrain_seq, maxlen=max_len,padding = 'post')\n",
    "xvalid_pad = sequence.pad_sequences(xvalid_seq, maxlen=max_len,padding = 'post')\n",
    "print(xtrain_pad[:1])"
   ]
  },
  {
   "cell_type": "code",
   "execution_count": 0,
   "metadata": {
    "colab": {},
    "colab_type": "code",
    "id": "5fSh8RUj4dIW"
   },
   "outputs": [],
   "source": [
    "word_index = token.word_index\n",
    "def get_model():\n",
    "    model = Sequential()\n",
    "    model.add(Embedding(len(word_index) + 1,\n",
    "                         300,\n",
    "                         input_length=max_len))\n",
    "    model.add(SpatialDropout1D(0.3))\n",
    "    # model.add(Bidirectional(CuDNNLSTM(300, dropout=0.3, recurrent_dropout=0.3,return_sequences = True)))\n",
    "    # model.add(Bidirectional(CuDNNLSTM(300, dropout=0.3, recurrent_dropout=0.3)))\n",
    "    model.add(Bidirectional(CuDNNLSTM(300,return_sequences = True)))\n",
    "    model.add(SpatialDropout1D(0.3))\n",
    "    model.add(Bidirectional(CuDNNLSTM(300)))\n",
    "\n",
    "    model.add(Dense(512, activation='relu'))\n",
    "    model.add(Dropout(0.5))\n",
    "\n",
    "    model.add(Dense(3))\n",
    "    model.add(Activation('softmax'))\n",
    "    adam = Adam(lr=0.01, decay = 0.05)\n",
    "    model.compile(loss='categorical_crossentropy', optimizer=adam,\n",
    "                 metrics=['accuracy'])\n",
    "    return model"
   ]
  },
  {
   "cell_type": "code",
   "execution_count": 0,
   "metadata": {
    "colab": {},
    "colab_type": "code",
    "id": "DcjVGABo4dJB"
   },
   "outputs": [],
   "source": [
    "## Callback for loss logging per epoch\n",
    "class LossHistory(Callback):\n",
    "    def on_train_begin(self, logs={}):\n",
    "        self.losses = []\n",
    "        self.val_losses = []\n",
    "        self.acc = []\n",
    "        self.val_acc = []\n",
    "        \n",
    "    def on_epoch_end(self, batch, logs={}):\n",
    "        self.losses.append(logs.get('loss'))\n",
    "        self.val_losses.append(logs.get('val_loss'))\n",
    "        self.acc.append(logs.get('acc'))\n",
    "        self.val_acc.append(logs.get('val_acc'))\n",
    "\n",
    "history = LossHistory()"
   ]
  },
  {
   "cell_type": "code",
   "execution_count": 0,
   "metadata": {
    "colab": {},
    "colab_type": "code",
    "id": "zK3f7e--4dJq"
   },
   "outputs": [],
   "source": [
    "def plot_loss():\n",
    "    #plot training curve\n",
    "    loss = history.losses\n",
    "    val_loss = history.val_losses\n",
    "    acc = history.acc\n",
    "    val_acc = history.val_acc\n",
    "\n",
    "    plt.xlabel('Epochs')\n",
    "    plt.ylabel('Loss')\n",
    "    plt.title('Acc - Loss Trend')\n",
    "    plt.plot(loss, 'blue', label='Training Loss')\n",
    "    plt.plot(val_loss, 'green', label='Validation Loss')\n",
    "    plt.plot(acc, 'black', label='Training Accuracy')\n",
    "    plt.plot(val_acc, 'red', label='Validation Accuracy')\n",
    "    plt.xticks(range(0,10)[0::2])\n",
    "    plt.legend()\n",
    "    plt.show()\n",
    "    "
   ]
  },
  {
   "cell_type": "code",
   "execution_count": 0,
   "metadata": {
    "colab": {
     "base_uri": "https://localhost:8080/",
     "height": 885
    },
    "colab_type": "code",
    "id": "qUQL5r4w4dJy",
    "outputId": "28c133bd-d541-4172-eb0f-619f9f63a700"
   },
   "outputs": [
    {
     "name": "stderr",
     "output_type": "stream",
     "text": [
      "/usr/local/lib/python3.6/dist-packages/keras/callbacks/callbacks.py:998: UserWarning: `epsilon` argument is deprecated and will be removed, use `min_delta` instead.\n",
      "  warnings.warn('`epsilon` argument is deprecated and '\n"
     ]
    },
    {
     "name": "stdout",
     "output_type": "stream",
     "text": [
      "Train on 17621 samples, validate on 1958 samples\n",
      "Epoch 1/70\n",
      "17621/17621 [==============================] - 40s 2ms/step - loss: 1.0956 - accuracy: 0.4122 - val_loss: 1.0650 - val_accuracy: 0.4459\n",
      "Epoch 2/70\n",
      "17621/17621 [==============================] - 39s 2ms/step - loss: 1.0248 - accuracy: 0.4865 - val_loss: 1.0170 - val_accuracy: 0.4780\n",
      "Epoch 3/70\n",
      "17621/17621 [==============================] - 40s 2ms/step - loss: 0.9272 - accuracy: 0.5441 - val_loss: 0.9295 - val_accuracy: 0.5378\n",
      "Epoch 4/70\n",
      "17621/17621 [==============================] - 40s 2ms/step - loss: 0.7891 - accuracy: 0.6148 - val_loss: 0.8295 - val_accuracy: 0.5996\n",
      "Epoch 5/70\n",
      "17621/17621 [==============================] - 40s 2ms/step - loss: 0.7225 - accuracy: 0.6370 - val_loss: 0.7751 - val_accuracy: 0.6113\n",
      "Epoch 6/70\n",
      "17621/17621 [==============================] - 40s 2ms/step - loss: 0.6825 - accuracy: 0.6523 - val_loss: 0.7781 - val_accuracy: 0.6124\n",
      "Epoch 7/70\n",
      "17621/17621 [==============================] - 40s 2ms/step - loss: 0.6578 - accuracy: 0.6606 - val_loss: 0.7905 - val_accuracy: 0.6226\n",
      "Epoch 8/70\n",
      "17621/17621 [==============================] - 40s 2ms/step - loss: 0.6294 - accuracy: 0.6736 - val_loss: 0.7644 - val_accuracy: 0.6272\n",
      "Epoch 9/70\n",
      "17621/17621 [==============================] - 40s 2ms/step - loss: 0.6089 - accuracy: 0.6886 - val_loss: 0.7488 - val_accuracy: 0.6435\n",
      "Epoch 10/70\n",
      "17621/17621 [==============================] - 40s 2ms/step - loss: 0.5855 - accuracy: 0.7143 - val_loss: 0.7465 - val_accuracy: 0.6593\n",
      "Epoch 11/70\n",
      "17621/17621 [==============================] - 40s 2ms/step - loss: 0.5652 - accuracy: 0.7346 - val_loss: 0.7524 - val_accuracy: 0.6685\n",
      "Epoch 12/70\n",
      "17621/17621 [==============================] - 40s 2ms/step - loss: 0.5406 - accuracy: 0.7523 - val_loss: 0.7706 - val_accuracy: 0.6772\n",
      "Epoch 13/70\n",
      "17621/17621 [==============================] - 40s 2ms/step - loss: 0.5226 - accuracy: 0.7720 - val_loss: 0.7344 - val_accuracy: 0.6854\n",
      "Epoch 14/70\n",
      "17621/17621 [==============================] - 40s 2ms/step - loss: 0.4997 - accuracy: 0.7906 - val_loss: 0.7432 - val_accuracy: 0.6834\n",
      "Epoch 15/70\n",
      "17621/17621 [==============================] - 40s 2ms/step - loss: 0.4894 - accuracy: 0.7972 - val_loss: 0.7332 - val_accuracy: 0.6915\n",
      "Epoch 16/70\n",
      "17621/17621 [==============================] - 40s 2ms/step - loss: 0.4710 - accuracy: 0.8087 - val_loss: 0.7547 - val_accuracy: 0.6951\n",
      "Epoch 17/70\n",
      "17621/17621 [==============================] - 40s 2ms/step - loss: 0.4531 - accuracy: 0.8192 - val_loss: 0.7703 - val_accuracy: 0.6900\n",
      "Epoch 18/70\n",
      "17621/17621 [==============================] - 40s 2ms/step - loss: 0.4448 - accuracy: 0.8244 - val_loss: 0.7493 - val_accuracy: 0.6992\n",
      "\n",
      "Epoch 00018: ReduceLROnPlateau reducing learning rate to 0.0009999999776482583.\n",
      "Epoch 19/70\n",
      "17621/17621 [==============================] - 40s 2ms/step - loss: 0.4229 - accuracy: 0.8387 - val_loss: 0.7468 - val_accuracy: 0.6971\n",
      "Epoch 20/70\n",
      "17621/17621 [==============================] - 40s 2ms/step - loss: 0.4265 - accuracy: 0.8330 - val_loss: 0.7509 - val_accuracy: 0.6966\n",
      "Epoch 21/70\n",
      "17621/17621 [==============================] - 40s 2ms/step - loss: 0.4233 - accuracy: 0.8324 - val_loss: 0.7498 - val_accuracy: 0.7007\n",
      "\n",
      "Epoch 00021: ReduceLROnPlateau reducing learning rate to 9.999999310821295e-05.\n"
     ]
    },
    {
     "data": {
      "text/plain": [
       "<keras.callbacks.callbacks.History at 0x7fb9d4954400>"
      ]
     },
     "execution_count": 35,
     "metadata": {
      "tags": []
     },
     "output_type": "execute_result"
    }
   ],
   "source": [
    "earlystop = EarlyStopping(monitor='val_loss', patience=6, verbose=0, mode='auto')\n",
    "reduceLR = ReduceLROnPlateau(monitor='val_loss', factor=0.1, patience=3, verbose=1, mode='min', epsilon=0.0001, min_lr=0.0000001)\n",
    "\n",
    "model = get_model()\n",
    "model.fit(xtrain_pad, y=y_train, batch_size=16, epochs=70, verbose=1, \n",
    "          validation_data=(xvalid_pad, y_valid), callbacks=[earlystop,history,reduceLR])"
   ]
  },
  {
   "cell_type": "code",
   "execution_count": 0,
   "metadata": {
    "colab": {
     "base_uri": "https://localhost:8080/",
     "height": 295
    },
    "colab_type": "code",
    "id": "W0Par_cP4dKJ",
    "outputId": "86544b0d-b2c0-4998-c86d-4af71e44c6eb"
   },
   "outputs": [
    {
     "data": {
      "image/png": "[encoded data removed]",
      "text/plain": [
       "<Figure size 432x288 with 1 Axes>"
      ]
     },
     "metadata": {
      "tags": []
     },
     "output_type": "display_data"
    }
   ],
   "source": [
    "plot_loss()"
   ]
  },
  {
   "cell_type": "code",
   "execution_count": 0,
   "metadata": {
    "colab": {},
    "colab_type": "code",
    "id": "T4ZxFPYa4dKU"
   },
   "outputs": [],
   "source": [
    "#the same operations are also carried out on the test set\n",
    "xtest_seq = token.texts_to_sequences(test_df.text)\n",
    "xtest_pad = sequence.pad_sequences(xtest_seq,maxlen = max_len,padding = 'post')"
   ]
  },
  {
   "cell_type": "code",
   "execution_count": 0,
   "metadata": {
    "colab": {},
    "colab_type": "code",
    "id": "XWuAzBiU4dKb"
   },
   "outputs": [],
   "source": [
    "# Now predict\n",
    "prediction = model.predict(xtest_pad)"
   ]
  },
  {
   "cell_type": "code",
   "execution_count": 0,
   "metadata": {
    "colab": {
     "base_uri": "https://localhost:8080/",
     "height": 207
    },
    "colab_type": "code",
    "id": "2IC5-mH34dK-",
    "outputId": "135fbbf2-9335-4b9e-e4b5-a28505fde36d"
   },
   "outputs": [
    {
     "data": {
      "text/html": [
       "<div>\n",
       "<style scoped>\n",
       "    .dataframe tbody tr th:only-of-type {\n",
       "        vertical-align: middle;\n",
       "    }\n",
       "\n",
       "    .dataframe tbody tr th {\n",
       "        vertical-align: top;\n",
       "    }\n",
       "\n",
       "    .dataframe thead th {\n",
       "        text-align: right;\n",
       "    }\n",
       "</style>\n",
       "<table border=\"1\" class=\"dataframe\">\n",
       "  <thead>\n",
       "    <tr style=\"text-align: right;\">\n",
       "      <th></th>\n",
       "      <th>id</th>\n",
       "      <th>EAP</th>\n",
       "      <th>HPL</th>\n",
       "      <th>MWS</th>\n",
       "    </tr>\n",
       "  </thead>\n",
       "  <tbody>\n",
       "    <tr>\n",
       "      <th>0</th>\n",
       "      <td>id02310</td>\n",
       "      <td>0.031861</td>\n",
       "      <td>0.036980</td>\n",
       "      <td>0.931159</td>\n",
       "    </tr>\n",
       "    <tr>\n",
       "      <th>1</th>\n",
       "      <td>id24541</td>\n",
       "      <td>0.931505</td>\n",
       "      <td>0.068312</td>\n",
       "      <td>0.000182</td>\n",
       "    </tr>\n",
       "    <tr>\n",
       "      <th>2</th>\n",
       "      <td>id00134</td>\n",
       "      <td>0.548777</td>\n",
       "      <td>0.442294</td>\n",
       "      <td>0.008930</td>\n",
       "    </tr>\n",
       "    <tr>\n",
       "      <th>3</th>\n",
       "      <td>id27757</td>\n",
       "      <td>0.889694</td>\n",
       "      <td>0.109807</td>\n",
       "      <td>0.000498</td>\n",
       "    </tr>\n",
       "    <tr>\n",
       "      <th>4</th>\n",
       "      <td>id04081</td>\n",
       "      <td>0.860524</td>\n",
       "      <td>0.138589</td>\n",
       "      <td>0.000887</td>\n",
       "    </tr>\n",
       "  </tbody>\n",
       "</table>\n",
       "</div>"
      ],
      "text/plain": [
       "        id       EAP       HPL       MWS\n",
       "0  id02310  0.031861  0.036980  0.931159\n",
       "1  id24541  0.931505  0.068312  0.000182\n",
       "2  id00134  0.548777  0.442294  0.008930\n",
       "3  id27757  0.889694  0.109807  0.000498\n",
       "4  id04081  0.860524  0.138589  0.000887"
      ]
     },
     "execution_count": 39,
     "metadata": {
      "tags": []
     },
     "output_type": "execute_result"
    }
   ],
   "source": [
    "a2c = {'EAP': 0, 'HPL' : 1, 'MWS' : 2}\n",
    "result = pd.read_csv('sample_submission.csv')\n",
    "for a, i in a2c.items():\n",
    "    result[a] = prediction[:, i]\n",
    "    \n",
    "result.to_csv('lstmsubmission_bidirectional.csv',index = False)\n",
    "result.head()"
   ]
  },
  {
   "cell_type": "code",
   "execution_count": 0,
   "metadata": {
    "colab": {},
    "colab_type": "code",
    "id": "oirlVtOh4dLJ",
    "outputId": "8633f6d0-4e45-4f69-f69f-ca0dfaf875e4"
   },
   "outputs": [
    {
     "data": {
      "text/html": [
       "<div>\n",
       "<style>\n",
       "    .dataframe thead tr:only-child th {\n",
       "        text-align: right;\n",
       "    }\n",
       "\n",
       "    .dataframe thead th {\n",
       "        text-align: left;\n",
       "    }\n",
       "\n",
       "    .dataframe tbody tr th {\n",
       "        vertical-align: top;\n",
       "    }\n",
       "</style>\n",
       "<table border=\"1\" class=\"dataframe\">\n",
       "  <thead>\n",
       "    <tr style=\"text-align: right;\">\n",
       "      <th></th>\n",
       "      <th>id</th>\n",
       "      <th>EAP</th>\n",
       "      <th>HPL</th>\n",
       "      <th>MWS</th>\n",
       "    </tr>\n",
       "  </thead>\n",
       "  <tbody>\n",
       "    <tr>\n",
       "      <th>0</th>\n",
       "      <td>id02310</td>\n",
       "      <td>0.010559</td>\n",
       "      <td>0.023715</td>\n",
       "      <td>0.965726</td>\n",
       "    </tr>\n",
       "    <tr>\n",
       "      <th>1</th>\n",
       "      <td>id24541</td>\n",
       "      <td>0.999765</td>\n",
       "      <td>0.000082</td>\n",
       "      <td>0.000153</td>\n",
       "    </tr>\n",
       "    <tr>\n",
       "      <th>2</th>\n",
       "      <td>id00134</td>\n",
       "      <td>0.000003</td>\n",
       "      <td>0.999988</td>\n",
       "      <td>0.000009</td>\n",
       "    </tr>\n",
       "    <tr>\n",
       "      <th>3</th>\n",
       "      <td>id27757</td>\n",
       "      <td>0.978980</td>\n",
       "      <td>0.006776</td>\n",
       "      <td>0.014244</td>\n",
       "    </tr>\n",
       "    <tr>\n",
       "      <th>4</th>\n",
       "      <td>id04081</td>\n",
       "      <td>0.998589</td>\n",
       "      <td>0.000321</td>\n",
       "      <td>0.001089</td>\n",
       "    </tr>\n",
       "    <tr>\n",
       "      <th>5</th>\n",
       "      <td>id27337</td>\n",
       "      <td>0.999989</td>\n",
       "      <td>0.000003</td>\n",
       "      <td>0.000007</td>\n",
       "    </tr>\n",
       "    <tr>\n",
       "      <th>6</th>\n",
       "      <td>id24265</td>\n",
       "      <td>0.967493</td>\n",
       "      <td>0.015826</td>\n",
       "      <td>0.016681</td>\n",
       "    </tr>\n",
       "    <tr>\n",
       "      <th>7</th>\n",
       "      <td>id25917</td>\n",
       "      <td>0.004774</td>\n",
       "      <td>0.005418</td>\n",
       "      <td>0.989808</td>\n",
       "    </tr>\n",
       "    <tr>\n",
       "      <th>8</th>\n",
       "      <td>id04951</td>\n",
       "      <td>0.999993</td>\n",
       "      <td>0.000003</td>\n",
       "      <td>0.000004</td>\n",
       "    </tr>\n",
       "    <tr>\n",
       "      <th>9</th>\n",
       "      <td>id14549</td>\n",
       "      <td>0.937388</td>\n",
       "      <td>0.020674</td>\n",
       "      <td>0.041938</td>\n",
       "    </tr>\n",
       "  </tbody>\n",
       "</table>\n",
       "</div>"
      ],
      "text/plain": [
       "        id       EAP       HPL       MWS\n",
       "0  id02310  0.010559  0.023715  0.965726\n",
       "1  id24541  0.999765  0.000082  0.000153\n",
       "2  id00134  0.000003  0.999988  0.000009\n",
       "3  id27757  0.978980  0.006776  0.014244\n",
       "4  id04081  0.998589  0.000321  0.001089\n",
       "5  id27337  0.999989  0.000003  0.000007\n",
       "6  id24265  0.967493  0.015826  0.016681\n",
       "7  id25917  0.004774  0.005418  0.989808\n",
       "8  id04951  0.999993  0.000003  0.000004\n",
       "9  id14549  0.937388  0.020674  0.041938"
      ]
     },
     "execution_count": 19,
     "metadata": {
      "tags": []
     },
     "output_type": "execute_result"
    }
   ],
   "source": [
    "result.head(10)"
   ]
  },
  {
   "cell_type": "code",
   "execution_count": 0,
   "metadata": {
    "colab": {},
    "colab_type": "code",
    "id": "0us4P67_4dLz"
   },
   "outputs": [],
   "source": []
  }
 ],
 "metadata": {
  "accelerator": "GPU",
  "colab": {
   "name": "Spooky Authors LSTM bidirectional.ipynb",
   "provenance": []
  },
  "kernelspec": {
   "display_name": "Python 3",
   "language": "python",
   "name": "python3"
  },
  "language_info": {
   "codemirror_mode": {
    "name": "ipython",
    "version": 3
   },
   "file_extension": ".py",
   "mimetype": "text/x-python",
   "name": "python",
   "nbconvert_exporter": "python",
   "pygments_lexer": "ipython3",
   "version": "3.7.4"
  }
 },
 "nbformat": 4,
 "nbformat_minor": 1
}
