{
 "cells": [
  {
   "cell_type": "markdown",
   "metadata": {},
   "source": [
    " # TP1. Fully Connected Networks\n",
    " \n",
    " #### Université Jean-Monnet, 2019-2020"
   ]
  },
  {
   "cell_type": "markdown",
   "metadata": {},
   "source": [
    "## Part 3. Classification on Text Data(Sentiment Analysis)"
   ]
  },
  {
   "cell_type": "code",
   "execution_count": 39,
   "metadata": {
    "_cell_guid": "6c53202d-5c34-4859-e7e9-8ef5c7068287",
    "_uuid": "717bb968c36b9325c7d4cae5724a3672e49ff243"
   },
   "outputs": [],
   "source": [
    "import numpy as np\n",
    "import pandas as pd \n",
    "\n",
    "from sklearn.feature_extraction.text import CountVectorizer\n",
    "from keras.preprocessing.text import Tokenizer\n",
    "from keras.preprocessing.sequence import pad_sequences\n",
    "from keras.models import Sequential\n",
    "from keras.layers import Dense, Dropout\n",
    "from keras.layers import Dense, Embedding, LSTM, SpatialDropout1D\n",
    "from sklearn.model_selection import train_test_split\n",
    "from keras.utils.np_utils import to_categorical\n",
    "import re\n",
    "from keras import optimizers"
   ]
  },
  {
   "cell_type": "markdown",
   "metadata": {
    "_cell_guid": "2bc2702e-d6f4-df5f-b80e-50ab23a6d29e",
    "_uuid": "9b520acffb5cd85d0e1ada968ad0f12cee33a4b5"
   },
   "source": [
    "**Question 1: Load the Sentiment.csv file, only keep columns `text` and `sentiment` and print out first 10 rows.**"
   ]
  },
  {
   "cell_type": "code",
   "execution_count": 2,
   "metadata": {
    "scrolled": false
   },
   "outputs": [
    {
     "data": {
      "text/html": [
       "<div>\n",
       "<style scoped>\n",
       "    .dataframe tbody tr th:only-of-type {\n",
       "        vertical-align: middle;\n",
       "    }\n",
       "\n",
       "    .dataframe tbody tr th {\n",
       "        vertical-align: top;\n",
       "    }\n",
       "\n",
       "    .dataframe thead th {\n",
       "        text-align: right;\n",
       "    }\n",
       "</style>\n",
       "<table border=\"1\" class=\"dataframe\">\n",
       "  <thead>\n",
       "    <tr style=\"text-align: right;\">\n",
       "      <th></th>\n",
       "      <th>text</th>\n",
       "      <th>sentiment</th>\n",
       "    </tr>\n",
       "  </thead>\n",
       "  <tbody>\n",
       "    <tr>\n",
       "      <td>0</td>\n",
       "      <td>RT @NancyLeeGrahn: How did everyone feel about...</td>\n",
       "      <td>Neutral</td>\n",
       "    </tr>\n",
       "    <tr>\n",
       "      <td>1</td>\n",
       "      <td>RT @ScottWalker: Didn't catch the full #GOPdeb...</td>\n",
       "      <td>Positive</td>\n",
       "    </tr>\n",
       "    <tr>\n",
       "      <td>2</td>\n",
       "      <td>RT @TJMShow: No mention of Tamir Rice and the ...</td>\n",
       "      <td>Neutral</td>\n",
       "    </tr>\n",
       "    <tr>\n",
       "      <td>3</td>\n",
       "      <td>RT @RobGeorge: That Carly Fiorina is trending ...</td>\n",
       "      <td>Positive</td>\n",
       "    </tr>\n",
       "    <tr>\n",
       "      <td>4</td>\n",
       "      <td>RT @DanScavino: #GOPDebate w/ @realDonaldTrump...</td>\n",
       "      <td>Positive</td>\n",
       "    </tr>\n",
       "    <tr>\n",
       "      <td>5</td>\n",
       "      <td>RT @GregAbbott_TX: @TedCruz: \"On my first day ...</td>\n",
       "      <td>Positive</td>\n",
       "    </tr>\n",
       "    <tr>\n",
       "      <td>6</td>\n",
       "      <td>RT @warriorwoman91: I liked her and was happy ...</td>\n",
       "      <td>Negative</td>\n",
       "    </tr>\n",
       "    <tr>\n",
       "      <td>7</td>\n",
       "      <td>Going on #MSNBC Live with @ThomasARoberts arou...</td>\n",
       "      <td>Neutral</td>\n",
       "    </tr>\n",
       "    <tr>\n",
       "      <td>8</td>\n",
       "      <td>Deer in the headlights RT @lizzwinstead: Ben C...</td>\n",
       "      <td>Negative</td>\n",
       "    </tr>\n",
       "    <tr>\n",
       "      <td>9</td>\n",
       "      <td>RT @NancyOsborne180: Last night's debate prove...</td>\n",
       "      <td>Negative</td>\n",
       "    </tr>\n",
       "  </tbody>\n",
       "</table>\n",
       "</div>"
      ],
      "text/plain": [
       "                                                text sentiment\n",
       "0  RT @NancyLeeGrahn: How did everyone feel about...   Neutral\n",
       "1  RT @ScottWalker: Didn't catch the full #GOPdeb...  Positive\n",
       "2  RT @TJMShow: No mention of Tamir Rice and the ...   Neutral\n",
       "3  RT @RobGeorge: That Carly Fiorina is trending ...  Positive\n",
       "4  RT @DanScavino: #GOPDebate w/ @realDonaldTrump...  Positive\n",
       "5  RT @GregAbbott_TX: @TedCruz: \"On my first day ...  Positive\n",
       "6  RT @warriorwoman91: I liked her and was happy ...  Negative\n",
       "7  Going on #MSNBC Live with @ThomasARoberts arou...   Neutral\n",
       "8  Deer in the headlights RT @lizzwinstead: Ben C...  Negative\n",
       "9  RT @NancyOsborne180: Last night's debate prove...  Negative"
      ]
     },
     "execution_count": 2,
     "metadata": {},
     "output_type": "execute_result"
    }
   ],
   "source": [
    "sentiment_data = pd.read_csv(r\"F:\\MLDM\\3rd Semester\\Deep Learning and Applications\\Session 1\\TP\\data\\Sentiment.csv\")\n",
    "sentiment_data = sentiment_data[[\"text\", \"sentiment\"]]\n",
    "sentiment_data[:10]"
   ]
  },
  {
   "cell_type": "markdown",
   "metadata": {},
   "source": [
    "**Question 2. Remove all rows with label Neutral**"
   ]
  },
  {
   "cell_type": "code",
   "execution_count": 3,
   "metadata": {},
   "outputs": [
    {
     "data": {
      "text/html": [
       "<div>\n",
       "<style scoped>\n",
       "    .dataframe tbody tr th:only-of-type {\n",
       "        vertical-align: middle;\n",
       "    }\n",
       "\n",
       "    .dataframe tbody tr th {\n",
       "        vertical-align: top;\n",
       "    }\n",
       "\n",
       "    .dataframe thead th {\n",
       "        text-align: right;\n",
       "    }\n",
       "</style>\n",
       "<table border=\"1\" class=\"dataframe\">\n",
       "  <thead>\n",
       "    <tr style=\"text-align: right;\">\n",
       "      <th></th>\n",
       "      <th>text</th>\n",
       "      <th>sentiment</th>\n",
       "    </tr>\n",
       "  </thead>\n",
       "  <tbody>\n",
       "    <tr>\n",
       "      <td>1</td>\n",
       "      <td>RT @ScottWalker: Didn't catch the full #GOPdeb...</td>\n",
       "      <td>Positive</td>\n",
       "    </tr>\n",
       "    <tr>\n",
       "      <td>3</td>\n",
       "      <td>RT @RobGeorge: That Carly Fiorina is trending ...</td>\n",
       "      <td>Positive</td>\n",
       "    </tr>\n",
       "    <tr>\n",
       "      <td>4</td>\n",
       "      <td>RT @DanScavino: #GOPDebate w/ @realDonaldTrump...</td>\n",
       "      <td>Positive</td>\n",
       "    </tr>\n",
       "    <tr>\n",
       "      <td>5</td>\n",
       "      <td>RT @GregAbbott_TX: @TedCruz: \"On my first day ...</td>\n",
       "      <td>Positive</td>\n",
       "    </tr>\n",
       "    <tr>\n",
       "      <td>6</td>\n",
       "      <td>RT @warriorwoman91: I liked her and was happy ...</td>\n",
       "      <td>Negative</td>\n",
       "    </tr>\n",
       "    <tr>\n",
       "      <td>...</td>\n",
       "      <td>...</td>\n",
       "      <td>...</td>\n",
       "    </tr>\n",
       "    <tr>\n",
       "      <td>13866</td>\n",
       "      <td>RT @cappy_yarbrough: Love to see men who will ...</td>\n",
       "      <td>Negative</td>\n",
       "    </tr>\n",
       "    <tr>\n",
       "      <td>13867</td>\n",
       "      <td>RT @georgehenryw: Who thought Huckabee exceede...</td>\n",
       "      <td>Positive</td>\n",
       "    </tr>\n",
       "    <tr>\n",
       "      <td>13868</td>\n",
       "      <td>RT @Lrihendry: #TedCruz As President, I will a...</td>\n",
       "      <td>Positive</td>\n",
       "    </tr>\n",
       "    <tr>\n",
       "      <td>13869</td>\n",
       "      <td>RT @JRehling: #GOPDebate Donald Trump says tha...</td>\n",
       "      <td>Negative</td>\n",
       "    </tr>\n",
       "    <tr>\n",
       "      <td>13870</td>\n",
       "      <td>RT @Lrihendry: #TedCruz headed into the Presid...</td>\n",
       "      <td>Positive</td>\n",
       "    </tr>\n",
       "  </tbody>\n",
       "</table>\n",
       "<p>10729 rows × 2 columns</p>\n",
       "</div>"
      ],
      "text/plain": [
       "                                                    text sentiment\n",
       "1      RT @ScottWalker: Didn't catch the full #GOPdeb...  Positive\n",
       "3      RT @RobGeorge: That Carly Fiorina is trending ...  Positive\n",
       "4      RT @DanScavino: #GOPDebate w/ @realDonaldTrump...  Positive\n",
       "5      RT @GregAbbott_TX: @TedCruz: \"On my first day ...  Positive\n",
       "6      RT @warriorwoman91: I liked her and was happy ...  Negative\n",
       "...                                                  ...       ...\n",
       "13866  RT @cappy_yarbrough: Love to see men who will ...  Negative\n",
       "13867  RT @georgehenryw: Who thought Huckabee exceede...  Positive\n",
       "13868  RT @Lrihendry: #TedCruz As President, I will a...  Positive\n",
       "13869  RT @JRehling: #GOPDebate Donald Trump says tha...  Negative\n",
       "13870  RT @Lrihendry: #TedCruz headed into the Presid...  Positive\n",
       "\n",
       "[10729 rows x 2 columns]"
      ]
     },
     "execution_count": 3,
     "metadata": {},
     "output_type": "execute_result"
    }
   ],
   "source": [
    "sentiment_data = sentiment_data[sentiment_data.sentiment != \"Neutral\"]\n",
    "sentiment_data"
   ]
  },
  {
   "cell_type": "markdown",
   "metadata": {},
   "source": [
    "**Question 3. Print the number of Positive and Negative rows**"
   ]
  },
  {
   "cell_type": "code",
   "execution_count": 4,
   "metadata": {},
   "outputs": [
    {
     "name": "stdout",
     "output_type": "stream",
     "text": [
      "(2236, 2)\n",
      "(8493, 2)\n"
     ]
    }
   ],
   "source": [
    "positive = sentiment_data[sentiment_data.sentiment == \"Positive\"]\n",
    "negative = sentiment_data[sentiment_data.sentiment == \"Negative\"]\n",
    "print(np.shape(positive))\n",
    "print(np.shape(negative))"
   ]
  },
  {
   "cell_type": "markdown",
   "metadata": {},
   "source": [
    "We see that the number of Negative rows is higher than the number of Positive rows. Today, we only forcus on balanced data, and so we would like to make the two equal.\n",
    "\n",
    "**Question 4. Remove some Negative rows so that #Positive and Negative rows are equal**"
   ]
  },
  {
   "cell_type": "code",
   "execution_count": 5,
   "metadata": {},
   "outputs": [
    {
     "name": "stdout",
     "output_type": "stream",
     "text": [
      "(2236, 2)\n",
      "(2236, 2)\n",
      "(4472, 2)\n",
      "                                                    text sentiment\n",
      "10290  “@msgoddessrises: There's some Cakebread in th...  Positive\n",
      "1229   #GOPDebate Such flailing&amp;whining about \"po...  Negative\n",
      "10315  All this science talk is hot!!!! @BenCarson201...  Positive\n",
      "2995   RT @TheBaxterBean:  Fact: Scott Walker Lies Mo...  Negative\n",
      "3192   Imagine a #Trump Administration dealing with a...  Negative\n",
      "12873  Wow #Trump you've taking advantage of the laws...  Positive\n",
      "12111  RT @RWSurferGirl: The candidates don't have to...  Positive\n",
      "390    @ChrisChristie @RandPaul Americans fear NOT. P...  Negative\n",
      "12418  RT @RWSurferGirl: Thanks Fox News, you're rais...  Positive\n",
      "707    How everyone watching the #GOPDebate last nigh...  Negative\n"
     ]
    }
   ],
   "source": [
    "negative = negative[:2236]\n",
    "print(np.shape(positive))\n",
    "print(np.shape(negative))\n",
    "balanced_sentiment_data = pd.concat([positive, negative])\n",
    "\n",
    "print(np.shape(balanced_sentiment_data))\n",
    "balanced_sentiment_data = balanced_sentiment_data.sample(frac=1)\n",
    "print(balanced_sentiment_data[:10])\n",
    "data = balanced_sentiment_data"
   ]
  },
  {
   "cell_type": "markdown",
   "metadata": {},
   "source": [
    "We convert all data into lower case and remove all special characters"
   ]
  },
  {
   "cell_type": "code",
   "execution_count": 7,
   "metadata": {
    "_cell_guid": "43632d2d-6160-12ce-48b0-e5eb1c207076",
    "_uuid": "d0f8b4542106a279f7398db7285ae5e370b2e813"
   },
   "outputs": [],
   "source": [
    "data['text'] = data['text'].apply(lambda x: x.lower())\n",
    "data['text'] = data['text'].apply((lambda x: re.sub('[^a-zA-z0-9\\s]','',x)))\n",
    "for idx,row in data.iterrows():\n",
    "    row[0] = row[0].replace('rt',' ')"
   ]
  },
  {
   "cell_type": "markdown",
   "metadata": {},
   "source": [
    "Here are two examples of the texts"
   ]
  },
  {
   "cell_type": "code",
   "execution_count": 8,
   "metadata": {},
   "outputs": [
    {
     "name": "stdout",
     "output_type": "stream",
     "text": [
      "gopdebate such flailingampwhining about political correctness as a way to avoid answering any substantive q on warimmigrationmisogyny\n",
      "all this science talk is hot bencarson2016 gopdebates\n",
      "10290    msgoddessrises theres some cakebread in the fr...\n",
      "1229     gopdebate such flailingampwhining about politi...\n",
      "10315    all this science talk is hot bencarson2016 gop...\n",
      "2995       thebaxterbean  fact scott walker lies more o...\n",
      "3192     imagine a trump administration dealing with a ...\n",
      "                               ...                        \n",
      "2455       spwmthe3rd polisciumn did ted cruz just miss...\n",
      "3655       jjauthor now if only realdonaldtrump will go...\n",
      "8899       rwsurfergirl trump has got it right nobody w...\n",
      "3781       swayzeguy foxnews hosts were fist bumping ea...\n",
      "11079      lrihendry tedcruz headed into the presidenti...\n",
      "Name: text, Length: 4472, dtype: object\n"
     ]
    }
   ],
   "source": [
    "print(data.iloc[1].text)\n",
    "print(data.iloc[2].text)\n",
    "print(data['text'])"
   ]
  },
  {
   "cell_type": "markdown",
   "metadata": {},
   "source": [
    "We would like to map each sentence to an array of tokens, each word is a token. To make the array having fixed length, we pad enough 0 to the begining of each array"
   ]
  },
  {
   "cell_type": "code",
   "execution_count": 9,
   "metadata": {},
   "outputs": [],
   "source": [
    "max_fatures = 2000\n",
    "tokenizer = Tokenizer(num_words=max_fatures, split=' ')\n",
    "tokenizer.fit_on_texts(data['text'].values)\n",
    "\n",
    "X = tokenizer.texts_to_sequences(data['text'].values)\n",
    "X = pad_sequences(X)"
   ]
  },
  {
   "cell_type": "code",
   "execution_count": 10,
   "metadata": {
    "scrolled": true
   },
   "outputs": [
    {
     "name": "stdout",
     "output_type": "stream",
     "text": [
      "{'gopdebate': 1, 'the': 2, 'to': 3, 'a': 4, 'and': 5, 'of': 6, 'i': 7, 'is': 8, 'gopdebates': 9, 'trump': 10, 'in': 11, 'for': 12, 'on': 13, 'it': 14, 'you': 15, 'realdonaldtrump': 16, 'this': 17, 'was': 18, 'that': 19, 'not': 20, 'about': 21, 'amp': 22, 'last': 23, 'at': 24, 'debate': 25, 'he': 26, 'be': 27, 'rwsurfergirl': 28, 'foxnews': 29, 'night': 30, 'have': 31, 'my': 32, 'are': 33, 'but': 34, 'as': 35, 'megynkelly': 36, 'with': 37, 'like': 38, 'they': 39, 'fox': 40, 'gop': 41, 'from': 42, 'up': 43, 'who': 44, 'do': 45, 'would': 46, 'if': 47, 'what': 48, 'candidates': 49, 'when': 50, 'all': 51, 'news': 52, 'rubio': 53, 'has': 54, 'so': 55, 'how': 56, 'think': 57, 'will': 58, 'we': 59, 'just': 60, 'get': 61, 'his': 62, 'cruz': 63, 'im': 64, 'me': 65, 'tedcruz': 66, 'more': 67, 'by': 68, 'its': 69, 'one': 70, 'need': 71, 'no': 72, 'donald': 73, 'out': 74, 'your': 75, 'said': 76, 'did': 77, 'can': 78, 'only': 79, 'carson': 80, 'job': 81, 'people': 82, 'time': 83, 'these': 84, 'pa': 85, 'great': 86, 'after': 87, 'should': 88, 'president': 89, 'an': 90, 'bush': 91, 's': 92, 'were': 93, 'right': 94, 'know': 95, 'question': 96, 'best': 97, 'carlyfiorina': 98, 'women': 99, 'y': 100, 'than': 101, 'dont': 102, 'watching': 103, 'good': 104, 'him': 105, 'thanks': 106, 'go': 107, 'now': 108, 'next': 109, 'or': 110, 'tcot': 111, 'youre': 112, 'nights': 113, 'questions': 114, 'take': 115, 'got': 116, 'why': 117, 'g': 118, 'am': 119, 'ratings': 120, 'most': 121, 'really': 122, 'republican': 123, 'our': 124, 'kasich': 125, 'ask': 126, 'their': 127, 'she': 128, 'look': 129, 'debates': 130, 'see': 131, 'hes': 132, 'tell': 133, 'ben': 134, 'megyn': 135, 'didnt': 136, 'won': 137, 'never': 138, 'us': 139, 'had': 140, 'love': 141, 'any': 142, 'her': 143, 'looking': 144, 'ted': 145, 'cant': 146, 'them': 147, 'together': 148, 'tonight': 149, 'set': 150, 'realbencarson': 151, 'real': 152, 'candidate': 153, 'lrihendry': 154, 'truth': 155, 'fiorina': 156, 'jeb': 157, 'immigration': 158, 'suppo': 159, 'band': 160, 'rid': 161, 'watch': 162, 'marcorubio': 163, 'forward': 164, 'expose': 165, 'god': 166, 'some': 167, 'want': 168, 'america': 169, 'say': 170, 'raising': 171, 'carly': 172, 'even': 173, 'very': 174, 'vote': 175, 'winner': 176, '2': 177, 'being': 178, 'always': 179, 'enjoyed': 180, 'talk': 181, 'kelly': 182, 'presidential': 183, 'abo': 184, 'over': 185, 'huckabee': 186, 'says': 187, 'walker': 188, 'marco': 189, 'made': 190, 'johnkasich': 191, 'face': 192, 'make': 193, 'going': 194, 'hillary': 195, 'well': 196, 'during': 197, 'because': 198, 'been': 199, 'better': 200, 'democraticdebates': 201, 'other': 202, 'much': 203, 'via': 204, 'http': 205, 'paul': 206, 'ion': 207, 'donniewahlberg': 208, 'randpaul': 209, 'first': 210, 'govmikehuckabee': 211, 'chris': 212, 'rand': 213, 'moderators': 214, 'into': 215, 'things': 216, 'there': 217, 'ive': 218, 'stage': 219, 'country': 220, 'trumps': 221, 'american': 222, 'still': 223, 'thats': 224, 'win': 225, 'donaldtrump': 226, 'too': 227, 'legitimate': 228, 'nails': 229, 'trump2016': 230, 'christie': 231, 'talking': 232, 'someone': 233, 'doesnt': 234, 'wallaces': 235, 'political': 236, 'jebbush': 237, '1': 238, 'many': 239, 'thing': 240, 'show': 241, 'person': 242, 'ever': 243, 'new': 244, 'actually': 245, 'seen': 246, 'big': 247, 'republicans': 248, 'answer': 249, 'sure': 250, 'u': 251, 'chrischristie': 252, 'let': 253, 'obama': 254, 'anyone': 255, 'mean': 256, 'men': 257, 'control': 258, 'wont': 259, 'back': 260, 'man': 261, 'everyone': 262, 'bretbaier': 263, 'off': 264, 'every': 265, 'military': 266, 'way': 267, 'does': 268, 'then': 269, 'issues': 270, 'down': 271, 'white': 272, 'two': 273, 'dr': 274, 'thank': 275, 'saying': 276, 'h': 277, 'thought': 278, 'attack': 279, 'loved': 280, 'guy': 281, 'rights': 282, 'performance': 283, 'favorite': 284, 'keep': 285, 'yes': 286, 'scott': 287, 'w': 288, 'id': 289, 'against': 290, 'gets': 291, '10': 292, 'could': 293, 'libe': 294, 'brought': 295, 'makes': 296, 'wants': 297, 'needs': 298, 'woman': 299, 'leader': 300, 'change': 301, 'where': 302, 'race': 303, 'doing': 304, 'john': 305, 'call': 306, 'lol': 307, 'scottwalker': 308, 'frankluntz': 309, 'point': 310, 'plan': 311, 'lead': 312, 'care': 313, 'biggest': 314, 'illegal': 315, 'hillaryclinton': 316, 'lot': 317, 'oh': 318, 'calling': 319, 'nobody': 320, 'ente': 321, 'conservative': 322, 'sta': 323, 'potus': 324, 'hands': 325, 'wasnt': 326, 'top': 327, 'again': 328, 'hard': 329, 'clinton': 330, 'line': 331, 'far': 332, 'those': 333, 'fun': 334, 'social': 335, 'trying': 336, 'americans': 337, 'black': 338, 'gopd': 339, 'day': 340, 'headed': 341, 'httpt': 342, 'isnt': 343, 'order': 344, 'world': 345, '2016': 346, 'life': 347, 'same': 348, 'today': 349, 'agree': 350, 'before': 351, 'war': 352, 'break': 353, 'which': 354, 'sma': 355, 'tv': 356, 'ccot': 357, 'half': 358, 'nomination': 359, 'hear': 360, 'admit': 361, 'own': 362, 'httptco8s67pz8a4a': 363, 'climate': 364, 'brain': 365, 'give': 366, 'closing': 367, 'making': 368, 'watched': 369, 'imwithhuck': 370, 'run': 371, 'sense': 372, 'having': 373, 'getting': 374, 'done': 375, 'bad': 376, '4': 377, 'guys': 378, 'here': 379, 'hope': 380, 'hey': 381, 'wins': 382, 'anything': 383, 'less': 384, 'must': 385, 'loser': 386, 'pretty': 387, 'conservatives': 388, 'audience': 389, 'media': 390, 'frontrunner': 391, 'twitter': 392, 'stop': 393, '3': 394, 'thoughts': 395, 'stupid': 396, 'something': 397, 'away': 398, 'politics': 399, 'come': 400, 'looks': 401, 'please': 402, 'true': 403, 'each': 404, 'untill': 405, 'state': 406, 'giving': 407, 'put': 408, 'tough': 409, 'glad': 410, 'running': 411, 'little': 412, 'gopdeb': 413, 'mention': 414, 'cnn': 415, 'group': 416, 'fair': 417, 'clear': 418, 'comments': 419, 'impo': 420, 'speaking': 421, 'gave': 422, 'nothing': 423, 'pjnet': 424, 'democrat': 425, 'himself': 426, 'called': 427, 'problem': 428, 'foxdebate': 429, 'came': 430, 'proud': 431, 'gun': 432, 'kill': 433, 'clown': 434, 'gay': 435, 'fact': 436, 'wow': 437, '5': 438, 'record': 439, 'democrats': 440, 'future': 441, 'prolife': 442, 'seem': 443, 'pattonoswalt': 444, 'ill': 445, 'primary': 446, 'police': 447, 'saw': 448, 'focus': 449, 'httptco': 450, 'hate': 451, 'else': 452, 'rosie': 453, 'lets': 454, 'youtube': 455, 'act': 456, 'gopdebat': 457, 'blacklivesmatter': 458, 'whole': 459, 'words': 460, 'funny': 461, 'kkkorgop': 462, 'seriously': 463, 'government': 464, 're': 465, 'answers': 466, 'ant': 467, 'chance': 468, 'p2': 469, 'whos': 470, 'game': 471, 'believe': 472, 'wallace': 473, 'winners': 474, 'hell': 475, 'planned': 476, 'statement': 477, 'between': 478, 'asked': 479, 'doubledigit': 480, 'matter': 481, 'politicians': 482, 'calls': 483, 'fat': 484, 'tonights': 485, 'ing': 486, 'b': 487, 'times': 488, 'everything': 489, 'moment': 490, 'asking': 491, 'lost': 492, 'bencarson': 493, 'feel': 494, 'election': 495, 'makeamericagreatagain': 496, 'shit': 497, 'end': 498, 'isis': 499, 'enough': 500, 'iran': 501, 'may': 502, 'poor': 503, 'nice': 504, 'kwrcrow': 505, 'ht': 506, 'points': 507, 'place': 508, 'reagan': 509, 'morning': 510, 'vs': 511, 'aining': 512, 'shows': 513, 'reality': 514, 'work': 515, 'pay': 516, 'gopde': 517, 'seems': 518, 'shes': 519, 'went': 520, 'heres': 521, 'interesting': 522, 'impressed': 523, 'respect': 524, 'yu': 525, 'voters': 526, 'debatewithbernie': 527, 'though': 528, 'cruzcrew': 529, 'jobs': 530, 'parenthood': 531, 'read': 532, 'gt': 533, 'class': 534, 'shannonrwatts': 535, 'bimbo': 536, 'head': 537, 'joke': 538, 'thebaxterbean': 539, 'fight': 540, 'mexican': 541, 'showed': 542, 'money': 543, 'wilberforce91': 544, 'around': 545, 'larryelder': 546, 'nine': 547, 'years': 548, 'amymek': 549, 'attacks': 550, '1st': 551, 'wish': 552, 'finally': 553, 'guess': 554, 'issue': 555, 'single': 556, 'also': 557, 'couldnt': 558, 'check': 559, 'https': 560, 'correctness': 561, 'alien': 562, 'wall': 563, 'sentedcruz': 564, 'mike': 565, 'wait': 566, 'drudge': 567, 'mentioned': 568, 'least': 569, 'straight': 570, 'without': 571, 'hair': 572, 'strong': 573, 'berniesanders': 574, 'proved': 575, 'instead': 576, 'killing': 577, 'dc': 578, 'while': 579, 'carly2016': 580, 'security': 581, 'used': 582, 'field': 583, 'campaign': 584, 'bunch': 585, 'huge': 586, 'word': 587, 'heard': 588, 'analysis': 589, 'live': 590, 'thinks': 591, 'voting': 592, 'once': 593, 'poll': 594, 'both': 595, 'early': 596, 'folks': 597, 'play': 598, 'excellent': 599, 'salmasekela': 600, 'rich': 601, 'response': 602, 'ma': 603, 'remember': 604, 'ohio': 605, 'find': 606, 'awesome': 607, 'kids': 608, 'amazing': 609, 'moderator': 610, 'repo': 611, 'fan': 612, 'misogyny': 613, 'maybe': 614, 'might': 615, 'mother': 616, 'under': 617, 'theres': 618, 'ok': 619, 'hour': 620, 'wanted': 621, 'farrakhan': 622, 'bor': 623, 'sad': 624, 'batsask': 625, 'wonder': 626, 'history': 627, 'facebook': 628, 'moments': 629, 'missed': 630, 'comes': 631, 'boy': 632, 'foxnewsdebate': 633, 'personal': 634, 'jesus': 635, 'deal': 636, 'rather': 637, 'marriage': 638, 'standwithrand': 639, 'tried': 640, 'destroy': 641, 'kimguilfoyle': 642, 'nominee': 643, 'obamacare': 644, 'surprised': 645, 'violence': 646, 'name': 647, 'ha': 648, 'three': 649, 'high': 650, 'gopdeba': 651, 'leaders': 652, 'recap': 653, 'impressive': 654, 'given': 655, 'teapa': 656, 'writeintrump': 657, 'favorites': 658, 'post': 659, 'pro': 660, 'full': 661, 'sexist': 662, 'reason': 663, 'old': 664, 'scary': 665, 'taking': 666, 'crazy': 667, 'httpstcolklffn2lfy': 668, 'idea': 669, 'imho': 670, 'try': 671, 'danscavino': 672, 'round': 673, 'ed': 674, 'room': 675, 'walker16': 676, 'wouldnt': 677, 'minutes': 678, 'htt': 679, 'killed': 680, 'liked': 681, 'womens': 682, 'left': 683, 'ppl': 684, 'theyre': 685, 'pigs': 686, 'wrong': 687, 'statements': 688, 'attacking': 689, 'tlot': 690, 'kellyfile': 691, 'another': 692, 'pick': 693, 'disappointed': 694, 'playing': 695, 'bernie': 696, 'quite': 697, 'hu': 698, 'dear': 699, 'education': 700, 'use': 701, 'anymore': 702, 'hilarious': 703, 'super': 704, 'yeah': 705, 'goes': 706, 'losers': 707, 'thepatriot143': 708, 'numbers': 709, 'shouldnt': 710, 'dwstweets': 711, 'inequality': 712, 'commercial': 713, 'outnumbered': 714, 'politically': 715, 'coverage': 716, 'est': 717, 'everybody': 718, 'die': 719, 'took': 720, 'different': 721, 'gov': 722, 'dream': 723, 'thinking': 724, 'miss': 725, 'pc': 726, 'join': 727, 'worst': 728, 'yet': 729, 'mess': 730, 'star': 731, 'lives': 732, 'working': 733, 'spent': 734, 'video': 735, 'realdonaldtrumps': 736, 'speak': 737, 'through': 738, 'purpose': 739, 'looked': 740, 'none': 741, 'knew': 742, 'probably': 743, 'feministabulous': 744, 'disgusting': 745, 'irandeal': 746, 'religion': 747, 'kasich4us': 748, 'rest': 749, 'tweet': 750, 'racist': 751, 'brilliant': 752, 'help': 753, 'takeaway': 754, 'laws': 755, 'r': 756, 'hillary2016': 757, 'serious': 758, 'fuck': 759, 'tax': 760, 'gonna': 761, 'qs': 762, 'ticket': 763, 'seanhannity': 764, 'correct': 765, 'policy': 766, 'walkers': 767, 'mr': 768, 'substance': 769, 'ten': 770, 'told': 771, 'shut': 772, 'fail': 773, 'independent': 774, 'election2016': 775, 'pledge': 776, 'wakeupamerica': 777, 'learned': 778, 'discussing': 779, 'long': 780, 'talked': 781, 'msnbc': 782, 'babies': 783, 'become': 784, 'ers': 785, 'comedy': 786, 'iraq': 787, 'usa': 788, 'rushlimbaugh': 789, 'httptc': 790, 'pathetic': 791, 'sick': 792, 'stuff': 793, 'rubio2016': 794, 'luntz': 795, 'credit': 796, 'kesgardner': 797, 'states': 798, 'close': 799, 'ronald': 800, 'families': 801, 'nation': 802, 'actual': 803, 'roadto2016': 804, 'knows': 805, 'httptcoauhlnza3ww': 806, 'lose': 807, 'human': 808, 'afraid': 809, 'ideas': 810, 'rush': 811, 'such': 812, 'bencarson2016': 813, 'republicandebate': 814, 'stoping': 815, 'unions': 816, 'shame': 817, 'mind': 818, 'fantastic': 819, 'learn': 820, 'few': 821, 'income': 822, 'stand': 823, 'dems': 824, '3rd': 825, 'constitution': 826, 'perry': 827, 'hardball': 828, 'taxes': 829, 'tweeting': 830, '16': 831, 'mattyiceaz': 832, 'clowns': 833, 'peddoc63': 834, 'megan': 835, 'polls': 836, '2015': 837, 'yall': 838, 'understand': 839, 'house': 840, 'somebody': 841, 'remark': 842, 'tweets': 843, 'event': 844, 'outta': 845, 'frank': 846, 'waiting': 847, 'comment': 848, 'uniteblue': 849, 'changed': 850, 'church': 851, 'shot': 852, 'definitely': 853, 'sallykohn': 854, 'finished': 855, 'friends': 856, 'gopclowncar': 857, 'bar': 858, 'amen': 859, 'message': 860, 'listening': 861, 'team': 862, 'hit': 863, 'air': 864, 'biased': 865, 'lies': 866, 'free': 867, 'national': 868, 'liberal': 869, 'dog': 870, 'others': 871, 'fix': 872, 'immigrants': 873, 'themselves': 874, 'beautiful': 875, 'turn': 876, 'ions': 877, 'public': 878, 'fire': 879, 'pove': 880, 'bring': 881, 'kept': 882, 'jindal': 883, 'china': 884, 'handle': 885, 'viewers': 886, 'basically': 887, 'beat': 888, 'kind': 889, 'elected': 890, 'sorry': 891, 'snl': 892, 'case': 893, 'ericstonestreet': 894, 'cam': 895, 'earned': 896, 'spot': 897, 'cool': 898, 'able': 899, 'speaks': 900, 'millions': 901, 'fo': 902, 'ca': 903, 'standing': 904, 'compton': 905, 'played': 906, 'koch': 907, 'balanced': 908, 'based': 909, 'chucknellis': 910, 'united': 911, '2nd': 912, 'health': 913, 'either': 914, 'hangover': 915, 'ur': 916, 'literally': 917, 'until': 918, 'yesterday': 919, 'unfair': 920, 'sanders': 921, 'ready': 922, 'feelthebern': 923, 'okay': 924, 'coming': 925, 'applause': 926, 'hearing': 927, 'middle': 928, 'sound': 929, 'system': 930, 'failed': 931, 'carsons': 932, 'deray': 933, 'million': 934, 'ass': 935, 'o': 936, 'th2016': 937, 'worried': 938, 'rino': 939, 'excited': 940, 'ainment': 941, 'past': 942, 'circus': 943, 'course': 944, 'rnc': 945, 'treated': 946, 'common': 947, 'hrc': 948, 'substantive': 949, 'science': 950, 'youve': 951, 'hand': 952, 'leave': 953, 'sen': 954, 'completely': 955, 'debt': 956, 'em': 957, 'classy': 958, 'border': 959, 'landslide': 960, 'suggest': 961, 'highest': 962, 'second': 963, 'deserve': 964, 'soul': 965, 'lots': 966, 'jonvoyage': 967, 'highlights': 968, 'replace': 969, 'billhemmer': 970, 'cares': 971, 'terms': 972, 'executive': 973, 'behind': 974, 'outnumberedfnc': 975, 'office': 976, 'records': 977, 'santorum': 978, 'teachers': 979, 'car': 980, 'death': 981, 'dudes': 982, 'bipa': 983, 'isanism': 984, 'goptbt': 985, 'iculate': 986, 'held': 987, 'gotta': 988, 'governor': 989, 'wedding': 990, 'drink': 991, 'hug': 992, 'victims': 993, 'year': 994, 'seeing': 995, 'kentpavelka': 996, 'brother': 997, 'bc': 998, 'ignorant': 999, 'arent': 1000, 'bankruptcy': 1001, 'd': 1002, 'mikehuckabeegop': 1003, 'worked': 1004, 'weve': 1005, 'jjauthor': 1006, 'spoke': 1007, 'govchristie': 1008, 'stands': 1009, 'experiment': 1010, 'graham': 1011, 'odonnell': 1012, 'simply': 1013, 'official': 1014, 'home': 1015, 'professional': 1016, 'illegals': 1017, 'games': 1018, 'across': 1019, 'add': 1020, 'c': 1021, 'surprisingly': 1022, 'megynkellys': 1023, 'ce': 1024, 'talks': 1025, 'wo': 1026, 't': 1027, 'means': 1028, 'defend': 1029, 'family': 1030, 'since': 1031, 'telling': 1032, 'americas': 1033, 'fetuses': 1034, 'among': 1035, 'bill': 1036, 'drop': 1037, 'benshapiro': 1038, 'cuckservative': 1039, 'gone': 1040, 'small': 1041, 'businesses': 1042, 'perfect': 1043, 'fine': 1044, 'whether': 1045, 'totally': 1046, 'ones': 1047, 'lines': 1048, 'answering': 1049, 'fear': 1050, '9': 1051, 'omg': 1052, 'according': 1053, 'exactly': 1054, 'decent': 1055, 'fighting': 1056, 'absolutely': 1057, 'bias': 1058, 'choice': 1059, 'photo': 1060, 'gotcha': 1061, 'shocked': 1062, 'delivered': 1063, 'problems': 1064, 'mad': 1065, 'plannedparenthood': 1066, 'movie': 1067, 'zinger': 1068, 'status': 1069, 'winning': 1070, 'noticed': 1071, 'policies': 1072, 'dominates': 1073, 'panel': 1074, 'taken': 1075, 'grneyedmandy': 1076, 'takes': 1077, 'touch': 1078, 'color': 1079, 'table': 1080, 'surprise': 1081, 'bodies': 1082, 'foreign': 1083, 'johnfugelsang': 1084, 'listen': 1085, 'intelligent': 1086, 'economy': 1087, 'daughters': 1088, 'abt': 1089, 'bi': 1090, 'minute': 1091, 'mentions': 1092, 'pamelageller': 1093, 'continues': 1094, 'story': 1095, 'blessed': 1096, 'liberals': 1097, 'cut': 1098, 'boo': 1099, 'pig': 1100, 'orders': 1101, 'putting': 1102, 'ya': 1103, 'establishment': 1104, 'citizens': 1105, 'likes': 1106, 'megankelly': 1107, 'leadership': 1108, 'veterans': 1109, '50': 1110, 'general': 1111, 'congress': 1112, 'obamas': 1113, 'leading': 1114, 'create': 1115, 'matters': 1116, 'aware': 1117, 'rick': 1118, 'nra': 1119, 'whats': 1120, 'idiots': 1121, 'side': 1122, 'choices': 1123, 'owned': 1124, 'ycot': 1125, 'trans': 1126, 'topics': 1127, 'reading': 1128, 'buy': 1129, 'prove': 1130, 'eyes': 1131, 'damn': 1132, 'source': 1133, 'ahead': 1134, 'voter': 1135, 'base': 1136, 'animals': 1137, 'performed': 1138, 'kicked': 1139, 'freedom': 1140, 'student': 1141, 'angry': 1142, 'amendment': 1143, 'idiot': 1144, 'k': 1145, 'mcq': 1146, 'lie': 1147, 'cleveland': 1148, 'son': 1149, 'fucking': 1150, 'yaakovschapiro': 1151, 'position': 1152, 'jon': 1153, 'stewa': 1154, 'drinking': 1155, 'governorperry': 1156, 'alive': 1157, 'cannot': 1158, 'advice': 1159, 'opinion': 1160, 'laugh': 1161, 'needed': 1162, 'guns': 1163, 'johnggalt': 1164, 'facts': 1165, 'stood': 1166, 'third': 1167, 'renomarky': 1168, 'using': 1169, '90': 1170, 'washington': 1171, 'became': 1172, 'separation': 1173, 'baby': 1174, 'honestly': 1175, 'er': 1176, 'th': 1177, 'limbaugh': 1178, 'happy': 1179, 'q': 1180, 'hot': 1181, 'tells': 1182, 'imagine': 1183, 'terrorism': 1184, 'refuse': 1185, 'agenda': 1186, 'kinda': 1187, 'pissed': 1188, 'gods': 1189, 'crap': 1190, 'bingo': 1191, 'shameful': 1192, 'softball': 1193, 'helped': 1194, 'donated': 1195, 'seconds': 1196, 'anncoulter': 1197, 'happened': 1198, 'sexism': 1199, 'worry': 1200, 'jimkilbane': 1201, 'teamsters': 1202, 'hed': 1203, '100': 1204, 'loves': 1205, 'compared': 1206, 'share': 1207, 'rednationrising': 1208, 'herself': 1209, 'trumped': 1210, 'union': 1211, 'wages': 1212, 'budget': 1213, 'nsa': 1214, 'realize': 1215, 'prepared': 1216, 'living': 1217, 'twice': 1218, 'pure': 1219, 'theater': 1220, 'except': 1221, 'business': 1222, 'solid': 1223, 'ys': 1224, 'myself': 1225, 'following': 1226, 'katiepavlich': 1227, 'annebayefsky': 1228, 'huh': 1229, 'complaining': 1230, 'deep': 1231, 'paying': 1232, 'transgender': 1233, 'nytimes': 1234, 'oppo': 1235, 'unity': 1236, 'wtf': 1237, 'n': 1238, 'btw': 1239, 'gop2016': 1240, 'sex': 1241, 'stay': 1242, 'florida': 1243, 'maureenjohnson': 1244, 'personally': 1245, 'easily': 1246, 'opponents': 1247, 'blame': 1248, 'clintons': 1249, 'congrats': 1250, 'sir': 1251, 'received': 1252, 'episode': 1253, 'voted': 1254, 'york': 1255, 'deserves': 1256, 'epicfail': 1257, 'likely': 1258, 'rip': 1259, 'legal': 1260, 'repub': 1261, 'boys': 1262, 'lgbt': 1263, 'agreed': 1264, 'friend': 1265, 'defund': 1266, 'clips': 1267, 'spo': 1268, 'scared': 1269, 'bully': 1270, 'roll': 1271, 'rubios': 1272, 'ears': 1273, 'offer': 1274, 'protect': 1275, 'dreamdefenders': 1276, 'commentary': 1277, 'randpauls': 1278, 'rickcanton': 1279, 'interview': 1280, 'zellieimani': 1281, 'climatechange': 1282, 'voxdotcom': 1283, 'children': 1284, 'paid': 1285, 'laughing': 1286, 'reince': 1287, 'front': 1288, 'gold': 1289, 'career': 1290, 'hilary': 1291, 'sounds': 1292, 'zeitgeistghost': 1293, 'neurosurgeon': 1294, 'easy': 1295, 'solutions': 1296, '8': 1297, 'school': 1298, 'dem': 1299, 'imo': 1300, 'lizzwinstead': 1301, 'unborn': 1302, 'ended': 1303, 'count': 1304, 'israel': 1305, 'awful': 1306, 'brutality': 1307, 'plans': 1308, 'healthcare': 1309, 'low': 1310, 'reform': 1311, 'fired': 1312, 'fetus': 1313, 'reasonable': 1314, 'young': 1315, 'unprofessional': 1316, 'culture': 1317, 'express': 1318, 'drunk': 1319, 'followed': 1320, 'rules': 1321, 'pres': 1322, 'reminder': 1323, 'host': 1324, 'seemed': 1325, 'major': 1326, 'exciting': 1327, 'complete': 1328, 'quote': 1329, 'move': 1330, 'ronpaul': 1331, 'sho': 1332, 'created': 1333, 'possible': 1334, 'senator': 1335, 'religious': 1336, 'bomb': 1337, 'democratic': 1338, 'hours': 1339, 'terrible': 1340, 'core': 1341, 'qualified': 1342, 'almost': 1343, 'overall': 1344, 'yo': 1345, 'kidding': 1346, 'schools': 1347, 'instagram': 1348, 'direct': 1349, 'mostly': 1350, 'writing': 1351, 'experience': 1352, 'forget': 1353, 'waynedupreeshow': 1354, 'msgoddessrises': 1355, 'open': 1356, 'honest': 1357, 'format': 1358, 'piece': 1359, 'freedomjames7': 1360, 'pauls': 1361, 'objective': 1362, 'hang': 1363, 'door': 1364, 'puppets': 1365, 'vp': 1366, '6': 1367, 'racial': 1368, 'self': 1369, 'runs': 1370, 'hillarys': 1371, 'email': 1372, 'faves': 1373, 'sold': 1374, 'terrorists': 1375, 'drama': 1376, 'jessicavalenti': 1377, 'appreciate': 1378, 'sadly': 1379, 'sham': 1380, 'step': 1381, 'barack': 1382, 'russia': 1383, 'prez': 1384, 'lady': 1385, 'app': 1386, 'nailed': 1387, 'nuclear': 1388, 'gaymarriage': 1389, 'daughter': 1390, 'dick': 1391, 'integrity': 1392, 'unlike': 1393, 'federal': 1394, 'spoken': 1395, 'blow': 1396, 'season': 1397, 'warrant': 1398, 'officially': 1399, 'hp': 1400, 'ceo': 1401, 'already': 1402, 'notice': 1403, 'holy': 1404, '19': 1405, 'elect': 1406, 'book': 1407, 'wheres': 1408, 'alone': 1409, 'terrifying': 1410, 'islam': 1411, 'brios82': 1412, 'vine': 1413, '911': 1414, 'reveals': 1415, 'breaking': 1416, 'mistake': 1417, 'economic': 1418, 'cruzs': 1419, 'tedcruz2016': 1420, 'etc': 1421, 'number': 1422, 'trumpforpresident': 1423, 'involved': 1424, 'prediction': 1425, 'checking': 1426, 'parents': 1427, 'allenwestrepub': 1428, 'body': 1429, 'wondering': 1430, 'pass': 1431, 'govt': 1432, 'genius': 1433, 'christian': 1434, 'fieldnegro': 1435, 'brothers': 1436, 'voice': 1437, 'hamaccallum': 1438, 'emails': 1439, 'track': 1440, 'ppact': 1441, 'patriotmom61': 1442, 'teach': 1443, 'learjetter': 1444, 'beating': 1445, 'goal': 1446, 'noamnesty': 1447, 'law': 1448, 'terror': 1449, 'amaraconda': 1450, 'questioning': 1451, 'towards': 1452, 'doubt': 1453, 'jonstewa': 1454, 'holding': 1455, 'save': 1456, 'greatest': 1457, 'elections': 1458, 'hat': 1459, 'view': 1460, 'tone': 1461, 'bed': 1462, 'anyway': 1463, 'power': 1464, 'bucksexton': 1465, 'kellys': 1466, 'assume': 1467, 'worse': 1468, 'died': 1469, 'four': 1470, 'results': 1471, 'justice': 1472, 'chriswallace': 1473, 'list': 1474, 'found': 1475, 'cause': 1476, 'shocking': 1477, 'somewhere': 1478, 'image': 1479, 'smug': 1480, 'debbie': 1481, 'werent': 1482, 'address': 1483, 'billmaher': 1484, 'doubts': 1485, 'pimps': 1486, 'props': 1487, 'ainly': 1488, 'ingrahamangle': 1489, 'complain': 1490, 'rocked': 1491, 'card': 1492, 'studentsforrubio': 1493, 'along': 1494, 'romney': 1495, 'later': 1496, 'relations': 1497, 'pumped': 1498, 'grown': 1499, 'keeps': 1500, 'reasons': 1501, 'drugs': 1502, 'benefits': 1503, 'feed': 1504, 'trust': 1505, 'maydnusa': 1506, 'female': 1507, 'foxnewspolitics': 1508, 'discussion': 1509, 'kasichs': 1510, 'moderate': 1511, 'dangerous': 1512, 'energy': 1513, 'city': 1514, 'service': 1515, 'movement': 1516, 'trumpissues': 1517, 'several': 1518, 'faith': 1519, 'christ': 1520, 'forgot': 1521, 'tellingitlikeitis': 1522, 'weak': 1523, 'guypbenson': 1524, 'rate': 1525, 'gained': 1526, 'views': 1527, 'six': 1528, 'trash': 1529, 'biasedgirl': 1530, 'attention': 1531, 'belong': 1532, 'favor': 1533, 'targeted': 1534, 'tuned': 1535, 'clearly': 1536, 'teammarco': 1537, 'earn': 1538, 'perry2016': 1539, 'simple': 1540, 'raise': 1541, 'known': 1542, 'socialist': 1543, 'liar': 1544, 'primetime': 1545, 'defunded': 1546, 'fb': 1547, 'park': 1548, 'hunger': 1549, 'ies': 1550, 'internationalbeerday': 1551, 'disagree': 1552, 'hadiyah': 1553, 'thousands': 1554, 'ridiculous': 1555, 'roundup': 1556, 'cenkuygur': 1557, 'anchors': 1558, 'opposite': 1559, 'youll': 1560, 'rating': 1561, 'difference': 1562, 'ea': 1563, 'teatraitors': 1564, 'helping': 1565, 'research': 1566, 'informed': 1567, 'responses': 1568, 'late': 1569, 'evening': 1570, 'civil': 1571, 'mothers': 1572, 'macdebate': 1573, 'ku': 1574, 'allowed': 1575, 'center': 1576, 'despite': 1577, 'ainf': 1578, 'tntvote': 1579, 'wisconsin': 1580, 'crowd': 1581, 'ugh': 1582, 'imagining': 1583, 'google': 1584, 'humor': 1585, 'avoid': 1586, 'advantage': 1587, 'felt': 1588, 'racism': 1589, 'wild': 1590, 'abandon': 1591, 'nasty': 1592, 'daveweigel': 1593, 'wrap': 1594, 'loyalty': 1595, 'bet': 1596, 'awkward': 1597, 'natural': 1598, 'throwing': 1599, 'handled': 1600, 'luck': 1601, 'texas': 1602, 'fights': 1603, 'battle': 1604, 'pp': 1605, 'mexico': 1606, 'el': 1607, 'latinos': 1608, 'acted': 1609, 'clip': 1610, 'quick': 1611, '30': 1612, 'summary': 1613, 'shade': 1614, 'rock': 1615, 'queen': 1616, 'x': 1617, 'mom': 1618, 'baltimore': 1619, 'mercedesschlapp': 1620, 'gays': 1621, 'whitehouse': 1622, 'zingers': 1623, 'crappy': 1624, 'begins': 1625, 'foxs': 1626, 'solidifying': 1627, 'afternoon': 1628, 'hates': 1629, 'mouth': 1630, 'viewership': 1631, 'bottom': 1632, 'entire': 1633, 'mask': 1634, 'feelings': 1635, 'higher': 1636, 'recognize': 1637, 'moving': 1638, 'cuts': 1639, 'missing': 1640, 'stupidity': 1641, 'passed': 1642, 'network': 1643, 'sane': 1644, 'week': 1645, 'include': 1646, '2012': 1647, 'wealthy': 1648, 'setting': 1649, 'especially': 1650, 'trillion': 1651, 'dollars': 1652, 'tomorrow': 1653, 'strength': 1654, 'honesty': 1655, 'special': 1656, 'rapists': 1657, 'planning': 1658, 'wife': 1659, 'father': 1660, 'dislike': 1661, 'polished': 1662, 'politician': 1663, 'disturbing': 1664, 'corrupt': 1665, 'thatchrisgore': 1666, 'standwithpp': 1667, 'arrogant': 1668, 'kasich2016': 1669, 'total': 1670, 'wage': 1671, 'rep': 1672, 'zero': 1673, 'leverage': 1674, 'claim': 1675, 'enjoy': 1676, 'clock': 1677, 'bye': 1678, 'va': 1679, 'performances': 1680, 'success': 1681, 'haircut': 1682, 'lesson': 1683, 'price': 1684, 'picture': 1685, 'loving': 1686, 'hoping': 1687, 'elizabethnd04': 1688, 'nannacassie': 1689, 'polling': 1690, 'comfo': 1691, 'ime': 1692, 'nro': 1693, 'lilagracerose': 1694, 'christians': 1695, 'effect': 1696, 'retweet': 1697, 'congratulations': 1698, 'finest': 1699, 'lindasuhler': 1700, 'httptcohimscrvikr': 1701, 'frankconniff': 1702, 'useful': 1703, 'extremely': 1704, 'sharp': 1705, 'pic': 1706, 'troops': 1707, 'tenmen': 1708, 'century': 1709, 'shocks': 1710, 'faithful': 1711, 'irrelevant': 1712, 'nclr': 1713, 'toddstarnes': 1714, 'dad': 1715, 'markdavis': 1716, 'mostwatched': 1717, 'billionaires': 1718, 'apprentice': 1719, 'attorney': 1720, 'expected': 1721, 'redstatejake': 1722, 'ohnoshetwitnt': 1723, 'solution': 1724, 'named': 1725, 'wanna': 1726, 'livestream': 1727, 'forbid': 1728, 'ff': 1729, 'thefriddle': 1730, 'majority': 1731, 'hitting': 1732, 'concern': 1733, 'po': 1734, 'dogs': 1735, 'bigotry': 1736, 'rhetoric': 1737, 'expect': 1738, 'grow': 1739, 'barbaraboxer': 1740, 'master': 1741, 'followers': 1742, 'bullshit': 1743, 'yrs': 1744, 'ignorance': 1745, 'firing': 1746, 'bernie2016': 1747, 'confusing': 1748, 'sec': 1749, 'months': 1750, 'believable': 1751, 'z': 1752, 'misogynistic': 1753, 'ain': 1754, 'choose': 1755, 'yay': 1756, 'constitutional': 1757, 'decision': 1758, 'bit': 1759, 'sums': 1760, 'longer': 1761, 'exists': 1762, 'schultz': 1763, 'expectations': 1764, 'ax': 1765, 'uterus': 1766, 'pandering': 1767, 'ques': 1768, 'root': 1769, 'cou': 1770, 'beyond': 1771, 'surgeon': 1772, 'incompetent': 1773, 'alexandraheuser': 1774, 'ricksantorum': 1775, 'interviews': 1776, 'chrisjzullo': 1777, 'countries': 1778, 'insulting': 1779, 'sounded': 1780, 'thoughtful': 1781, 'bankruptcies': 1782, 'threat': 1783, 'woke': 1784, 'mexicans': 1785, 'principles': 1786, 'fake': 1787, 'rightly': 1788, 'bat': 1789, 'decisions': 1790, 'opening': 1791, 'personalities': 1792, 'boring': 1793, 'repeal': 1794, 'fewer': 1795, 'rmconservative': 1796, '5th': 1797, 'greta': 1798, 'billionaire': 1799, 'huckabees': 1800, 'term': 1801, 'scare': 1802, 'billion': 1803, 'debacle': 1804, 'abc': 1805, 'veteran': 1806, 'answered': 1807, 'soon': 1808, 'due': 1809, 'protecting': 1810, 'role': 1811, 'owns': 1812, 'factcheck': 1813, 'topprog': 1814, 'affordable': 1815, 'child': 1816, 'stealing': 1817, 'crying': 1818, 'f': 1819, 'gain': 1820, '20': 1821, '12': 1822, 'thedemocrats': 1823, 'rhondawatkgwyn': 1824, 'dumptrump': 1825, 'dumb': 1826, 'progressive': 1827, '4th': 1828, 'megynkellydebatequestions': 1829, 'steph93065': 1830, 'slob': 1831, 'send': 1832, 'moved': 1833, 'ladysandersfarm': 1834, 'growth': 1835, 'mark': 1836, 'pretend': 1837, 'marmel': 1838, 'booze': 1839, 'overnight': 1840, 'liking': 1841, 'commentators': 1842, 'born': 1843, 'follow': 1844, '2013': 1845, 'invade': 1846, 'struggling': 1847, 'misogynist': 1848, 'ms': 1849, 'swimsuit': 1850, 'paranoid': 1851, 'silent': 1852, 'endorsement': 1853, 'invasion': 1854, '2016election': 1855, 'nielsen': 1856, 'tnycloseread': 1857, 'sanctuary': 1858, 'cities': 1859, 'hannity': 1860, 'throw': 1861, 'moderating': 1862, 'lt': 1863, 'dead': 1864, 'chrisstirewalt': 1865, '7': 1866, 'meanwhile': 1867, 'hea': 1868, 'strategy': 1869, 'knocked': 1870, 'petty': 1871, 'p0tus': 1872, 'mic': 1873, 'hy': 1874, 'humanity': 1875, 'internet': 1876, 'values': 1877, 'candidacy': 1878, 'becoming': 1879, 'beginning': 1880, 'believes': 1881, 'skin': 1882, '160': 1883, 'fellow': 1884, 'reminds': 1885, 'truly': 1886, 'krauthammer': 1887, 'push': 1888, 'conversation': 1889, 'showing': 1890, 'offensive': 1891, 'filled': 1892, 'citizenship': 1893, 'funding': 1894, 'brings': 1895, 'ground': 1896, 'confused': 1897, 'matthews': 1898, 'brithume': 1899, 'title': 1900, 'remarks': 1901, 'dropped': 1902, 'thru': 1903, 'vision': 1904, 'feminist': 1905, 'dominated': 1906, 'depressing': 1907, 'suddenly': 1908, 'write': 1909, 'bitch': 1910, 'unite': 1911, 'allow': 1912, 'reminded': 1913, 'shoutout': 1914, 'speaker': 1915, 'presence': 1916, 'considering': 1917, 'gives': 1918, 'ericbolling': 1919, 'worrying': 1920, 'drbencarson': 1921, 'pointed': 1922, 'l': 1923, 'driving': 1924, 'disappointing': 1925, 'palmaceiahome1': 1926, 'ali': 1927, 'hosted': 1928, 'fai': 1929, 'hero': 1930, 'tired': 1931, 'road': 1932, 'shouldve': 1933, 'fans': 1934, 'happiest': 1935, 'steaknstiffarms': 1936, 'omgop': 1937, 'walk': 1938, 'remind': 1939, 'type': 1940, 'progressives': 1941, 'above': 1942, 'whining': 1943, 'gentleman': 1944, 'httptcoo': 1945, 'red': 1946, 'often': 1947, 'warmongering': 1948, 'hadnt': 1949, 'rosieodonnell': 1950, 'immigrationreform': 1951, 'nerdist': 1952, 'orange': 1953, 'debating': 1954, '50th': 1955, 'companies': 1956, 'generally': 1957, 'eating': 1958, 'ijreview': 1959, 'hankrearden': 1960, 'consider': 1961, 'weekend': 1962, 'drma': 1963, 'yfox': 1964, 'chose': 1965, 'percent': 1966, 'argue': 1967, 'opposed': 1968, '14': 1969, 'billclinton': 1970, 'sensanders': 1971, 'louvice': 1972, 'kudos': 1973, 'candycrowley': 1974, 'di': 1975, 'churches': 1976, 'scottwalkers': 1977, 'keithboykin': 1978, 'rubiokasich': 1979, 'names': 1980, 'ss': 1981, 'shock': 1982, 'value': 1983, 'ability': 1984, 'bigger': 1985, 'rescind': 1986, 'action': 1987, 'girl': 1988, 'jedediahbila': 1989, 'badly': 1990, 'exposed': 1991, 'apology': 1992, 'senschumer': 1993, 'schumer': 1994, 'workers': 1995, 'nite': 1996, 'theyd': 1997, 'wives': 1998, 'spite': 1999, 'disqualified': 2000, 'pm': 2001, 'changing': 2002, 'satire': 2003, 'friday': 2004, 'defeating': 2005, 'equality': 2006, '0': 2007, 'defundpp': 2008, 'standout': 2009, 'sides': 2010, 'inomalley': 2011, 'wwomd': 2012, 'respectful': 2013, 'however': 2014, 'cult': 2015, 'tap': 2016, 'gopdebacle': 2017, 'getmoneyout': 2018, 'kochvspope': 2019, 'warriorwoman91': 2020, 'declared': 2021, 'creates': 2022, 'haters': 2023, 'thx': 2024, 'refreshing': 2025, 'invite': 2026, 'screen': 2027, 'emerges': 2028, 'brightest': 2029, 'earlier': 2030, 'account': 2031, 'hashtag': 2032, 'bright': 2033, 'trumpeffect': 2034, 'runbenrun': 2035, 'fence': 2036, 'convinced': 2037, 'mtaibbi': 2038, 'amnesty': 2039, 'preview': 2040, 'caseybake16': 2041, 'claimed': 2042, 'prochoice': 2043, 'frustrating': 2044, 'appointed': 2045, 'sept': 2046, 'dude': 2047, 'soldiers': 2048, 'debatequestionswewanttohear': 2049, 'bills': 2050, 'waste': 2051, 'interest': 2052, 'roast': 2053, 'mutant': 2054, 'superpower': 2055, 'fearmongering': 2056, 'bushs': 2057, 'todd': 2058, 'force': 2059, 'jamiaw': 2060, 'rude': 2061, 'easier': 2062, 'popular': 2063, 'feels': 2064, 'kumailn': 2065, 'mainstream': 2066, 'praise': 2067, 'rove': 2068, 'swinging': 2069, 'foxandfriends': 2070, 'swag': 2071, 'caitlyn': 2072, 'jenner': 2073, 'broke': 2074, 'grew': 2075, 'offended': 2076, 'cute': 2077, 'eve': 2078, 'marklevinshow': 2079, 'cuban': 2080, 'nutshell': 2081, 'blue': 2082, 'rap': 2083, 'washingtonpost': 2084, 'reaction': 2085, 'obvious': 2086, 'tho': 2087, 'hollywood': 2088, '2000': 2089, 'blood': 2090, 'regardless': 2091, 'judge': 2092, 'americaonpoint': 2093, 'disaster': 2094, 'chair': 2095, 'fruit': 2096, 'benghazi': 2097, 'blog': 2098, 'ai': 2099, 'supermanhotmale': 2100, 'attacked': 2101, 'medicare': 2102, 'brianstelter': 2103, 'quotes': 2104, 'bold': 2105, 'factchecking': 2106, 'patients': 2107, 'mental': 2108, 'knowledge': 2109, 'postdebate': 2110, 'girls': 2111, 'weeklystandard': 2112, 'obviously': 2113, 'influence': 2114, 'lied': 2115, 'fought': 2116, 'interviewer': 2117, 'wouldve': 2118, 'moves': 2119, 'outstanding': 2120, '17': 2121, 'funniest': 2122, 'theskimm': 2123, 'boss': 2124, '21st': 2125, 'explaining': 2126, 'kid': 2127, 'lesbians': 2128, 'cable': 2129, 'signing': 2130, 'riot': 2131, 'bruh': 2132, 'increase': 2133, 'essentially': 2134, 'score': 2135, 'incredible': 2136, 'previous': 2137, 'appropriate': 2138, 'journalist': 2139, 'bs': 2140, 'linnyitssn': 2141, 'bringing': 2142, 'buffoon': 2143, 'normal': 2144, 'wear': 2145, 'challenge': 2146, 'respond': 2147, 'voices': 2148, 'roxbury': 2149, 'gawd': 2150, 'victim': 2151, 'senate': 2152, 'willing': 2153, 'nyt': 2154, 'lying': 2155, 'appointment': 2156, 'kharyp': 2157, 'sees': 2158, 'jerry': 2159, 'bret': 2160, 'gopclownshow': 2161, '81': 2162, 'imagined': 2163, 'soundtrack': 2164, 'leahr77': 2165, 'st': 2166, 'biz': 2167, 'considered': 2168, 'whatever': 2169, 'ailes': 2170, 'mo': 2171, 'fallen': 2172, 'tense': 2173, 'pundits': 2174, 'deb': 2175, 'libby': 2176, 'wthe': 2177, 'robbed': 2178, 'quality': 2179, 'rumpfshaker': 2180, 'pledges': 2181, 'sewers': 2182, 'otherwise': 2183, 'miracles': 2184, 'works': 2185, 'regarding': 2186, 'jerk': 2187, 'wasserman': 2188, 'murdered': 2189, '3x': 2190, 'eat24': 2191, 'key': 2192, 'takeaways': 2193, 'nod': 2194, 'date': 2195, 'jhogangidley': 2196, 'sc': 2197, 'da': 2198, 'age': 2199, 'stance': 2200, 'thursdays': 2201, 'rick2016': 2202, 'stump': 2203, 'pftcommenter': 2204, 'flesh': 2205, 'irs': 2206, 'screaming': 2207, 'fall': 2208, 'j8p': 2209, 'obnoxious': 2210, 'fakedansavage': 2211, 'cruztovictory': 2212, 'circle': 2213, 'm': 2214, 'nochristie16': 2215, 'p': 2216, 'pushing': 2217, 'quiet': 2218, 'east': 2219, 'empty': 2220, 'cha': 2221, 'final': 2222, 'cr': 2223, 'carolcnn': 2224, 'file': 2225, 'subjects': 2226, 'arguing': 2227, 'platform': 2228, '14th': 2229, 'amendments': 2230, 'fairly': 2231, 'neutral': 2232, 'transparent': 2233, 'johncardillo': 2234, 'appeared': 2235, 'honor': 2236, 'led': 2237, 'prime': 2238, 'dan': 2239, 'slavery': 2240, 'oval': 2241, 'youd': 2242, 'witty': 2243, 'mix': 2244, 'cbs': 2245, 'icle': 2246, 'non': 2247, 'trial': 2248, 'oppose': 2249, 'patriots': 2250, 'describe': 2251, 'straighten': 2252, 'financial': 2253, 'lizadonnelly': 2254, 'nonsense': 2255, 'holds': 2256, 'figure': 2257, 'shootings': 2258, 'serve': 2259, 'sjw': 2260, 'arian': 2261, 'graduated': 2262, 'fnc': 2263, 'brains': 2264, 'slightly': 2265, 'coketweet': 2266, 'libcrib': 2267, 'stoprush': 2268, 'thedailybeast': 2269, 'journalists': 2270, 'built': 2271, 'huck': 2272, 'build': 2273, 'weeks': 2274, 'carry': 2275, 'nerdywonka': 2276, 'production': 2277, '1on1': 2278, '40': 2279, 'donation': 2280, 'cruz2016': 2281, 'compassionate': 2282, 'inner': 2283, 'display': 2284, 'jersey': 2285, 'southernhomo': 2286, 'freaking': 2287, 'match': 2288, 'song': 2289, 'prevent': 2290, 'privately': 2291, 'lessgovmorefun': 2292, 'horror': 2293, 'embarrassed': 2294, 'successful': 2295, 'franklin': 2296, 'gopdebateencouraging': 2297, 'chief': 2298, 'uses': 2299, 'apparently': 2300, 'marks': 2301, 'itd': 2302, 'til': 2303, 'competition': 2304, 'defense': 2305, 'pot': 2306, 'fast': 2307, 'talkingbut': 2308, 'fu': 2309, 'canada': 2310, 'phenomenal': 2311, 'rsg15': 2312, 'cemented': 2313, 'happening': 2314, 'tech': 2315, 'improve': 2316, 'positions': 2317, 'types': 2318, 'form': 2319, 'makedclisten': 2320, 'kellyfailed': 2321, 'tytlive': 2322, 'dcexaminer': 2323, 'caught': 2324, 'onto': 2325, 'provoking': 2326, 'hoped': 2327, 'attend': 2328, 'disclose': 2329, 'concept': 2330, 'evolved': 2331, 'places': 2332, 'kim': 2333, 'rape': 2334, 'blaming': 2335, 'mccain': 2336, 'challenging': 2337, 'weave': 2338, 'homes': 2339, 'sets': 2340, 'mil': 2341, 'humans': 2342, 'secure': 2343, 'football': 2344, 'ball': 2345, 'runner': 2346, 'ignored': 2347, 'wing': 2348, 'teacher': 2349, 'bell': 2350, 'treating': 2351, 'rocks': 2352, 'drinks': 2353, 'edwrather': 2354, 'promise': 2355, 'yladyusa': 2356, 'continue': 2357, 'evidence': 2358, 'sneaky': 2359, 'background': 2360, 'founding': 2361, 'fathers': 2362, 'hosts': 2363, 'cheer': 2364, 'finish': 2365, 'troll': 2366, 'icymi': 2367, 'safety': 2368, 'dvr': 2369, 'asshole': 2370, '9pm': 2371, 'realalexjones': 2372, 'corporate': 2373, 'nations': 2374, 'wed': 2375, 'crush': 2376, 'ignore': 2377, 'bethbehrs': 2378, 'httpstcopzpyl1rdu6': 2379, 'exposing': 2380, 'fraud': 2381, 'hits': 2382, 'foxgop': 2383, 'demagog': 2384, 'foodfighter': 2385, 'morningjoe': 2386, 'implode': 2387, '32': 2388, 'crazier': 2389, 'cast': 2390, 'dawnintheworld': 2391, 'smoking': 2392, 'aint': 2393, 'theyve': 2394, 'till': 2395, 'description': 2396, 'denied': 2397, 'wake': 2398, 'caller': 2399, 'letting': 2400, 'bettybowers': 2401, 'screwed': 2402, 'rhinos': 2403, 'contrast': 2404, 'loony': 2405, 'neither': 2406, 'jumped': 2407, 'main': 2408, 'reads': 2409, 'unless': 2410, 'sometimes': 2411, 'shaunking': 2412, 'ago': 2413, 'retweeted': 2414, 'collapse': 2415, 'democracy': 2416, 'directly': 2417, 'information': 2418, 'respects': 2419, 'de': 2420, 'kerryepp': 2421, 'httpstc': 2422, 'minorities': 2423, 'contest': 2424, 'cage': 2425, 'happens': 2426, 'accurate': 2427, 'pregnant': 2428, 'walked': 2429, 'meal': 2430, 'amount': 2431, 'youngblkrepub': 2432, 'damienfahey': 2433, 'mixtape': 2434, 'ie': 2435, 'arrogance': 2436, 'atom': 2437, 'uprights': 2438, 'ring': 2439, 'praising': 2440, 'hopeful': 2441, 'tithing': 2442, 'canadian': 2443, 'cabinet': 2444, 'warmongers': 2445, 'andreatantaros': 2446, 'adviser': 2447, 'whores': 2448, 'explain': 2449, 'lmfao': 2450, 'theme': 2451, 'aside': 2452, 'spin': 2453, 'divide': 2454, 'costs': 2455, 'gunsense': 2456, 'tries': 2457, 'ny': 2458, 'served': 2459, 'leads': 2460, 'colmorrisdavis': 2461, 'upset': 2462, 'backed': 2463, 'assclown': 2464, 'dnc': 2465, 'proof': 2466, 'michellemalkin': 2467, 'humble': 2468, 'lack': 2469, 'legalize': 2470, 'prostitution': 2471, 'usual': 2472, 'insightful': 2473, 'mate': 2474, 'satisfying': 2475, 'catch': 2476, 'senatorshoshana': 2477, 'rise': 2478, 'childish': 2479, 'punch': 2480, 'molonlabe1776us': 2481, 'lower': 2482, 'unconditional': 2483, 'fashion': 2484, 'immigrannacion': 2485, 'cirnow': 2486, 'web': 2487, 'picks': 2488, 'freedomtexasmom': 2489, 'misogynists': 2490, 'idol': 2491, 'whose': 2492, 'todays': 2493, 'hugs': 2494, 'smaller': 2495, 'days': 2496, 'cold': 2497, 'friendly': 2498, 'gtgt': 2499, 'attempt': 2500, 'david': 2501, 'shining': 2502, 'happen': 2503, 'beheaded': 2504, 'overseas': 2505, 'weird': 2506, 'favs': 2507, 'hooray': 2508, 'mine': 2509, 'street': 2510, 'summed': 2511, 'raised': 2512, 'gotten': 2513, 'throws': 2514, 'safe': 2515, 'wars': 2516, 'russias': 2517, 'svme': 2518, 'drew': 2519, 'emerged': 2520, 'getupstandup2': 2521, 'havent': 2522, 'tune': 2523, 'lzdebates': 2524, 'fucked': 2525, 'clean': 2526, 'powerful': 2527, 'oon': 2528, 'tammy': 2529, 'pence': 2530, 'accomplishments': 2531, 'fl': 2532, 'carson2016': 2533, 'disrespectful': 2534, 'thedailyshow': 2535, 'notamistake': 2536, 'coincidence': 2537, 'finance': 2538, 'saramarietweets': 2539, 'note': 2540, 'consensus': 2541, 'blew': 2542, 'hosting': 2543, 'hampshire': 2544, 'adult': 2545, 'th16': 2546, 'character': 2547, 'respected': 2548, 'turned': 2549, 'sarahhuckabee': 2550, 'mitchellrepo': 2551, 'nj': 2552, 'similar': 2553, 'goldengateblond': 2554, 'buying': 2555, 'gopdebate2016': 2556, 'ambush': 2557, 'beg': 2558, 'nut': 2559, 'supreme': 2560, 'bidenshairplugs': 2561, 'wit': 2562, 'coach': 2563, 'solve': 2564, 'icularly': 2565, 'jenniferweiner': 2566, 'dealing': 2567, 'raises': 2568, 'itsshoboy': 2569, 'winnersand': 2570, 'latins': 2571, 'immediately': 2572, 'mamadoxie': 2573, 'daenerys': 2574, 'jeaniebgd': 2575, 'makeam': 2576, 'television': 2577, 'horrible': 2578, 'brett': 2579, 'baier': 2580, 'anniversary': 2581, 'marymauldin': 2582, 'fearful': 2583, 'carrying': 2584, 'pose': 2585, 'bankrupt': 2586, 'embarrassment': 2587, 'cspanwj': 2588, 'apa': 2589, 'absurd': 2590, 'comical': 2591, 'foreigners': 2592, 'bashing': 2593, 'vagina': 2594, 'meme': 2595, 'kochbrothers': 2596, 'wined': 2597, 'dined': 2598, 'weekendas': 2599, 'patriarchy': 2600, 'competing': 2601, 'bentonlee1': 2602, 'gosh': 2603, 'chrismatthewsgottold': 2604, 'httpstcoh3dss4dxmo': 2605, '4billlewis': 2606, 'thomasismyuncle': 2607, 'fund': 2608, 'nh': 2609, 'forum': 2610, 'cityclub': 2611, 'bmangh': 2612, 'enemies': 2613, 'sake': 2614, 'shamed': 2615, 'plus': 2616, 'trumpcarson': 2617, 'heat': 2618, 'kitchen': 2619, 'debaters': 2620, 'seniors': 2621, 'pe': 2622, 'inent': 2623, 'deflategate': 2624, 'priorities': 2625, 'besides': 2626, 'gregabbott': 2627, 'tx': 2628, 'studyinglibe': 2629, 'draft': 2630, 'mens': 2631, 'smile': 2632, 'moderation': 2633, 'streaming': 2634, 'candy': 2635, 'crowley': 2636, 'sheriffclarke': 2637, 'bless': 2638, 'trumpcrush': 2639, 'httptcobdux3nkyte': 2640, 'delight': 2641, 'introduced': 2642, 'ex': 2643, 'belief': 2644, 'ice': 2645, 'tates5a': 2646, 'donnabrazile': 2647, 'pulse': 2648, 'seabassthephish': 2649, 'andor': 2650, 'accept': 2651, 'ruling': 2652, 'middleclass': 2653, 'deficit': 2654, 'suits': 2655, 'sign': 2656, 'signed': 2657, 'personality': 2658, 'former': 2659, 'frightening': 2660, 'george': 2661, 'deniers': 2662, 'httptcoxno4ycfziv': 2663, 'trojan': 2664, 'horse': 2665, 'shldve': 2666, 'replaces': 2667, 'cross': 2668, 'whiny': 2669, 'bitches': 2670, 'angelahaysmoore': 2671, 'owes': 2672, 'correctly': 2673, 'mikedrucker': 2674, 'comic': 2675, 'villain': 2676, 'michaellucchese': 2677, 'tryna': 2678, 'forced': 2679, 'nhpolitics': 2680, 'gretchencarlson': 2681, 'happyhour': 2682, 'deleted': 2683, 'multiple': 2684, 'nodding': 2685, 'e': 2686, 'chip': 2687, 'deny': 2688, 'existence': 2689, 'shaped': 2690, 'raceblindness': 2691, 'dare': 2692, 'mi': 2693, 'intentionally': 2694, '15': 2695, 'radical': 2696, 'added': 2697, 'july': 2698, 'result': 2699, 'duh': 2700, 'davids': 2701, 'huffpostwomen': 2702, 'bang': 2703, 'spends': 2704, 'httptcov2qirwdw5k': 2705, 'faced': 2706, 'hugged': 2707, 'rapeincest': 2708, 'ban': 2709, 'sue': 2710, 'badger': 2711, 'declarationofindependence': 2712, 'lifelibe': 2713, 'yampthepursuitofhappiness': 2714, 'denial4someofus': 2715, 'somethingwithin': 2716, 'lord': 2717, 'vain': 2718, 'sickness': 2719, 'conservatism': 2720, 'bastardized': 2721, 'spawned': 2722, 'surgery': 2723, 'newspaper': 2724, 'bennydiego': 2725, 'unplanned': 2726, 'opposition': 2727, 'thebardockobama': 2728, 'akin': 2729, 'sting': 2730, 'backfired': 2731, 'retrospect': 2732, 'listens': 2733, 'anti': 2734, 'fightfor15': 2735, 'min': 2736, 'heels': 2737, 'repubs': 2738, 'negotiation': 2739, 'perspective': 2740, 'shebrungit': 2741, 'train': 2742, 'hanging': 2743, 'rapper': 2744, 'fame': 2745, 'fleek': 2746, 'treat': 2747, 'trimmed': 2748, 'limit': 2749, 'options': 2750, 'staying': 2751, 'naughtybeyotch': 2752, 'declares': 2753, '\\xa0': 2754, 'httptcolx0rkahzmq': 2755, 'httptcoul5pgaq4uh': 2756, 'sell': 2757, 'prettyplusmore': 2758, 'sanddragger': 2759, 'covering': 2760, 'appears': 2761, 'zzcrane': 2762, 'bandwagon': 2763, 'jet': 2764, 'tom': 2765, 'hanks': 2766, 'brutal': 2767, 'bobs': 2768, 'outcome': 2769, 'sayingscrew': 2770, 'priceless': 2771, 'volumes': 2772, 'highlighting': 2773, 'critical': 2774, 'facing': 2775, 'officer': 2776, 'httptco5rfh5zbnpm': 2777, 'coryhaik': 2778, 'qua': 2779, 'neighbor': 2780, 'iraqi': 2781, 'golden': 2782, 'pimp': 2783, 'conspiracy': 2784, 'parroting': 2785, 'chuckwoolery': 2786, 'boom': 2787, 'govwalker': 2788, 'ap': 2789, 'combative': 2790, 'phrase': 2791, 'uttered': 2792, 'kaylasmith4791': 2793, 'staged': 2794, 'banished': 2795, 'pits': 2796, 'mereen': 2797, 'bobby': 2798, 'flowers': 2799, 'appearance': 2800, 'deserved': 2801, 'inspiration': 2802, 'loudobbsnews': 2803, 'books': 2804, 'rare': 2805, 'plannedbutcherhood': 2806, 'mins': 2807, 'riding': 2808, 'medical': 2809, 'trailblazer': 2810, 'politics4dum': 2811, 'votes': 2812, 'httptcoaj': 2813, 'teenage': 2814, 'mikandynothem': 2815, 'fredbarnes': 2816, 'feedback': 2817, 'scientific': 2818, 'robpo': 2819, 'lisa': 2820, 'luerssen': 2821, 'rickbot5000': 2822, 'strongly': 2823, 'administrations': 2824, 'gap': 2825, 'effo': 2826, 'unanimous': 2827, 'defunding': 2828, 'prefer': 2829, 'addressed': 2830, 'arguments': 2831, 'socialmedia': 2832, 'chri': 2833, 'ained': 2834, 'familys': 2835, 'trumpwins': 2836, '46': 2837, 'foxsd': 2838, 'failing': 2839, 'httptcolaonllalwo': 2840, 'anthonycumia': 2841, 'stuck': 2842, 'elephants': 2843, 'sending': 2844, 'cheered': 2845, 'feminism': 2846, 'httptco6khqpdqpn9': 2847, 'experiments': 2848, 'posing': 2849, 'discuss': 2850, 'moms': 2851, 'copresident': 2852, 'insulter': 2853, 'sized': 2854, 'proposal': 2855, 'jmurguia': 2856, 'loses': 2857, 'httptcog8fyumfxun': 2858, 'trolling': 2859, 'argument': 2860, 'condescending': 2861, 'kt': 2862, 'newsflash': 2863, '30000': 2864, 'jrehling': 2865, 'concerns': 2866, 'creating': 2867, 'communities': 2868, 'httptcoapxm8ao8jf': 2869, 'doubled': 2870, 'pulmyears': 2871, 'board': 2872, 'function': 2873, 'deaf': 2874, 'gallagherpreach': 2875, 'lousy': 2876, 'icon': 2877, 'wakes': 2878, 'splitting': 2879, 'headache': 2880, 'losing': 2881, 'behavior': 2882, 'barackobama': 2883, 'sally': 2884, 'kohn': 2885, 'nancyleegrahn': 2886, 'rump': 2887, 'angela': 2888, 'posting': 2889, 'the3o5flyguy': 2890, 'httptcozowjcu2baz': 2891, 'shocker': 2892, 'sentomcotton': 2893, 'lunatic': 2894, 'ideology': 2895, 'exjon': 2896, 'grandstanding': 2897, 'condemned': 2898, 'fringe': 2899, 'assesment': 2900, 'httptcob54cr1kx4q': 2901, 'wonderful': 2902, 'youngpros4rubio': 2903, 'pageant': 2904, 'slobs': 2905, 'monaeltahawy': 2906, 'antigay': 2907, 'httptcoa4eiuettlf': 2908, 'supremacist': 2909, 'reprehensible': 2910, 'choosing': 2911, 'springer': 2912, 'whine': 2913, 'topped': 2914, 'ironhide': 2915, 'trumpcruz2016': 2916, 'httptcog0jq1y53bo': 2917, 'wagnergirle': 2918, 'butt': 2919, 'fabulous': 2920, 'flyoverculture': 2921, 'borrow': 2922, 'childrens': 2923, 'crash': 2924, 'frontrunners': 2925, 'nerd': 2926, 'chill': 2927, 'plays': 2928, 'fireworks': 2929, 'burn': 2930, 'httptco6bj5tjnliu': 2931, 'dummies': 2932, 'peterbeina': 2933, 'fbi': 2934, 'fec': 2935, 'dissect': 2936, '22nd': 2937, 'mood': 2938, 'page': 2939, 'billions': 2940, 'appealing': 2941, 'theblaze': 2942, 'thus': 2943, 'dementia': 2944, 'riveting': 2945, 'toaster': 2946, 'jennifernvictor': 2947, 'caseywe': 2948, 'httpstcoobsvewvo41': 2949, 'receive': 2950, 'governorperrys': 2951, 'mission': 2952, 'reverse': 2953, 'icipants': 2954, 'plate': 2955, 'mommy': 2956, 'dannyboi965': 2957, 'ropeadope': 2958, 'logo': 2959, 'brand': 2960, 'borrowing': 2961, 'passion': 2962, 'lessons': 2963, 'favorable': 2964, 'finishing': 2965, 'snarky': 2966, 'httptcoko0eoisfjw': 2967, '1965': 2968, 'conclusion': 2969, 'spiking': 2970, 'robe': 2971, 'gop2016debate': 2972, 'wgun': 2973, 'beer': 2974, 'tip': 2975, 'jewish': 2976, 'cyber': 2977, 'pittgriffin': 2978, 'stopped': 2979, 'catholic': 2980, 'nancyosborne180': 2981, 'goodbye': 2982, 'crushes': 2983, 'brownblaze': 2984, 'megynforpresident': 2985, 'loop': 2986, 'baffled': 2987, 'refusal': 2988, 'httptcobc9cahhhjl': 2989, 'bother': 2990, 'covers': 2991, 'ate': 2992, 'lunch': 2993, 'lobotomy': 2994, 'college': 2995, 'gr8': 2996, '2night': 2997, 'attempted': 2998, 'slide': 2999, 'dive': 3000, 'chooses': 3001, 'embryo': 3002, 'fyi': 3003, 'mirror': 3004, 'basic': 3005, 'goods': 3006, 'environment': 3007, 'passionate': 3008, 'fiorinas': 3009, 'tenure': 3010, 'adorbs': 3011, 'doriabiddle': 3012, 'leaving': 3013, 'httptcopiewa1jccc': 3014, 'vaginas': 3015, 'channel': 3016, 'gabby': 3017, 'hoffman': 3018, 'prostitutes': 3019, 'detailed': 3020, 'steps': 3021, 'begin': 3022, 'conflict': 3023, 'conundrum': 3024, 'personification': 3025, 'greed': 3026, 'breenewsome': 3027, 'honey': 3028, 'ris': 3029, 'faux': 3030, 'httpstco32cfasi17d': 3031, 'huffpostlive': 3032, 'lovefest': 3033, 'producers': 3034, 'chrischristies': 3035, 'hopes': 3036, 'edchat': 3037, 'ran': 3038, 'behalf': 3039, 'lindseygrahamsc': 3040, 'kates': 3041, 'ross': 3042, 'kennedynation': 3043, 'doddfrank': 3044, 'peace': 3045, 'packed': 3046, 'male': 3047, 'unwavering': 3048, 'msg': 3049, 'arena': 3050, 'tear': 3051, 'latino': 3052, 'overlooked': 3053, 'httptcol4x9stujvm': 3054, 'noise': 3055, 'machine': 3056, 'doom': 3057, 'council': 3058, 'confident': 3059, 'girlpower': 3060, 'karlrove': 3061, 'assessment': 3062, 'donates': 3063, 'jrpolitirants': 3064, 'admire': 3065, 'sketch': 3066, 'bettyfckinwhite': 3067, '11': 3068, 'lincoln': 3069, 'houseofcards': 3070, 'hammering': 3071, 'nightbut': 3072, 'wan': 3073, 'meagan': 3074, 'stephenmengland': 3075, 'rants': 3076, 'recommended': 3077, 'mydaughtersarmy': 3078, 'pictures': 3079, 'legs': 3080, 'although': 3081, 'cat': 3082, '1012000': 3083, 'foxtv': 3084, 'msn': 3085, 'gate': 3086, 'kayleymelissa': 3087, 'unbreakable': 3088, 'kimmy': 3089, 'schmidt': 3090, 'dona': 3091, 'httptcojaqjwnndgb': 3092, 'depo': 3093, 'dance': 3094, 'slashed': 3095, 'halftimerepo': 3096, '3pm': 3097, 'seven': 3098, 'lizas': 3099, 'oons': 3100, 'httpstcovkhqn0s7n4': 3101, 'jaclynhstrauss': 3102, 'site': 3103, 'panelists': 3104, 'temperature': 3105, 'theladyvalor': 3106, 'acting': 3107, 'insults': 3108, 'feminists': 3109, 'space': 3110, 'notbillwalton': 3111, 'tpfa': 3112, 'stanford': 3113, 'uofmaryland': 3114, 'mit': 3115, '2ndlook': 3116, 'chrissiefit': 3117, 'forever': 3118, 'impression': 3119, 'ego': 3120, 'honored': 3121, 'dreadful': 3122, 'petulent': 3123, 'monica': 3124, 'guarantee': 3125, 'tyt': 3126, 'tntweeters': 3127, 'foolish': 3128, 'b140': 3129, 'annrichards': 3130, 'httptcouw5axjzmxc': 3131, 'woodruffbets': 3132, 'peep': 3133, 'entitlement': 3134, 'massive': 3135, 'owners': 3136, 'excluded': 3137, 'hi': 3138, 'digging': 3139, 'dloesch': 3140, 'rational': 3141, 'onceuponaliz': 3142, 'holly': 3143, 'lasting': 3144, 'technology': 3145, 'bribing': 3146, 'pray': 3147, 'spectacular': 3148, 't0h0dad': 3149, 'ftw': 3150, 'apply': 3151, 'nope': 3152, 'hetrick': 3153, 'atlantic': 3154, 'possibly': 3155, 'asinine': 3156, 'handling': 3157, 'npr': 3158, 'commanders': 3159, 'members': 3160, 'causing': 3161, 'eloquent': 3162, 'domestic': 3163, 'yassssss': 3164, 'thinkprogress': 3165, 'ethanellis32': 3166, 'morons': 3167, 'raddmom': 3168, 'burned': 3169, 'present': 3170, 'ways': 3171, 'compares': 3172, 'commander': 3173, 'nytimeskrugman': 3174, 'lineup': 3175, 'offered': 3176, 'fly': 3177, 'theyll': 3178, '2009': 3179, 'chances': 3180, 'leadershi': 3181, 'aghhh': 3182, 'nerds': 3183, 'thestupidpa': 3184, 'hateful': 3185, 'bigots': 3186, 'jenllm': 3187, 'bimmerella': 3188, 'jared812': 3189, 'stphil': 3190, 'oba': 3191, 'distinct': 3192, 'asks': 3193, 'evolution': 3194, 'confederacy': 3195, 'dunces': 3196, 'option': 3197, 'spend': 3198, 'pl': 3199, 'httptcody8knz122t': 3200, 'criticizing': 3201, 'crazygt': 3202, 'stir': 3203, 'julietteisabell': 3204, 'tajmagruder': 3205, 'smith83k': 3206, 'shoots': 3207, 'ch': 3208, 'optimistic': 3209, 'httptcoi': 3210, 'sht': 3211, 'syphilis': 3212, 'eye': 3213, 'loops': 3214, 'radiofreetom': 3215, 'alexconant': 3216, 'httptcoppxqqzfl1t': 3217, 'louder': 3218, 'everyones': 3219, 'jfc': 3220, 'zone': 3221, 'questi': 3222, 'disruptepreneur': 3223, 'soexciting': 3224, 'ccalbos': 3225, 'material': 3226, 'surge': 3227, 'promises': 3228, 'naral': 3229, 'bobbyjindal': 3230, 'antichoice': 3231, 'wildly': 3232, 'catie': 3233, 'warren': 3234, 'relevant': 3235, 'wa': 3236, 'slams': 3237, 'httptcoobnqdpoemx': 3238, 'worldnetdaily': 3239, 'unlimited': 3240, 'clowncar': 3241, 'believed': 3242, 'proabo': 3243, 'fears': 3244, 'digest': 3245, 'curious': 3246, 'version': 3247, 'mrmilianspeaks': 3248, 'fury': 3249, 'everify': 3250, 'xenophobic': 3251, 'admitted': 3252, 'payroll': 3253, 'candidat': 3254, 'building': 3255, 'kanye': 3256, 'smethanie': 3257, 'collect': 3258, 'innocent': 3259, 'httptcoxrowkhymm1': 3260, 'mzdivah67': 3261, 'unafraid': 3262, 'rupe': 3263, 'murdoch': 3264, 'spoof': 3265, 'httptcotrs8vmwjyg': 3266, 'release': 3267, 'rumor': 3268, 'undisputed': 3269, 'refs': 3270, 'player': 3271, 'reso': 3272, '45': 3273, 'mentioning': 3274, 'sycophants': 3275, 'hidden': 3276, 'neck': 3277, 'ygopdebate': 3278, 'httpstco8fgwctd2bb': 3279, 'dying': 3280, 'trailer': 3281, 'poodle': 3282, 'controlling': 3283, 'crime': 3284, 'shines': 3285, 'blowing': 3286, 'camera': 3287, 'closed': 3288, 'loophole': 3289, 'httptco01kulhlxsk': 3290, 'lnyhbt': 3291, 'town': 3292, 'rgay': 3293, 'brikirk': 3294, 'attitude': 3295, 'scream': 3296, 'equally': 3297, 'wisdom': 3298, 'campaigns': 3299, 'yep': 3300, 'cuz': 3301, 'vishaldisawar': 3302, 'njbatsa': 3303, 'habitual': 3304, 'jennpozner': 3305, 'turning': 3306, 'crack': 3307, 'parade': 3308, 'yourve': 3309, 'islamic': 3310, 'extremism': 3311, 'barely': 3312, 'maam': 3313, 'conservvoice': 3314, 'kerrypicket': 3315, 'leash': 3316, 'httpstcommh7abjqk5': 3317, 'gu': 3318, 'dominant': 3319, 'bible': 3320, 'feud': 3321, 'faceoff': 3322, 'depends': 3323, 'divided': 3324, 'setup': 3325, 'nonchristians': 3326, 'booed': 3327, 'meet': 3328, 'iamrapapo': 3329, 'whoever': 3330, 'heck': 3331, 'defines': 3332, 'yewkalaylee': 3333, 'donations': 3334, 'corruption': 3335, 'httptcoygmgbavqut': 3336, 'dykstradame': 3337, 'gopdebatebut': 3338, 'remained': 3339, 'affect': 3340, 'soldier': 3341, 'tmservo433': 3342, 'stfu': 3343, 'rubinrepo': 3344, 'king': 3345, 'fridayfeeling': 3346, 'hatemail': 3347, 'overrated': 3348, 'announcement': 3349, 'chrisgeidner': 3350, 'ferguson': 3351, 'water': 3352, 'incorrigible': 3353, 'averagechirps': 3354, 'groups': 3355, 'model': 3356, 'hypocrisy': 3357, 'radio': 3358, 'rejects': 3359, 'quoting': 3360, 'limp': 3361, 'bizkit': 3362, 'players': 3363, 'access': 3364, 'saving': 3365, 'tombx7m': 3366, 'contenders': 3367, 'freedomtex': 3368, 'stophillary': 3369, 'pls': 3370, 'comcatholicgrl': 3371, 'fk': 3372, 'sandrabland': 3373, 'purposes': 3374, 'somewhat': 3375, 'narcissists': 3376, 'katesteinle': 3377, 'suspect': 3378, 'threw': 3379, 'insult': 3380, 'didikatz': 3381, 'clarified': 3382, 'van': 3383, 'sociopaths': 3384, 'tatianaking': 3385, 'bout': 3386, 'montel': 3387, 'williams': 3388, 'corporations': 3389, 'assimilation': 3390, 'bottle': 3391, 'broken': 3392, 'calm': 3393, 'badblood': 3394, 'taylorswift13': 3395, 'kendricklamar': 3396, 'ctl': 3397, 'yelled': 3398, 'regretting': 3399, 'schooled': 3400, 'trending': 3401, 'whines': 3402, 'debater': 3403, 'household': 3404, '201112': 3405, '53': 3406, 'insane': 3407, 'pope': 3408, 'camillepaglia': 3409, 'thr': 3410, 'bushrnc': 3411, 'plants': 3412, 'httptcozqphlsqdun': 3413, 'amy': 3414, 'usually': 3415, 'httptcoxiwha8kjf7': 3416, 'woot': 3417, 'input': 3418, 'bw': 3419, 'verdict': 3420, 'positive': 3421, 'donate': 3422, 'bankers': 3423, 'httptcorfpnbtsow6': 3424, 'pharris830': 3425, 'oil': 3426, 'helps': 3427, 'promoting': 3428, 'tco': 3429, 'alcohol': 3430, 'nor': 3431, 'andreagrimes': 3432, 'couldve': 3433, 'amusing': 3434, 'httptcopry2qpcwfu': 3435, 'declining': 3436, 'blustering': 3437, 'bumbling': 3438, 'wrinkledup': 3439, 'tuckus': 3440, 'clinchers': 3441, 'shake': 3442, 'rigged': 3443, 'spaces': 3444, 'everywhere': 3445, 'stopcommoncore': 3446, 'idiocracy': 3447, 'humane': 3448, 'messed': 3449, 'feeling': 3450, 'stomach': 3451, 'cdc': 3452, 'violates': 3453, 'gotrump': 3454, 'jessecox': 3455, 'rolling': 3456, 'juvenile': 3457, 'fredzeppelin12': 3458, 'epa': 3459, 'dodged': 3460, 'lgnctn': 3461, 'mikehuckabee': 3462, 'feature': 3463, 'wakaflocka': 3464, 'comedians': 3465, 'thedonald': 3466, 'randpaul2016': 3467, 'mosttweeted': 3468, 'waterboarding': 3469, 'edstetzer': 3470, 'jack': 3471, 'asses': 3472, 'topic': 3473, 'vanity': 3474, 'rachelheldevans': 3475, 'monitor': 3476, 'mosque': 3477, 'harm': 3478, 'reformno': 3479, 'minimum': 3480, 'trumpcruz': 3481, 'cruzcarlyfiorina': 3482, 'klsouth': 3483, 'surplus': 3484, 'decided': 3485, 'dull': 3486, 'plain': 3487, 'ol': 3488, 'concur': 3489, 'killer': 3490, 'fails': 3491, 'prowalker': 3492, 'analyst': 3493, 'coauthor': 3494, 'httptco76ahmncuhb': 3495, 'absolute': 3496, 'disrespect': 3497, 'committed': 3498, 'soopermexican': 3499, 'mega': 3500, 'unitedcitizen01': 3501, 'bump': 3502, 'champ': 3503, 'demonstrated': 3504, 'shared': 3505, 'inside': 3506, 'taught': 3507, 'usatoday': 3508, 'showstopping': 3509, 'sole': 3510, 'reps': 3511, 'phillyd': 3512, 'deaths': 3513, 'suicides': 3514, 'fantasticfour': 3515, 'nonsensical': 3516, 'cops': 3517, 'hostages': 3518, 'cmclymer': 3519, 'mojowhoha': 3520, 'racewarspodcast': 3521, 'xm103': 3522, 'sherrod': 3523, 'metzger': 3524, 'steam': 3525, 'landed': 3526, 'careful': 3527, 'stronger': 3528, 'negotiate': 3529, 'roof': 3530, 'nationwide': 3531, 'shooter': 3532, 'update': 3533, 'failures': 3534, 'scene': 3535, 'envelope': 3536, 'ho': 3537, 'rain': 3538, 'jump': 3539, 'accountable': 3540, 'corner': 3541, 'acct': 3542, 'mature': 3543, 'maturity': 3544, 'online': 3545, 'explanation': 3546, 'surges': 3547, 'httptcohagmnn1tv7': 3548, 'gang': 3549, 'httptco3a5mqykifg': 3550, 'blatant': 3551, 'straightouttacompton': 3552, 'httptcoiats8vyx7c': 3553, '3chicspolitico': 3554, 'blend': 3555, 'believability': 3556, 'iculation': 3557, 'award': 3558, 'conception': 3559, 'urgent': 3560, 'undermining': 3561, 'apologize': 3562, 'doctor': 3563, 'wolfrum': 3564, 'th3r34ltruth': 3565, '4a': 3566, 'loud': 3567, 'levarbu': 3568, 'headlines': 3569, 'users': 3570, 'v': 3571, 'charlesmcnulty': 3572, 'latimes': 3573, 'alexandergold': 3574, 'httptcorbpoms07gc': 3575, 'applauded': 3576, 'outrageous': 3577, '2001': 3578, 'baited': 3579, 'jonmcclellan': 3580, 'httpstcokqlgcbav7p': 3581, 'prison': 3582, 'commit': 3583, 'prep': 3584, 'sentence': 3585, 'balls': 3586, 'pearl': 3587, 'harbor': 3588, 'handing': 3589, 'bc2dc16': 3590, 'winbenwin': 3591, 'jacknicholson': 3592, 'flew': 3593, 'cuckoos': 3594, 'nest': 3595, 'radar': 3596, 'nose': 3597, 'decades': 3598, 'lolgop': 3599, 'smackdown': 3600, 'uncle': 3601, 'candsmods': 3602, 'httptcoc2r0qzdexv': 3603, 'insurance': 3604, 'summer4jul': 3605, 'stone': 3606, 'misl4fun': 3607, 'met': 3608, 'thehill': 3609, 'magnificent': 3610, 'httpstcomhek8ywglh': 3611, 'rankings': 3612, 'mute': 3613, 'logic': 3614, 'yr': 3615, 'cis': 3616, 'joemygod': 3617, 'dust': 3618, 'unconscionable': 3619, 'exception': 3620, 'catching': 3621, 'cheap': 3622, 'capn': 3623, 'geniusatwork': 3624, 'avoided': 3625, 'ads': 3626, 'reduce': 3627, 'rob': 3628, 'guillory': 3629, 'rename': 3630, 'suplex': 3631, 'aimed': 3632, 'owe': 3633, 'exceptional': 3634, 'compels': 3635, 'cluster': 3636, 'truest': 3637, 'restore': 3638, 'agreement': 3639, 'frankbruni': 3640, 'large': 3641, 'generations': 3642, 'barbarians': 3643, 'doc': 3644, 'brenkoski': 3645, 'worldview': 3646, 'presented': 3647, 'therapy': 3648, 'welcome': 3649, 'spoiled': 3650, 'oligarch': 3651, 'par': 3652, 'wishfulthinking': 3653, 'plainly': 3654, '44': 3655, 'pleasant': 3656, 'ending': 3657, 'established': 3658, 'attracted': 3659, 'cogent': 3660, 'moderated': 3661, '22': 3662, 'cmon': 3663, 'dinner': 3664, 'humbe': 3665, 'current': 3666, 'hail': 3667, 'deathbydemocrat': 3668, 'slam': 3669, 'invites': 3670, 'bruce': 3671, 'torchie123': 3672, 'disgrace': 3673, 'antiabo': 3674, 'badassteachersa': 3675, 'bowel': 3676, 'bushland': 3677, 'serving': 3678, 'openly': 3679, 'ra': 3680, 'mt': 3681, 'httptconwgx8g8jwr': 3682, 'wsj': 3683, 'tinaissa': 3684, 'duties': 3685, 'lgbtq': 3686, 'pbos': 3687, 'voteblue2016': 3688, 'httptcojkgx2ojrwi': 3689, 'haha': 3690, 'huckster': 3691, 'interested': 3692, 'mrgeorgewallace': 3693, 'amberjphillips': 3694, 'cameronesposito': 3695, 'shined': 3696, 'colors': 3697, 'advance': 3698, 'qampa': 3699, 'shoot': 3700, 'payer': 3701, 'stream': 3702, 'mobile': 3703, 'httptcotkpesooezt': 3704, 'beings': 3705, 'ivankatrump': 3706, 'commentator': 3707, 'suicide': 3708, 'runners': 3709, 'liars': 3710, 'drag': 3711, 'ampgo': 3712, 'protesting': 3713, 'bibi': 3714, 'heads': 3715, 'poc': 3716, 'consistent': 3717, 'laughabledisgusting': 3718, 'religions': 3719, 'unclean': 3720, 'sexual': 3721, 'distracters': 3722, 'hapless': 3723, 'pulled': 3724, 'stick': 3725, 'silenced': 3726, 'critics': 3727, 'cc': 3728, 'astounding': 3729, 'poised': 3730, 'trait': 3731, 'amazed': 3732, 'defending': 3733, 'politicoroger': 3734, 'hodoxy': 3735, 'showi': 3736, 'httptcovagyiuz5j8': 3737, 'dumbasssexist': 3738, 'reformgopdebates': 3739, 'tweeter': 3740, 'questioned': 3741, 'loaded': 3742, 'monkey': 3743, 'incivility': 3744, 'httptconxowllfsib': 3745, 'aggressive': 3746, 'actions': 3747, 'httptcowrmbjkvhnrcandidatementionedinequality': 3748, 'search': 3749, 'thexclass': 3750, 'sa': 3751, 'ornyadams': 3752, 'annual': 3753, 'paulapoundstone': 3754, 'specifics': 3755, 'thejimhughes': 3756, 'available': 3757, 'epic': 3758, 'murder': 3759, 'embarrassing': 3760, 'propaganda': 3761, 'justified': 3762, 'piggish': 3763, 'forces': 3764, 'process': 3765, 'principled': 3766, 'fearless': 3767, 'priebus': 3768, 'statist': 3769, 'specialrepo': 3770, 'falters': 3771, 'exaggerates': 3772, 'rubionever': 3773, 'cu': 3774, 'admitting': 3775, 'penis': 3776, 'marvel': 3777, 'governors': 3778, 'private': 3779, 'httptcokjmyy04bnh': 3780, 'httptcoa4zov5ekot': 3781, 'howling': 3782, 'httptcoew7bpoqd5b': 3783, 'steve': 3784, 'girschle': 3785, 'scares': 3786, 'storms': 3787, 'fa': 3788, 'keepers': 3789, 'uniteright': 3790, 'extreme': 3791, 'timelines': 3792, 'ticked': 3793, 'hatchet': 3794, 'timeline': 3795, 'expanding': 3796, 'ricky': 3797, 'vaughn99': 3798, 'kick': 3799, 'icular': 3800, 'reflection': 3801, 'imwithmarco': 3802, 'schlichter': 3803, 'coffee': 3804, 'wellspoken': 3805, 'insulted': 3806, 'confronted': 3807, 'amirite': 3808, 'httpst': 3809, 'unpopularity': 3810, 'un': 3811, 'sharing': 3812, 'gif': 3813, 'b52s': 3814, 'sarahkliff': 3815, 'wi': 3816, 'bourgeoisalien': 3817, 'repealing': 3818, 'slate': 3819, 'junkies': 3820, 'bowl': 3821, 'parental': 3822, 'anger': 3823, 'busted': 3824, 'checkers': 3825, 'false': 3826, 'outrage': 3827, 'stars': 3828, 'blasts': 3829, 'httptcodgglgonasd': 3830, '1980': 3831, 'plz': 3832, 'expecting': 3833, 'thedailyedge': 3834, 'failure': 3835, 'recovery': 3836, 'uni': 3837, 'practiced': 3838, 'snarkydemo': 3839, 'educated': 3840, 'onpoint': 3841, 'httpstcoanzmdiorve': 3842, 'supposed': 3843, 'lwilsondarlene': 3844, 'style': 3845, 'leadright2016': 3846, 'kilmeade': 3847, 'shell': 3848, 'wessmith123': 3849, 'eagleford': 3850, 'somehow': 3851, 'fucks': 3852, 'drinkinggame': 3853, 'laughter': 3854, 'calculated': 3855, 'ranks': 3856, '60min': 3857, 'httpstcof687d6objl': 3858, 'potus2016': 3859, 'johnkasichs': 3860, 'thankful': 3861, 'anybody': 3862, 'cover': 3863, 'peterdaou': 3864, 'marketers': 3865, 'audiences': 3866, 'deflect': 3867, 'truthful': 3868, 'per': 3869, 'medicaid': 3870, 'christies': 3871, 'briefly': 3872, 'berated': 3873, 'dreamers': 3874, 'httptcowe77qdt3kt': 3875, 'newest': 3876, 'unemployment': 3877, 'httptco2i6uolsctj': 3878, 'lib': 3879, '500': 3880, 'kardashian': 3881, 'chriscuomo': 3882, 'cnnpolitics': 3883, 'sarahkendzior': 3884, 'icles': 3885, 'glenn': 3886, 'beck': 3887, 'getawarrant': 3888, 'pr': 3889, 'nashville': 3890, 'soft': 3891, 'promised': 3892, 'incredibly': 3893, 'fit': 3894, 'httptcoquwoclfs8q': 3895, 'string': 3896, 'foxnewssunday': 3897, 'cases': 3898, 'flag': 3899, 'chadpergram': 3900, 'httptcouywu9jqcex': 3901, 'odds': 3902, 'presidentialdebate': 3903, 'goddamnit': 3904, 'theory': 3905, 'persons': 3906, 'wiser': 3907, 'journalism': 3908, 'scotts': 3909, 'slone': 3910, 'proven': 3911, 'antiwoman': 3912, 'lindsey': 3913, 'popularity': 3914, 'iq': 3915, 'peoples': 3916, 'circumstances': 3917, 'dictate': 3918, 'infrastructure': 3919, 'forgotten': 3920, 'kaivanshroff': 3921, 'polisciumn': 3922, 'misspeak': 3923, 'persecute': 3924, 'frame': 3925, 'champion': 3926, 'sitting': 3927, 'couch': 3928, 'expansion': 3929, 'standards': 3930, 'focused': 3931, 'suppose': 3932, 'finds': 3933, 'speech': 3934, 'jr': 3935, 'apologies': 3936, 'ends': 3937, 'yofthefuture': 3938, 'secret': 3939, 'gilmore': 3940, 'grade': 3941, 'lesleyabravanel': 3942, 'program': 3943, 'inspiring': 3944, 'presume': 3945, 'joeykramer': 3946, 'aerosmith': 3947, 'motleycrue': 3948, 'commie': 3949, 'announce': 3950, 'httptcovzd9qtcyz1': 3951, 'relatable': 3952, 'crossover': 3953, 'grabbing': 3954, 'affectionate': 3955, 'celebrity': 3956, 'preach': 3957, 'promo': 3958, 'repulsive': 3959, 'intolerable': 3960, 'goldietaylor': 3961, 'target': 3962, 'bullies': 3963, 'gunfree': 3964, 'saint': 3965, 'cakebread': 3966, 'fridge': 3967, 'httpstcozbmtzsx9vx': 3968, 'chard': 3969, 'flailingampwhining': 3970, 'warimmigrationmisogyny': 3971, 'httptcody4jz3x9pi': 3972, 'httptcozlo08jtfnr': 3973, 'administration': 3974, 'usrussia': 3975, 'crisis': 3976, 'wwiii': 3977, 'unamerican': 3978, 'httpstcobmz0mvesea': 3979, 'konalowell': 3980, 'loudly': 3981, 'cheering': 3982, 'inhumanity': 3983, 'dating': 3984, 'bachelorette': 3985, 'roses': 3986, 'doctorgoofee': 3987, 'gopdebatetrumpif': 3988, 'beforelast': 3989, 'nightlikely': 3990, 'chubclub': 3991, 'disappears': 3992, 'quickly': 3993, 'httptcowmmnx3ajge': 3994, 'tntvo': 3995, 'tyeblue': 3996, 'giggle': 3997, 'guuuurrrl': 3998, 'httpstco4jka5buhxv': 3999, 'rflorida': 4000, 'morningmoneyben': 4001, 'httptcoyjq4heds4p': 4002, 'lap': 4003, 'loathed': 4004, 'httptcoq3drk3wdc3': 4005, 'womenradio': 4006, 'dominionin': 4007, 'blimey': 4008, 'piersmorgan': 4009, 'httptcogtx': 4010, 'j8ybn': 4011, 'pity': 4012, 'thrones': 4013, 'statesmanship': 4014, 'hater': 4015, 'mariaglass7': 4016, 'busting': 4017, 'rolandsma': 4018, 'forgettable': 4019, 'msm': 4020, 'donating': 4021, 'httptcopglqcqqgop': 4022, 'httptcoqp1e': 4023, 'stiff': 4024, 'pat': 4025, 'rope': 4026, 'caption': 4027, 'puuuuuuurfect': 4028, 'httpstcoluqdtgv4fb': 4029, 'evident': 4030, 'racheladolezal': 4031, 'alienating': 4032, 'blm': 4033, 'bein': 4034, 'puddinstrip': 4035, 'puppy': 4036, 'shoe': 4037, 'womans': 4038, 'blondieforkeeps': 4039, 'koolmoe21': 4040, 'shi': 4041, 'michaelsnook': 4042, 'quit': 4043, 'wrote': 4044, 'oped': 4045, 'httptcoldqe8kg2zw': 4046, 'httpstco1s2ultnxoe': 4047, 'keemstarx': 4048, 'blaine': 4049, 'happycowsulti': 4050, 'mnsuperioru16': 4051, 'tango': 4052, 'deadrisedc': 4053, 'httptco6lz5psafms': 4054, 'muchbut': 4055, 'absurdwith': 4056, 'httptcoasons3bsg6': 4057, 'realbencar': 4058, 'cons': 4059, 'stereotypes': 4060, 'eighty': 4061, 'prisons': 4062, 'addictions': 4063, 'veto': 4064, 'references': 4065, 'in1996': 4066, 'timing': 4067, 'slut': 4068, 'lailalalami': 4069, 'aaaand': 4070, 'systemic': 4071, 'training': 4072, 'nuko': 4073, 'stonewall': 4074, '77': 4075, 'mutants': 4076, 'fest': 4077, 'thrill': 4078, 'joshmalina': 4079, '27': 4080, 'lightning': 4081, 'bern': 4082, 'ron': 4083, 'httpstcou7yzlgl07l': 4084, 'shits': 4085, 'gobbling': 4086, 'knob': 4087, 'yearsnow': 4088, 'johnfict': 4089, 'coddled': 4090, 'laundry': 4091, 'cjsullivan': 4092, 'terrorizing': 4093, 'theaters': 4094, 'russianchinese': 4095, 'hacking': 4096, 'commericial': 4097, 'quo': 4098, 'dionaoku': 4099, 'httptcol0uy18mbs1': 4100, 'heading': 4101, 'firstlookmsnbc': 4102, 'stockwizards3': 4103, 'member': 4104, 'janicedean': 4105, 'bravo': 4106, 'murlcafuckyeah': 4107, 'httptcoliugl1haa3': 4108, 'httptco2tv5m6onvo': 4109, 'bought': 4110, 'surrender': 4111, 'paulfo': 4112, 'error': 4113, 'drake': 4114, 'meekmill': 4115, 'tracks': 4116, 'kagatron': 4117, 'carried': 4118, 'spectacularly': 4119, 'httptcownbkt': 4120, 'mcbyrne': 4121, 'threaten': 4122, 'ress': 4123, 'greater': 4124, 'draw': 4125, 'professionally': 4126, 'soundbite': 4127, 'advancement': 4128, 'italianamerican': 4129, 'nicest': 4130, 'gillistrill': 4131, 'submitted': 4132, 'httpstcos7iyysmdfv': 4133, 'positives': 4134, 'negatives': 4135, 'furguson': 4136, 'jordylangy': 4137, 'cold1957': 4138, 'upholding': 4139, 'applying': 4140, 'ysomething': 4141, 'hailsatan': 4142, 'vlanda': 4143, 'guzman': 4144, 'negro': 4145, 'barbershop': 4146, 'vibe': 4147, 'focuses': 4148, 'cldnt': 4149, 'directpointed': 4150, 'socknstocks': 4151, 'ellenduffer': 4152, 'saradmahmoud': 4153, 'islamophobia': 4154, 'electable': 4155, 'rw': 4156, 'juanasummers': 4157, 'film': 4158, 'httptco4hspigrzta': 4159, 'thentrump2016': 4160, 'gatewaypundit': 4161, 'blundered': 4162, 'kyaecker': 4163, 'dragging': 4164, 'toilet': 4165, 'ou': 4166, 'acu': 4167, 'bootcamp': 4168, 'travel': 4169, 'safely': 4170, 'httptcotjvtuwvt6e': 4171, 'ogoper': 4172, 'nyer': 4173, 'chuck': 4174, 'httptco264dwh6bbi': 4175, 'irandea': 4176, 'andylevy': 4177, 'voialex': 4178, 'sergey': 4179, 'cinderella': 4180, 'dwarfs': 4181, 'surprises': 4182, 'hush': 4183, 'thebenwalters': 4184, 'shattered': 4185, 'thn': 4186, 'thm': 4187, 'cream': 4188, 'icecream': 4189, 'pinocchio': 4190, 'calfit32': 4191, 'foxnewstrumphitjob': 4192, 'httpstcoajaeucqloz': 4193, 'httptcobglk509gv0': 4194, 'pondering': 4195, 'wher': 4196, 'succeed': 4197, 'brandondhowell': 4198, 'httptco1ai9cuz8by': 4199, 'accessory': 4200, 'wearing': 4201, 'shoes': 4202, 'httptcoxz4zc1lt8n': 4203, 'ac360': 4204, 'pcpolice': 4205, 'trumptruth': 4206, 'americanvoters': 4207, 'gheshes': 4208, 'httptcozwin7p0vhh': 4209, 'ussupremecou': 4210, 'adds': 4211, '45t': 4212, 'investmenttax': 4213, 'httptco9s9nuvsaf7': 4214, 'httptcoz9v38vhi03': 4215, 'bound4life': 4216, 'httptcopoh5ugb9ut': 4217, 'graphic': 4218, 'maryland': 4219, 'httpstcotwlk': 4220, 'bested': 4221, 'kreme': 4222, 'httptcogcsszpjtht': 4223, 'pursuelibe': 4224, 'truer': 4225, 'poignant': 4226, 'httpstcoxulzpglh': 4227, 'joshcomers': 4228, 'rails': 4229, 'wreck': 4230, 'dads': 4231, 'thedebaterprobs': 4232, 'buickregal': 4233, 'fierce': 4234, 'nature': 4235, 'karrattipaul': 4236, 'workit': 4237, 'yaskween': 4238, 'httptco2vryvxptgu': 4239, 'levelheaded': 4240, 'fff': 4241, 'nationalunderwearday': 4242, 'tgif': 4243, 'colour': 4244, 'httpstcoxlwxoczoa2': 4245, 'elonjames': 4246, 'httptcov9qdpmpkk4': 4247, 'senpaulstrauss': 4248, 'sendintheclowns': 4249, 'surely': 4250, 'bailofrights': 4251, 'prochoicers': 4252, 'thomasjohnstn1': 4253, 'entitled': 4254, 'httptco82iepzfjom': 4255, 'httptcopp1s25cvym': 4256, 'whod': 4257, 'carlyno': 4258, 'mgell': 4259, 'shrug': 4260, 'emoji': 4261, 'lego': 4262, 'flashrepo': 4263, 'ink': 4264, 'brietba': 4265, 'httptcovtzmlujrqi': 4266, 'pronouncing': 4267, 'gopteen': 4268, 'angryblacklady': 4269, 'drunkenly': 4270, 'yelling': 4271, 'parkway': 4272, 'jimmerrillnh': 4273, 'podhoretz': 4274, 'httptcozjmbdcitz7': 4275, 'gogoaleee': 4276, 'ig': 4277, 'dd': 4278, 'icipated': 4279, 'httptcojnyrnopngx': 4280, 'deborahpeasley': 4281, 'shots': 4282, 'dabneypo': 4283, 'ohhhh': 4284, 'dougstanhope': 4285, '43': 4286, 'aa': 4287, 'bitchesthecat': 4288, 'backyard': 4289, 'bitches2016': 4290, 'americameow': 4291, 'httptcon6o8sy2231': 4292, 'nitaina': 4293, 'birch': 4294, 'httpstcok7e0ttvsko': 4295, 'fauxtimesnews1': 4296, 'tramontela': 4297, 'wksu': 4298, 'mlschultze': 4299, 'httptcobryjh5epif': 4300, 'monchosbarcle': 4301, 'montoyaisabelc': 4302, 'impower': 4303, 'disqualifies': 4304, 'greenehunter': 4305, 'carson16': 4306, 'sarahbh319': 4307, 'onerationale': 4308, 'honorable': 4309, 'shutuphannuh': 4310, 'skit': 4311, 'rule': 4312, 'changes': 4313, '215000': 4314, 'jobkilling': 4315, 'nig': 4316, 'httptcotuv31vgkly': 4317, 'tackle': 4318, 'httpstcocraevhinkb': 4319, 'kvlxi19xx': 4320, 'suggestion': 4321, 'poorer': 4322, 'httptcospe1vvguy7': 4323, 'cents': 4324, 'nicole473': 4325, 'responded': 4326, 'erichaywood': 4327, 'httptconcwnw9jttt': 4328, 'covered': 4329, 'relax': 4330, 'httpstcocw81op2bt4': 4331, 'lucyamorris': 4332, 'probi': 4333, 'proli': 4334, 'allows': 4335, 'rapist': 4336, 'emotional': 4337, 'distress': 4338, 'httptcorhmvgumuir': 4339, 'httptco5qykipoinb': 4340, 'thou': 4341, 'shall': 4342, 'cruising': 4343, 'fergu': 4344, 'atty': 4345, 'appt': 4346, 'december': 4347, 'httpstcotgowchxf3x': 4348, 'marry': 4349, 'dealbreaker': 4350, 'sailors': 4351, 'airmen': 4352, 'safer': 4353, 'netretired': 4354, 'speakerboehner': 4355, 'taxpayer': 4356, 'nytfridge': 4357, 'jeremys': 4358, 'httpstco': 4359, 'chadharvey7': 4360, 'reguardless': 4361, 'stances': 4362, 'genuine': 4363, 'httptcoc1fflfyreu': 4364, 'httpstco8jnmnzszbk': 4365, 'anytime': 4366, 'define': 4367, 'central': 4368, 'buffalopundit': 4369, 'httptcoekxpfkthqn': 4370, 'confidentrespectfully': 4371, 'anddonaldtrump': 4372, 'remains': 4373, 'womenno': 4374, 'unit': 4375, 'destruction': 4376, '247': 4377, 'httpstcop0dt5s5tiy': 4378, 'httptcovd2obzdjgj': 4379, 'candidatescleared': 4380, 'hounds': 4381, 'sweat': 4382, 'httpstcobwbotevnxe': 4383, 'andykhouri': 4384, 'n2': 4385, 'httptcomgzo0xhamj': 4386, 'arseniohall': 4387, 'narrow': 4388, 'gah': 4389, 'raddicool': 4390, 'mock': 4391, 'rupaulsdragrace': 4392, '10000x': 4393, 'wrecks': 4394, 'younger': 4395, 'douchebaggery': 4396, 'whatadick': 4397, 'rfhkerry': 4398, 'qualifiedunfollow': 4399, 'funnyordie': 4400, 'palin': 4401, 'consults': 4402, 'goatee': 4403, 'visits': 4404, 'ky': 4405, 'realization': 4406, 'dawns': 4407, 'httptcouyeqy2nh7a': 4408, 'thenormanlear': 4409, 'cleaned': 4410, 'mschmidt': 4411, 'terrified': 4412, 'dismember': 4413, 'httptcowvzuw29m7d': 4414, 'lamestream': 4415, 'karl': 4416, '92yr': 4417, 'interrupting': 4418, 'colleagues': 4419, 'ordered': 4420, 'dominos': 4421, 'httptconqqxm33aer': 4422, 'telescope': 4423, 'witch': 4424, 'oddan': 4425, 'barbaric': 4426, 'ionismurder': 4427, 'teamtrump': 4428, 'httptco2p8dw': 4429, 'httptcowvqlsxgmcl': 4430, 'fuel': 4431, 'melt': 4432, 'steel': 4433, 'beams': 4434, 'aftermath': 4435, 'businessman': 4436, 'profkori': 4437, 'offends': 4438, 'talkingaboutyoutrump': 4439, 'loribuckmajor': 4440, 'johnlibe': 4441, 'yusa': 4442, 'newsweek': 4443, 'concernedvets': 4444, 'httptcoid1ykmir33': 4445, 'plead': 4446, 'guilty': 4447, 'defrauding': 4448, 'httptcoxmo3snlw1p': 4449, 'collaboration': 4450, 'annotate': 4451, 'httptcoxpqlgzoxqb': 4452, 'unfollowing': 4453, 'loganmbooker': 4454, 'uga': 4455, 'erback': 4456, 'shannar86570997': 4457, 'flying': 4458, 'celebs': 4459, 'fthem': 4460, 'purpo': 4461, 'thy': 4462, 'verbally': 4463, 'eviscerate': 4464, 'akhenaten15': 4465, '575000': 4466, '56000': 4467, 'unate': 4468, 'dudeyoucrazy': 4469, 'opp': 4470, 'filed': 4471, 'cent': 4472, 'fifty': 4473, 'drewmoss1979': 4474, 'longgame': 4475, 'drive': 4476, 'ele': 4477, 'holdenmirror': 4478, 'ditch': 4479, 'sideshow': 4480, 'railroad': 4481, 'httpstcoqxim3nkiyf': 4482, 'cones': 4483, 'pboylen': 4484, 'rednationraising': 4485, 'meaningful': 4486, 'ble': 4487, 'lordmegynkelly': 4488, 'debbiewassermanschultz': 4489, 'showbabykiller': 4490, 'erampwe': 4491, 'httptcon': 4492, 'clowncarcrew': 4493, 'contgopdebate': 4494, 'credibility': 4495, 'begging': 4496, 'island': 4497, 'moreau': 4498, 'undercard': 4499, 'nixon': 4500, 'sends': 4501, 'arranged': 4502, 'weere': 4503, 'global': 4504, 'warming': 4505, 'escape': 4506, 'ian': 4507, 'munk': 4508, 'httptcoyud3assrgh': 4509, 'fuk': 4510, 'unfolds': 4511, 'americansunited': 4512, 'cameo': 4513, 'httptco01llp': 4514, 'reviews': 4515, 'nreditorial': 4516, 'httptcostzw': 4517, 'princeofbordue1': 4518, 'medically': 4519, 'necessary': 4520, 'touting': 4521, 'scottwalke': 4522, 'floyd5689': 4523, 'modify': 4524, 'monteiro': 4525, 'httptcoxdjzv1tr9n': 4526, 'dobbs': 4527, 'theories': 4528, 'equations': 4529, 'sciencenotsex': 4530, 'httptcood0i4cnksn': 4531, 'server': 4532, 'httpstcolzwvlubgnq': 4533, 'httptcon72rubxxcv': 4534, 'unsurprisingbutmassive': 4535, 'levels': 4536, 'truthstretching': 4537, 'bullshittery': 4538, 'experimenting': 4539, 'institutions': 4540, 'tc': 4541, 'watkins': 4542, 'domeniconpr': 4543, 'mediaequalizer': 4544, 'wlzkhallfa': 4545, 'httptcokwdnwgf53q': 4546, 'tellin': 4547, 'httpstco40026hgs07': 4548, '67': 4549, 'honorary': 4550, 'degrees': 4551, 'collar': 4552, 'httpstcoduupr696nr': 4553, 'johndrogin': 4554, 'switched': 4555, 'oftenimprudent': 4556, 'soared': 4557, 'makeup': 4558, 'ryanmauro': 4559, 'arab': 4560, 'columnist': 4561, 'praises': 4562, 'httptco3wqjfzgh2q': 4563, 'studies': 4564, 'proves': 4565, 'httptco5iv60gaksc': 4566, 'httptcoqqsg5aav9x': 4567, 'chairmanborges': 4568, 'katieeagan': 4569, 'ohiogop': 4570, 'wiping': 4571, 'floor': 4572, 'jihad': 4573, 'enabling': 4574, 'gopendejos': 4575, 'ronaldraven': 4576, 'avian': 4577, 'httptcomf1j': 4578, 'succeeded': 4579, 'oompa': 4580, 'loompa': 4581, 'orangish': 4582, 'bannerite': 4583, 'httptcozo63efhnqh': 4584, 'blackmagpie69': 4585, 'sent': 4586, '3k': 4587, 'dcoutsidersnonpoliticians': 4588, 'dennis': 4589, 'prager': 4590, 'proposed': 4591, 'scotttrace': 4592, 'feeding': 4593, 'kimkanye': 4594, 'examples': 4595, 'referring': 4596, 'secretary': 4597, 'onthefitz': 4598, 'httptcox7bcryr0f9': 4599, 'believersneverdie': 4600, 'httptco4eh6f2reur': 4601, 'cured': 4602, 'cance': 4603, 'details': 4604, 'patriarchal': 4605, 'elitist': 4606, 'homophobic': 4607, 'makeupbylivixx': 4608, 'promotionrelegation': 4609, 'premiership': 4610, 'championship': 4611, 'drbradholland': 4612, 'realroseizzo': 4613, 'gtdanscavino': 4614, 'liveheckling': 4615, 'mykafox': 4616, 'qedastoria': 4617, 'johnlundin': 4618, 'httptcocxoxwpa3j0': 4619, 'inquisition': 4620, 'text': 4621, 'mornings': 4622, 'skimmriffic': 4623, 'httptcomc2wokuwi8': 4624, 'millerkevinc': 4625, 'deejayedee': 4626, 'sob': 4627, 'stories': 4628, 'tissues': 4629, 'thatsjustbogus': 4630, 'trumpthe': 4631, 'httptcorv90krhkmi': 4632, 'rightchick': 4633, 'chi': 4634, 'kimura': 4635, 'mystified': 4636, 'jonfeere': 4637, 'switching': 4638, 'involve': 4639, 'fmjamerican': 4640, 'bair': 4641, 'incite': 4642, 'dramaand': 4643, 'consumedbrain': 4644, 'fried': 4645, 'tonykatz': 4646, '93wibc': 4647, 'itsradishtime': 4648, 'ial': 4649, 'httptcoybba83gtmy': 4650, 'httptco1cj3zy1u4w': 4651, 'httptcov1desifyee': 4652, 'extremeliberal': 4653, 'joins': 4654, 'idontneedanothe': 4655, 'witterargumentinmylife': 4656, 'fiercefemtivist': 4657, 'fergusonand': 4658, 'shield': 4659, 'blast': 4660, 'surefire': 4661, 'atlanticcity': 4662, 'accordingly': 4663, 'laid': 4664, 'outsourced': 4665, 'httptconubzumszcj': 4666, 'merely': 4667, 'pent': 4668, 'cmarinucci': 4669, 'httpstcosisbsjpubf': 4670, 'moral': 4671, 'strengthen': 4672, 'httptco80xe': 4673, 'httptcouaib1m8ekc': 4674, 'socalimilitia1': 4675, 'donkeyarguing': 4676, 'wmegynkellys': 4677, 'performanceas': 4678, 'bette': 4679, 'woul': 4680, 'structurally': 4681, 'violate': 4682, 'joeltena': 4683, 'reallifeintheusa': 4684, 'juang': 4685, 'arango': 4686, 'homeland': 4687, 'schoolyard': 4688, 'society': 4689, 'foxnewslive': 4690, 'deliberately': 4691, 'clueing': 4692, 'sitcom': 4693, 'jangajentaan': 4694, 'httptcocxch7xxq1v': 4695, 'robinma': 4696, 'degenerate': 4697, 'irreverin': 4698, 'helen': 4699, 'lovejoy': 4700, 'httpstcohmpjwncese': 4701, 'jefftiedrich': 4702, 'mightve': 4703, 'foot': 4704, 'httptcoja96jes4ou': 4705, 'wendyhagen': 4706, 'collars': 4707, 'charge': 4708, 'including': 4709, 'accident': 4710, 'agrees': 4711, 'httpstcojudmm4it3j': 4712, 'verifieddrunk': 4713, 'punkhistory': 4714, 'punk': 4715, 'halfway': 4716, 'salient': 4717, 'ldonaldtrump': 4718, 'cheers': 4719, 'afte': 4720, 'defiantly': 4721, 'maccallum': 4722, 'rye': 4723, 'httptco7ywqgydukw': 4724, 'httpstcoizasjz9yex': 4725, 'presenting': 4726, 'httpstcoserwdl1yfc': 4727, 'httptcok5kvybeij8': 4728, 'outsidedbox1': 4729, '1216bj': 4730, 'httptcovueeverddy': 4731, 'wordplay4days': 4732, 'censored': 4733, 'nanosecond': 4734, 'kylebrandt': 4735, 'raging': 4736, '42': 4737, 'httptcodocks': 4738, 'crazyclarine': 4739, 'giggling': 4740, 'bethpariseau': 4741, 'performanc': 4742, 'resisting': 4743, 'progressivism': 4744, 'understanding': 4745, 'jerusalem': 4746, 'mikehuckabees': 4747, 'blistering': 4748, 'wackos': 4749, 'finger': 4750, 'button': 4751, 'httptcondgrhvpb4i': 4752, 'ought': 4753, 'fan48': 4754, 'polisterpolls': 4755, 'resembled': 4756, 'beauty': 4757, 'drawn': 4758, 'chrchcurmudgeon': 4759, 'hologram': 4760, 'calvin': 4761, 'coolidge': 4762, 'moonwalking': 4763, 'httpstcojl4mxq2j': 4764, 'responds': 4765, 'httptcogjghtfodto': 4766, 'described': 4767, 'piggy': 4768, 'bestdebatequotes': 4769, 'organizations': 4770, 'engaging': 4771, 'kkkor': 4772, 'mga': 4773, 'mkii': 4774, 'blathering': 4775, 'iloanya1': 4776, 'bozos': 4777, 'potusshe': 4778, 'yjibbet': 4779, 'httptcobzknuxxobk': 4780, 'httptcodxx': 4781, 'httptcoliwtjlzzfd': 4782, 'michiganforben': 4783, '24000': 4784, '11000': 4785, 'httpstcoj1uhtfqzii': 4786, 'cliffschecter': 4787, 'dinosaurs': 4788, 'equal': 4789, 'kamala': 4790, 'httpstco8643pqb7bv': 4791, 'shawnsuth': 4792, 'misled': 4793, '510': 4794, 'strange': 4795, 'httpstcob8sr6mmalx': 4796, 'afloat': 4797, 'enslave': 4798, '400k': 4799, '100kyr': 4800, 'anthonymarlowe': 4801, 'cost': 4802, '700m': 4803, 'managed': 4804, 'eyeonpolitics': 4805, 'voicemail': 4806, 'messages': 4807, 'tonig': 4808, 'theworstpa': 4809, 'ofdepressionis': 4810, 'dannyfratella': 4811, 'ified': 4812, 'httpstcodar78vp3lx': 4813, 'vacation': 4814, 'musicluvr': 4815, 'stepped': 4816, 'exhausting': 4817, 'httptcovwg': 4818, 'bridges': 4819, 'speechboy71': 4820, 'nonsuperstars': 4821, 'jphoganorg': 4822, 'applied': 4823, 'nowwithalex': 4824, 'wilw': 4825, 'jerks': 4826, 'advetising': 4827, 'incensed': 4828, 'httptcom8hamuusrz': 4829, 'rhetorically': 4830, 'lecture': 4831, 'andreafed': 4832, 'othe': 4833, 'commoncore': 4834, 'quantity': 4835, 'tangible': 4836, 'propsals': 4837, 'httptcoyhvnoeinyi': 4838, 'chanc': 4839, 'enormous': 4840, 'horribly': 4841, 'httptcor4e8tpotd5': 4842, 'attended': 4843, 'announcements': 4844, 'assure': 4845, 'priorit': 4846, 'damongiles1973': 4847, '2tuff15': 4848, 'lostme': 4849, 'httptcotdlf7jc3ig': 4850, 'license': 4851, 'httptcorbk7gmyhce': 4852, 'egregiously': 4853, 'flawed': 4854, 'httptcou63wrh7mxn': 4855, 'httpstco2trfpmewcl': 4856, 'awareness': 4857, 'suffered': 4858, 'lowrancc': 4859, '1m': 4860, 'httptcos7ukcfcefb': 4861, 'cynthiaroldan': 4862, 'httptcoweyg5zlnsk': 4863, 'deenazarucnn': 4864, 'httptcognnn9idons': 4865, 'napalm': 4866, 'sprayed': 4867, 'gopdebatedennisprager': 4868, 'hispanics': 4869, 'suthen': 4870, 'puppet': 4871, 'benefactors': 4872, 'incapable': 4873, 'hatingliberino': 4874, 'luvin': 4875, 'estab': 4876, 'kissin': 4877, 'tabloid': 4878, 'filth': 4879, 'spark': 4880, 'hergopdebate': 4881, 'copdwg': 4882, 'groupers': 4883, 'positively': 4884, 'realmikebennett': 4885, 'httptcoaxcsmluzfl': 4886, 'bphill77': 4887, 'postgop': 4888, 'rmanning957': 4889, 'limitgovt': 4890, 'httptcogiuogvmnnc': 4891, 'leapove': 4892, 'instructing': 4893, 'civilians': 4894, 'cope': 4895, 'chick': 4896, 'routine': 4897, 'amateurish': 4898, 'httpstcoqlzsvi4otm': 4899, 'makinh15tory': 4900, 'reminisce': 4901, 'kennedys': 4902, 'nationality': 4903, 'thehumangraham': 4904, 'chase': 4905, 'forearm': 4906, 'gesture': 4907, 'joyreaper': 4908, 'unlocking': 4909, 'potential': 4910, 'decidingcarson': 4911, '1stplace': 4912, 'httptcoq9yxeh55ef': 4913, 'abb': 4914, 'scbn': 4915, 'balance': 4916, 'budgets': 4917, 'httptcoluyfkok': 4918, 'reacts': 4919, 'httpstcoocno5mpguh': 4920, 'mcgrudder': 4921, 'ciscabecker': 4922, 'httptcondnrdwrqyf': 4923, 'georgehenryw': 4924, 'exceeded': 4925, 'laura4fai': 4926, 'adam': 4927, 'sandler': 4928, 'movies': 4929, 'makeamericafa': 4930, '10x': 4931, 'average': 4932, 'intelligence': 4933, 'yup': 4934, 'happenedgop': 4935, 'httptcolsgaigj6kr': 4936, 'rachlwhitehurst': 4937, 'cramps': 4938, 'flee': 4939, 'elder1155': 4940, 'httptcojv4yfov7xz': 4941, 'mob': 4942, 'jackasses': 4943, 'sorahyam': 4944, 'sassy': 4945, 'pepperoni': 4946, '750': 4947, 'jacobengels': 4948, 'httptcodylhhihpdt': 4949, 'sayfie': 4950, 'littleladycassy': 4951, 'hydrated': 4952, 'urprobsjewish': 4953, 'task': 4954, 'fatshame': 4955, 'significantly': 4956, 'uhm': 4957, 'sexuality': 4958, 'regard': 4959, 'mobute': 4960, 'serf': 4961, 'httptconvipxignd4': 4962, 'bensherwood': 4963, 'aisle': 4964, 'salute': 4965, 'unflinching': 4966, 'que': 4967, 'maryknoll': 4968, 'sisters': 4969, 'windows': 4970, 'convent': 4971, 'httpstcofdgxg3vv13': 4972, 'gofundme': 4973, 'trcot': 4974, 'hellblazeraiser': 4975, 'boost': 4976, 'undermine': 4977, 'httpstcoffkuaoettm': 4978, 'barefootpagan': 4979, 'peaceful': 4980, 'erase': 4981, 'httptcopdi5czn': 4982, 'cutting': 4983, 'httptcojwdczyypwm': 4984, 'hello': 4985, 'greenville': 4986, 'chadstanton': 4987, 'httptcotmrfnuvwns': 4988, 'drginaloudon': 4989, 'bo': 4990, 'figured': 4991, 'httptcokowxyzui4z': 4992, 'kidstable': 4993, 'primarily': 4994, 'reflect': 4995, 'stevensinger3': 4996, 'httptco39zroenv9k': 4997, 'jebbushs': 4998, 'compassion': 4999, 'repjackkimble': 5000, 'contention': 5001, 'odonnells': 5002, 'weight': 5003, 'httptco1069hw6pbl': 5004, 'sampuzzo': 5005, 'progress4ohio': 5006, 'davidjwhite640': 5007, 'httptcomclat1zumo': 5008, 'coachs': 5009, 'httptco3cafylqojk': 5010, 'emoryadmission': 5011, 'emorydebate': 5012, 'trefpool': 5013, 'unreleased': 5014, 'footage': 5015, 'httpstcogegoirieai': 5016, 'letmeplaythedevilsadvocate': 5017, 'gameon': 5018, 'httpstcolf4chprf7h': 5019, 'conduct': 5020, 'ravingraver': 5021, 'httpstcor8bbw43z2c': 5022, 'yours': 5023, 'sponsored': 5024, 'theladygrantham': 5025, 'accidentally': 5026, 'uploaded': 5027, 'survives': 5028, 'wounds': 5029, 'grammar': 5030, 'httptcoaaddpv9erb': 5031, 'sbnation': 5032, 'laureldavilacpa': 5033, 'pdmfnb': 5034, 'httptcoi3uxahymjg': 5035, 'httptcofe6kz2mmmb': 5036, 'coleasschneider': 5037, 'braincutting': 5038, 'tools': 5039, 'coldpizzapa': 5040, 'httpstcogdnn2qs8j5': 5041, 'critiques': 5042, 'httpstcol597': 5043, 'osbourne': 5044, 'bitchwhere': 5045, 'blowtorch': 5046, 'criminalabusesnowpoised2policeourhealthcare': 5047, 'httpstcozflcfhee3j': 5048, 'dayum': 5049, 'throat': 5050, 'gloriamalone': 5051, 'httptco9agqnl83s9': 5052, 'httptcondyqvlp8dy': 5053, 'knowing': 5054, 'veiled': 5055, 'httptcoyuikaxrvtv': 5056, 'asleep': 5057, 'sydtrvp': 5058, 'grating': 5059, 'httptcowb0zteorzm': 5060, 'lay': 5061, 'wh': 5062, 'tyler': 5063, 'batson': 5064, 'httpstcon0lhfj92kw': 5065, 'badassbiden': 5066, 'httptco5yjw85akbv': 5067, 'mozgovaya': 5068, 'tvc3232': 5069, 'prayer': 5070, 'bombing': 5071, 'allthingsflynn': 5072, 'pollster': 5073, 'nene': 5074, 'leaks': 5075, 'malbec': 5076, 'gopdebatedrinkinggame': 5077, 'reaganite': 5078, 'davante': 5079, 'dis': 5080, 'goooood': 5081, 'alyonamink': 5082, 'unpacking': 5083, 'enthralled': 5084, 'burying': 5085, 'harddrawing': 5086, 'accomplishmentsare': 5087, 'foxdebates': 5088, 'nea': 5089, 'njea': 5090, 'httptcovbvvfpxspo': 5091, 'httpstcorxjs2emmdj': 5092, 'slamming': 5093, 'radicals': 5094, 'docrocktex26': 5095, 'httpstcogma5xojqhy': 5096, 'httptcorj0rz1zmn2': 5097, 'bombastic': 5098, 'harpoon': 5099, 'sleep': 5100, 'curse': 5101, 'shed': 5102, 'prope': 5103, 'bodybynance': 5104, 'authored': 5105, 'blocked': 5106, 'httptco84': 5107, 'ppsellsbabypa': 5108, 'yesterdays': 5109, 'rottentomatoes': 5110, 'httptcogimbjtf': 5111, 'mir': 5112, '6lb': 5113, 'vaginal': 5114, 'canal': 5115, 'duty': 5116, 'muted': 5117, 'ahhh': 5118, 'dublin': 5119, 'httptcoqhpe4anyz3': 5120, 'intelligible': 5121, 'africanacarr': 5122, 'votingrightsact': 5123, 'lo': 5124, 'freshman': 5125, 'comp': 5126, 'whenpoliticiansspeak': 5127, 'daddy': 5128, 'httpstcottbhqikpm8': 5129, 'herd': 5130, 'thin': 5131, 'rachael': 5132, 'firefly': 5133, 'coleman612': 5134, 'cancant': 5135, 'chauvinist': 5136, 'swipes': 5137, 'lonely': 5138, 'httptcomtuidqhr8c': 5139, 'ctblogger': 5140, 'httptcoygjyrwmrue': 5141, 'httptcogpiga3l7yo': 5142, 'dress': 5143, 'whoareyouwearing': 5144, 'unapologetic': 5145, 'violating': 5146, 'nicksylian': 5147, '22aday': 5148, 'iava': 5149, 'runolgarun': 5150, 'squares': 5151, 'drienasixto': 5152, 'wohoo': 5153, 'youth': 5154, 'sfrnc': 5155, 'httptcol4wvzwwun6': 5156, 'whatajoke': 5157, 'bloodying': 5158, 'proginosko': 5159, 'missionimpossible': 5160, 'reveal': 5161, 'smirking': 5162, 'latinovictoryus': 5163, 'latinoslisten': 5164, 'engaged': 5165, 'httpstcoyrjqln6ibb': 5166, 'sl': 5167, 'schaeffer': 5168, 'iwf': 5169, 'myrkiger': 5170, 'weigh': 5171, 'adillard4': 5172, 'activism': 5173, 'fergusonsyllabus': 5174, 'takeitdown': 5175, 'btwam': 5176, 'umichchat': 5177, 'stockejock': 5178, 'org': 5179, 'familiar': 5180, 'politichickam': 5181, 'bougieblackgurl': 5182, 'bl': 5183, 'bencarsons': 5184, 'cannon': 5185, 'fodder': 5186, 'contradicts': 5187, 'acceptance': 5188, 'httptcoynuckulnjv': 5189, '3rand': 5190, 'destroying': 5191, 'kellyfai': 5192, 'otr': 5193, 'pov': 5194, 'brilliance': 5195, 'personified': 5196, 'tperkins': 5197, 'entitlements': 5198, '65': 5199, 'tips': 5200, 'gander': 5201, 'httptco4pufj36dla': 5202, 'httptcowpi': 5203, 'mitt': 5204, 'rental': 5205, 'dono': 5206, 'opolitical': 5207, 'relationship': 5208, 'biggovernment': 5209, 'follish': 5210, 'housegopdebate': 5211, 'httpstcobuoye6dnll': 5212, 'flashback': 5213, 'hw': 5214, 'hangin': 5215, 'httpstcok1opxc8aqc': 5216, 'drowned': 5217, 'loonies': 5218, 'automatically': 5219, 'max': 5220, 'began': 5221, 'thos': 5222, 'succinctly': 5223, 'nottrump': 5224, 'anyonebut': 5225, 'violent': 5226, 'michelledbeadle': 5227, 'comparison': 5228, 'biff': 5229, 'womensrights': 5230, 'combover': 5231, 'httptcois9gyb7p31': 5232, 'brandonlavy': 5233, 'individuality': 5234, 'bernstein': 5235, 'mpklasi': 5236, 'noshame': 5237, 'republicansunite': 5238, 'bencasselman': 5239, 'asia': 5240, 'latin': 5241, 'httptcoiohepevlvb': 5242, 'abraham': 5243, 'gop2015': 5244, 'notaxation': 5245, 'httpstcoxcpcpx2n8u': 5246, 'adamsflafan': 5247, 'nothappening': 5248, 'httptcotnftr1e0te': 5249, 'rfrasher90': 5250, 'neurosurgery': 5251, 'deserving': 5252, 'httptco2ff3omzjsm': 5253, 'videosurg': 5254, 'mds': 5255, 'surgeons': 5256, 'hopefully': 5257, 'trend': 5258, 'aapsonline': 5259, 'encourage': 5260, 'onlyinbos': 5261, 'httptcooijj85pc35': 5262, 'similarity': 5263, 'httptcon2yixeokow': 5264, 'intention': 5265, 'wil': 5266, 'stirring': 5267, 'summeroftrump': 5268, 'nytpolitics': 5269, 'amazon': 5270, 'largest': 5271, 'retailer': 5272, 'httptcoieswk8u8ara': 5273, 'wth': 5274, 'djmorris55': 5275, 'exto': 5276, 'kiplin': 5277, 'httptcoihn6yaaeet': 5278, 'httptcot1k4z0vudr': 5279, 'phil': 5280, 'cosby': 5281, 'sooooodo': 5282, 'httptcohtuwevrepg': 5283, 'craziness': 5284, 'httpstco6rwqandcfu': 5285, 'isurfed': 5286, 'bot': 5287, 'thinkers': 5288, 'mammals': 5289, 'suck': 5290, 'semester': 5291, 'coolestschool': 5292, 'httptcoa2kovjfhwp': 5293, 'theonlyadult': 5294, 'lsarsour': 5295, 'izlam': 5296, 'muslims': 5297, 'mozlems': 5298, 'delgrosso': 5299, 'screwy': 5300, 'dillonfox5': 5301, 'fox5atl': 5302, 'httpstco0jzu3hdh3j': 5303, 'debbyrevere': 5304, 'valueblog': 5305, 'preparing': 5306, 'enuff': 5307, 'violated': 5308, 'httptcoejrxexztjt': 5309, 'diplomtc': 5310, 'immnty': 5311, 'skyrocketed': 5312, 'httptcom2leghw8fj': 5313, 'sayiiiiing': 5314, 'howell': 5315, 'optionmonster': 5316, 'bpeck': 5317, 'logos': 5318, 'httptcomocgzthbdz': 5319, 'httpstcoxyahgrr5vh': 5320, 'darrengoodman46': 5321, 'flash': 5322, 'dcs': 5323, 'bars': 5324, 'httptco09mgoekaya': 5325, 'rebleber': 5326, 'texancat': 5327, 'ty': 5328, 'cruzcr': 5329, 'elb3001': 5330, 'screw': 5331, 'clarknt67': 5332, 'solider': 5333, 'onlyshaneo': 5334, 'ega': 5335, 'httptcozn': 5336, 'repeating': 5337, 'alltime': 5338, 'blackpearlmoi': 5339, 'itliars': 5340, 'jimlibe': 5341, 'carminezozzora': 5342, 'heatherchilders': 5343, 'kathya': 5344, '1ltdeclined': 5345, 'locate': 5346, 'proe': 5347, 'ants': 5348, 'httptco2vgocbdpyx': 5349, 'michaelkruse': 5350, 'mikeallen': 5351, 'httptcok7tgoym8bi': 5352, 'politico': 5353, 'barbthebuilder': 5354, 'bigbeautifuldoor': 5355, 'httptcom2ua3a3vk9': 5356, 'bbcjonsopel': 5357, 'excellence': 5358, 'rhymes': 5359, 'ntagouri': 5360, 'obsessed': 5361, 'strugglin': 5362, 'unbiased': 5363, 'attackdog': 5364, 'alocalgyro': 5365, 'norsu2': 5366, 'fxnopinion': 5367, '7th': 5368, 'bonsaisky': 5369, 'bwahaha': 5370, 'httpstconzinvxfdcd': 5371, 'qudebates': 5372, 'utterly': 5373, 'disappointedg': 5374, 'nauseous': 5375, 'httptcoirzvuggycu': 5376, 'httptco6ehhqjeyg2': 5377, 'goddessjaz': 5378, 'typing': 5379, 'urza83': 5380, 'elisevess': 5381, 'unavailable': 5382, 'healing': 5383, 'cariisie': 5384, 'agai': 5385, 'xlnb': 5386, 'indication': 5387, 'httptcobh0chsy5eh': 5388, 'readyforcruz': 5389, 'bernardgoldberg': 5390, 'httptco9baqoqpxon': 5391, 'database': 5392, 'opposing': 5393, 'registry': 5394, 'httptcos9hsbtzrsc': 5395, 'gunsen': 5396, 'govtstheproblem': 5397, 'shovel': 5398, 'drmwba': 5399, 'hahahaha': 5400, 'httpstcolmoh591w9t': 5401, 'ially': 5402, 'exploiting': 5403, 'tragedy': 5404, 'rudygiulianigops': 5405, 'elianabenador': 5406, 'politicalsho': 5407, 'samlove0313love': 5408, 'andybryant': 5409, 'ebenjones': 5410, 'mjgranger1': 5411, 'selfish': 5412, 'immature': 5413, 'thatfoxyshadow': 5414, 'scheme': 5415, 'promote': 5416, 'httptco9k1eujdfo7': 5417, 'spudlovr': 5418, 'dies': 5419, 'womb': 5420, 'dampc': 5421, 'scottwalker16': 5422, 'introduce': 5423, 'accomplished': 5424, 'dislikes': 5425, 'aaaaaaaaaaaaaaand': 5426, 'httptcobmh8u80tyh': 5427, 'glengarry': 5428, 'glen': 5429, 'jamesrosenfnc': 5430, 'httpstcomr3ehwanvz': 5431, 'jonahnro': 5432, 'jimgeraghty': 5433, 'renee': 5434, 'httptcojlfhfvz7st': 5435, 'example': 5436, 'morally': 5437, 'forgedbytrials': 5438, 'notes': 5439, 'assaultweapon': 5440, 'michigancrs': 5441, 'mrpooni': 5442, 'convince': 5443, 'impetu4': 5444, 'compare': 5445, 'minority': 5446, 'selfdefense': 5447, 'pocket': 5448, 'dayhe': 5449, 'lollyohmy': 5450, 'beaches': 5451, 'colorado': 5452, 'soulrevision': 5453, 'klan': 5454, 'rally': 5455, 'httpstcoawf2znvqvo': 5456, 'lastnight': 5457, 'nurse': 5458, 'postnight': 5459, 'woes': 5460, 'pastrami': 5461, 'knish': 5462, 'kosher': 5463, 'httpstco8uai8mr3di': 5464, 'crissghoul': 5465, 'scottsigler': 5466, 'wheatons': 5467, 'pudding': 5468, 'chin': 5469, 'betamale': 5470, 'virg': 5471, 'apologizes': 5472, 'unintentionally': 5473, 'httpstcodlapggprci': 5474, 'acpress': 5475, 'tracey': 5476, 'acpresskramer': 5477, 'ac': 5478, 'apropos': 5479, 'thurs': 5480, 'currently': 5481, 'closingstatements': 5482, 'defs': 5483, 'coz': 5484, 'schtick': 5485, 'katearonoff': 5486, 'httpstcohb86fxzb2a': 5487, 'httptcotztk7bc1rm': 5488, 'chirbit': 5489, 'kingsthings': 5490, 'series': 5491, 'unities': 5492, 'persianpolitik': 5493, 'ev': 5494, 'stumbled': 5495, 'anyonebuthillary': 5496, 'ventriloquist': 5497, 'dummy': 5498, 'velvetunderground': 5499, 'fridays': 5500, 'existed': 5501, 'nostalgic': 5502, 'iesrec': 5503, 'ignorantwow': 5504, 'drunkenky': 5505, 'dot': 5506, 'com': 5507, 'profiles': 5508, 'pjhughes12': 5509, 'immigrant': 5510, 'ledzepplin': 5511, 'httpstcocos4pgnmpd': 5512, 'lobbied': 5513, 'slutty': 5514, 'httptcoqy09ckxzzz': 5515, 'vile': 5516, 'invoke': 5517, 'slur': 5518, 'cowards': 5519, 'httptcon8pu1zovbh': 5520, 'advocating': 5521, 'spying': 5522, 'abandoning': 5523, 'truthteamone': 5524, 'johnny': 5525, 'httptcoqzoapiekcy': 5526, 'trumpbashing': 5527, 'httpstco3vyuksnrwe': 5528, 'johneberkowitz': 5529, 'perfectly': 5530, 'httptcod6p2w69ea5': 5531, 'alexisinnh': 5532, 'httptcooheklwzarc': 5533, 'mariaguido': 5534, 'con': 5535, 'deliver': 5536, 'httptcolhmrkxwvci': 5537, 'plannedparen': 5538, 'nancypelosi': 5539, 'discouraged': 5540, 'spectaclegopdebate': 5541, 'campground': 5542, 'despicable': 5543, 'realdonald': 5544, 'neinqua': 5545, 'erlymy': 5546, 'complaint': 5547, 'shenanigans': 5548, 'edsbs': 5549, '60': 5550, 'homicides': 5551, 'httptcozt2tmgfdpg': 5552, 'matthewherper': 5553, 'cranks': 5554, 'httptcowoqo4vly9p': 5555, 'scraps': 5556, 'donna': 5557, 'brazile': 5558, 'testosterone': 5559, 'tabasco': 5560, 'hiphughes': 5561, 'fmri': 5562, 'unrelated': 5563, 'aptitude': 5564, 'abbijacobson': 5565, 'shiiiittt': 5566, 'horny': 5567, 'uncles': 5568, 'limited': 5569, '140characters': 5570, 'joshbrown': 5571, 'heaprez': 5572, 'troubling': 5573, 'tuxcedocat': 5574, 'dopefuls': 5575, 'congoboy': 5576, 'tiring': 5577, 'shockingly': 5578, 'illinformed': 5579, 'httptcovtk1k0txi': 5580, 'bushed': 5581, 'huckabeecruz': 5582, 'looniesasusual': 5583, 'insignificant': 5584, 'sucks': 5585, 'hysterical': 5586, 'seredoc': 5587, 'reserves': 5588, 'lynn': 5589, 'mistie': 5590, 'manufactured': 5591, 'genemcvay': 5592, 'fledged': 5593, '2008': 5594, 'annmariebrok': 5595, 'ppfa': 5596, 'httpstco8fmw19ewp9': 5597, 'reprojustice': 5598, 'princedemitri': 5599, 'slackadjuster': 5600, 'preacher': 5601, 'minded': 5602, 'judgemental': 5603, 'josh': 5604, 'duggar': 5605, 'rudyhavenstein': 5606, 'shown': 5607, 'swallowing': 5608, 'ohgodmakeitstop2015': 5609, 'httptcoz2vx3cridr': 5610, 'blacklives': 5611, 'httptco8rfevfwsxx': 5612, 'httptco3afiekcitk': 5613, 'invoking': 5614, 'unfairness': 5615, 'unconstitutional': 5616, 'enacted': 5617, 'httptcocs0usassqs': 5618, 'httptco3tep5zszun': 5619, 'metzgr': 5620, 'leomcgarryness': 5621, 'httptcokolwwwgdp1': 5622, 'bullriders1': 5623, 'olivianuzzi': 5624, 'finessed': 5625, 'bytes': 5626, 'kayski': 5627, 'professorf': 5628, 'httpstcon0k0vahzg6': 5629, 'httptcowci7apyxol': 5630, 'belve': 5631, 'michelle': 5632, 'landokardashian': 5633, 'featured': 5634, 'revive': 5635, 'brutally': 5636, 'claire': 5637, 'httpstcoknwmideqty': 5638, 'electric': 5639, 'sharpener': 5640, 'lofty': 5641, 'cands': 5642, 'kxl': 5643, 'highsustained': 5644, 'expo': 5645, 'httpstcoabunlgighg': 5646, 'httptcok9nhdpue32': 5647, 'httptcohlcqpxjzru': 5648, 'sean': 5649, 'munger': 5650, 'frankthedoorman': 5651, 'sydneyvl24': 5652, 'cautiously': 5653, 'httpstcopupwnglaot': 5654, '10k': 5655, 'growing': 5656, 'shrinkgov': 5657, 'frankthorpnbc': 5658, 'httpstcohf': 5659, 'ifiable': 5660, 'comme': 5661, 'bored': 5662, 'jed': 5663, 'glimmers': 5664, 'sanity': 5665, 'heap': 5666, 'httpstconzceb95xyg': 5667, 'wondered': 5668, 'recent': 5669, 'diatribes': 5670, 'diss': 5671, 'shellbelle1022': 5672, 'sorkinese': 5673, 'westwing': 5674, 'yell': 5675, 'trumpratings': 5676, 'surpass': 5677, 'httptcog3aawdobpd': 5678, 'hilderestad': 5679, 'strategist': 5680, 'decidedly': 5681, 'terrorist': 5682, 'dehumanizing': 5683, 'every1': 5684, 'follows': 5685, 'warned': 5686, 'monthshttptcoiz6z3apgbh': 5687, 'relation': 5688, 'zackisthe': 5689, 'chubby': 5690, 'damien': 5691, 'thorne': 5692, 'ablanketyblank': 5693, 'johnnyfriegas': 5694, 'prestonmitchum': 5695, 'httpstcon7h3t7hxsz': 5696, 'speechless': 5697, 'pissd': 5698, 'realdonaldtr': 5699, 'httpstcovewxhjkijx': 5700, 'atlcav': 5701, 'ups': 5702, 'conference': 5703, 'ilirprogri': 5704, 'lizpeek': 5705, 'highly': 5706, 'adaptable': 5707, 'inconsis': 5708, 'kc5lei': 5709, 'plumbed': 5710, 'dissappointed': 5711, 'brags': 5712, 'amprog': 5713, 'louisiana': 5714, 'ownit': 5715, 'spectacle': 5716, 'deals': 5717, 'lamejess': 5718, 'texasdivepro': 5719, 'comprehension': 5720, 'httpstcobyv2iifmpr': 5721, 'fancy': 5722, 'jonsnow': 5723, 'got7': 5724, 'occasional': 5725, 'viktorsald': 5726, 'fiscal': 5727, 'popped': 5728, 'httptcosoznmunltj': 5729, 'swell': 5730, 'gruff': 5731, 'eloquenthe': 5732, 'shadow': 5733, 'operationrescue': 5734, 'threatens': 5735, 'allowing': 5736, 'queens': 5737, 'lowclass': 5738, 'edgeofspo': 5739, 'minion': 5740, 'httpstcomcems58r9i': 5741, 'seductivpancake': 5742, 'mana': 5743, 'magic': 5744, 'gathering': 5745, 'essential': 5746, 'broker': 5747, 'presidentialperception': 5748, 'slayed': 5749, 'breitba': 5750, 'httptcozclymyxzvy': 5751, 'httptcoio41nn1omn': 5752, 'danspeakstruth': 5753, 'productive': 5754, 'weed': 5755, 'bath': 5756, 'ainm': 5757, 'positioning': 5758, 'unpredictability': 5759, 'foolsinthehalls': 5760, 'loathe': 5761, 'nooz': 5762, 'bloviating': 5763, 'carnival': 5764, 'barker': 5765, 'govermentca': 5766, 'securetheborder': 5767, 'swgoldman': 5768, 'httptcodfpimpxsav': 5769, 'fangirl': 5770, 'dum': 5771, 'leighpatrick': 5772, 'ellenrsullivan': 5773, 'referred': 5774, 'tier': 5775, 'itself': 5776, 'httptcoftggl1zg1c': 5777, 'lindacohn': 5778, 'eqphoto': 5779, 'alcoholpoisoning': 5780, 'tonewe': 5781, 'httptcomiyhipdkqs': 5782, 'cecilerichards': 5783, 'whoissizzle': 5784, 'httptcoh9t0a4ijxx': 5785, 'httptcokqs216nb': 5786, 'aired': 5787, 'zombies': 5788, 'dig': 5789, 'holes': 5790, 'backfiring': 5791, 'yvettecooper': 5792, 'mp': 5793, 'channelling': 5794, 'cnt': 5795, 'httptco7athcmpmur': 5796, 'humanityread': 5797, 'egomaniacs': 5798, 'democratsthinkalike': 5799, 'obamaclinton': 5800, 'rosscameron4': 5801, 'require': 5802, 'trusting': 5803, 'applaud': 5804, 'httptcorrjvrkazcz': 5805, 'anniv': 5806, 'fwd': 5807, 'undocumented': 5808, '106': 5809, '2010': 5810, 'httptcoz1v2fvrubr': 5811, 'mspackyetti': 5812, 'trolls': 5813, 'withholding': 5814, 'valuable': 5815, 'httptcovjmjdm': 5816, 'jodiecongirl': 5817, 'whenever': 5818, 'puppies': 5819, 'unicorns': 5820, 'suppresses': 5821, 'kills': 5822, 'httptcoeha7fscjgx': 5823, 'bigboybaker': 5824, 'realitycheck': 5825, 'valerie': 5826, 'jarrett': 5827, 'gushing': 5828, 'httptcoml4uvbruvv': 5829, 'thephoenixsun': 5830, 'httptco0vw7ht3uo2': 5831, 'excelled': 5832, 'httpstcopve8wuodke': 5833, 'niloy': 5834, 'ic': 5835, 'fundamentalists': 5836, 'gordonpress': 5837, 'strengths': 5838, 'httptcobkowyl34ft': 5839, 'teamrickperry': 5840, 'httptcol3cz6jbryh': 5841, 'enforce': 5842, 'prioritize': 5843, 'worker': 5844, 'waker16': 5845, 'hiked': 5846, 'dogpile': 5847, 'pressing': 5848, 'noclass': 5849, 'httpstcoz6nqmfuxhg': 5850, 'washingtonposts': 5851, 'httptcoikp4m4haad': 5852, 'httptco3jrcuqdafu': 5853, 'saxophone': 5854, 'protesters': 5855, 'httptco8rwu8pwrid': 5856, 'mspeoples': 5857, 'criminal': 5858, 'looney': 5859, 'tunes': 5860, 'httpstcofbo00cn461': 5861, 'tonibirdsong': 5862, 'alyssalardi': 5863, 'esp': 5864, 'foundation': 5865, 'anergo': 5866, 'radiobear13': 5867, 'pfikac': 5868, 'verge': 5869, 'mysa': 5870, 'txlege': 5871, 'familiesf': 5872, 'rings': 5873, 'perking': 5874, 'pawns': 5875, 'polices': 5876, 'merit': 5877, 'conservativeness': 5878, 'slaboe': 5879, 'httptcotaph65klje': 5880, 'httptco3l7yimjxdl': 5881, 'shy': 5882, 'johnjohnsonson': 5883, 'httptcoq81yslxe47': 5884, 'lr': 5885, 'httpstconfwjvlpt96': 5886, 'whoooooooooop': 5887, 'wrappin': 5888, 'astrokatie': 5889, 'factually': 5890, 'epitome': 5891, 'httpstco749kiiio2a': 5892, 'superstar': 5893, 'davidchalian': 5894, 'weighs': 5895, 'httptcond1coglypl': 5896, 'cbsmiami': 5897, 'problemucan': 5898, '2ignore': 5899, 'scumbag': 5900, 'biteme': 5901, 'httptco2p7wf9o56h': 5902, 'rarely': 5903, 'link': 5904, 'accuracy': 5905, 'httptcoxsxtyuykwp': 5906, 'bree': 5907, 'mars': 5908, 'pledgeill': 5909, 'campeauelliot': 5910, '18': 5911, 'httptcoeeavzmrvb2': 5912, 'httptcojq1cnfggwy': 5913, 'etori': 5914, 'craved': 5915, 'httpstcofllzrayalp': 5916, 'eos': 5917, 'examine': 5918, 'singlepayer': 5919, 'noitdoesnot': 5920, 'httptcour9oz95p9f': 5921, 'fed': 5922, 'fivecourse': 5923, 'banquet': 5924, 'sojourners': 5925, 'truthy': 5926, 'quipped': 5927, 'honeybadger': 5928, 'pftcommenters': 5929, 'recognition': 5930, 'httptcokcjlyxbxvq': 5931, 'httptcoqm68cvqmve': 5932, '430': 5933, '375': 5934, '189': 5935, 'httpstcobdsp6ig77v': 5936, 'glue': 5937, 'hometown': 5938, 'touching': 5939, 'httptcoqtn8echb29': 5940, 'unitenotdivide': 5941, 'tree': 5942, 'branch': 5943, 'httptcoqko1ltdfbp': 5944, 'isthisajoke': 5945, 'promotes': 5946, 'gag': 5947, 'block': 5948, 'atrisk': 5949, 'aurabogado': 5950, 'dilemma': 5951, 'deplorable': 5952, 'leftist': 5953, 'relentlessly': 5954, 'manipulates': 5955, 'snoopsrulez': 5956, 'httptco1wbmval01w': 5957, 'eventual': 5958, 'biden': 5959, 'insomniactivist': 5960, '352am': 5961, 'sti': 5962, 'moonbat': 5963, 'retarded': 5964, 'psychopath': 5965, 'gmadawny': 5966, 'httptcoba4o0kwluu': 5967, 'recognizes': 5968, 'doze': 5969, 'plaguing': 5970, 'manage': 5971, 'dreamweasel': 5972, 'grownup': 5973, 'douchebag': 5974, 'wkdental': 5975, 'sensible': 5976, 'wfie': 5977, 'affectn': 5978, 'httpstcobdxb2vkyqw': 5979, 'pussy': 5980, 'navyseal': 5981, 'sethanikeem': 5982, 'phaedrabonewits': 5983, 'spoiler': 5984, 'ale': 5985, 'secondtier': 5986, 'httptcoxrblfem4fy': 5987, 'garbled': 5988, 'incoherent': 5989, 'httptcojjhtkyovml': 5990, 'almightygod': 5991, 'pharaoh': 5992, 'shebears': 5993, 'motivation': 5994, 'resolving': 5995, 'httptcolseitog0nr': 5996, 'getty': 5997, 'libs': 5998, 'wears': 5999, 'segment': 6000, 'rewatch': 6001, 'playlist': 6002, 'httptco7bd5kbk5za': 6003, 'ladybeau49': 6004, 'touchstone': 6005, 'badirandeal': 6006, 'rednation': 6007, 'jamellemybelle': 6008, 'httptconouuut5hkq': 6009, 'nbcuniverso': 6010, 'tpirkl': 6011, 'prop': 6012, 'thursday': 6013, 'stepping': 6014, 'healthier': 6015, 'lowers': 6016, 'httptcocst2rrdnl7': 6017, 'elevat0rlady': 6018, 'hopped': 6019, 'httptcotpszbvid8o': 6020, 'outsider': 6021, 'honors': 6022, 'commitments': 6023, 'httptcowheorxlcid': 6024, 'chakerkhazaal': 6025, 'httptconuu1czmalj': 6026, 'aikieagle': 6027, 'offend': 6028, 'races': 6029, 'smallest': 6030, 'violin': 6031, 'wasntabletowatch': 6032, 'darling': 6033, 'wedontfactcheck': 6034, 'michaelrapapo': 6035, 'geraldmoody1560': 6036, 'sticking': 6037, 'gopprimary': 6038, 'brendohare': 6039, 'premier': 6040, 'athletes': 6041, 'httptcoplgp4aai2y': 6042, 'blackman': 6043, 'towers': 6044, 'thogopdebate': 6045, 'debrahendrix': 6046, 'mellynjess': 6047, 'me2': 6048, 'flotus': 6049, 'sos': 6050, 'decides': 6051, 'smh': 6052, 'fanatic': 6053, 'gopignorance': 6054, 'httpstcou8zeb21jxh': 6055, 'insur': 6056, 'premiums': 6057, 'httpstcotirxoldwve': 6058, 'napoleon': 6059, 'complex': 6060, 'blah': 6061, 'httpstcohzryamngsz': 6062, 'grannyt6': 6063, 'dna': 6064, 'righttolife': 6065, 'dontbackdown': 6066, 'separated': 6067, 'conjoined': 6068, 'twins': 6069, 'duckface': 6070, 'dnchef': 6071, 'thisll': 6072, 'screwing': 6073, 'persians': 6074, 'penthous': 6075, 'early2000s': 6076, 'wbillionaires': 6077, 'gore': 6078, 'rantoddj': 6079, 'signature': 6080, 'httptcopqklctmqkq': 6081, 'paolo': 6082, 'sf': 6083, 'httptco3xbdxllceo': 6084, 'footies': 6085, 'washerwoman': 6086, 'httptcoyaqyac3uv3': 6087, 'imfabulous13': 6088, 'arise': 6089, 'mercuryoneoc': 6090, 'rhowardbrowne': 6091, 'removed': 6092, 'burns': 6093, 'digusting': 6094, 'httpstcovvia1nuyld': 6095, 'siteroi': 6096, 'porous': 6097, 'fixed': 6098, 'ytarian': 6099, 'jakarijax': 6100, 'leeannmcadoo': 6101, 'wether': 6102, 'punt': 6103, 'toes': 6104, 'krugman': 6105, 'happended': 6106, 'httptcogkubem7ge7': 6107, 'gusramsey': 6108, 'hahahahaha': 6109, 'httpstcoxtoslxwf43': 6110, 'nass': 6111, 'starwars': 6112, 'httptcoe8gzqnhk9r': 6113, 'rockstarfudge': 6114, 'punched': 6115, 'badassteacher': 6116, 'jfreewright': 6117, 'liberally': 6118, 'kinderga': 6119, 'en': 6120, '4gen234': 6121, 'stinger': 6122, 'inc': 6123, 'behaviour': 6124, 'astonishingly': 6125, 'adolf': 6126, 'hitler': 6127, 'jonathan': 6128, 'hires': 6129, 'actors': 6130, 'click': 6131, 'survey': 6132, 'restorereality': 6133, 'reader': 6134, 'tame': 6135, 'bbc': 6136, 'httptcotke': 6137, 'mrskimcam': 6138, 'httpstcokwhdfmuva5': 6139, 'tossing': 6140, 'neverwillbepotus': 6141, 'httpstcofyxcfnwedp': 6142, 'annietiques': 6143, '116': 6144, 'tanvi': 6145, 'madan': 6146, 'umpteenth': 6147, 'apple': 6148, 'product': 6149, 'ihraan': 6150, 'nonprophetess': 6151, 'thebighoot': 6152, 'jan4usa': 6153, 'jordanadolph': 6154, 'httpstcogexpvd1vb0': 6155, 'johnhawkinsrwn': 6156, 'prof': 6157, 'poser': 6158, 'utter': 6159, 'laurengreenberg': 6160, 'httptcoxul0y2qxp6': 6161, 'affiliation': 6162, 'station': 6163, 'clarawrrr': 6164, 'lyrics': 6165, 'breakstuff': 6166, 'ullikemike': 6167, 'tjholmes': 6168, 'airs': 6169, 'sm': 6170, 'bee': 6171, 'interestinggopdebate': 6172, 'httpstco6inkmv9kzw': 6173, 'httptcoovg0auasyi': 6174, 'httptcotg2eiabifm': 6175, 'reply': 6176, 'bass': 6177, 'steinberger': 6178, 'fiftyfifty': 6179, 'httptcopkyjsglvfr': 6180, 'broadcast': 6181, 'httptcodrn2bhohii': 6182, 'category': 6183, 'httpstcorp0oeac5wg': 6184, 'jamesviser': 6185, 'charity': 6186, 'tothe': 6187, 'httptcobvwrosgwal': 6188, 'copolitics': 6189, 'uniteb': 6190, 'dadandburied': 6191, 'referencing': 6192, 'misunderstand': 6193, 'cringewo': 6194, 'embarrassingly': 6195, 'shawnsbrain66': 6196, 'ecstatic': 6197, 'vet': 6198, 'httpstcohrlwhet2x8': 6199, 'iapolitics': 6200, 'cavaticat': 6201, 'slaying': 6202, 'httptcoslfvbkscms': 6203, 'pedinska': 6204, 'moar': 6205, 'terry5135': 6206, 'cappy': 6207, 'yarbrough': 6208, 'pregnancy': 6209, 'masterpiece': 6210, 'metamockery': 6211, 'httptcoi83mhxnu9g': 6212, 'punditsanalysts': 6213, 'mckinney': 6214, 'samdubose': 6215, 'nerves': 6216, 'httptcow3grrycjri': 6217, 'affirmative': 6218, 'megopdebate': 6219, 'prankster': 6220, 'egged': 6221, 'embarrass': 6222, 'bucket': 6223, 'handy': 6224, 'within': 6225, 'secs': 6226, 'juliaioffe': 6227, 'elegant': 6228, 'httptcocw0rac9wqh': 6229, 'cries': 6230, 'questionsgopdebate': 6231, 'assholeofday': 6232, 'gb': 6233, 'dilapidated': 6234, 'dishonest': 6235, 'corrupted': 6236, '10000': 6237, 'hmmhe': 6238, 'basewonder': 6239, 'couragemaybe': 6240, 'bish': 6241, 'drshows': 6242, 'httptcoo8': 6243, 'itvgdt': 6244, 'gaining': 6245, 'amateur': 6246, 'mightnt': 6247, 'offspring': 6248, 'fallon': 6249, 'httpstcoiua0hy2uc6': 6250, 'httptcoznxkpfq6y7': 6251, 'profit': 6252, 'sanest': 6253, 'clowncarclusterfuck': 6254, 'httptcovyjqt1fjyx': 6255, 'striking': 6256, 'antichoiceprolife': 6257, 'batman': 6258, 'teamdrbencarson': 6259, 'collectedempowering': 6260, 'httptcoyr9m2mf9fh': 6261, 'alicewhunt': 6262, 'enslaves': 6263, 'brittney': 6264, 'cooper': 6265, 'professorcrunk': 6266, 'cts': 6267, 'chicago': 6268, 'onenabi': 6269, 'drvalerieb': 6270, 'gifted': 6271, 'niceninja': 6272, 'iol': 6273, 'youlie': 6274, 'juxtapose': 6275, 'numbnuts': 6276, 'dedicated': 6277, '2min': 6278, '2hr': 6279, 'httptcotxmkgv9hib': 6280, 'jayedilla': 6281, 'ioninducing': 6282, 'drug': 6283, 'httptco8o8fbzafka': 6284, 'httpstcoua4eh0stft': 6285, 'ummm': 6286, 'prayforameri': 6287, 'jordansekulow': 6288, 'curriculum': 6289, 'consistently': 6290, 'httptcobdqt6tc8w1': 6291, 'httptcoguk0mjuph7': 6292, 'hostess': 6293, 'jeremylheath': 6294, 'naheitzeg': 6295, 'beware': 6296, 'extremist': 6297, 'govmarkdayton': 6298, 'httptcofrkbjl5k1h': 6299, 'lourack1': 6300, 'rollingstone': 6301, 'retiringand': 6302, 'tens': 6303, 'vohandas': 6304, '1hr': 6305, 'blkfeminst': 6306, 'wombs': 6307, 'httpstcofo3a6dxflf': 6308, 'entrepreneurship': 6309, 'kasichgopdebate': 6310, 'httptcohahrepiukt': 6311, 'ambitiouspaul': 6312, 'sellout': 6313, 'rooted': 6314, 'httptcogiagjpygxz': 6315, 'marnus3': 6316, 'remedy': 6317, 'oregonemom': 6318, 'joseph': 6319, 'santoro': 6320, 'bwheatnyc': 6321, 'cosgrove': 6322, 'cai': 6323, 'httptcovhl': 6324, 'pillary56': 6325, 'unitewomenorg': 6326, 'politifact': 6327, 'oni': 6328, 'lamae': 6329, 'cablebut': 6330, 'theyoungturks': 6331, 'institutional': 6332, 'crazies': 6333, 'asylum': 6334, 'olivia': 6335, 'httptconrugsn3xiu': 6336, 'apologizing': 6337, 'leger': 6338, 'fearmongers': 6339, 'jfk': 6340, 'campaignconservative': 6341, 'comings': 6342, 'jimmy': 6343, 'johnkerry': 6344, 'tuffer': 6345, 'irritatedwoman': 6346, 'mek': 6347, 'httpstcogkdaqxmum2': 6348, 'snake': 6349, 'variety': 6350, 'httptcoaqzgegt7tb': 6351, 'debrajsaunders': 6352, 'politicsbut': 6353, 'httptcoxqjbinizte': 6354, 'salenazitotrib': 6355, 'brucepurple': 6356, 'danestrother': 6357, 'chipfelkel': 6358, 'offroadpolitics': 6359, 'httptco6ofoa0hqpa': 6360, 'react': 6361, '745': 6362, 'sentiment': 6363, 'httptcocpqjnwol11': 6364, 'gtfrankluntz': 6365, 'workmans': 6366, 'smashed': 6367, 'assassinate': 6368, 'rocking': 6369, 'wet': 6370, 'wavy': 6371, 'ooh': 6372, 'killem': 6373, 'bradwalsh': 6374, 'shouts': 6375, 'aristocrats': 6376, 'afrochubbz': 6377, 'visit': 6378, 'httptco8aupr2vs6z': 6379, 'httptcoopedgskhgp': 6380, 'christi': 6381, 'alexhalperin': 6382, 'nandelabra': 6383, 'xaron4': 6384, 'httpstcor': 6385, 'tonyloyd': 6386, 'jaguarjin': 6387, 'dthomicide': 6388, 'leslieks': 6389, 'gen': 6390, 'hiliary': 6391, 'fairbench': 6392, 'mw': 6393, 'bombs': 6394, 'notbetter': 6395, 'rfs': 6396, 'reduces': 6397, 'hostile': 6398, 'regions': 6399, 'conflicts': 6400, 'bnyutu': 6401, 'roxsett27573': 6402, 'httptcouhunkexepx': 6403, 'photos': 6404, 'rafael': 6405, 'bacon': 6406, 'semiautomatic': 6407, 'gayer': 6408, 'caked': 6409, 'radiance': 6410, 'powder': 6411, 'bnrdebate': 6412, 'fairbalanced': 6413, 'juliaweingarden': 6414, 'inappropriate': 6415, 'arriving': 6416, 'httptcokk6xbkpajm': 6417, 'cowbells': 6418, 'morecowbells': 6419, 'httptcof76msa5b8t': 6420, 'mch7576': 6421, 'repgeoffdiehl': 6422, 'magop': 6423, 'nov': 6424, 'steveamiri': 6425, 'jeff': 6426, 'dunham': 6427, 'obamahug': 6428, 'merits': 6429, 'fascinating': 6430, 'postpost': 6431, 'joshtpm': 6432, 'brogan': 6433, 'claims': 6434, 'interrupts': 6435, 'spelling': 6436, 'profanityu': 6437, 'httpstco9taliqmezh': 6438, 'endorsed': 6439, 'httptcoez9yl3uxxs': 6440, 'ernot': 6441, 'fauxnews': 6442, 'reach': 6443, 'dial': 6444, 'wtc1998': 6445, '1525': 6446, 'denies': 6447, 'ceos': 6448, 'transparency': 6449, 'devindwyer': 6450, 'thealexanderw': 6451, 'httptconja3vzgbip': 6452, 'stephenstephan': 6453, 'sacred': 6454, 'dumbmasses': 6455, 'httpstcoc7ffooermn': 6456, 'httptcox38ctjaxwn': 6457, 'tiresome': 6458, 'blows': 6459, 'httptcosff0juexux': 6460, 'sanders2016': 6461, 'steven': 6462, 'br': 6463, 'candidatesbut': 6464, 'paraphrase': 6465, '317': 6466, 'httptco2wsut0c0lx': 6467, 'path': 6468, 'elanazak': 6469, 'httptco7soowgiuno': 6470, 'httptcowx5go1thnu': 6471, 'buys': 6472, 'sells': 6473, 'demonstrates': 6474, 'pol': 6475, 'thom': 6476, 'mann': 6477, 'dylanratigan': 6478, 'httptcou7jxx1awyq': 6479, 'serfdom': 6480, 'posted': 6481, 'meantweets': 6482, 'taste': 6483, 'ugly': 6484, 'boblonsberry': 6485, 'cynical': 6486, 'gameshow': 6487, 'hunterwalk': 6488, 'whoooo': 6489, 'wheeee': 6490, 'restaurant': 6491, 'firearm': 6492, 'injury': 6493, 'prevention': 6494, 'fell': 6495, '96': 6496, '100000': 6497, '1996': 6498, 'httptcohxkzuee2uf': 6499, 'vi': 6500, 'paragraph': 6501, 'test': 6502, 'gnat': 6503, 'natedrake': 6504, 'googling': 6505, 'babara': 6506, 'boxer': 6507, 'calif': 6508, 'outsourcing': 6509, 'lining': 6510, 'pockets': 6511, 'corp': 6512, 'welfare': 6513, 'dre': 6514, 'gift': 6515, 'communicator': 6516, 'sowe': 6517, 'poke': 6518, 'mouthskeletons': 6519, 'anyonegopdebate': 6520, 'powermove': 6521, 'happier': 6522, 'tremendous': 6523, 'gops': 6524, 'frankenstein': 6525, 'monster': 6526, 'ampthey': 6527, 'aboutlastnight': 6528, 'httptcon2x8mqyfs6': 6529, 'ryan': 6530, 'wiggins': 6531, 'casinos': 6532, 'casino': 6533, 'timfederle': 6534, 'waiters': 6535, '2a': 6536, 'random': 6537, '250': 6538, 'httptcomgwmsslrdp': 6539, 'bellykagby': 6540, 'chloeangyal': 6541, 'capital': 6542, 'gains': 6543, 'laughs': 6544, 'unhinged': 6545, 'bitter': 6546, 'vindictive': 6547, 'boomers': 6548, 'httptcoigp8wwnzcu': 6549, 'cosproject': 6550, 'jpnet': 6551, 'httptcomt79hetqxs': 6552, 'cleans': 6553, 'contender': 6554, 'gocarly': 6555, 'httptcobgudpo0ikb': 6556, 'mynor': 6557, 'warehouses': 6558, 'clowncardumpsterfire': 6559, 'goddamit': 6560, 'fumes': 6561, 'orbits': 6562, 'sun': 6563, 'frenchkissed': 6564, 'kellyfil': 6565, 'jdharms': 6566, 'hardhitting': 6567, 'sternshow': 6568, 'howardstern': 6569, 'httptcocf3m0lehua': 6570, '48': 6571, 'gotdam': 6572, 'predict': 6573, 'sbthistle': 6574, 'httptcopqedcjovww': 6575, 'httptcofuwguv5cqf': 6576, 'peoplefor': 6577, 'httptcoxcvekau2bl': 6578, 'carlyfiorinas': 6579, 'httptcogphmzsorv2': 6580, 'chrishudsonjr': 6581, 'publicize': 6582, 'httptcoak10ihscxc': 6583, 'boxersimon': 6584, 'garfunkle': 6585, 'httptco0uxvhae4ux': 6586, 'wtcpolitics1': 6587, 'lolhayley': 6588, 'httptcofwghqvz9dg': 6589, 'notthatguy': 6590, 'httptcorjtjr9ioac': 6591, 'httptcope4nrdzxog': 6592, 'httptconp0vngnotx': 6593, 'heyhayward': 6594, 'exclusive': 6595, 'renderings': 6596, 'httptcozlxsfcqamr': 6597, 'stooped': 6598, 'level': 6599, 'httpstcounbe3hin5v': 6600, 'pinky': 6601, 'chains': 6602, 'salesman': 6603, 'gesturingtalk': 6604, 'httpstcozii1mx72gv': 6605, 'bengeesaman': 6606, 'exclamation': 6607, 'forest': 6608, 'gump': 6609, 'httptcocuknlvtosi': 6610, 'plague': 6611, 'uring': 6612, 'prisoners': 6613, 'bei': 6614, 'petition': 6615, 'exclude': 6616, 'httpstcodxnjjuxele': 6617, 'goodrichgevaa': 6618, 'militarys': 6619, 'marc': 6620, 'sandalow': 6621, 'httptco1zb75gqmuw': 6622, 'huff': 6623, 'amnakhalid': 6624, 'declaims': 6625, 'lindsay': 6626, 'wick': 6627, 'shannonsanford9': 6628, 'httptco2plnkf7zi0': 6629, 'womenshealth': 6630, 'itsnot1954': 6631, 'httptcorspzljiwjg': 6632, 'httptcoyulgjreyvu': 6633, 'betunaccomplished': 6634, 'newbie': 6635, 'senators': 6636, 'httptcobed': 6637, 'canticle': 6638, 'leibowitz': 6639, 'alike': 6640, 'independents': 6641, 'theavgblackman': 6642, 'land': 6643, '1955': 6644, 'sleeping': 6645, 'itthe': 6646, 'commanded': 6647, 'sentiments': 6648, 'enthusiasm': 6649, 'simsoph': 6650, 'iculating': 6651, 'meeting': 6652, 'pongdlc': 6653, 'rightsno': 6654, 'brutalityno': 6655, 'evilconservativ': 6656, 'bros': 6657, 'interviewing': 6658, 'farce': 6659, 'httpstco0fqaljoz3c': 6660, 'trouble': 6661, 'paradise': 6662, 'orelse': 6663, 'httpstco0dib68mbjn': 6664, 'wakeupamer': 6665, 'allegiance': 6666, 'murdock': 6667, 'markmmcclain': 6668, 'whom': 6669, 'httpstcoib6o7f755v': 6670, 'scarylawyerguy': 6671, 'ww': 6672, 'httpstcoyrjqlnoj2j': 6673, 'johnamato': 6674, 'carons': 6675, 'obfuscation': 6676, 'tr': 6677, 'httptco6zjwbxbpse': 6678, 'melaniatrump': 6679, 'plastic': 6680, 'httpstcow0kxqfx7cu': 6681, 'naphisoc': 6682, 'hesitates': 6683, 'newamericancentury': 6684, 'httpstcormd1pfxxnz': 6685, 'httpstcoskhas0lqub': 6686, 'twatswat': 6687, 'trick': 6688, 'personalattacks': 6689, 'httpstco8hzowuufpo': 6690, 'ctconserv1': 6691, 'tanking': 6692, 'httpstcodyqzeu0mo3': 6693, 'httptcozqcaonpakj': 6694, 'antigovernment': 6695, 'dee': 6696, 'snuts': 6697, 'r4e10': 6698, 'jail': 6699, 'destroyed': 6700, 'petraeus': 6701, 'httpstco2thnmyuenp': 6702, 'positio': 6703, 'httpstcozmrfi7bouc': 6704, 'underneath': 6705, 'httpstcovanc0qxy4c': 6706, 'ctmommy': 6707, 'hack': 6708, 'httptcoiil0xf6t3p': 6709, 'foxn': 6710, 'duyguozsoyler': 6711, 'comicriffs': 6712, 'sketches': 6713, 'famed': 6714, 'offers': 6715, 'admission': 6716, 'cl': 6717, 'competent': 6718, 'pretends': 6719, 'neve': 6720, 'billmckibben': 6721, 'differ': 6722, 'focuse': 6723, 'loosing': 6724, 'httptcotximy82soq': 6725, 'httptcocvclcb6ubm': 6726, 'larronb': 6727, 'competence': 6728, 'command': 6729, 'thts': 6730, 'mttrs': 6731, 'reactive': 6732, 'reframe': 6733, 'antipolitical': 6734, 'consideration': 6735, 'electability': 6736, 'communicate': 6737, 'poxnews': 6738, 'detail': 6739, 'debte': 6740, 'ovation': 6741, 'univision': 6742, 'dv': 6743, 'shooting': 6744, 'totallymorgan': 6745, 'wider': 6746, 'chrisbrown': 6747, 'billcosby': 6748, 'charles': 6749, 'manson': 6750, 'aaand': 6751, 'drum': 6752, 'overit': 6753, 'clobberin': 6754, 'varied': 6755, 'colourful': 6756, 'characters': 6757, 'rabite': 6758, 'httptcow2gxqowo4p': 6759, 'sage': 6760, 'extinguished': 6761, 'negative': 6762, 'vibes': 6763, 'paulrieckhoff': 6764, 'mailmen': 6765, '229b': 6766, 'annually': 6767, 'invades': 6768, 'composed': 6769, 'httpstcohhruhe6lte': 6770, 'juddlegum': 6771, 'modernjam': 6772, 'resident': 6773, 'scotteweinberg': 6774, 'correctnessand': 6775, 'katestratton3': 6776, 'missumuggins': 6777, 'tak31523': 6778, 'spokeout': 6779, 'freeamirnow3': 6780, 'deterrent': 6781, 'reflecting': 6782, 'gopeemypants': 6783, 'b140tweet': 6784, 'yaleclimatecomm': 6785, 'jerrybrowngov': 6786, 'gas': 6787, 'actonclimate': 6788, '2mins': 6789, 'httptco6w3epmpoej': 6790, 'emily': 6791, 'hohman': 6792, 'sirius': 6793, '206': 6794, 'press': 6795, 'saberrattle': 6796, 'httptco4wj0zbzmqe': 6797, 'betta': 6798, 'httptco5wyduo9v2k': 6799, 'wriglied': 6800, 'bethanyshondark': 6801, 'pennbat': 6802, 'unionchrischristie': 6803, 'praised': 6804, 'carsonyoure': 6805, 'hereneat': 6806, 'chadhastyradio': 6807, 'madisongesiotto': 6808, 'fn': 6809, 'xjeremymx': 6810, 'ivanthek': 6811, 'cowboytexas': 6812, 'httptcoeyjvwgxe3f': 6813, 'julia': 6814, 'hahngt': 6815, 'securitynational': 6816, 'keeping': 6817, 'spray': 6818, 'tan': 6819, 'industry': 6820, 'thriving': 6821, 'bringingjobs': 6822, 'jamilsmith': 6823, 'dylann': 6824, 'factcheckers': 6825, 'httptcokeoebnrwgu': 6826, 'struck': 6827, 'humbly': 6828, 'urged': 6829, 'succinct': 6830, 'putin': 6831, 'whereisnatasha': 6832, 'avengers': 6833, 'merch': 6834, 'sfloridastorm': 6835, 'becuz': 6836, 'jessicahagy': 6837, 'primer': 6838, 'thanksgiving': 6839, 'davidcicilline': 6840, 'senatorbirdwell': 6841, 'kateslaw': 6842, 'apunkfemme': 6843, 'included': 6844, 'unacceptable': 6845, 'harmons': 6846, 'romantic': 6847, 'rival': 6848, 'summer': 6849, 'peggynoonannyc': 6850, 'httptco4yp5vfabjq': 6851, 'resilient': 6852, 'httptcoeiwb8vwmel': 6853, 'winesdaypodcast': 6854, 'httptcofgglf2j5hu': 6855, 'httptcozw35dkuozi': 6856, 'gopdebategthttptcornunbpawgp': 6857, 'httptcosfqiwda61g': 6858, 'civilized': 6859, 'interpret': 6860, 'midst': 6861, 'opinions': 6862, 'httptcovfdlnpqfr6': 6863, 'schooling': 6864, 'dangerfield': 6865, 'nerdy': 6866, 'professor': 6867, 'tyriquex': 6868, 'bla': 6869, 'rhondalevaldo': 6870, 'initiatives': 6871, 'talkpove': 6872, 'manners': 6873, 'turd': 6874, 'las': 6875, 'sweeping': 6876, 'absolutes': 6877, 'insanity': 6878, '200000': 6879, 'dominating': 6880, 'httptcoku0ul7hzqy': 6881, 'piqued': 6882, 'puestoloco': 6883, 'hura': 6884, 'raemd95': 6885, 'httptcoyg': 6886, 'picsofmattdamon': 6887, 'kieraknightley': 6888, 'emotionally': 6889, 'cliche': 6890, 'whiteprivilege': 6891, 'carlspry': 6892, 'hold': 6893, 'yourselves': 6894, 'kobradovich': 6895, 'bulletproof': 6896, 'unlikely': 6897, 'iacaucus': 6898, 'httptcohfvzjixxjy': 6899, 'httptcoyxhy': 6900, 'httpstcor5ozztaeab': 6901, 'ykhong': 6902, 'lucky': 6903, 'httptcoqamuqbetdc': 6904, 'brentschirps': 6905, 'licensed': 6906, 'dealer': 6907, 'httptcowokhf3su88': 6908, 'dccommonsense': 6909, 'httptcojr7p3o5xhx': 6910, 'poisoning': 6911, 'longshot': 6912, 'visa': 6913, 'tracking': 6914, 'eight': 6915, 'httptcoqt': 6916, 'recently': 6917, 'excuse': 6918, 'phony': 6919, 'divisions': 6920, 'httptcohdotyszdrf': 6921, 'frothymixture': 6922, 'httptcoxccj3hgjq8': 6923, 'intrusive': 6924, 'invasive': 6925, 'unaccountable': 6926, 'outofcontrol': 6927, 'abolished': 6928, 'onceandforall': 6929, 'shootermcgavin': 6930, 'mcgavin': 6931, 'uneven': 6932, 'fieldgopdebate': 6933, 'getgofirst': 6934, 'pledging': 6935, 'marmstead': 6936, 'snowlady09': 6937, 'carr': 6938, 'uniteblueca': 6939, 'httpstcoze7eywpbmp': 6940, 'httptcovv2lxn2u6k': 6941, 'logical': 6942, 'consistency': 6943, 'ind': 6944, 'mattymonsterz': 6945, 'httptcoyrsgber2ng': 6946, 'spri': 6947, 'ahsfx': 6948, 'gmo': 6949, 'manbearpig': 6950, 'edge': 6951, 'httptcotky8smc27y': 6952, 'goingronda': 6953, 'rousey': 6954, 'posterior': 6955, 'comeback': 6956, 'momentgopdebate': 6957, 'httpstconuczhphlvx': 6958, 'su': 6959, 'j': 6960, 'rebeccazwriting': 6961, 'snowballs': 6962, 'winni': 6963, 'ddiamond': 6964, 'stats': 6965, '\\xa0us': 6966, '\\xa0unemployment': 6967, '68': 6968, '\\xa0unins': 6969, 'bite': 6970, 'fabric': 6971, 'scrowder': 6972, 'specifically': 6973, 'massacre': 6974, 'lwc': 6975, 'whinenot': 6976, 'joined': 6977, 'galt': 6978, 'chew': 6979, 'httptcoqgwm5': 6980, 'andrewklavan': 6981, 'httptcoqtyyowklng': 6982, 'refers': 6983, 'vito': 6984, 'corleone': 6985, 'fredo': 6986, 'cnnmsnbc': 6987, 'httptcoj': 6988, 'minister': 6989, 'httptcogly4myqxyw': 6990, 'greysonchance': 6991, 'generational': 6992, 'code': 6993, 'httptcosknhfykw3u': 6994, 'bazecraze': 6995, 'suit': 6996, 'sigh': 6997, 'anym': 6998, 'crib160': 6999, 'belligerent': 7000, 'linguisticshit': 7001, 'tombradysego': 7002, 'httptcoxmfpoyhcn1': 7003, 'hammers': 7004, 'exclaimed': 7005, 'extensions': 7006, 'fooling': 7007, 'roy': 7008, 'rogers': 7009, 'knuckldraginsam': 7010, 'yobynnad1127': 7011, 'httpstcoeukms5k9sb': 7012, 'freestyldesign': 7013, 'atticalocke': 7014, 'moe67': 7015, 'bb': 7016, 'derrick': 7017, 'bb17': 7018, 'tweetreachapp': 7019, 'ranked': 7020, 'tweeters': 7021, 'httptcoypqzm8y218': 7022, 'httptcoprny71shyc': 7023, 'languishing': 7024, 'freesaeed': 7025, 'whoisbenchang': 7026, 'madefo': 7027, 'httptcolt': 7028, 'disagreeing': 7029, 'equate': 7030, 'ltsighgt': 7031, 'httptconvomystnvs': 7032, 'ladylibe': 7033, 'y1885': 7034, 'lifting': 7035, 'silencing': 7036, 'proyourl': 7037, 'vh1': 7038, 'httptcoqxdoemfuqo': 7039, 'httptcomcr6lrjh2h': 7040, 'usfree4life': 7041, '2straighten': 7042, 'httptcos9odn2zr5g': 7043, 'httptcotihcyiqms0': 7044, 'vara11': 7045, 'dec': 7046, 'httptco8y8gkqtnvk': 7047, 'someecards': 7048, 'reactions': 7049, 'inadve': 7050, 'ently': 7051, 'httptconkwjlscecm': 7052, 'auditions': 7053, 'consent': 7054, 'counts': 7055, 'httptcobleoby7r7n': 7056, 'cheney': 7057, 'httptco13lskg3aa3': 7058, 'unitedblue': 7059, 'httptcoe8jh6tilts': 7060, 'docmurdock': 7061, 'modern': 7062, 'taxation': 7063, 'ancient': 7064, 'commoncorenews': 7065, 'alicelinahan': 7066, 'homeshool': 7067, 'httptcoe8uwgy4chf': 7068, 'iowa': 7069, 'jamalraad': 7070, 'httpstcoqzmfehr8vf': 7071, 'longterm': 7072, 'assault': 7073, 'homicide': 7074, '52': 7075, 'gunse': 7076, 'pie': 7077, 'momentum': 7078, 'collegedropout': 7079, 'outraged': 7080, 'emerging': 7081, 'videos': 7082, 'ofomg': 7083, 'parent': 7084, 'hood': 7085, 'frogi26': 7086, 'latinosunidos': 7087, 'espuelasvox': 7088, 'bounce': 7089, 'httptcopu672wgzym': 7090, 'httptconn5ttjvese': 7091, 'ly': 7092, '500pm': 7093, 'merket': 7094, 'carlton': 7095, 'httptcouk6wekjenu': 7096, 'jillbidenveep': 7097, 'halffullhalfmt': 7098, '4whats': 7099, 'nbc': 7100, 'cnbc': 7101, 'willb': 7102, 'youvebeentargeted': 7103, 'harris': 7104, 'todayshow': 7105, 'chucktodd': 7106, 'otherstalks': 7107, 'extra': 7108, 'jkarsh': 7109, 'pffft': 7110, 'megyns': 7111, 'darkened': 7112, 'dhniels': 7113, 'criticism': 7114, 'pervasive': 7115, 'shanepaulneil': 7116, 'earnthisdamnvoteorlose': 7117, 'yeahgopdebate': 7118, 'carsonwins': 7119, 'imwithben': 7120, 'inittowinit': 7121, 'httpstcoyrhbygjemv': 7122, 'httptcowv': 7123, 'memo': 7124, 'seersucke': 7125, 'hursday': 7126, 'httptcolzagr': 7127, 'zfl': 7128, 'lizhernandez': 7129, 'plenty': 7130, 'darebaredaisy': 7131, 'httptcolrpxqgx4a2': 7132, 'leahrboss': 7133, 'spanked': 7134, 'republicanpunk': 7135, 'subpoenaed': 7136, 'readyforhillary': 7137, 'markdistef': 7138, 'australian': 7139, 'batshit': 7140, 'obeydlaw': 7141, 'grovernorquist': 7142, 'rubbed': 7143, 'httpstcow53nmimi83': 7144, 'httptcogwvflrszk4': 7145, 'httptco5imgwdrl4g': 7146, 'study': 7147, 'matthew': 7148, 'verses': 7149, '35': 7150, 'httpstcoygnprhiehv': 7151, 'httptcoigfif4j1tt': 7152, 'httpstcoeubfioxqzc': 7153, 'thefallen29': 7154, 'eurorabbit': 7155, 'dodge': 7156, 'earful': 7157, 'whitegenocide': 7158, 'nrx': 7159, 'hilcox18': 7160, 'httptcofcn61e8e3w': 7161, 'claw': 7162, 'imw': 7163, 'imuszero': 7164, 'giddy': 7165, 'amateurs': 7166, 'titanic': 7167, 'iceberg': 7168, 'sink': 7169, 'idiotic': 7170, 'criterion': 7171, 'ldjokes': 7172, 'sophmoric': 7173, 'bickering': 7174, 'onbakerstreet': 7175, 'maxwelltani': 7176, 'intent': 7177, 'loathing': 7178, 'httptcowzoudisfgi': 7179, 'digby56': 7180, 'httptcohw9dqxnfwp': 7181, 'shares': 7182, 'mrctv': 7183, 'httptcozaii5aqsii': 7184, 'hmmm': 7185, 'foes': 7186, 'billycorben': 7187, 'unately': 7188, 'veribatim': 7189, 'leaning': 7190, 'unaffiliatedstill': 7191, 'themattfowler': 7192, 'stunner': 7193, 'jjosephwilliams': 7194, 'spontaneous': 7195, 'httptcoqpvju6p7sz': 7196, 'httptcojcdu5qzjnj': 7197, 'winnersfox': 7198, 'losersusa': 7199, 'levigolden': 7200, 'compelling': 7201, 'applauds': 7202, 'httptcoptxcit493m': 7203, 'trump2016s': 7204, 'httptcoxo1ijogj3t': 7205, 'jonesmarkh': 7206, 'httptcoc6ulr4o8he': 7207, 'wavering': 7208, 'damage': 7209, 'jeffsimmons2050': 7210, 'edg': 7211, 'httpstco2b39l6ksbd': 7212, 'httpstconyoly2sccc': 7213, 'halrudnick': 7214, 'propose': 7215, 'scottgiorgini': 7216, 'worldmist1': 7217, 'volume': 7218, 'httptcoi4t3c2gmzo': 7219, 'sfgate': 7220, 'adbridgefo': 7221, 'httptcomillo7rchh': 7222, 'rated': 7223, 'httptcovjrfupgvqn': 7224, 'katiecouric': 7225, 'groupso': 7226, 'boggling': 7227, 'executives': 7228, 'buzzmomentum': 7229, 'lolololol': 7230, 'frum': 7231, 'compiled': 7232, 'rank': 7233, 'versus': 7234, 'allotted': 7235, 'sying': 7236, '4yrs': 7237, 'meninistkiller': 7238, 'senmarcorubio': 7239, 'outjeebus': 7240, 'underestimated': 7241, 'httptcobnbpbz82o6': 7242, 'settling': 7243, 'gunviolence': 7244, 'httptcofntnf5zenu': 7245, 'rebeksy': 7246, 'benefit': 7247, 'comeon': 7248, 'bender': 7249, 'skimmlife': 7250, 'httptcos1akz2oc7i': 7251, 'prostitute': 7252, 'fica': 7253, 'pension': 7254, 'aggressively': 7255, 'adelsbergerdan': 7256, 'incest': 7257, '20week': 7258, 'amandajbutt': 7259, 'karen': 7260, 'estill': 7261, 'fireso': 7262, 'boldnessconvictions': 7263, 'emiluminati': 7264, 'tylercreighton': 7265, 'httptcoc4vdthr3sd': 7266, 'carefully': 7267, 'lunchroom': 7268, 'sadface': 7269, 'derrickbma': 7270, 'standouts': 7271, '1marcorubio': 7272, '2carlyfiorina': 7273, '3tedcruz': 7274, '4realbencarson': 7275, '5ricksantorum': 7276, 'denture': 7277, 'adhesive': 7278, 'memory': 7279, 'pills': 7280, 'corefoxaudience': 7281, 'imply': 7282, 'eat': 7283, 'moldy': 7284, 'dishrag': 7285, 'jjravenation52': 7286, 'elielcruz': 7287, 'iamcreesummer': 7288, 'pizzapimp812': 7289, 'rly': 7290, 'learning': 7291, 'abroad': 7292, 'scottwalkerwhen': 7293, '1what': 7294, 'tying': 7295, 'yellow': 7296, 'ribbons': 7297, 'trees': 7298, 'thoroughly': 7299, 'disgusted': 7300, 'abysmal': 7301, 'httptcogjy4kx4tyj': 7302, 'melissaroyle': 7303, 'jeopardy': 7304, 'naked': 7305, 'upside': 7306, 'rewatching': 7307, 'cringe': 7308, 'crowded': 7309, 'fieldalmost': 7310, 'appointee': 7311, 'httptcozdj3ligtay': 7312, 'howardfineman': 7313, 'trips': 7314, 'trumpism': 7315, 'httptcojapp3pbi8u': 7316, 'scottaxe': 7317, 'cheese': 7318, 'trainwreck': 7319, 'painfully': 7320, 'theatrical': 7321, 'broadway': 7322, 'wholl': 7323, 'lilwolf30': 7324, 'httptcocl2buzxqyz': 7325, 'petesessions': 7326, 'backer': 7327, 'praying': 7328, 'renewus': 7329, 'httpstcouca5ogut29': 7330, 'nytopinion': 7331, 'interviewgopdebates': 7332, 'picked': 7333, 'jillstanek': 7334, 'buenavista28': 7335, 'racistsexist': 7336, 'asskissing': 7337, 'focusing': 7338, 'waking': 7339, 'internationalbeerdaybecause': 7340, 'ohsoamerican': 7341, 'httpstcoccyfy3gwmi': 7342, 'refinery29': 7343, 'httpstcojl65pkp3ua': 7344, '900': 7345, 'defens': 7346, 'subsatnce': 7347, 'jjk': 7348, 'debatesgopdebate': 7349, 'httptcooezz6jtpo8': 7350, 'drank': 7351, 'gdfr': 7352, 'closer': 7353, 'lorrettajohnson': 7354, 'anyo': 7355, 'repel': 7356, '37': 7357, 'digs': 7358, 'naralcolorado': 7359, 'wreak': 7360, 'havoc': 7361, 'worstcontestever': 7362, 'larryfeltonj': 7363, 'tels': 7364, 'hardworking': 7365, 'concludes': 7366, 'ideological': 7367, 'broodmare': 7368, 'whorestab': 7369, 'religi': 7370, 'dump': 7371, 'duncald': 7372, 'dunce': 7373, 'decision2016': 7374, 'neuroscience': 7375, 'shaaaade': 7376, 'berrakdc': 7377, 'busy': 7378, 'stoking': 7379, 'dishonesty': 7380, 'michellehux': 7381, 'mod': 7382, 'httpstcovemeqvlmvi': 7383, 'allisonkilkenny': 7384, 'stripped': 7385, 'minus': 7386, 'euphemisms': 7387, 'vanesa': 7388, 'mamas': 7389, 'keepitupmegyn': 7390, 'milesorionfeld': 7391, 'severed': 7392, 'behaved': 7393, 'unprofessionally': 7394, 'httptcorglmp105na': 7395, 'ladies': 7396, 'shading': 7397, 'standtall': 7398, 'respectfully': 7399, 'revealing': 7400, 'regulate': 7401, 'banks': 7402, 'mantra': 7403, 'designerdeb3': 7404, 'httptco7eyg5ib8uk': 7405, 'unclear': 7406, 'dividing': 7407, 'achieving': 7408, 'diplomacy': 7409, 'healthca': 7410, 'preformances': 7411, 'fbhw': 7412, 'horn': 7413, 'wimpy': 7414, 'hornmeansyouredone': 7415, 'httpstcomia5t8yswp': 7416, 'charisma': 7417, 'stayed': 7418, 'iota': 7419, 'liberalmmama': 7420, 'righthe': 7421, 'fourmoreyears': 7422, 'servers': 7423, 'america4israel': 7424, 'bury': 7425, 'mashup': 7426, 'raesremmurds': 7427, 'httpstcoszqbyrqwwz': 7428, 'httpstconfoipr3vej': 7429, 'suffering': 7430, 'delusions': 7431, 'minnesota': 7432, 'dentist': 7433, 'cecilthelion': 7434, 'huffpostpol': 7435, 'bustle': 7436, 'ignoring': 7437, 'httptcovvkuqdjxql': 7438, 'joehudsonsmall': 7439, 'httpstcomdfg53ufaz': 7440, 'mykanow': 7441, 'bothers': 7442, 'glenncook': 7443, 'nv': 7444, 'httpstcovdbygtlzgo': 7445, 'reviewjournal': 7446, 'nathanhaynes24': 7447, 'concerned': 7448, 'peoplebreak': 7449, 'servicemembers': 7450, 'elementary': 7451, 'month': 7452, 'dawg': 7453, 'ayeedxnny': 7454, 'jo': 7455, 'stph': 7456, 'reenit': 7457, 'advil': 7458, 'footnote': 7459, 'hiring': 7460, 'kerry': 7461, 'httptcorbl1t4ipx6': 7462, 'males': 7463, '34': 7464, 'britt27ash': 7465, 'httptcogfsnedxeoj': 7466, 'iswarusa': 7467, 'hitlery': 7468, 'nazi': 7469, 'liberallogic': 7470, 'httpstco1mubzwamwu': 7471, 'httptco9zzflchjqo': 7472, 'rolls': 7473, 'royce': 7474, 'wno': 7475, 'engine': 7476, 'jerryjrfalwell': 7477, 'httpstcodf1aefuvgj': 7478, 'bodysculptorokc': 7479, 'qualification': 7480, 'comb': 7481, 'httptcoqi3v8zqkdh': 7482, 'danaco': 7483, 'ez': 7484, 'effie': 7485, 'httptcosm74wvmmd3': 7486, 'andrewbreitba': 7487, 'aaronblakewp': 7488, 'meanspirited': 7489, 'boycott': 7490, '187k': 7491, '25k': 7492, '49': 7493, 'donors': 7494, 'springsteen': 7495, 'jungleland': 7496, 'clue': 7497, 'operate': 7498, 'papercutprint': 7499, 'talent': 7500, 'rounds': 7501, 'everyonelovesaprincess': 7502, 'melissagracey': 7503, 'httptcoicredssplr': 7504, 'squintz1983': 7505, 'httptcofhg7fmg42d': 7506, 'anjemchoudary': 7507, 'billayers': 7508, 'amewait': 7509, 'russians': 7510, 'megynkellyforpresident': 7511, 'megynkelly2016': 7512, 'revsusanrussell': 7513, 'httptcoggvr7fob6w': 7514, 'snape': 7515, 'muggles': 7516, 'goddness': 7517, 'cooties': 7518, 'cites': 7519, 'rant': 7520, 'dismisses': 7521, 'globalwarming': 7522, 'gopcircus': 7523, 'httpstco9trcpw0efm': 7524, 'huddled': 7525, 'spanish': 7526, 'plottin': 7527, 'rooting': 7528, 'luchadora41': 7529, 'httptcoieysqozdwd': 7530, 'fivestarflicks': 7531, 'auntcol54': 7532, 'alexsamuelsx5': 7533, 'mass': 7534, 'incarceration': 7535, 'shhhhhionn': 7536, 'hday': 7537, 'garnerpa': 7538, 'yof9': 7539, 'dish': 7540, 'httptcon4ntwnobnl': 7541, 'stopping': 7542, 'fox8news': 7543, 'noon': 7544, 'httptcof9291v7jgp': 7545, 'exist': 7546, 'exchange': 7547, 'theatlanticvamp': 7548, 'twas': 7549, 'yowan': 7550, 'panderi': 7551, 'swear': 7552, 'conssista': 7553, 'vivigold197': 7554, 'greedy': 7555, 'couranto': 7556, 'mocking': 7557, 'narcissistic': 7558, '68w': 7559, 'torpedo': 7560, 'roves': 7561, '62valdovinos': 7562, 'nightwalkercold': 7563, 'trumpspanish': 7564, 'allstates': 7565, 'rightscivil': 7566, 'waridiots': 7567, 'spy': 7568, 'httptco8n9mvtkn4u': 7569, 'mostretweeted': 7570, 'httpstcorybdnpfypw': 7571, 'brappy55': 7572, 'httptcoe7ooaw7nea': 7573, 'jgalt9': 7574, 'strip': 7575, 'httptcomylrlv0u7e': 7576, 'httptcookoqzojxfj': 7577, 'httptcoytusgmoclg': 7578, 'depose': 7579, 'anoint': 7580, 'kellly': 7581, 'community': 7582, 'rachelma': 7583, 'ina': 7584, 'torontostar': 7585, 'editorial': 7586, 'laments': 7587, 'httptcoadakkbfbqu': 7588, 'ouf': 7589, 'commented': 7590, '15yo': 7591, 'httptcoi6prs1olju': 7592, 'wendmyoung': 7593, 'httptcoxocs': 7594, 'empowers': 7595, 'disenfranchise': 7596, 'rein': 7597, 'dreamer': 7598, 'saas': 7599, 'factchecked': 7600, 'httptcodaectmllaj': 7601, 'ggfletcher': 7602, 'httptcof2cr23uxfl': 7603, 'sezhes': 7604, 'novelty': 7605, 'therightoexist': 7606, 'httptcokebn': 7607, 'httptco36sdqby52a': 7608, 'meat': 7609, 'market': 7610, 'brianmrosenthal': 7611, 'houston': 7612, 'mayor': 7613, 'annise': 7614, 'parker': 7615, 'controversy': 7616, 'httptcoqxb1edqozn': 7617, 'presidentfor': 7618, 'lowpolling': 7619, 'percenters': 7620, 'guide': 7621, 'stayin': 7622, 'mug': 7623, 'trainspotter001': 7624, 'moderatorsapparently': 7625, 'opened': 7626, 'treasure': 7627, 'kkkelly': 7628, 'eyelashes': 7629, 'cracking': 7630, 'httptco909us3fvli': 7631, 'gearhead81': 7632, 'wha': 7633, 'rose': 7634, 'httptcov0qxraxbq0': 7635, 'reference': 7636, 'oclock': 7637, 'traffic': 7638, 'stops': 7639, 'insurrectionist': 7640, 'african': 7641, 'httptco0qhljkfngg': 7642, 'nickma': 7643, 'httptcotbdk1gtxnd': 7644, 'thomps': 7645, 'httptcov3tltvj0': 7646, 'colleague': 7647, 'boaz': 7648, 'httptcoxi1dsibdsv': 7649, 'cato2016': 7650, 'httpstcovcwwvwtqvv': 7651, 'hama': 7652, 'inme': 7653, 'collapses': 7654, 'jeb2016': 7655, 'fawning': 7656, 'chillax': 7657, 'smashing': 7658, 'blowjobs': 7659, 'lewinsky': 7660, 'intern': 7661, 'httptcobxunx9ukdf': 7662, 'jaxt0520': 7663, 'httpstcog': 7664, '7h6mjhg': 7665, 'lis': 7666, '2nits': 7667, 'turkey': 7668, 'emptied': 7669, 'httpstcoaawvuqqqrb': 7670, 'whata': 7671, 'jackwagons': 7672, 'comedyoferrors': 7673, 'httpstcoanukb30eii': 7674, 'generous': 7675, 'sallyjayjohnson': 7676, 'uniform': 7677, 'goodness': 7678, 'whacko': 7679, 'interviewed': 7680, 'visionary': 7681, 'httptcotsuq5nmznl': 7682, 'tbh': 7683, 'prev': 7684, 'accepts': 7685, 'accepting': 7686, 'httpstcopo2awd9qsd': 7687, 'marksluckie': 7688, 'fences': 7689, 'httptcov7pqn2qr84': 7690, 'johnmccain': 7691, 'aegon': 7692, 'targaryen': 7693, 'gameofthrones': 7694, 'hispanic': 7695, 'asian': 7696, '2d': 7697, 'newlinla': 7698, '3yearolds': 7699, 'httptcogj37m8nam9': 7700, 'httptcomrhu93tqdm': 7701, 'reaganesque': 7702, 'hypocrites': 7703, 'cjlewis99': 7704, 'httptcoizj1n7a': 7705, 'hc': 7706, 'korystamper': 7707, 'lookups': 7708, 'merriamwebster': 7709, 'httptcok7rbb12rlc': 7710, 'httptcoyxsj': 7711, 'joeprich': 7712, 'chided': 7713, 'active': 7714, 'icipant': 7715, 'httptcohfqxstl4xf': 7716, 'fairandbalanced': 7717, 'unfairly': 7718, 'tonettewalker': 7719, 'kirahoffy': 7720, 'robyn': 7721, 'ravenclaw': 7722, 'httpstcosvfjclmzla': 7723, 'httpstcocgnhoxchdl': 7724, 'thecjpearson': 7725, 'httptcop5jem3cfpw': 7726, 'fangsbites': 7727, 'httptcout70835vnr': 7728, 'madness': 7729, 'guuuuurrrrlllll': 7730, 'httptcoqkkpnkx0c4': 7731, 'mrdaveyd': 7732, 'uninformed': 7733, 'idiotwe': 7734, 'steviecoolest': 7735, 'aww': 7736, 'theunquietone': 7737, 'childless': 7738, 'alcoholic': 7739, 'watchpa': 7740, 'httpstco9popya1qrv': 7741, 'onthemanney': 7742, 'trawlingtroll': 7743, 'couple': 7744, 'brief': 7745, 'lenders': 7746, 'killers': 7747, 'exceedingly': 7748, 'httptcoqgwm5xg3f9': 7749, 'cerenomri': 7750, 'revolution': 7751, 'ering': 7752, 'supposedly': 7753, 'einial': 7754, 'cral': 7755, 'endured': 7756, 'epidemic': 7757, '23': 7758, 'httptcocyuqbkb3xd': 7759, 'awyattman88': 7760, 'httptcosy3wnqwhtb': 7761, 'httptcolrpxqgx4': 7762, 'interests': 7763, 'stages': 7764, 'traitors': 7765, 'doubletalking': 7766, 'cheaters': 7767, 'deceiving': 7768, 'stunk': 7769, 'heaven': 7770, 'httptcoi1lpjggehd': 7771, 'cuck': 7772, 'catches': 7773, 'pastor': 7774, 'develop': 7775, 'language': 7776, 'httptcogfyti5ilvc': 7777, 'tears': 7778, 'bear': 7779, 'sequel': 7780, 'brocks': 7781, 'understands': 7782, 'httptcoivvfcxpnn7': 7783, 'gaypatriots': 7784, 'httptcokjgfyypcte': 7785, 'localization': 7786, 'httptco3yrrqf7axl': 7787, 'wasted': 7788, 'cristie': 7789, 'tananarivedue': 7790, 'unscathed': 7791, 'raulareyes': 7792, 'kathrynbruscobk': 7793, 'fright': 7794, 'documentary': 7795, 'terrific': 7796, 'stephenfleming': 7797, 'bpolitics': 7798, 'describes': 7799, 'irony': 7800, 'httptcoe1dhzktjdw': 7801, 'keltieknight': 7802, 'predebate': 7803, 'ritual': 7804, 'solitaire': 7805, 'httpstcoo7ujl56nm7': 7806, 'httpstcoix20obgo2p': 7807, 'httptcondu4eo1vrx': 7808, 'melania': 7809, 'trumplike': 7810, 'httptcotuegrpp46m': 7811, 'wowjust': 7812, 'sam': 7813, 'dubose': 7814, 'tamir': 7815, 'rice': 7816, 'crawford': 7817, 'gothese': 7818, 'instance': 7819, 'iammgraham': 7820, 'ghook': 7821, 'esqpolitics': 7822, 'zygote': 7823, 'winingest': 7824, 'enemy': 7825, 'identify': 7826, 'owner': 7827, 'nered': 7828, 'httpstco7kfscrqjfh': 7829, 'sandiego': 7830, 'httptcowvr3qhamrh': 7831, 'fitting': 7832, 'dignified': 7833, 'uncommon': 7834, 'zone6combat': 7835, 'marginalize': 7836, 'daily': 7837, 'httptcox931pj7umr': 7838, 'ethicistforhire': 7839, 'spouting': 7840, 'nihilistic': 7841, 'zeitgeist': 7842, 'httptcowqnsupspkc': 7843, 'students': 7844, 'employees': 7845, 'quietly': 7846, 'fivepointpalmexplodinghea': 7847, 'hollow': 7848, 'beasts': 7849, 'protected': 7850, 'exceptions': 7851, 'combo': 7852, 'daveohoots': 7853, 'tweeted': 7854, 'httptcolbef8189yb': 7855, 'csingerling': 7856, 'httptcouc6zgujyvm': 7857, 'httptcopnpfowv7ix': 7858, 'gents': 7859, 'httptcokuevblsugk': 7860, 'lips': 7861, 'httptcoph9l6drinf': 7862, 'blacklists': 7863, 'individuals': 7864, 'buck': 7865, 'measures': 7866, 'edman': 7867, 'tweetydimes': 7868, 'shook': 7869, 'httptcosgnkjmetqr': 7870, 'occasionally': 7871, 'canned': 7872, 'legitimately': 7873, 'fancies': 7874, 'kingmaker': 7875, 'professorrobo': 7876, 'kerirn': 7877, 'resist': 7878, 'insultapparently': 7879, 'cooperation': 7880, 'sha': 7881, 'kerrydiaries': 7882, 'blocks': 7883, 'schedule': 7884, 'httptcogxna0toqaq': 7885, 'httptcokxikf': 7886, 'extended': 7887, 'period': 7888, 'hairball': 7889, 'lorion': 7890, 'hoot': 7891, 'looky': 7892, 'davidbadash': 7893, 'sleevetalkshow': 7894, 'httptcooqawd': 7895, 'foxdebatedisaster': 7896, 'thefive': 7897, 'stevenoh88': 7898, 'trumpkins': 7899, 'steak': 7900, 'knives': 7901, 'sayin': 7902, 'gather': 7903, 'httptcoetaghxfs2l': 7904, 'wiunion': 7905, 'benwikler': 7906, 'ira': 7907, 'httptcotvr6vke7i6': 7908, 'catapult': 7909, 'kellya': 7910, 'rubioa': 7911, 'fiorinaa': 7912, 'christiea': 7913, 'bushb': 7914, 'perryb': 7915, 'kasichb': 7916, 'walkerb': 7917, 'cruzc': 7918, 'carsonc': 7919, 'jindalc': 7920, 'pauld': 7921, 'trumpf': 7922, 'jonford80': 7923, 'demselfie': 7924, 'httptcotkwyr327oy': 7925, 'yworked': 7926, 'alist': 7927, 'europe': 7928, 'mediaboobs': 7929, 'nsfw': 7930, 'httptcozhtjorprqb': 7931, 'natycar74': 7932, 'httptcoys2n1uflht': 7933, 'wrapup': 7934, 'tgradous': 7935, 'marylene58': 7936, 'llmajer': 7937, 'larryvance47': 7938, 'jver1': 7939, 'lvnancy': 7940, 'qnoftherealm': 7941, 'usvetram': 7942, 'freelion7': 7943, 'hears': 7944, 'isaid': 7945, 'dogruff': 7946, 'ruff': 7947, 'httptcopyj4huhgje': 7948, 'tbats': 7949, 'httpstcog2ggjy1bjd': 7950, 'abburgess95': 7951, 'som': 7952, 'christianne67': 7953, 'httptcoo3q8r8dxn4': 7954, 'misinformation': 7955, 'spiked': 7956, '24': 7957, 'httptco6smjvsaehx': 7958, 'staring': 7959, 'bae': 7960, 'disgraced': 7961, 'yourself': 7962, 'data': 7963, 'trends': 7964, 'tweetedabout': 7965, 'tougher': 7966, 'prevented': 7967, 'jeanpaul': 7968, 'starnes': 7969, 'bashes': 7970, 'httptcoqw7xw0awxo': 7971, 'httptcoxd19f7jmsi': 7972, 'hows': 7973, 'httpstcoe68hblfc2g': 7974, 'illustrated': 7975, 'physical': 7976, 'che': 7977, 'abe': 7978, 'munoz': 7979, 'gopdebateand': 7980, 'solely': 7981, 'scarface': 7982, 'favourite': 7983, 'hating': 7984, 'fuckable': 7985, 'beginnings': 7986, 'goddamned': 7987, 'candi': 7988, 'halfcatching': 7989, 'morningafter': 7990, 'hardhea': 7991, 'folk': 7992, 'exasperated': 7993, 'jebs': 7994, 'skye820': 7995, 'empower': 7996, 'allierenison': 7997, 'firstrate': 7998, 'derail': 7999, 'datechguyblog': 8000, 'serves': 8001, 'grahamvyse': 8002, 'insidesourcesdc': 8003, 'erinmcpike': 8004, 'argues': 8005, 'httptco8te0nzqhrv': 8006, 'httpstcohiwq4ema3f': 8007, 'httpstcos1': 8008, 'benjaminjs': 8009, 'httptcoefgro33pmo': 8010, 'nochillzabree': 8011, 'abusing': 8012, 'murdering': 8013, 'yard': 8014, 'signs': 8015, 'httpstco3jmydidcdf': 8016, 'stunning': 8017, 'belonged': 8018, 'wrestling': 8019, 'ainmentso': 8020, 'thanever': 8021, 'pregnancies': 8022, 'httptcoyzivipqanx': 8023, 'transphobia': 8024, 'trumpkardashian': 8025, 'pellecopter': 8026, '1015': 8027, 'curly': 8028, 'httptco7v9jedc8z7': 8029, 'cquintanasf': 8030, 'walks': 8031, 'decently': 8032, 'denigrate': 8033, 'roger': 8034, 'whorehouse': 8035, 'refer': 8036, 'trbutcher': 8037, 'jackie': 8038, 'pepper': 8039, 'janet': 8040, 'reno': 8041, 'httptcovxfy7ms1wg': 8042, 'pos': 8043, 'reallyamerica': 8044, 'gaypatriot': 8045, 'universal': 8046, 'nomorebushes': 8047, 'lybr3': 8048, 'sweetpea593': 8049, 'srshowsxm': 8050, 'httpstcokc62vtbf6p': 8051, 'econ': 8052, 'socialsecurity': 8053, 'httptcorjk8s4hd6f': 8054, 'apocalyptic': 8055, 'surrounded': 8056, 'kels': 8057, 'kylebelanger1': 8058, 'uponfu': 8059, 'herreview': 8060, 'odoylerules': 8061, 'billymaddison': 8062, 'vapidbully': 8063, 'pesky': 8064, 'httptcohxcubsvtgl': 8065, 'kaisch': 8066, 'samesexmarriage': 8067, 'republucan': 8068, 'giulianistyle': 8069, 'httptcoy6mudmr66p': 8070, '1964': 8071, 'httpstcoqzbazmv7iz': 8072, 'httptcorpjmie8buv': 8073, 'twisting': 8074, 'lenny': 8075, 'kravitzs': 8076, 'viable': 8077, 'vets': 8078, 'eusebiaaq': 8079, 'sternnschool': 8080, 'httpstcolklffn2lf': 8081, 'unpop': 8082, 'namenzie': 8083, 'convincing': 8084, 'aridavidusa': 8085, '300lbs': 8086, 'jets': 8087, 'httptcoe0huw70rrr': 8088, 'httpstcongdaxtud': 8089, 'jaxonsl': 8090, 'heavily': 8091, 'ridiculously': 8092, 'shadowbard': 8093, 'taykayphillips': 8094, 'conditional': 8095, 'vanityfair': 8096, 'morgfair': 8097, 'verify': 8098, 'vilify': 8099, 'disagrees': 8100, 'pistolsnpoetry': 8101, 'httptcobnv5ohxzlk': 8102, 'explains': 8103, 'lat': 8104, 'httptcolostdaifan': 8105, 'votingfemale': 8106, 'homer': 8107, 'httptcot4n6dh3pzo': 8108, 'questionsto': 8109, 'checks': 8110, 'progress': 8111, 'policie': 8112, 'occupywallstnyc': 8113, 'successfully': 8114, 'cheated': 8115, 'manipulated': 8116, 'httptco4ih7btyeaz': 8117, 'httptcoe9fig93k0i': 8118, 'erupted': 8119, 'whaah': 8120, 'surgeries': 8121, 'constantly': 8122, 'ergeekgoddess': 8123, 'imma': 8124, 'mattwalshblog': 8125, 'wethepeople': 8126, 'httptcodmwcggcwmy': 8127, 'tjocaldwell': 8128, 'disrespected': 8129, 'muther': 8130, 'onetoughmutherk': 8131, 'httptcongwiblhwdq': 8132, 'httptco8pxivxhnxb': 8133, 'newsweeks': 8134, 'httptco8kidhdjrvi': 8135, 'audit': 8136, 'reserve': 8137, 'joshrobin': 8138, 'bobhardt': 8139, 'rejection': 8140, 'hiding': 8141, 'watches': 8142, 'attitudes': 8143, 'forgets': 8144, 'shareaholic': 8145, 'fingers': 8146, 'pally': 8147, 'bruceba': 8148, 'lett': 8149, 'jesselagreca': 8150, 'civilizedexcept': 8151, 'httptco9da0d98kdw': 8152, 'christe': 8153, 'classic': 8154, 'chriscarleyshow': 8155, 'obam': 8156, 'idontknow': 8157, 'shakestweetz': 8158, 'hsudavidt': 8159, 'civichall': 8160, 'rethinking': 8161, 'extraordinary': 8162, 'homelessness': 8163, 'thebiggestloser': 8164, '128': 8165, '64': 8166, 'curb': 8167, 'stomps': 8168, 'relaxed': 8169, 'jocklaflair': 8170, 'liv': 8171, 'brianzahnd': 8172, 'native': 8173, 'committing': 8174, 'horrific': 8175, 'crimes': 8176, 'pizza': 8177, 'bamasevere': 8178, 'transform': 8179, 'httpstco9bqju4zofb': 8180, 'httptcoeecrwtlkel': 8181, 'economics': 8182, 'httptcomolloaqhwq': 8183, 'knowmorenotless': 8184, 'gpnaplang': 8185, 'rightwinglatina': 8186, 'httptcottg6geg3se': 8187, 'donnie': 8188, 'wahlberg': 8189, 'abandoned': 8190, 'httptcoriqrabv3al': 8191, 'httptcoicxwvljky8': 8192, 'calebbonham': 8193, 'seat': 8194, 'optibotimus': 8195, 'funnythe': 8196, 'rotten': 8197, 'tomatoes': 8198, 'thesuperficial': 8199, 'impossible': 8200, 'httpstcodwpzczzrrl': 8201, 'prolly': 8202, 'httptcom3vpnb1knt': 8203, 'eightdotters': 8204, 'stroll': 8205, 'spit': 8206, 'loads': 8207, 'djmorrison': 8208, 'httptcot7mgjn2ver': 8209, 'feared': 8210, 'capable': 8211, 'melslien': 8212, 'hardline': 8213, 'httptco7ronblx7ys': 8214, 'aprildryan': 8215, 'mattybswag': 8216, 'club': 8217, 'nicely': 8218, 'fitnessaspresident': 8219, 'sirius206': 8220, 'ambjohnbolton': 8221, 'foreignpolicy': 8222, 'squad': 8223, 'attractive': 8224, 'cfjwagner': 8225, 'scariest': 8226, 'bugs': 8227, 'rimshot': 8228, 'httptcookc1tfczww': 8229, 'writerslife': 8230, 'tight': 8231, 'devil': 8232, 'hooplai': 8233, 'sewellchan': 8234, 'frankbrunis': 8235, 'httptcoc4jrx2mnjd': 8236, 'dinosaur': 8237, 'laprofe63': 8238, 'refrain': 8239, 'dunno': 8240, 'httptcoxurvny2ufe': 8241, 'monstrosity': 8242, 'stroke': 8243, 'barf': 8244, 'httptcodw6irephdm': 8245, 'latis': 8246, 'mstua': 8247, '1970': 8248, 'howard': 8249, 'bragged': 8250, 'sch': 8251, 'huffpo': 8252, 'complimented': 8253, 'shills': 8254, 'hencefo': 8255, 'shillary': 8256, 'wishing': 8257, 'wacky': 8258, 'adventures': 8259, 'crickets': 8260, 'andrea': 8261, 'mitchell': 8262, 'la': 8263, 'raza': 8264, 'bites': 8265, 'renunion': 8266, 'thinknot': 8267, 'manipulatei': 8268, 'farid': 8269, 'seehear': 8270, 'frm': 8271, 'alienated': 8272, 'macandgaydos': 8273, 'macgopdebate': 8274, 'prom': 8275, 'anticipation': 8276, 'timsullivanma': 8277, 'httpstcoumk17vuktj': 8278, 'resumes': 8279, 'kdstarbux': 8280, 'brightly': 8281, 'polarinski': 8282, 'stones': 8283, 'direction': 8284, 'tamaracg': 8285, 'httptcoukdz8o85av': 8286, 'snore': 8287, 'httpstcoqiqvue3fsr': 8288, 'whoah': 8289, 'dammit': 8290, 'httptcoismxbrrm0h': 8291, 'shaft': 8292, 'httptcozw8jupqp11': 8293, 'wayne': 8294, 'lived': 8295, 'displayed': 8296, 'utmost': 8297, 'authority': 8298, 'critic': 8299, 'httptco8jbvwjtj3t': 8300, 'httptcomel8jxm19b': 8301, 'httptcoeqj6k2ne5u': 8302, 'knees': 8303, 'httptcoyyz21reood': 8304, 'trumpisapig': 8305, 'shicooks': 8306, 'stevedeaceshow': 8307, 'visually': 8308, 'dancing': 8309, 'drawing': 8310, 'httpstcosjiz8a2zuf': 8311, 'americasmostcorruptgovernor': 8312, 'beanbag': 8313, 'ohsnapitsjenni': 8314, 'denigrating': 8315, 'painful': 8316, 'socalled': 8317, 'criminals': 8318, 'httptco6yqbhhngse': 8319, 'joshuaacnewman': 8320, 'trialbyfeces': 8321, 'httptcoqlgsxrh5hw': 8322, 'anow': 8323, 'tacticaldissent': 8324, 'fave': 8325, 'httpstcoeojrkb1ahs': 8326, 'ericttung': 8327, 'torched': 8328, 'gtcandycrowley': 8329, 'famous': 8330, 'assassin': 8331, 'coworkers': 8332, 'thoms': 8333, 'improv': 8334, 'remove': 8335, 'votegopdebate': 8336, '25': 8337, 'bucks': 8338, 'spoton': 8339, 'hillarysusans': 8340, 'dc37deborah': 8341, 'httpstco6ke7zryepz': 8342, 'httpstcorkkuhet4js': 8343, 'mn2a4asuppo': 8344, 'stylemom': 8345, 'foh': 8346, 'privilegeporn': 8347, 'purchase': 8348, 'relieve': 8349, 'httpstcottp2x2grrc': 8350, 'tuning': 8351, 'bhowl': 8352, 'california': 8353, 'c2': 8354, 'csquared': 8355, 'tanked': 8356, 'txot': 8357, 'eliminating': 8358, 'gutting': 8359, 'dodd': 8360, 'httptcoun2cj2dotj': 8361, 'cohealthaccess': 8362, 'httptcodq7qy63rf6': 8363, 'larhunter': 8364, 'biffstolethealmanac': 8365, '911woth': 8366, 'lilymaxcooke': 8367, 'raccoons': 8368, 'sewer': 8369, 'habitat': 8370, 'dumbfucks': 8371, 'rapture': 8372, 'sucked': 8373, 'handedly': 8374, 'amandagutterman': 8375, 'sandy': 8376, 'httptcoglubxg8wlv': 8377, 'chrisclaytondtn': 8378, 'reedfrich': 8379, 'winamerica': 8380, 'trusts': 8381, 'httptcogka0v49alb': 8382, 'johnkasick': 8383, 'nonissue': 8384, 'httptcoqicyhopamw': 8385, 'insideclimate': 8386, 'fordoconnell': 8387, 'fightweary': 8388, 'dividers': 8389, 'httpstcoaz9gugmcgu': 8390, 'pole': 8391, 'tinymuslimah': 8392, 'freak': 8393, 'aggrieved': 8394, 'blown': 8395, 'unslutproject': 8396, 'gracious': 8397, 'victory': 8398, 'defeat': 8399, 'ljcambria': 8400, 'especislly': 8401, 'lulz': 8402, 'chrisvernonshow': 8403, 'baiers': 8404, 'truestory': 8405, 'httptcowevgtvp7zp': 8406, 'expressed': 8407, 'httptcovpa9riyca0': 8408, 'ace': 8409, 'hole': 8410, 'nerve': 8411, 'httpstcowq2cxxgsai': 8412, 'factcheckdotorg': 8413, '19b': 8414, 'includes': 8415, 'estate': 8416, 'mandated': 8417, 'delivering': 8418, 'categoryhow': 8419, 'duringafter': 8420, 'ultimately': 8421, 'unhappy': 8422, 'httptco08nrvgesra': 8423, 'reelected': 8424, 'souls': 8425, 'httptcoxitysjflrj': 8426, 'tharightstuff': 8427, 'goyim': 8428, 'communist': 8429, 'sympathizer': 8430, 'chrislhayes': 8431, 'approves': 8432, 'justin': 8433, 'fenton': 8434, 'httptcolgl8l8lmgt': 8435, 'yearold': 8436, 'httptcooqawdkxere': 8437, 'costars': 8438, 'skip': 8439, 'shoulders': 8440, 'lisabloom': 8441, 'tumblr': 8442, 'liz': 8443, 'wheeler': 8444, 'experienced': 8445, 'practical': 8446, 'strategic': 8447, 'wisconsins': 8448, 'outpaced': 8449, 'lagged': 8450, 'momentum\\xa0amp': 8451, 'httptcoujagblg1uq': 8452, 'erikaharold': 8453, 'charm': 8454, 'humility': 8455, 'qualities': 8456, 'kasichrubio': 8457, 'salon': 8458, 'antarianrani': 8459, 'sinking': 8460, 'frustrations': 8461, 'advisers': 8462, 'httptconicxaycsi4': 8463, 'httptcofa4eqqhfw1': 8464, 'raped': 8465, 'nativist': 8466, 'chairman': 8467, 'stink': 8468, 'delilahnobszone': 8469, 'tweeti': 8470, 'httptcoie9kkupd2z': 8471, 'meanprogress': 8472, 'radicalchristianterrorism': 8473, 'httptcoonozzewi2s': 8474, 'steelhamster': 8475, 'httpstcox2vae3wr3m': 8476, 'httptcod41aamlnbj': 8477, 'edwinsaar': 8478, 'depend': 8479, 'httpstcour7q4kjrfx': 8480, 'mush': 8481, 'aandgshow': 8482, 'motto': 8483, 'double': 8484, 'httptco2wndaiiikc': 8485, 'httptco1naioxcln9': 8486, 'rakapanka': 8487, 'jbthomjohn': 8488, 'merited': 8489, 'httptcotqxw14qzzb': 8490, 'sources': 8491, 'timcast': 8492, 'flaunting': 8493, 'wealth': 8494, 'gross': 8495, 'reptimryan': 8496, 'jimfkenney': 8497, 'philly': 8498, 'bridge': 8499, 'hashed': 8500, 'sjadetx': 8501, 'httptcobt7glnyuon': 8502, 'patriot': 8503, 'madyclahane': 8504, 'srry': 8505, 'httpstco1ps81yqaol': 8506, 'hippielily': 8507, 'shannonrose17': 8508, 'httptcotlz8rk7jr7': 8509, 'intellgent': 8510, 'uhe': 8511, 'thegodfather': 8512, 'gawdgrow': 8513, 'pants': 8514, 'scorpionspriest': 8515, 'nonanswers': 8516, 'liners': 8517, 'responsibly': 8518, 'freeamerican100': 8519, 'arianwing': 8520, 'httptcoutbtdcpkwd': 8521, 'collab': 8522, 'httptcoy7hxub2yaz': 8523, 'annotation': 8524, 'httptcow': 8525, 'httptco72u0fgvb9j': 8526, 'patriotjackib': 8527, 'michaelvdgalien': 8528, 'jennrios1191': 8529, 'lisavikingstad': 8530, 'confusingly': 8531, 'legitimacy': 8532, 'cronkite': 8533, 'httpstcoduu5vluuhh': 8534, 'zigzagoonsquad': 8535, 'pulling': 8536, 'minions': 8537, 'beem': 8538, 'skeem': 8539, 'httptcor0xxbgvqb3': 8540, 'charlottelaws': 8541, 'stooges': 8542, 'eugenics': 8543, 'nativists': 8544, 'restrict': 8545, '5votes': 8546, 'mazandara': 8547, 'presents': 8548, 'theirandeal': 8549, 'appeasement': 8550, 'regimechange': 8551, 'analyses': 8552, 'httptcohflo91bn': 8553, 'galtsgirl': 8554, 'diverse': 8555, 'httptcorp': 8556, 'draftrunbenrun': 8557, 'httptcoritsrz': 8558, 'senatorboxer': 8559, 'messenger': 8560, 'httptcomdmned8lgq': 8561, 'httptcot8oljo68mj': 8562, 'downfall': 8563, 'greatly': 8564, 'exaggerated': 8565, 'joshkivett': 8566, 'volunteers': 8567, 'rli': 8568, 'fellows': 8569, 'nc': 8570, 'zwigzag': 8571, 'disenfranchising': 8572, 'hundreds': 8573, 'debatewithbe': 8574, 'related': 8575, 'jdreaming': 8576, 'httpstcohf318qsowd': 8577, 'shabanamir1': 8578, 'usveteran2': 8579, 'shutting': 8580, 'camille': 8581, 'paglia': 8582, 'guest': 8583, 'column': 8584, 'httptcoiaphto0gzt': 8585, 'httptcozjwugwj9hz': 8586, 'graceful': 8587, 'determined': 8588, 'debated': 8589, 'gapol': 8590, 'troothbooth': 8591, 'flippant': 8592, 'inflammatory': 8593, 'sdoocy': 8594, 'ehasselbeck': 8595, 'sdb57': 8596, 'futiledemocracy': 8597, 'headcace1906': 8598, 'httptcoq7q7gxw3lc': 8599, 'negotiated': 8600, 'approval': 8601, 'theskysgoneout': 8602, 'underline': 8603, 'unpatriotic': 8604, 'alliance': 8605, 'powerhouse': 8606, 'politely': 8607, 'macho': 8608, 'size': 8609, 'httptco010skwrzqr': 8610, 'httptco5laccafuxw': 8611, 'nick': 8612, 'paro': 8613, 'httptcol9z2jmkfrn': 8614, 'hemzy1': 8615, 'myhatbaby': 8616, 'sandwich': 8617, 'predicted': 8618, 'httptcoijsedrculz': 8619, 'httpstcoqzmg96pf75': 8620, 'pyrotoz': 8621, 'chimps': 8622, 'violently': 8623, '69ing': 8624, 'hlcpodcast': 8625, 'edition': 8626, 'httptcoheyhwpwuwx': 8627, 'mapoli': 8628, 'mepolitics': 8629, '808s': 8630, 'cupcakes': 8631, 'blowticious': 8632, 'httptcodgu7yj9iex': 8633, 'wandered': 8634, 'shouting': 8635, 'evens': 8636, 'nottinghams1': 8637, 'whore': 8638, 'forfeit': 8639, 'spring': 8640, 'script': 8641, 'jus': 8642, 'lovablegold': 8643, 'httptcousfbancb5f': 8644, 'emmaladyrose': 8645, 'httptcoxxch8pxagf': 8646, 'distracting': 8647, 'recovering': 8648, 'httptco8ibacpcs7d': 8649, 'buzz': 8650, 'sez': 8651, 'schmitte': 8652, 'runningquack93': 8653, 'kendallclb': 8654, 'indeed': 8655, 'realbencarso': 8656, 'carlin': 8657, 'fucktrump': 8658, 'httpstcoghfpf8movf': 8659, 'sarahdoiron31': 8660, 'swept': 8661, 'rug': 8662, 'reproductive': 8663, 'megynkellybut': 8664, 'straightfaced': 8665, 'chrs': 8666, 'walace': 8667, 'hype': 8668, 'johnconti78': 8669, 'httptco0qhbseqez8': 8670, 'shaughn': 8671, 'phones': 8672, 'skipped': 8673, 'seekweek15': 8674, 'lifeaction': 8675, 'httpstcodjcj7bhgzb': 8676, 'nevagphx1': 8677, 'pander': 8678, 'votetrump': 8679, 'jasonburns': 8680, 'madiallman': 8681, 'ygirlnh': 8682, 'httptcoem1wi3djpu': 8683, '2show': 8684, '2take': 8685, '2destroy': 8686, 'barbarn': 8687, 'royality': 8688, 'gtmegynkelly': 8689, 'httptco1cslxvicwp': 8690, '130': 8691, 'elirubenstein': 8692, 'httpstcox3j4x8qm5e': 8693, 'clusters': 8694, 'cells': 8695, 'shaming': 8696, 'wanthave': 8697, 'httptcoe1smu0hn5j': 8698, 'womenrealdonaldtrump': 8699, 'heavyweight': 8700, 'division': 8701, 'notreadyforprimetime': 8702, 'iansams': 8703, 'vra50': 8704, 'adammshankman': 8705, 'yaaaayyy': 8706, 'loveshack': 8707, 'orlandodish': 8708, 'keenamcgee': 8709, 'httptcozusrbs8qta': 8710, 'whys': 8711, 'httpstconicl3cyjps': 8712, 'httpstcoqe4ggapqc1': 8713, 'searched': 8714, 'raving': 8715, 'thks': 8716, 'vicious': 8717, 'httptcoc6uxed2wlu': 8718, 'odinseye2k': 8719, 'interacting': 8720, 'betters': 8721, 'richers': 8722, 'hlllary': 8723, 'dependence': 8724, 'underwood': 8725, 'huffpost': 8726, 'politricks': 8727, 'uhhhbrithume': 8728, 'everyonevery': 8729, 'ungentlewomenly': 8730, 'fi': 8731, 'oitnb': 8732, 'httptcokkrpme1xce': 8733, 'httptcor406npvex5': 8734, 'kristawelz': 8735, 'grows': 8736, 'thunder': 8737, 'gopdbate': 8738, 'edcampgl': 8739, 'weeperwillow': 8740, 'vermont': 8741, 'httpstco2tujhvo2dj': 8742, 'miaholl18': 8743, 'bradthor': 8744, 'schwabcycler': 8745, 'tha': 8746, 'punished': 8747, 'occasions': 8748, 'dispel': 8749, 'charges': 8750, 'httpstcoharnffyfdm': 8751, 'icaruspundit': 8752, 'villages': 8753, 'notfair': 8754, 'notbalanced': 8755, 'gopdebaters': 8756, 'underscores': 8757, 'overhaul': 8758, 'b52': 8759, '60s': 8760, 'complained': 8761, 'ronnie': 8762, 'ghetto': 8763, 'redistributed': 8764, 'tactful': 8765, 'informative': 8766, 'hall': 8767, 'accepted': 8768, 'posttruthsociety': 8769, 'joegarofoli': 8770, 'httptcogqtdmhvn21': 8771, 'sfchronicle': 8772, 'kvxrdashian': 8773, 'fault': 8774, 'thomasmybarra': 8775, 'um': 8776, 'gop201': 8777, 'stephenh2oman': 8778, '80s': 8779, 'edt': 8780, 'httptcohev7fe4hhr': 8781, 'odonald': 8782, 'imtheboogyman': 8783, 'httptcogxspz9kqj7': 8784, 'lebron': 8785, 'james': 8786, 'thinkbeforeyouvote': 8787, 'willneverlie': 8788, 'httpstcovgz4knfxk7': 8789, 'laina622': 8790, 'resting': 8791, 'httptcopvos66ih2r': 8792, 'wests': 8793, 'selfie': 8794, 'light': 8795, 'soften': 8796, 'optimism': 8797, 'httpstco3wz2haagk8': 8798, 'erinmallorylong': 8799, 'sternfannation': 8800, 'scalps': 8801, 'wwe': 8802, 'ecw': 8803, 'wwf': 8804, 'nwo': 8805, 'bwo': 8806, 'httpstcoprklk6x4ji': 8807, 'httptco8kaonv4kb7': 8808, 'httptcofiqdbu1do2': 8809, 'deer': 8810, 'headlights': 8811, 'gloating': 8812, 'gopdem': 8813, 'pols': 8814, 'ampthem': 8815, 'bidding': 8816, '2000s': 8817, 'caricature': 8818, 'myacash': 8819, 'httpstco5spmu3csic': 8820, 'zoegberg': 8821, 'noises': 8822, 'hemantmehta': 8823, 'catholiclisa': 8824, 'hats': 8825, 'secular': 8826, 'willy': 8827, 'httpstcoovkoims5ty': 8828, 'mrianmacintyre': 8829, 'httptcoefv4zagbaw': 8830, 'disapproval': 8831, 'bridgegate': 8832, 'httptcor9ctplw5up': 8833, 'httptco6ov5hxhicv': 8834, 'thetexasphoenix': 8835, 'httpstco0a1w02w7sz': 8836, 'secretcabdriver': 8837, 'httpstcosndqwf6clc': 8838, 'deego': 8839, 'distinguished': 8840, 'expectedmore': 8841, 'suggests': 8842, 'waronwomen': 8843, 'cdm': 8844, '3m3': 8845, 'httptcofo3d5ad0ag': 8846, 'identifying': 8847, 'lefts': 8848, 'alinsky': 8849, 'tactics': 8850, 'masterful': 8851, 'immoral': 8852, 'stinks': 8853, 'imraansiddiqi': 8854, 'wisest': 8855, 'salty': 8856, '2016debate': 8857, 'sarahpalinusa': 8858, 'unionmade': 8859, 'harleydavidson': 8860, 'laurenacooley': 8861, 'banish': 8862, 'depa': 8863, 'ment': 8864, 'rethink911': 8865, 'httptcok37hnbe2jy': 8866, 'archaic': 8867, 'ove': 8868, 'urning': 8869, 'adamsmith': 8870, 'httptcomusuto1irh': 8871, 'httptcov5': 8872, 'vjrbq1': 8873, 'httpstcozqjnczdlyx': 8874, 'httptcofubtfwno2d': 8875, 'carolhello1': 8876, 'httpstcogrlzfhs8pb': 8877, 'httpstco5hkcefp1hf': 8878, 'candidatess': 8879, 'fantasies': 8880, 'httptcogyjq13nw35': 8881, 'markbinda': 8882, 'local': 8883, '143': 8884, 'txdempa': 8885, 'httptcoo7osxwkq98': 8886, 'frankly': 8887, 'whoampwhat': 8888, 'disengenuous': 8889, 'fundamentally': 8890, 'misunderstands': 8891, 'httptcoxawzzrhvfi': 8892, 'peasants': 8893, 'images': 8894, 'photography': 8895, 'httpstcofoxkcpurof': 8896, 'moo': 8897, 'elchapo': 8898, 'httpstcooucmhiyfhz': 8899, 'lemme': 8900, 'seewho': 8901, 'elsebush': 8902, 'brainybug23': 8903, 'officiating': 8904, 'missamericamn': 8905, 'educators': 8906, 'doctors': 8907, 'spor': 8908, 'harmed': 8909, 'impolitik': 8910, 'drown': 8911, 'aquaman': 8912, 'lights': 8913, 'rabbi': 8914, 'downgrades': 8915, 'roseperson': 8916, 'violen': 8917, 'braunken': 8918, 'answere': 8919, 'barackobamas': 8920, 'remembered': 8921, 'diplomatic': 8922, 'jimsterling': 8923, 'fiveheaded': 8924, 'dragon': 8925, 'httpstcodac0qdku7i': 8926, 'realized': 8927, 'himgopdebate': 8928, 'blamed': 8929, 'unitebiue': 8930, 'hei': 8931, 'danaperino': 8932, 'againstcronycap': 8933, 'httptcohutoqzgyud': 8934, 'httptco1x': 8935, 'preference': 8936, 'unism': 8937, 'inconsistency': 8938, '8pm': 8939, 'stassipost': 8940, 'rnr': 8941, 'standwithisrael': 8942, 'httptco9yqgzvc2qv': 8943, 'teammarcony': 8944, 'httptcogc1hkxja': 8945, 'original': 8946, 'stupidty': 8947, 'hatred': 8948, 'ju': 8949, 'sweet': 8950, 'misstatement': 8951, 'httptcowj05xzksa0': 8952, 'httptcojpxno0jo5a': 8953, 'bgittleson': 8954, 'christierand': 8955, 'interaction': 8956, 'rightwingextremism': 8957, 'youcantbeserious': 8958, 'httpstcokiazkaknxv': 8959, 'nodigmaine': 8960, 'infastructure': 8961, 'crumbling': 8962, 'below': 8963, 'httptcoizdg065d': 8964, 'lesliemac': 8965, 'goplogic': 8966, 'rviydogutv': 8967, 'sanjaya': 8968, 'sock': 8969, 'don': 8970, 'gurrrrrlll': 8971, 'iwonderhowmanysma': 8972, 'republicanshaditchyslappinghandslastnight': 8973, 'httptcojziz1zvxdj': 8974, 'davis': 8975, 'worldmegynkelly': 8976, 'countrys': 8977, 'themurdochtimes': 8978, 'us2016': 8979, 'httpstcoqrbqcmebuf': 8980, 'httptcoxzttcvmpli': 8981, 'snot': 8982, 'chrismathews': 8983, 'httptcocpg7t80dsu': 8984, 'httpstcotntrjwjkbx': 8985, 'latham312': 8986, 'runnerup': 8987, 'aid': 8988, 'berkeley': 8989, 'embrace': 8990, 'expand': 8991, 'deadeyed': 8992, 'walkergranny': 8993, 'bushoozy': 8994, 'cruzimabigboy': 8995, 'rubiocurly': 8996, 'smarmy': 8997, 'wannabees': 8998, 'kasichcarson': 8999, 'ampchristie': 9000, 'oysters': 9001, 'wonkettes': 9002, 'liveblog': 9003, 'livetweeting': 9004, 'httptcospz56hetpg': 9005, 'politicalant': 9006, 'criticalrole': 9007, 'critters': 9008, 'nocontest': 9009, 'scottwgraves': 9010, 'candida': 9011, 'radiovegan': 9012, 'nighthe': 9013, 'httpstcofn6m0gmknq': 9014, 'realbphil': 9015, 'foxnewss': 9016, 'theexpe': 9017, 'sagree': 9018, 'teflondon': 9019, 'sheriff': 9020, 'cherishes': 9021, 'joy': 9022, 'blackout': 9023, 'unreal': 9024, 'wesjonesdc': 9025, 'httptcorp6q741ijj': 9026, 'httptcoyr': 9027, 'cecil': 9028, 'lion': 9029, 'salt': 9030, 'river': 9031, 'horses': 9032, 'katyfromkansas': 9033, 'tacos': 9034, 'esy': 9035, 'httptcoimxpyfqrpq': 9036, 'tea4texs': 9037, 'eclipses': 9038, 'httptconzr6p3ckw9': 9039, 'nightmares': 9040, 'ooooooooooh': 9041, 'revjaydub': 9042, 'childhood': 9043, 'nightmare': 9044, 'payattnlibs': 9045, 'pull': 9046, '419in703': 9047, 'whoa': 9048, 'any1': 9049, 'httpstconp8cjqwyji': 9050, 'increasing': 9051, 'decreasing': 9052, 'inconsistent': 9053, 'chronfalkenberg': 9054, 'saadcrates': 9055, 'watchign': 9056, 'knock': 9057, 'righteous': 9058, 'borowitzrepo': 9059, 'assesses': 9060, 'newyorker': 9061, 'httptco87p5eew8w7': 9062, 'wrestler': 9063, 'congratulate': 9064, 'httptco7am5odcbvw': 9065, 'httptcoiovvw90aax': 9066, 'krauthammers': 9067, 'httptcoxtmdubzgnj': 9068, 'jimtrue48': 9069, 'treezilla': 9070, 'hereistheanswer': 9071, 'selection': 9072, 'newlow': 9073, 'httptco4ljeug3gye': 9074, 'enjoying': 9075, 'panic': 9076, 'cratering': 9077, 'unsympathetic': 9078, 'politiciangopdebate': 9079, 'hungergames': 9080, 'httptcoeg6x6onkkt': 9081, 'recording': 9082, 'lovedrealbencarson': 9083, 'fastest': 9084, 'shrinking': 9085, 'httptcozopokedb8l': 9086, 'votersfirst': 9087, 'soccermum11': 9088, 'jenism101': 9089, 'boosting': 9090, 'doyouknowanyonevotingforjeb': 9091, 'httptcozsff': 9092, 'defensebaron': 9093, 'uber': 9094, 'counties': 9095, 'leaves': 9096, 'contracting': 9097, 'bats': 9098, 'provide': 9099, 'carlson': 9100, 'beforerealdonaldtrump': 9101, 'justwar': 9102, 'httptcotdtyftwecp': 9103, 'hav': 9104, 'closelyall': 9105, 'httptcokqemvnmxja': 9106, 'instapundit': 9107, 'michelleeeers': 9108, 'endorse': 9109, 'httpstcovn45hf6yem': 9110, 'httptcoveggw14ipb': 9111, 'tactic': 9112, 'distract': 9113, 'httptcoo9s38elwo5': 9114, 'whitneyneal': 9115, 'evidencebased': 9116, 'frighten': 9117, 'kennyw': 9118, 'nlr': 9119, 'httpstcokqhjdjcgws': 9120, 'lexi4prez': 9121, 'shames': 9122, 'sterling': 9123, 'republic': 9124, 'slap': 9125, 'cruzand': 9126, 'annoyinggopdebate': 9127, 'helengym2015': 9128, 'antiimmigrant': 9129, 'prorich': 9130, 'hopewalker': 9131, 'janethuckabee': 9132, 'palmetto': 9133, 'letsgo': 9134, 'httptcojgnn2f5qo2': 9135, 'httpstcomyelasnpnb': 9136, 'adve': 9137, 'ised': 9138, 'gf': 9139, 'tiffany': 9140, 'jeremypiven': 9141, 'ari': 9142, 'httptcok6xa5rlo70': 9143, 'httptcoyuh6j7qqha': 9144, 'rogue': 9145, 'scotus': 9146, 'basis': 9147, 'httptcoa': 9148, 'emma': 9149, 'dye': 9150, 'rpt': 9151, '4him': 9152, '2say': 9153, 'livin': 9154, 'whim': 9155, 'politicalnightmare': 9156, 'brownandbella': 9157, 'separate': 9158, 'suitcase': 9159, 'spar': 9160, 'valid': 9161, 'imformation': 9162, 'flordia': 9163, 'despots': 9164, '2afight': 9165, 'mamasbarnyc': 9166, 'httptcotq7ezqefmm': 9167, 'ryanbhorn': 9168, 'domineering': 9169, 'boor': 9170, 'httptcobvgulzhvhr': 9171, 'jerseygopdebates': 9172, 'takedownthegop': 9173, 'boehner': 9174, 'rhino': 9175, 'costarepo': 9176, 'scclemons': 9177, '11th': 9178, 'httpstcogol1jgqp7j': 9179, 'princessomuch': 9180, 'stmarysatlarge': 9181, 'risks': 9182, 'courage': 9183, 'pleasantly': 9184, 'unexpected': 9185, 'om': 9186, 'weneeddebate': 9187, 'trojanhorsetrump': 9188, 'hipsterocracy': 9189, 'grindingdude': 9190, 'shoddy': 9191, 'httptcovhiqq': 9192, 'themadstone': 9193, 'bummed': 9194, 'flounder': 9195, 'lions725': 9196, 'indicates': 9197, 'taylo': 9198, 'wo9': 9199, 'mu': 9200, 'matchup': 9201, 'subscribersso': 9202, 'roadto2016trump': 9203, 'msamysteele': 9204, 'goodbyeobama': 9205, 'neveragain': 9206, 'blind': 9207, 'planes': 9208, 'aviation': 9209, 'assets': 9210, 'glasses': 9211, 'kiddie': 9212, 'vers': 9213, 'groundgamehq': 9214, 'nearly': 9215, 'httptcoyupjdhwxjh': 9216, 'jarodzsz': 9217, 'prosthetic': 9218, 'leg': 9219, 'tricia': 9220, 'streets': 9221, 'afterwards': 9222, 'sacrifice': 9223, 'profitab': 9224, 'crushed': 9225, 'tamirrice': 9226, 'bash': 9227, 'rib': 9228, 'perved': 9229, 'wink': 9230, 'icky': 9231, 'benjamminwalker': 9232, 'shmhpodcast': 9233, 'haleyrfalconer': 9234, 'investing': 9235, 'ambe': 9236, 'ozer': 9237, 'moderatorfail': 9238, 'booker25': 9239, 'involves': 9240, 'httptcofco3kzpvqe': 9241, 'crossing': 9242, 'whitecoat2whitehouse': 9243, 'bctodc16': 9244, 'thattexasboy26': 9245, 'snapchat': 9246, 'httptco0jx8yeb00f': 9247, 'httptcoxzttcvmp': 9248, 'trashed': 9249, 'rollingstones': 9250, 'kara': 9251, 'neptune': 9252, 'texasgop': 9253, 'hil': 9254, 'seriousness': 9255, 'httptcoyhq16ehffr': 9256, 'kidstabledebate': 9257, 'allahpundit': 9258, 'rushs': 9259, 'openinghis': 9260, 'backlash': 9261, 'moderatorsfail': 9262, '96suns': 9263, 'vigorous': 9264, 'revealingit': 9265, 'gtrealdonaldtrump': 9266, 'subject': 9267, 'httptcol9wwpiehdi': 9268, 'compliment': 9269, 'clairechansen': 9270, 'refraining': 9271, 'unlikable': 9272, 'httptcoqcmxmu8mlp': 9273, 'becca0mae': 9274, 'tkrypt': 9275, 'motive': 9276, 'rands': 9277, 'nowhere': 9278, 'audreycnn': 9279, 'mbasucnn': 9280, 'deabillk': 9281, '99': 9282, 'drzhivag0': 9283, 'trumpkar': 9284, 'management': 9285, 'saille': 9286, 'privatize': 9287, 'hire': 9288, 'vogons': 9289, 'jen': 9290, 'everyday': 9291, 'vandalized': 9292, 'victorianoir89': 9293, 'jokes': 9294, 'gabrielpta': 9295, 'gotapoint': 9296, 'urbnconservativ': 9297, 'minimize': 9298, 'tuckahoetommy': 9299, 'xm121': 9300, '34pm': 9301, 'tellmeeverything': 9302, 'rickungar': 9303, 'thepalealewife': 9304, 'ipaday': 9305, 'bitterness': 9306, 'httptcobm2lugqqjz': 9307, 'jamesaking41': 9308, 'vocativ': 9309, 'httptcok3sfgctrbu': 9310, 'httptcopy3rhcmcbh': 9311, 'httptcos15nlillso': 9312, 'scars': 9313, 'httptco4p1vqtiwxf': 9314, 'precious': 9315, 'steal': 9316, 'some\\xa0did': 9317, 'httptcojzlh4lrzh4': 9318, 'jediane9': 9319, 'morals': 9320, 'jerked': 9321, 'demsrrealracist': 9322, 'definitive': 9323, 'mealymouthed': 9324, 'hemming': 9325, 'hawing': 9326, 'laxnoreos': 9327, 'httptcomfs7ixfovc': 9328, 'theonion': 9329, 'liver': 9330, 'transplant': 9331, 'httpstcoighqi3lgh9': 9332, 'degree': 9333, 'commitment': 9334, 'httptcovpxxlxevhi': 9335, 'photobomb': 9336, '412v70': 9337, 'poli': 9338, 'ohios': 9339, 'cnnyoutube': 9340, '07': 9341, 'informativebring': 9342, 'demdebate': 9343, 'httptco6nja6p36ul': 9344, 'sardoandtonic': 9345, 'httptcogwyirupoyo': 9346, 'lyndonjackmon': 9347, 'dearhea': 9348, 'boyabouttown': 9349, 'ppls': 9350, 'viewsno': 9351, 'misguided': 9352, 'teamgopdebate': 9353, 'leeroy': 9354, 'jenkins': 9355, 'charging': 9356, 'httpstcocjy6pqrls9': 9357, 'saralang': 9358, 'sotheres': 9359, 'gd': 9360, 'jdelreal': 9361, 'lacks': 9362, 'jaxnmelody': 9363, 'rallying': 9364, 'cry': 9365, 'meaner': 9366, 'cheryl': 9367, 'survival': 9368, 'fittest': 9369, 'protection': 9370, 'endangered': 9371, 'species': 9372, 'dylanthethomas': 9373, 'ratingsbonanza': 9374, 'httpstcogs5eodhvhu': 9375, 'window': 9376, 'perfectsweet': 9377, 'hogging': 9378, 'httptcouua4a1ox9f': 9379, 'reassured': 9380, 'affinity': 9381, 'kurdish': 9382, 'militants': 9383, 'arm': 9384, 'kurds': 9385, 'pyd': 9386, 'lawmakers': 9387, '350m': 9388, 'jose': 9389, 'goldman': 9390, 'sachs': 9391, 'httptcochhzb49t0w': 9392, 'battled': 9393, 'foxfire': 9394, 'spine': 9395, 'wagons': 9396, 'disdain': 9397, 'httptcof2bojstib5': 9398, 'tusk81': 9399, 'massdepo': 9400, 'ation': 9401, 'pppatticake': 9402, 'jojokejohn': 9403, 'milesjreed': 9404, 'mikeloburgio': 9405, 'astorix23': 9406, 'harolditz': 9407, 'slogan': 9408, 'raiden679': 9409, 'httptcozhnqhdpiln': 9410, 'danrycke': 9411, 'brave': 9412, '15mins': 9413, 'breed': 9414, 'corbyn': 9415, 'fool': 9416, 'math': 9417, 'paymasters': 9418, 'takedown': 9419, 'httptcoyq7hu3uv7s': 9420, 'deadlioness': 9421, 'ironic': 9422, 'pronounce': 9423, 'invited': 9424, 'celeb': 9425, 'gom': 9426, 'jabbar': 9427, 'liven': 9428, 'eitanthegoalie': 9429, 'correcting': 9430, 'bernard': 9431, 'cadence': 9432, 'hussein': 9433, 'kyleraccio': 9434, 'marching': 9435, 'treatment': 9436, 'ajc4others': 9437, 'practice': 9438, 'httptcodwgvs5zjq7': 9439, 'americasgotfailent': 9440, 'httptcoyqr5ybmolf': 9441, 'eleventhdebater': 9442, 'foxylady': 9443, 'tramp': 9444, 'usa2016': 9445, 'httptcoyyb9cskro2': 9446, 'wretirement': 9447, 'solved': 9448, 'problemspersonal': 9449, 'httpstcovovjmtwu5j': 9450, 'httpstcogv': 9451, 'thehinestheory': 9452, 'prepare': 9453, 'trumptastic': 9454, 'distracted': 9455, 'shiny': 9456, 'object': 9457, 'squirrel': 9458, 'outantiabo': 9459, 'dismembers': 9460, 'childbearing': 9461, 'cantarguewiththefacts': 9462, 'httptcopk45i5zvk0': 9463, 'yea': 9464, 'inspires': 9465, 'confidence': 9466, 'trustwo': 9467, 'hiness': 9468, 'dominate': 9469, 'pitch': 9470, 'patriottrumpet': 9471, 'samswey': 9472, 'kimprussell': 9473, 'cousins': 9474, 'naval': 9475, 'negotiating': 9476, 'leveraging': 9477, 'threatening': 9478, 'becomingusbrook': 9479, 'realbencarsons': 9480, 'httptcowkqihlnxn4': 9481, 'homerun': 9482, 'dm': 9483, 'unbelievable': 9484, 'tones': 9485, 'repugnant': 9486, 'affairs': 9487, 'httpstcoawbmptmpum': 9488, 'shitcave': 9489, 'anarousedwoman': 9490, 'assholes': 9491, 'fem2': 9492, 'rhoa': 9493, 'httpstcoc9luq1dww3': 9494, 'httptco8xgtwk7zui': 9495, 'trashing': 9496, 'pleeeease': 9497, 'peeps': 9498, 'effing': 9499, 'hmm': 9500, 'shipped': 9501, '1000s': 9502, 'oversea': 9503, 'vinnyguadagnino': 9504, 'bro': 9505, 'bigheadspo': 9506, 'quickness': 9507, 'hahahahah': 9508, '99andthe2000': 9509, '10th': 9510, 'whips': 9511, 'nae': 9512, 'naes': 9513, 'nobodys': 9514, 'wedd': 9515, 'mkdclsn': 9516, '29': 9517, 'httpstco0riaoipykq': 9518, 'tedcruzs': 9519, 'httptcoqusaxyqqvn': 9520, 'rsr15': 9521, 'httptcoecz8woviki': 9522, 'correlation': 9523, 'causation': 9524, 'enforces': 9525, 'httptco3rnri9cbvd': 9526, 'httptco6981eqojzn': 9527, 'postgraphics': 9528, 'facttank': 9529, 'indicate': 9530, 'confidencetoo': 9531, 'swindle': 9532, 'oo': 9533, 'slowunprepared': 9534, 'httptcofs7r705es9': 9535, 'horrendous': 9536, 'playground': 9537, 'punching': 9538, 'res': 9539, 'senwhitehouse': 9540, 'mond': 9541, 'anna': 9542, 'strophe': 9543, 'httpstcogn0pvy4wlr': 9544, '31': 9545, 'httptcokggnwj9gc4': 9546, 'mjtbaum': 9547, 'moe': 9548, 'stooge': 9549, 'httpstcoucd675mrmy': 9550, 'kimacheson': 9551, 'fucken': 9552, 'txt': 9553, 'computer': 9554, 'thirsty': 9555, 'trumpchosecrist': 9556, 'youmadbro': 9557, 'httptcotx5hlqit2r': 9558, 'reconsider': 9559, 'influenced': 9560, 'monetarily': 9561, 'vagin': 9562, 'staff': 9563, 'httptco1bk9bcij7f': 9564, 'anntelnaes': 9565, 'httptco9vn7q9ae2k': 9566, 'toomanytodraw': 9567, 'httptcofveho': 9568, 'introducing': 9569, 'withlove': 9570, 'eb': 9571, 'httptcocm6ya8nqev': 9572, 'gopddebate': 9573, 'repelled': 9574, 'ceiling': 9575, 'crushing': 9576, 'scorpion': 9577, 'raven': 9578, 'debs': 9579, 'httpstcoqirhkt79h2': 9580, 'manila': 9581, 'httptco5xez4vlj': 9582, 'jaw': 9583, 'dropping': 9584, '535m': 9585, '176b': 9586, 'httptcovvmxzkxlkr': 9587, 'tooth': 9588, 'fairy': 9589, 'teletubbies': 9590, 'httptcoxocshaandf': 9591, 'httptcob7ti3hvn7p': 9592, 'atheist': 9593, '26': 9594, 'contact': 9595, 'allamericanrallyus': 9596, 'manny': 9597, 'mayweather': 9598, 'plannedparenthoo': 9599, 'iamgmjohnson': 9600, 'blacks': 9601, 'kkko': 9602, 'mattkbh': 9603, 'httptcogzdltyumnn': 9604, 'buckle2': 9605, 'kinghilarities': 9606, 'httpstcorhtbzsjkue': 9607, 'johnschambers': 9608, 'number10cat': 9609, 'httptcotitzlo93of': 9610, 'mime': 9611, 'nowiknowmyabcs': 9612, 'insomniacs': 9613, 'httpstcovtprbb8j8l': 9614, 'ghana': 9615, 'dl': 9616, 'fridayreads': 9617, 'timayatimaya': 9618, 'amayanabo': 9619, 'httptcodrktw64c1u': 9620, 'gdestefano95': 9621, 'weild': 9622, 'assemble': 9623, 'realdonaldt': 9624, 'httptco9wcidg100e': 9625, 'angling': 9626, 'taping': 9627, 'news12nj': 9628, 'poweramppolitics': 9629, 'waltkane': 9630, 'karinattonito': 9631, 'ironghazi': 9632, 'httptcottcdktnmut': 9633, 'httptco4dgij1w0gs': 9634, 'uproar': 9635, 'smallbusiness': 9636, 'httpstco6b6f2neej4': 9637, 'httpstcogmamj9n': 9638, 'policyamp': 9639, 'nat': 9640, 'inthequeencity': 9641, 'pretending': 9642, 'httptco83epvbwkot': 9643, 'keithinabox': 9644, 'httptcorexdl58bqn': 9645, 'daveanthony': 9646, 'chewbacca': 9647, 'roaring': 9648, 'boffo': 9649, 'households': 9650, '2x': 9651, 'httptcofefioelxnl': 9652, 'httptco4aqnyhwc64': 9653, 'alainasmith': 9654, 'sorealdonaldtrump': 9655, 'posed': 9656, 'whinybaby': 9657, 'notpresidential': 9658, 'miracle': 9659, 'reset': 9660, 'httpstcogosnzvoetd': 9661, 'spaceplankton': 9662, 'shelli': 9663, 'evicted': 9664, 'twist': 9665, 'jason': 9666, 'presidentmadan': 9667, 'generalization': 9668, 'eloquence': 9669, 'promotionstatewide': 9670, 'voucher': 9671, 'httptcout1zaw9vk4': 9672, 'des': 9673, 'moines': 9674, 'register': 9675, 'soapbox': 9676, 'httpstcohfqvxaiqph': 9677, 'boatrocker': 9678, 'io': 9679, 'httptcobkuz2oiame': 9680, 'vowed': 9681, 'httptcoza4fgay10o': 9682, 'luthorceo': 9683, 'dumbasses': 9684, 'luthor2016': 9685, 'httptcoztruvofwgg': 9686, 'huckabee2016': 9687, 'co': 9688, 'nba': 9689, 'finals': 9690, 'murica': 9691, 'reviewbush': 9692, 'ehhuckabee': 9693, 'morepaul': 9694, 'overallgood': 9695, 'published': 9696, 'httpstco26v9hrahk2': 9697, 'nickcalves': 9698, 'httptcotj5ueuq8jm': 9699, 'explosion': 9700, 'meter': 9701, 'chattanooga': 9702, 'danecook': 9703, 'negotiator': 9704, 'religiousupamovie': 9705, 'melissafwu': 9706, 'kicking': 9707, 'scarlett': 9708, '0hara': 9709, 'httptcofcmszqx77r': 9710, 'ferrell': 9711, 'newswriter2': 9712, 'ankle': 9713, 'bracelet': 9714, 'boundary': 9715, 'momfullofhope': 9716, 'pave': 9717, 'bedjohnkasich': 9718, '20012009': 9719, 'slav': 9720, 'touched': 9721, 'andandgod': 9722, 'jut': 9723, '3d': 9724, 'chess': 9725, 'effective': 9726, 'badass': 9727, 'prewritten': 9728, 'johnjfrusciante': 9729, 'struggle': 9730, 'sidewalk': 9731, 'httptcorlww9f1ote': 9732, 'girlsgetaways': 9733, 'surprising': 9734, 'kayleighmcenany': 9735, 'authentic': 9736, 'embellished': 9737, 'convo': 9738, '2dopeantibhvr': 9739, 'goog927': 9740, 'scotuss': 9741, 'dred': 9742, 'analogy': 9743, 'httptcoxjzdnxdm': 9744, 'comedycentral': 9745, 'rising': 9746, 'definitel': 9747, 'chinarussia': 9748, 'attac': 9749, 'jgreendc': 9750, 'fairness': 9751, 'phrasegopdebate': 9752, 'tweetybirdnerd': 9753, 'connects': 9754, 'httpstcocjwumdtdpw': 9755, 'staging': 9756, 'evoked': 9757, 'seasons': 9758, 'rent': 9759, 'httptcobcpjvfxccb': 9760, 'httpstcojmekk2adkh': 9761, 'stool': 9762, 'softener': 9763, 'cocainesowhlte': 9764, 'cocaine': 9765, 'jennhohman': 9766, 'httptconn6s7do22j': 9767, 'maliheh': 9768, 'jmontanapotl': 9769, 'stated': 9770, 'alec': 9771, 'backup': 9772, 'ohioans': 9773, '350000': 9774, 'httptcokbzfbjyp2c': 9775, 'designed': 9776, 'elicit': 9777, 'typical': 9778, 'samesex': 9779, 'httptcoohxdllknvx': 9780, 'wegoted': 9781, 'compromise': 9782, 'convictions': 9783, 'httptconpi9jyzgvf': 9784, 'filing': 9785, 'chumps': 9786, 'm0l0nl4be': 9787, 'kickoff': 9788, 'specific': 9789, 'reinc': 9790, 'sonarjose': 9791, 'mk': 9792, 'simpson': 9793, 'stalked': 9794, 'savagely': 9795, 'oj': 9796, 'exwife': 9797, 'roars': 9798, 'appl': 9799, 'judges': 9800, 'gong': 9801, 'underrated': 9802, 'davideblackwell': 9803, 'johnstewa': 9804, 'tds': 9805, 'birds': 9806, 'ahzoov': 9807, 'httptcowfk5cmvgin': 9808, 'nominate': 9809, 'emmy': 9810, 'parody': 9811, 'denying': 9812, 'thisissobackwards': 9813, 'urfavrochelle': 9814, 'katethomas': 9815, 'httptcocxch7x': 9816, 'httptcou9rffmqptu': 9817, 'httptcomsdyk7nujt': 9818, 'gopfox': 9819, 'josephmryan1': 9820, 'saladinahmed': 9821, 'spraying': 9822, 'chrome': 9823, 'paint': 9824, 'intense': 9825, 'allegrakirkland': 9826, 'httptco5hwdkfgpxa': 9827, 'becketadams': 9828, 'breath': 9829, 'fresh': 9830, 'increasingly': 9831, 'careless': 9832, 'generic': 9833, 'stale': 9834, 'httptcoqwnqmblz5d': 9835, 'httpstcokqjctdauqf': 9836, 'aubreysitterson': 9837, 'httptcovnc4isli7q': 9838, 'drbencarson2016': 9839, 'httptco9sbg2rxkvo': 9840, 'httptcovjmjdmbyhv': 9841, 'legit': 9842, 'httptcocsm0a7ddpz': 9843, 'elaborate': 9844, 'immadocates': 9845, 'mn4rand': 9846, 'unfold': 9847, 'psych': 9848, 'warfare': 9849, 'theirs': 9850, 'hayesbrown': 9851, 'rmuench22': 9852, 'hillaryforpresident': 9853, 'httptcowrdbmfapbm': 9854, 'auditioned': 9855, 'fergie': 9856, 'spuds': 9857, 'mouthful': 9858, 'httptcorpqo4sqbto': 9859, 'jeetendrsehdev': 9860, 'orlandodi': 9861, 'quest': 9862, 'roelgk': 9863, 'httpstcouhq5vx44jw': 9864, 'httptcoinv8kphtr9': 9865, 'forkedtongue': 9866, 'iseeorangepeople': 9867, 'jv': 9868, 'af': 9869, 'weaknessname': 9870, 'strenghthsstate': 9871, 'sask': 9872, 'honeyrealdonaldtrump': 9873, 'br549q': 9874, 'demnst': 9875, 'es': 9876, 'allotment': 9877, 'attackng': 9878, 'therightswrong': 9879, 'superpac': 9880, 'indicted': 9881, 'staffers': 9882, 'gregmepstein': 9883, '501c3': 9884, 'nonprofit': 9885, 'exec': 9886, 'harvardhumanist': 9887, 'humanisthub': 9888, 'legally': 9889, 'isan': 9890, 'advocacybut': 9891, 'demonizing': 9892, 'ppactmorally': 9893, 'trumpmisogynist': 9894, 'retweets': 9895, 'unbecoming': 9896, 'httptcosqykqa97bs': 9897, 'validate': 9898, 'prick': 9899, 'carljacksonshow': 9900, 'operates': 9901, 'httpstcoykoer9zg45': 9902, 'poodles': 9903, '3hrs': 9904, '800': 9905, '1100': 9906, 'tdsvoice': 9907, 'httptcomkoxvdxopz': 9908, 'vice': 9909, 'httptcoezmufrvhhq': 9910, 'taxpayers': 9911, 'beliefs': 9912, 'animal': 9913, 'christichat': 9914, 'sisterpatriots': 9915, 'nymag': 9916, 'kardashians': 9917, 'httptcogklccjobi5': 9918, 'httptco76xrsj0rnq': 9919, 'gg': 9920, 'allin': 9921, 'shitting': 9922, 'httpstcowemkfa9vln': 9923, 'httpstcoxv': 9924, 'httptco7vzjjbj3ib': 9925, 'httptcogd6rvbhz4p': 9926, 'marciakimwong': 9927, 'httptcotccm986iyi': 9928, 'smooth': 9929, 'talkers': 9930, 'obey': 9931, 'doners': 9932, 'experiencematters': 9933, 'httpstcottnl12dlmn': 9934, 'twitchyteam': 9935, 'inquiringminds': 9936, 'httptco2wcqc3if0l': 9937, 'alreadyglad': 9938, 'defined': 9939, 'httptcorghrenzewi': 9940, 'httptcorzzzg0m3p0': 9941, 'beeteedubs': 9942, 'lesserof17evils': 9943, 'perhaps': 9944, 'lowered': 9945, 'smacked': 9946, 'nightly': 9947, 'nokellyfiles': 9948, 'captdope': 9949, 'learnt': 9950, 'benedictcumberbatch': 9951, 'luv': 9952, 'lazers': 9953, 'straightoutta': 9954, 'brooklyn': 9955, 'httptcoeadmd4rhms': 9956, 'creditors': 9957, 'amphetamine47': 9958, 'richarddeitsch': 9959, 'writer': 9960, 'httptcojts30alyui': 9961, 'matt': 9962, 'damon': 9963, 'mattdamon': 9964, 'quentin': 9965, 'tarantino': 9966, 'directed': 9967, 'httptcolrumxgr8pm': 9968, 'officials': 9969, 'traditional': 9970, 'thesamhita': 9971, 'kraig4u': 9972, 'heidil': 9973, 'rn': 9974, 'giant': 9975, 'alyssalafage': 9976, 'anddd': 9977, 'armed': 9978, 'illuminati': 9979, 'httptco2kvlxwb9kd': 9980, 'httptcozycvny4noq': 9981, 'qz': 9982, 'httptcotqkalafl8j': 9983, 'therealeubanks': 9984, 'httpstcopcdhnihp1y': 9985, 'fanofdixie': 9986, 'httptcovxszukmivb': 9987, 'vast': 9988, 'flipflop': 9989, 'span': 9990, 'preborn': 9991, 'childr': 9992, 'gotv': 9993, '13': 9994, 'deuschbait': 9995, 'anywhere': 9996, 'bobcesca': 9997, 'keepitreal': 9998, 'mediabias': 9999, 'httptcoma5onthrio': 10000, 'dawgs': 10001, 'mmentsgopdebate': 10002, 'trumpspeak': 10003, 'leiboaz': 10004, 'nicolet': 10005, 'e86': 10006, 'murray': 10007, 'picking': 10008, 'marines': 10009, 'httptcohhsotdzxil': 10010, 'kckshrugged': 10011, 'softballs': 10012, 'bam': 10013, 'virgiltexas': 10014, 'jim': 10015, 'resume': 10016, 'httptcowjcpql2jor': 10017, 'scottwaker': 10018, 'lukewearechange': 10019, 'hacks': 10020, 'syria': 10021, 'adamslily': 10022, 'httptcolxax6wuunj': 10023, 'qtna': 10024, 'hangembytheneck': 10025, 'kinds': 10026, 'httptco3rfi': 10027, 'youknowwho': 10028, 'httptcotyqvy0bhup': 10029, 'keder': 10030, 'whiner': 10031, 'asshat': 10032, 'kevinofthehill': 10033, 'declare': 10034, 'sarafeed': 10035, 'httpstcodh4ifzb': 10036, 'policingwatch': 10037, 'sensibility': 10038, 'elsewhere': 10039, 'giv': 10040, 'httptco88qwtnpuir': 10041, 'moxie': 10042, 'nrabacked': 10043, 'gagorder': 10044, 'contributed': 10045, 'decline': 10046, 'httpstconqwl659hze': 10047, 'unseeingeyes': 10048, 'llama2016': 10049, 'httptcotintr7p9po': 10050, 'committees': 10051, 'privy': 10052, 'jealousmuch': 10053, 'kavithadavidson': 10054, 'gwb': 10055, 'bus': 10056, 'grill': 10057, 'egomaniacal': 10058, 'horsemen': 10059, 'apocalypse': 10060, 'vouchers': 10061, 'conditions': 10062, 'resegregated': 10063, 'httpstcos99lr4vbag': 10064, 'teen': 10065, 'mtv': 10066, 'cgi': 10067, 'helpful': 10068, 'httptcoladgpa1rez': 10069, 'duffelblog': 10070, 'tyfys84': 10071, 'outdated': 10072, 'discriminated': 10073, 'jam': 10074, 'music': 10075, 'np': 10076, 'httptcof2ul333exo': 10077, 'httptco65hfgissgy': 10078, 'httptco6wiztltokv': 10079, 'httptcoahgh2cb4mg': 10080, 'tomadler': 10081, 'highestrated': 10082, 'httptcoele3lmeoxo': 10083, 'brawling': 10084, 'degenerated': 10085, 'johnthefame': 10086, 'lmao': 10087, 'doomed': 10088, 'evil': 10089, 'barn': 10090, 'robgeorge': 10091, 'justcompleted': 10092, 'mtranquilnight': 10093, 'captured': 10094, 'schism': 10095, 'bt': 10096, 'design': 10097, 'intellectual': 10098, 'dimwit': 10099, 'httptcozsffbjmvx8': 10100, 'mchamric': 10101, 'llamos': 10102, 'sprightlymagic': 10103, 'zones': 10104, 'httpstco0rlayowqw1': 10105, 'dale': 10106, 'european': 10107, 'ancestry': 10108, 'wor': 10109, 'emmyrossum': 10110, 'httptcom8e1gwotf2': 10111, 'httpstcoyjmfdye6x4': 10112, 'wise': 10113, 'genuinely': 10114, 'zombie': 10115, 'leastdead': 10116, 'teeth': 10117, 'whiteness': 10118, 'httptcofwx3uef40c': 10119, 'httptcoxonrly0ece': 10120, 'minasmith64': 10121, 'behaving': 10122, 'unwarranted': 10123, 'grateful': 10124, 'suggested': 10125, 'evaluated': 10126, 'httptcofwa5ir27by': 10127, 'lame': 10128, 'fluff': 10129, 'lekarmasucre': 10130, 'httptco8zgdy6lpct': 10131, 'circles': 10132, 'httpstcodfmixp48nj': 10133, 'msgdannyret': 10134, 'httpstcod1amg1fwiw': 10135, 'chooseliferacer': 10136, 'praytoendabo': 10137, 'httptcooxiow3yjs4': 10138, 'gerryduggan': 10139, 'kryptonian': 10140, 'youngrepub': 10141, 'debatewithffl': 10142, 'httptcobwipvdcmqy': 10143, 'garybusey': 10144, 'pows': 10145, 'jewhaditm': 10146, 'httptcodbzkk': 10147, 'laural4705': 10148, 'landshark': 10149, 'genesius': 10150, 'rome': 10151, 'patron': 10152, 'httptco0upbqmymts': 10153, 'beavis': 10154, 'smiles': 10155, 'nigga': 10156, 'nycdeb8tr': 10157, 'redsteeze': 10158, 'dalestokely': 10159, 'fredtouchers': 10160, 'namekasich': 10161, 'presidency': 10162, 'httptconde2oejlmh': 10163, 'httpstcoq1y4syab9b': 10164, 'amandawills': 10165, 'httptcoaivdipqw5r': 10166, 'httptcow96zq1aruh': 10167, 'cnnmoney': 10168, 'compilation': 10169, 'standup': 10170, 'rwers': 10171, 'powerbut': 10172, 'rub': 10173, 'noses': 10174, 'jvteam': 10175, 'pouty': 10176, 'tape': 10177, 'mods': 10178, 'is2': 10179, 'bait': 10180, 'bulls': 10181, 'spwmthe3rd': 10182, 'swayzeguy': 10183, 'fist': 10184, 'bumping': 10185}\n"
     ]
    }
   ],
   "source": [
    "X.shape\n",
    "print(tokenizer.word_index)"
   ]
  },
  {
   "cell_type": "markdown",
   "metadata": {},
   "source": [
    "So the length of each array is 29. Here is the array corresponding to the two sentences above"
   ]
  },
  {
   "cell_type": "code",
   "execution_count": 11,
   "metadata": {},
   "outputs": [
    {
     "name": "stdout",
     "output_type": "stream",
     "text": [
      "[   0    0    0    0    0    0    0    0    0    0    0    0    0    0\n",
      "    0 1355  618  167   11    2    9  353   14 1356 1946  110  272  141\n",
      "  127]\n",
      "[   0    0    0    0    0    0    0    0    0    0    0    0    0    0\n",
      "    1  812   21  236  561   35    4  267    3 1586 1049  142  949 1180\n",
      "   13]\n",
      "gopdebate such flailingampwhining about political correctness as a way to avoid answering any substantive q on warimmigrationmisogyny\n",
      "all this science talk is hot bencarson2016 gopdebates\n"
     ]
    }
   ],
   "source": [
    "print(X[0])\n",
    "print(X[1])\n",
    "print(data.iloc[1].text)\n",
    "print(data.iloc[2].text)"
   ]
  },
  {
   "cell_type": "markdown",
   "metadata": {},
   "source": [
    "**Question 5. Make label data corresponding to X**"
   ]
  },
  {
   "cell_type": "code",
   "execution_count": 12,
   "metadata": {},
   "outputs": [
    {
     "name": "stdout",
     "output_type": "stream",
     "text": [
      "       Negative  Positive\n",
      "10290         0         1\n",
      "1229          1         0\n",
      "10315         0         1\n",
      "(4472, 2)\n"
     ]
    }
   ],
   "source": [
    "y =  pd.get_dummies(data.sentiment)\n",
    "# y = to_categorical(y)\n",
    "print(y[:3])\n",
    "print(np.shape(y))"
   ]
  },
  {
   "cell_type": "markdown",
   "metadata": {},
   "source": [
    "**Question 6. Split train/test sets randomly with ratio 2:1**"
   ]
  },
  {
   "cell_type": "code",
   "execution_count": 13,
   "metadata": {},
   "outputs": [],
   "source": [
    "X_train, X_test, y_train, y_test = train_test_split(X, y, test_size=0.33)"
   ]
  },
  {
   "cell_type": "markdown",
   "metadata": {},
   "source": [
    "**Question 7. Build a quick Fully Connected network to obtain 55\\% accuracy on test data**"
   ]
  },
  {
   "cell_type": "code",
   "execution_count": 47,
   "metadata": {},
   "outputs": [
    {
     "name": "stdout",
     "output_type": "stream",
     "text": [
      "Model: \"sequential_14\"\n",
      "_________________________________________________________________\n",
      "Layer (type)                 Output Shape              Param #   \n",
      "=================================================================\n",
      "dense_62 (Dense)             (None, 12)                360       \n",
      "_________________________________________________________________\n",
      "dropout_49 (Dropout)         (None, 12)                0         \n",
      "_________________________________________________________________\n",
      "dense_63 (Dense)             (None, 12)                156       \n",
      "_________________________________________________________________\n",
      "dropout_50 (Dropout)         (None, 12)                0         \n",
      "_________________________________________________________________\n",
      "dense_64 (Dense)             (None, 2)                 26        \n",
      "=================================================================\n",
      "Total params: 542\n",
      "Trainable params: 542\n",
      "Non-trainable params: 0\n",
      "_________________________________________________________________\n",
      "None\n"
     ]
    }
   ],
   "source": [
    "model = Sequential()\n",
    "model.add(Dense(12, input_dim=29, activation='relu'))\n",
    "model.add(Dropout(0.2))\n",
    "model.add(Dense(12, activation='relu'))\n",
    "model.add(Dropout(0.2))\n",
    "model.add(Dense(2, activation='softmax'))\n",
    "\n",
    "model.compile(loss='categorical_crossentropy',\n",
    "              optimizer='adam',\n",
    "              metrics=['accuracy'])\n",
    "print(model.summary())"
   ]
  },
  {
   "cell_type": "code",
   "execution_count": 48,
   "metadata": {},
   "outputs": [
    {
     "name": "stdout",
     "output_type": "stream",
     "text": [
      "Epoch 1/50\n",
      "2996/2996 [==============================] - 0s 79us/step - loss: 101.7086 - accuracy: 0.4983\n",
      "Epoch 2/50\n",
      "2996/2996 [==============================] - 0s 13us/step - loss: 63.1743 - accuracy: 0.4927\n",
      "Epoch 3/50\n",
      "2996/2996 [==============================] - 0s 13us/step - loss: 42.3970 - accuracy: 0.4970\n",
      "Epoch 4/50\n",
      "2996/2996 [==============================] - 0s 13us/step - loss: 28.9706 - accuracy: 0.5030\n",
      "Epoch 5/50\n",
      "2996/2996 [==============================] - 0s 13us/step - loss: 20.3636 - accuracy: 0.5020\n",
      "Epoch 6/50\n",
      "2996/2996 [==============================] - 0s 13us/step - loss: 15.8462 - accuracy: 0.5150\n",
      "Epoch 7/50\n",
      "2996/2996 [==============================] - 0s 13us/step - loss: 12.0135 - accuracy: 0.4947\n",
      "Epoch 8/50\n",
      "2996/2996 [==============================] - 0s 13us/step - loss: 8.2566 - accuracy: 0.5224\n",
      "Epoch 9/50\n",
      "2996/2996 [==============================] - 0s 14us/step - loss: 6.5838 - accuracy: 0.5100\n",
      "Epoch 10/50\n",
      "2996/2996 [==============================] - 0s 13us/step - loss: 4.5255 - accuracy: 0.5327\n",
      "Epoch 11/50\n",
      "2996/2996 [==============================] - 0s 13us/step - loss: 3.5235 - accuracy: 0.5421\n",
      "Epoch 12/50\n",
      "2996/2996 [==============================] - 0s 13us/step - loss: 3.3445 - accuracy: 0.5424\n",
      "Epoch 13/50\n",
      "2996/2996 [==============================] - 0s 14us/step - loss: 2.3125 - accuracy: 0.5300\n",
      "Epoch 14/50\n",
      "2996/2996 [==============================] - 0s 16us/step - loss: 2.1115 - accuracy: 0.5397\n",
      "Epoch 15/50\n",
      "2996/2996 [==============================] - 0s 15us/step - loss: 1.6816 - accuracy: 0.5461\n",
      "Epoch 16/50\n",
      "2996/2996 [==============================] - 0s 17us/step - loss: 1.5717 - accuracy: 0.5417\n",
      "Epoch 17/50\n",
      "2996/2996 [==============================] - 0s 18us/step - loss: 1.5644 - accuracy: 0.5561\n",
      "Epoch 18/50\n",
      "2996/2996 [==============================] - 0s 18us/step - loss: 1.6071 - accuracy: 0.5407\n",
      "Epoch 19/50\n",
      "2996/2996 [==============================] - 0s 14us/step - loss: 1.5506 - accuracy: 0.5624\n",
      "Epoch 20/50\n",
      "2996/2996 [==============================] - 0s 17us/step - loss: 1.3916 - accuracy: 0.5511\n",
      "Epoch 21/50\n",
      "2996/2996 [==============================] - 0s 14us/step - loss: 1.5230 - accuracy: 0.5370\n",
      "Epoch 22/50\n",
      "2996/2996 [==============================] - 0s 13us/step - loss: 1.4411 - accuracy: 0.5457\n",
      "Epoch 23/50\n",
      "2996/2996 [==============================] - 0s 13us/step - loss: 1.3700 - accuracy: 0.5334\n",
      "Epoch 24/50\n",
      "2996/2996 [==============================] - 0s 12us/step - loss: 1.0852 - accuracy: 0.5504\n",
      "Epoch 25/50\n",
      "2996/2996 [==============================] - 0s 13us/step - loss: 1.1881 - accuracy: 0.5414\n",
      "Epoch 26/50\n",
      "2996/2996 [==============================] - 0s 13us/step - loss: 1.2078 - accuracy: 0.5310\n",
      "Epoch 27/50\n",
      "2996/2996 [==============================] - 0s 12us/step - loss: 0.9370 - accuracy: 0.5514\n",
      "Epoch 28/50\n",
      "2996/2996 [==============================] - 0s 13us/step - loss: 0.9790 - accuracy: 0.5641\n",
      "Epoch 29/50\n",
      "2996/2996 [==============================] - 0s 12us/step - loss: 1.0104 - accuracy: 0.5497\n",
      "Epoch 30/50\n",
      "2996/2996 [==============================] - 0s 13us/step - loss: 1.0431 - accuracy: 0.5534\n",
      "Epoch 31/50\n",
      "2996/2996 [==============================] - 0s 13us/step - loss: 0.8443 - accuracy: 0.5344\n",
      "Epoch 32/50\n",
      "2996/2996 [==============================] - 0s 13us/step - loss: 0.9701 - accuracy: 0.5587\n",
      "Epoch 33/50\n",
      "2996/2996 [==============================] - 0s 13us/step - loss: 0.7823 - accuracy: 0.5531\n",
      "Epoch 34/50\n",
      "2996/2996 [==============================] - 0s 13us/step - loss: 0.9941 - accuracy: 0.5407\n",
      "Epoch 35/50\n",
      "2996/2996 [==============================] - 0s 13us/step - loss: 1.0177 - accuracy: 0.5404\n",
      "Epoch 36/50\n",
      "2996/2996 [==============================] - 0s 15us/step - loss: 0.9477 - accuracy: 0.5504\n",
      "Epoch 37/50\n",
      "2996/2996 [==============================] - 0s 14us/step - loss: 0.8060 - accuracy: 0.5524\n",
      "Epoch 38/50\n",
      "2996/2996 [==============================] - 0s 15us/step - loss: 0.9504 - accuracy: 0.5641\n",
      "Epoch 39/50\n",
      "2996/2996 [==============================] - 0s 16us/step - loss: 0.8548 - accuracy: 0.5648\n",
      "Epoch 40/50\n",
      "2996/2996 [==============================] - 0s 16us/step - loss: 0.8850 - accuracy: 0.5391\n",
      "Epoch 41/50\n",
      "2996/2996 [==============================] - 0s 15us/step - loss: 0.8201 - accuracy: 0.5441\n",
      "Epoch 42/50\n",
      "2996/2996 [==============================] - 0s 15us/step - loss: 0.8772 - accuracy: 0.5461\n",
      "Epoch 43/50\n",
      "2996/2996 [==============================] - 0s 14us/step - loss: 0.9418 - accuracy: 0.5314\n",
      "Epoch 44/50\n",
      "2996/2996 [==============================] - 0s 15us/step - loss: 0.8392 - accuracy: 0.5324\n",
      "Epoch 45/50\n",
      "2996/2996 [==============================] - 0s 14us/step - loss: 0.7659 - accuracy: 0.5517\n",
      "Epoch 46/50\n",
      "2996/2996 [==============================] - 0s 14us/step - loss: 0.8217 - accuracy: 0.5564\n",
      "Epoch 47/50\n",
      "2996/2996 [==============================] - 0s 14us/step - loss: 0.8320 - accuracy: 0.5471\n",
      "Epoch 48/50\n",
      "2996/2996 [==============================] - 0s 15us/step - loss: 0.7811 - accuracy: 0.5491\n",
      "Epoch 49/50\n",
      "2996/2996 [==============================] - 0s 14us/step - loss: 0.7778 - accuracy: 0.5701\n",
      "Epoch 50/50\n",
      "2996/2996 [==============================] - 0s 14us/step - loss: 0.8033 - accuracy: 0.5374\n"
     ]
    },
    {
     "data": {
      "text/plain": [
       "<keras.callbacks.callbacks.History at 0x222a99d0940>"
      ]
     },
     "execution_count": 48,
     "metadata": {},
     "output_type": "execute_result"
    }
   ],
   "source": [
    "model.fit(X_train, y_train,\n",
    "          epochs=50,\n",
    "          batch_size=128)"
   ]
  },
  {
   "cell_type": "code",
   "execution_count": 49,
   "metadata": {},
   "outputs": [
    {
     "name": "stdout",
     "output_type": "stream",
     "text": [
      "2996/2996 [==============================] - 0s 46us/step\n",
      "1476/1476 [==============================] - 0s 3us/step\n",
      "train_acc 0.5720961093902588\n",
      "test_acc 0.5697832107543945\n"
     ]
    }
   ],
   "source": [
    "_, train_acc = model.evaluate(X_train, y_train, batch_size=1000)\n",
    "_, test_acc = model.evaluate(X_test, y_test, batch_size=1000)\n",
    "print('train_acc', train_acc)\n",
    "print('test_acc', test_acc)"
   ]
  },
  {
   "cell_type": "markdown",
   "metadata": {},
   "source": [
    "**Question 8. Improve the architecture to achieve 65\\% accuracy**"
   ]
  },
  {
   "cell_type": "code",
   "execution_count": 2,
   "metadata": {},
   "outputs": [
    {
     "ename": "NameError",
     "evalue": "name 'Sequential' is not defined",
     "output_type": "error",
     "traceback": [
      "\u001b[1;31m---------------------------------------------------------------------------\u001b[0m",
      "\u001b[1;31mNameError\u001b[0m                                 Traceback (most recent call last)",
      "\u001b[1;32m<ipython-input-2-2ac200f54286>\u001b[0m in \u001b[0;36m<module>\u001b[1;34m\u001b[0m\n\u001b[0;32m     20\u001b[0m \u001b[1;31m# sgd = optimizers.Nadam(learning_rate=0.002, beta_1=0.9, beta_2=0.999)\u001b[0m\u001b[1;33m\u001b[0m\u001b[1;33m\u001b[0m\u001b[1;33m\u001b[0m\u001b[0m\n\u001b[0;32m     21\u001b[0m \u001b[1;33m\u001b[0m\u001b[0m\n\u001b[1;32m---> 22\u001b[1;33m \u001b[0mmodel\u001b[0m \u001b[1;33m=\u001b[0m \u001b[0mSequential\u001b[0m\u001b[1;33m(\u001b[0m\u001b[1;33m)\u001b[0m\u001b[1;33m\u001b[0m\u001b[1;33m\u001b[0m\u001b[0m\n\u001b[0m\u001b[0;32m     23\u001b[0m \u001b[0mmodel\u001b[0m\u001b[1;33m.\u001b[0m\u001b[0madd\u001b[0m\u001b[1;33m(\u001b[0m\u001b[0mDense\u001b[0m\u001b[1;33m(\u001b[0m\u001b[1;36m32\u001b[0m\u001b[1;33m,\u001b[0m \u001b[0minput_dim\u001b[0m\u001b[1;33m=\u001b[0m\u001b[1;36m29\u001b[0m\u001b[1;33m,\u001b[0m \u001b[0mactivation\u001b[0m\u001b[1;33m=\u001b[0m\u001b[1;34m'relu'\u001b[0m\u001b[1;33m)\u001b[0m\u001b[1;33m)\u001b[0m\u001b[1;33m\u001b[0m\u001b[1;33m\u001b[0m\u001b[0m\n\u001b[0;32m     24\u001b[0m \u001b[1;31m# model.add(Dropout(0.03))\u001b[0m\u001b[1;33m\u001b[0m\u001b[1;33m\u001b[0m\u001b[1;33m\u001b[0m\u001b[0m\n",
      "\u001b[1;31mNameError\u001b[0m: name 'Sequential' is not defined"
     ]
    }
   ],
   "source": [
    "# model = Sequential()\n",
    "# model.add(Dense(24, input_dim=29, activation='relu'))\n",
    "# model.add(Dropout(0.2))\n",
    "# model.add(Dense(12, activation='relu'))\n",
    "# model.add(Dropout(0.1))\n",
    "# model.add(Dense(6, activation='relu'))\n",
    "# model.add(Dense(2, activation='softmax'))\n",
    "\n",
    "# model.compile(loss='categorical_crossentropy',\n",
    "#               optimizer='RMSprop',\n",
    "#               metrics=['accuracy'])\n",
    "# print(model.summary())\n",
    "\n",
    "# model = Sequential()\n",
    "# model.add(Dense(50, input_dim=29, activation='relu'))\n",
    "# model.add(Dropout(0.3))\n",
    "\n",
    "# model.add(Dense(2, activation='softmax'))\n",
    "\n",
    "# sgd = optimizers.Nadam(learning_rate=0.002, beta_1=0.9, beta_2=0.999)\n",
    "\n",
    "model = Sequential()\n",
    "model.add(Dense(32, input_dim=29, activation='relu'))\n",
    "# model.add(Dropout(0.03))\n",
    "# model.add(Dense(17, input_dim=29, activation='relu'))\n",
    "# model.add(Dense(20, input_dim=29, activation='relu'))\n",
    "\n",
    "model.add(Dense(10, activation='relu'))\n",
    "model.add(Dense(2, activation='softmax'))\n",
    "\n",
    "model.compile(loss='categorical_crossentropy',\n",
    "              optimizer=\"AdaDelta\",\n",
    "#               optimizer=\"adam\",\n",
    "              metrics=['accuracy'])\n",
    "print(model.summary())"
   ]
  },
  {
   "cell_type": "code",
   "execution_count": 277,
   "metadata": {},
   "outputs": [
    {
     "name": "stdout",
     "output_type": "stream",
     "text": [
      "Epoch 1/100\n",
      "2996/2996 [==============================] - 1s 214us/step - loss: 48.3847 - accuracy: 0.5300\n",
      "Epoch 2/100\n",
      "2996/2996 [==============================] - 0s 18us/step - loss: 28.3532 - accuracy: 0.5257\n",
      "Epoch 3/100\n",
      "2996/2996 [==============================] - 0s 19us/step - loss: 20.6502 - accuracy: 0.5394\n",
      "Epoch 4/100\n",
      "2996/2996 [==============================] - 0s 24us/step - loss: 15.9628 - accuracy: 0.5494\n",
      "Epoch 5/100\n",
      "2996/2996 [==============================] - 0s 20us/step - loss: 12.4844 - accuracy: 0.5467\n",
      "Epoch 6/100\n",
      "2996/2996 [==============================] - 0s 21us/step - loss: 9.8520 - accuracy: 0.5607A: 0s - loss: 9.8226 - accuracy: 0.563\n",
      "Epoch 7/100\n",
      "2996/2996 [==============================] - 0s 20us/step - loss: 7.9076 - accuracy: 0.5604\n",
      "Epoch 8/100\n",
      "2996/2996 [==============================] - 0s 19us/step - loss: 6.2916 - accuracy: 0.5714\n",
      "Epoch 9/100\n",
      "2996/2996 [==============================] - 0s 21us/step - loss: 4.9051 - accuracy: 0.5641\n",
      "Epoch 10/100\n",
      "2996/2996 [==============================] - 0s 20us/step - loss: 3.9581 - accuracy: 0.5731\n",
      "Epoch 11/100\n",
      "2996/2996 [==============================] - 0s 23us/step - loss: 3.1338 - accuracy: 0.5661\n",
      "Epoch 12/100\n",
      "2996/2996 [==============================] - 0s 20us/step - loss: 2.5617 - accuracy: 0.5678\n",
      "Epoch 13/100\n",
      "2996/2996 [==============================] - 0s 20us/step - loss: 2.0217 - accuracy: 0.5784\n",
      "Epoch 14/100\n",
      "2996/2996 [==============================] - 0s 21us/step - loss: 1.6283 - accuracy: 0.5874\n",
      "Epoch 15/100\n",
      "2996/2996 [==============================] - 0s 20us/step - loss: 1.3455 - accuracy: 0.5918\n",
      "Epoch 16/100\n",
      "2996/2996 [==============================] - 0s 19us/step - loss: 1.1560 - accuracy: 0.6048\n",
      "Epoch 17/100\n",
      "2996/2996 [==============================] - 0s 18us/step - loss: 1.0360 - accuracy: 0.5995\n",
      "Epoch 18/100\n",
      "2996/2996 [==============================] - 0s 20us/step - loss: 0.9828 - accuracy: 0.5834\n",
      "Epoch 19/100\n",
      "2996/2996 [==============================] - 0s 21us/step - loss: 0.8909 - accuracy: 0.5861\n",
      "Epoch 20/100\n",
      "2996/2996 [==============================] - 0s 22us/step - loss: 0.8344 - accuracy: 0.6011\n",
      "Epoch 21/100\n",
      "2996/2996 [==============================] - 0s 21us/step - loss: 0.8318 - accuracy: 0.5928\n",
      "Epoch 22/100\n",
      "2996/2996 [==============================] - 0s 27us/step - loss: 0.8034 - accuracy: 0.5918\n",
      "Epoch 23/100\n",
      "2996/2996 [==============================] - 0s 28us/step - loss: 0.7802 - accuracy: 0.5975\n",
      "Epoch 24/100\n",
      "2996/2996 [==============================] - 0s 24us/step - loss: 0.7636 - accuracy: 0.5981\n",
      "Epoch 25/100\n",
      "2996/2996 [==============================] - 0s 23us/step - loss: 0.7465 - accuracy: 0.5921\n",
      "Epoch 26/100\n",
      "2996/2996 [==============================] - 0s 26us/step - loss: 0.7275 - accuracy: 0.6051\n",
      "Epoch 27/100\n",
      "2996/2996 [==============================] - 0s 21us/step - loss: 0.7120 - accuracy: 0.6048\n",
      "Epoch 28/100\n",
      "2996/2996 [==============================] - 0s 22us/step - loss: 0.7137 - accuracy: 0.6001\n",
      "Epoch 29/100\n",
      "2996/2996 [==============================] - 0s 22us/step - loss: 0.6910 - accuracy: 0.6068\n",
      "Epoch 30/100\n",
      "2996/2996 [==============================] - 0s 26us/step - loss: 0.6948 - accuracy: 0.6088\n",
      "Epoch 31/100\n",
      "2996/2996 [==============================] - 0s 26us/step - loss: 0.6909 - accuracy: 0.6135\n",
      "Epoch 32/100\n",
      "2996/2996 [==============================] - 0s 28us/step - loss: 0.6680 - accuracy: 0.6238\n",
      "Epoch 33/100\n",
      "2996/2996 [==============================] - 0s 25us/step - loss: 0.6788 - accuracy: 0.6165\n",
      "Epoch 34/100\n",
      "2996/2996 [==============================] - 0s 25us/step - loss: 0.6668 - accuracy: 0.6285\n",
      "Epoch 35/100\n",
      "2996/2996 [==============================] - 0s 25us/step - loss: 0.6649 - accuracy: 0.6172\n",
      "Epoch 36/100\n",
      "2996/2996 [==============================] - 0s 25us/step - loss: 0.6503 - accuracy: 0.6288\n",
      "Epoch 37/100\n",
      "2996/2996 [==============================] - 0s 25us/step - loss: 0.6447 - accuracy: 0.6248\n",
      "Epoch 38/100\n",
      "2996/2996 [==============================] - 0s 25us/step - loss: 0.6475 - accuracy: 0.6238\n",
      "Epoch 39/100\n",
      "2996/2996 [==============================] - 0s 25us/step - loss: 0.6363 - accuracy: 0.6345\n",
      "Epoch 40/100\n",
      "2996/2996 [==============================] - 0s 27us/step - loss: 0.6346 - accuracy: 0.6318\n",
      "Epoch 41/100\n",
      "2996/2996 [==============================] - 0s 25us/step - loss: 0.6373 - accuracy: 0.6365\n",
      "Epoch 42/100\n",
      "2996/2996 [==============================] - 0s 24us/step - loss: 0.6290 - accuracy: 0.6385\n",
      "Epoch 43/100\n",
      "2996/2996 [==============================] - 0s 24us/step - loss: 0.6199 - accuracy: 0.6389\n",
      "Epoch 44/100\n",
      "2996/2996 [==============================] - 0s 21us/step - loss: 0.6344 - accuracy: 0.6318\n",
      "Epoch 45/100\n",
      "2996/2996 [==============================] - 0s 20us/step - loss: 0.6164 - accuracy: 0.6469\n",
      "Epoch 46/100\n",
      "2996/2996 [==============================] - 0s 22us/step - loss: 0.6259 - accuracy: 0.6325\n",
      "Epoch 47/100\n",
      "2996/2996 [==============================] - 0s 23us/step - loss: 0.6158 - accuracy: 0.6405\n",
      "Epoch 48/100\n",
      "2996/2996 [==============================] - 0s 22us/step - loss: 0.6146 - accuracy: 0.6422\n",
      "Epoch 49/100\n",
      "2996/2996 [==============================] - 0s 25us/step - loss: 0.6105 - accuracy: 0.6572\n",
      "Epoch 50/100\n",
      "2996/2996 [==============================] - 0s 26us/step - loss: 0.6088 - accuracy: 0.6459\n",
      "Epoch 51/100\n",
      "2996/2996 [==============================] - 0s 31us/step - loss: 0.6055 - accuracy: 0.6425\n",
      "Epoch 52/100\n",
      "2996/2996 [==============================] - 0s 28us/step - loss: 0.6129 - accuracy: 0.6445\n",
      "Epoch 53/100\n",
      "2996/2996 [==============================] - 0s 29us/step - loss: 0.5969 - accuracy: 0.6612\n",
      "Epoch 54/100\n",
      "2996/2996 [==============================] - 0s 25us/step - loss: 0.6017 - accuracy: 0.6479\n",
      "Epoch 55/100\n",
      "2996/2996 [==============================] - 0s 25us/step - loss: 0.5992 - accuracy: 0.6582\n",
      "Epoch 56/100\n",
      "2996/2996 [==============================] - 0s 27us/step - loss: 0.5981 - accuracy: 0.6686\n",
      "Epoch 57/100\n",
      "2996/2996 [==============================] - 0s 27us/step - loss: 0.5953 - accuracy: 0.6495\n",
      "Epoch 58/100\n",
      "2996/2996 [==============================] - 0s 25us/step - loss: 0.5939 - accuracy: 0.6679\n",
      "Epoch 59/100\n",
      "2996/2996 [==============================] - 0s 29us/step - loss: 0.5874 - accuracy: 0.6662\n",
      "Epoch 60/100\n",
      "2996/2996 [==============================] - 0s 31us/step - loss: 0.5897 - accuracy: 0.6652\n",
      "Epoch 61/100\n",
      "2996/2996 [==============================] - 0s 27us/step - loss: 0.5848 - accuracy: 0.6676\n",
      "Epoch 62/100\n",
      "2996/2996 [==============================] - 0s 26us/step - loss: 0.5961 - accuracy: 0.6582\n",
      "Epoch 63/100\n",
      "2996/2996 [==============================] - 0s 21us/step - loss: 0.5885 - accuracy: 0.6669\n",
      "Epoch 64/100\n",
      "2996/2996 [==============================] - 0s 22us/step - loss: 0.5935 - accuracy: 0.6649\n",
      "Epoch 65/100\n",
      "2996/2996 [==============================] - 0s 22us/step - loss: 0.5885 - accuracy: 0.6565\n",
      "Epoch 66/100\n",
      "2996/2996 [==============================] - 0s 24us/step - loss: 0.5823 - accuracy: 0.6716\n",
      "Epoch 67/100\n",
      "2996/2996 [==============================] - 0s 22us/step - loss: 0.5826 - accuracy: 0.6692\n",
      "Epoch 68/100\n",
      "2996/2996 [==============================] - 0s 25us/step - loss: 0.5787 - accuracy: 0.6736\n",
      "Epoch 69/100\n",
      "2996/2996 [==============================] - 0s 26us/step - loss: 0.5800 - accuracy: 0.6746\n",
      "Epoch 70/100\n",
      "2996/2996 [==============================] - 0s 26us/step - loss: 0.5807 - accuracy: 0.6646\n",
      "Epoch 71/100\n",
      "2996/2996 [==============================] - 0s 29us/step - loss: 0.5756 - accuracy: 0.6722\n",
      "Epoch 72/100\n",
      "2996/2996 [==============================] - 0s 25us/step - loss: 0.5738 - accuracy: 0.6792\n",
      "Epoch 73/100\n",
      "2996/2996 [==============================] - 0s 27us/step - loss: 0.5731 - accuracy: 0.6699\n",
      "Epoch 74/100\n",
      "2996/2996 [==============================] - 0s 25us/step - loss: 0.5728 - accuracy: 0.6726\n",
      "Epoch 75/100\n",
      "2996/2996 [==============================] - 0s 24us/step - loss: 0.5703 - accuracy: 0.6779\n",
      "Epoch 76/100\n",
      "2996/2996 [==============================] - 0s 25us/step - loss: 0.5694 - accuracy: 0.6819\n",
      "Epoch 77/100\n",
      "2996/2996 [==============================] - 0s 26us/step - loss: 0.5667 - accuracy: 0.6802\n",
      "Epoch 78/100\n",
      "2996/2996 [==============================] - 0s 26us/step - loss: 0.5636 - accuracy: 0.6802\n",
      "Epoch 79/100\n",
      "2996/2996 [==============================] - 0s 28us/step - loss: 0.5626 - accuracy: 0.6806\n",
      "Epoch 80/100\n",
      "2996/2996 [==============================] - 0s 27us/step - loss: 0.5706 - accuracy: 0.6766\n",
      "Epoch 81/100\n",
      "2996/2996 [==============================] - 0s 25us/step - loss: 0.5674 - accuracy: 0.6819\n",
      "Epoch 82/100\n",
      "2996/2996 [==============================] - 0s 25us/step - loss: 0.5606 - accuracy: 0.6886\n",
      "Epoch 83/100\n",
      "2996/2996 [==============================] - 0s 28us/step - loss: 0.5598 - accuracy: 0.6869\n",
      "Epoch 84/100\n",
      "2996/2996 [==============================] - 0s 24us/step - loss: 0.5636 - accuracy: 0.6749\n",
      "Epoch 85/100\n",
      "2996/2996 [==============================] - 0s 25us/step - loss: 0.5619 - accuracy: 0.6862\n",
      "Epoch 86/100\n",
      "2996/2996 [==============================] - 0s 25us/step - loss: 0.5573 - accuracy: 0.6872\n",
      "Epoch 87/100\n",
      "2996/2996 [==============================] - 0s 25us/step - loss: 0.5613 - accuracy: 0.6862\n",
      "Epoch 88/100\n",
      "2996/2996 [==============================] - 0s 26us/step - loss: 0.5614 - accuracy: 0.6999\n",
      "Epoch 89/100\n",
      "2996/2996 [==============================] - 0s 25us/step - loss: 0.5546 - accuracy: 0.6896\n",
      "Epoch 90/100\n",
      "2996/2996 [==============================] - 0s 23us/step - loss: 0.5492 - accuracy: 0.6996\n",
      "Epoch 91/100\n",
      "2996/2996 [==============================] - 0s 24us/step - loss: 0.5531 - accuracy: 0.6889\n",
      "Epoch 92/100\n",
      "2996/2996 [==============================] - 0s 23us/step - loss: 0.5542 - accuracy: 0.6923\n",
      "Epoch 93/100\n",
      "2996/2996 [==============================] - 0s 26us/step - loss: 0.5473 - accuracy: 0.7006\n",
      "Epoch 94/100\n",
      "2996/2996 [==============================] - 0s 24us/step - loss: 0.5528 - accuracy: 0.6936\n",
      "Epoch 95/100\n",
      "2996/2996 [==============================] - 0s 25us/step - loss: 0.5509 - accuracy: 0.6939\n",
      "Epoch 96/100\n",
      "2996/2996 [==============================] - 0s 30us/step - loss: 0.5477 - accuracy: 0.6916\n",
      "Epoch 97/100\n",
      "2996/2996 [==============================] - 0s 24us/step - loss: 0.5402 - accuracy: 0.7029\n",
      "Epoch 98/100\n",
      "2996/2996 [==============================] - 0s 25us/step - loss: 0.5450 - accuracy: 0.6986\n",
      "Epoch 99/100\n",
      "2996/2996 [==============================] - 0s 24us/step - loss: 0.5430 - accuracy: 0.6996\n",
      "Epoch 100/100\n",
      "2996/2996 [==============================] - 0s 24us/step - loss: 0.5384 - accuracy: 0.6993\n"
     ]
    },
    {
     "data": {
      "text/plain": [
       "<keras.callbacks.callbacks.History at 0x222f225ccf8>"
      ]
     },
     "execution_count": 277,
     "metadata": {},
     "output_type": "execute_result"
    }
   ],
   "source": [
    "model.fit(X_train, y_train,\n",
    "          epochs=100,\n",
    "          batch_size=128)"
   ]
  },
  {
   "cell_type": "code",
   "execution_count": 278,
   "metadata": {},
   "outputs": [
    {
     "name": "stdout",
     "output_type": "stream",
     "text": [
      "2996/2996 [==============================] - 1s 303us/step\n",
      "1476/1476 [==============================] - 0s 161us/step\n",
      "train_acc 0.6992656588554382\n",
      "test_acc 0.5962059497833252\n"
     ]
    }
   ],
   "source": [
    "_, train_acc = model.evaluate(X_train, y_train, batch_size=16)\n",
    "_, test_acc = model.evaluate(X_test, y_test, batch_size=16)\n",
    "print('train_acc', train_acc)\n",
    "print('test_acc', test_acc)"
   ]
  },
  {
   "cell_type": "code",
   "execution_count": 279,
   "metadata": {},
   "outputs": [
    {
     "name": "stdout",
     "output_type": "stream",
     "text": [
      "Model: \"sequential_97\"\n",
      "_________________________________________________________________\n",
      "Layer (type)                 Output Shape              Param #   \n",
      "=================================================================\n",
      "dense_299 (Dense)            (None, 32)                960       \n",
      "_________________________________________________________________\n",
      "dropout_134 (Dropout)        (None, 32)                0         \n",
      "_________________________________________________________________\n",
      "dense_300 (Dense)            (None, 10)                330       \n",
      "_________________________________________________________________\n",
      "dense_301 (Dense)            (None, 2)                 22        \n",
      "=================================================================\n",
      "Total params: 1,312\n",
      "Trainable params: 1,312\n",
      "Non-trainable params: 0\n",
      "_________________________________________________________________\n",
      "None\n",
      "Epoch 1/100\n",
      "2996/2996 [==============================] - 1s 225us/step - loss: 17.8219 - accuracy: 0.4770\n",
      "Epoch 2/100\n",
      "2996/2996 [==============================] - 0s 23us/step - loss: 7.2894 - accuracy: 0.4860\n",
      "Epoch 3/100\n",
      "2996/2996 [==============================] - 0s 24us/step - loss: 4.7970 - accuracy: 0.4930\n",
      "Epoch 4/100\n",
      "2996/2996 [==============================] - 0s 23us/step - loss: 3.1645 - accuracy: 0.4963\n",
      "Epoch 5/100\n",
      "2996/2996 [==============================] - 0s 23us/step - loss: 2.0724 - accuracy: 0.5083\n",
      "Epoch 6/100\n",
      "2996/2996 [==============================] - 0s 23us/step - loss: 1.4942 - accuracy: 0.5013\n",
      "Epoch 7/100\n",
      "2996/2996 [==============================] - 0s 24us/step - loss: 1.0862 - accuracy: 0.5204\n",
      "Epoch 8/100\n",
      "2996/2996 [==============================] - 0s 25us/step - loss: 0.9880 - accuracy: 0.5421\n",
      "Epoch 9/100\n",
      "2996/2996 [==============================] - 0s 30us/step - loss: 0.8737 - accuracy: 0.5397\n",
      "Epoch 10/100\n",
      "2996/2996 [==============================] - 0s 29us/step - loss: 0.7784 - accuracy: 0.5447\n",
      "Epoch 11/100\n",
      "2996/2996 [==============================] - 0s 25us/step - loss: 0.7808 - accuracy: 0.5387\n",
      "Epoch 12/100\n",
      "2996/2996 [==============================] - 0s 24us/step - loss: 0.7296 - accuracy: 0.5561\n",
      "Epoch 13/100\n",
      "2996/2996 [==============================] - 0s 23us/step - loss: 0.7433 - accuracy: 0.5497\n",
      "Epoch 14/100\n",
      "2996/2996 [==============================] - 0s 23us/step - loss: 0.7245 - accuracy: 0.5511\n",
      "Epoch 15/100\n",
      "2996/2996 [==============================] - 0s 23us/step - loss: 0.7113 - accuracy: 0.5661\n",
      "Epoch 16/100\n",
      "2996/2996 [==============================] - 0s 27us/step - loss: 0.7150 - accuracy: 0.5644\n",
      "Epoch 17/100\n",
      "2996/2996 [==============================] - 0s 27us/step - loss: 0.7027 - accuracy: 0.5454\n",
      "Epoch 18/100\n",
      "2996/2996 [==============================] - 0s 30us/step - loss: 0.7115 - accuracy: 0.5597\n",
      "Epoch 19/100\n",
      "2996/2996 [==============================] - 0s 28us/step - loss: 0.6904 - accuracy: 0.5561\n",
      "Epoch 20/100\n",
      "2996/2996 [==============================] - 0s 23us/step - loss: 0.6882 - accuracy: 0.5587\n",
      "Epoch 21/100\n",
      "2996/2996 [==============================] - 0s 24us/step - loss: 0.6901 - accuracy: 0.5567\n",
      "Epoch 22/100\n",
      "2996/2996 [==============================] - 0s 26us/step - loss: 0.6979 - accuracy: 0.5494\n",
      "Epoch 23/100\n",
      "2996/2996 [==============================] - 0s 23us/step - loss: 0.6933 - accuracy: 0.5544\n",
      "Epoch 24/100\n",
      "2996/2996 [==============================] - 0s 23us/step - loss: 0.6927 - accuracy: 0.5587\n",
      "Epoch 25/100\n",
      "2996/2996 [==============================] - 0s 23us/step - loss: 0.7115 - accuracy: 0.5641\n",
      "Epoch 26/100\n",
      "2996/2996 [==============================] - 0s 23us/step - loss: 0.6872 - accuracy: 0.5574\n",
      "Epoch 27/100\n",
      "2996/2996 [==============================] - 0s 26us/step - loss: 0.6930 - accuracy: 0.5708\n",
      "Epoch 28/100\n",
      "2996/2996 [==============================] - 0s 28us/step - loss: 0.6863 - accuracy: 0.5788\n",
      "Epoch 29/100\n",
      "2996/2996 [==============================] - 0s 29us/step - loss: 0.6830 - accuracy: 0.5744\n",
      "Epoch 30/100\n",
      "2996/2996 [==============================] - 0s 27us/step - loss: 0.6825 - accuracy: 0.5734\n",
      "Epoch 31/100\n",
      "2996/2996 [==============================] - 0s 28us/step - loss: 0.6775 - accuracy: 0.5931 0s - loss: 0.6766 - accuracy: 0.59\n",
      "Epoch 32/100\n",
      "2996/2996 [==============================] - 0s 28us/step - loss: 0.6787 - accuracy: 0.5925\n",
      "Epoch 33/100\n",
      "2996/2996 [==============================] - 0s 28us/step - loss: 0.6737 - accuracy: 0.5958\n",
      "Epoch 34/100\n",
      "2996/2996 [==============================] - 0s 29us/step - loss: 0.6750 - accuracy: 0.5878\n",
      "Epoch 35/100\n",
      "2996/2996 [==============================] - 0s 31us/step - loss: 0.6748 - accuracy: 0.6035\n",
      "Epoch 36/100\n",
      "2996/2996 [==============================] - 0s 31us/step - loss: 0.6640 - accuracy: 0.6091\n",
      "Epoch 37/100\n",
      "2996/2996 [==============================] - 0s 30us/step - loss: 0.6748 - accuracy: 0.5988\n",
      "Epoch 38/100\n",
      "2996/2996 [==============================] - 0s 28us/step - loss: 0.6650 - accuracy: 0.6111\n",
      "Epoch 39/100\n",
      "2996/2996 [==============================] - 0s 30us/step - loss: 0.6697 - accuracy: 0.6132\n",
      "Epoch 40/100\n",
      "2996/2996 [==============================] - 0s 28us/step - loss: 0.6670 - accuracy: 0.6018\n",
      "Epoch 41/100\n",
      "2996/2996 [==============================] - 0s 28us/step - loss: 0.6649 - accuracy: 0.6182\n",
      "Epoch 42/100\n",
      "2996/2996 [==============================] - 0s 29us/step - loss: 0.6641 - accuracy: 0.6111\n",
      "Epoch 43/100\n",
      "2996/2996 [==============================] - 0s 28us/step - loss: 0.6608 - accuracy: 0.6202\n",
      "Epoch 44/100\n",
      "2996/2996 [==============================] - 0s 28us/step - loss: 0.6570 - accuracy: 0.6275\n",
      "Epoch 45/100\n",
      "2996/2996 [==============================] - 0s 26us/step - loss: 0.6536 - accuracy: 0.6248\n",
      "Epoch 46/100\n",
      "2996/2996 [==============================] - 0s 23us/step - loss: 0.6707 - accuracy: 0.6188\n",
      "Epoch 47/100\n",
      "2996/2996 [==============================] - 0s 26us/step - loss: 0.6540 - accuracy: 0.6308\n",
      "Epoch 48/100\n",
      "2996/2996 [==============================] - 0s 23us/step - loss: 0.6516 - accuracy: 0.6285\n",
      "Epoch 49/100\n",
      "2996/2996 [==============================] - 0s 23us/step - loss: 0.6570 - accuracy: 0.6285\n",
      "Epoch 50/100\n",
      "2996/2996 [==============================] - 0s 26us/step - loss: 0.6482 - accuracy: 0.6272\n",
      "Epoch 51/100\n",
      "2996/2996 [==============================] - 0s 23us/step - loss: 0.6510 - accuracy: 0.6242\n",
      "Epoch 52/100\n",
      "2996/2996 [==============================] - 0s 22us/step - loss: 0.6478 - accuracy: 0.6285\n",
      "Epoch 53/100\n",
      "2996/2996 [==============================] - 0s 24us/step - loss: 0.6492 - accuracy: 0.6399\n",
      "Epoch 54/100\n",
      "2996/2996 [==============================] - 0s 25us/step - loss: 0.6429 - accuracy: 0.6335\n",
      "Epoch 55/100\n",
      "2996/2996 [==============================] - 0s 23us/step - loss: 0.6460 - accuracy: 0.6435\n",
      "Epoch 56/100\n",
      "2996/2996 [==============================] - 0s 24us/step - loss: 0.6414 - accuracy: 0.6362\n",
      "Epoch 57/100\n",
      "2996/2996 [==============================] - 0s 23us/step - loss: 0.6559 - accuracy: 0.6352\n",
      "Epoch 58/100\n",
      "2996/2996 [==============================] - 0s 24us/step - loss: 0.6394 - accuracy: 0.6412\n",
      "Epoch 59/100\n",
      "2996/2996 [==============================] - 0s 25us/step - loss: 0.6384 - accuracy: 0.6525\n",
      "Epoch 60/100\n",
      "2996/2996 [==============================] - 0s 27us/step - loss: 0.6687 - accuracy: 0.6282\n",
      "Epoch 61/100\n",
      "2996/2996 [==============================] - 0s 31us/step - loss: 0.6409 - accuracy: 0.6559\n",
      "Epoch 62/100\n",
      "2996/2996 [==============================] - 0s 27us/step - loss: 0.6463 - accuracy: 0.6399\n",
      "Epoch 63/100\n",
      "2996/2996 [==============================] - 0s 27us/step - loss: 0.6419 - accuracy: 0.6435\n",
      "Epoch 64/100\n",
      "2996/2996 [==============================] - 0s 26us/step - loss: 0.6377 - accuracy: 0.6432\n",
      "Epoch 65/100\n",
      "2996/2996 [==============================] - 0s 26us/step - loss: 0.6323 - accuracy: 0.6459\n",
      "Epoch 66/100\n",
      "2996/2996 [==============================] - 0s 24us/step - loss: 0.6324 - accuracy: 0.6419\n",
      "Epoch 67/100\n",
      "2996/2996 [==============================] - 0s 25us/step - loss: 0.6463 - accuracy: 0.6502\n",
      "Epoch 68/100\n",
      "2996/2996 [==============================] - 0s 23us/step - loss: 0.6296 - accuracy: 0.6469\n",
      "Epoch 69/100\n",
      "2996/2996 [==============================] - 0s 21us/step - loss: 0.6334 - accuracy: 0.6529\n",
      "Epoch 70/100\n",
      "2996/2996 [==============================] - 0s 25us/step - loss: 0.6347 - accuracy: 0.6479\n",
      "Epoch 71/100\n",
      "2996/2996 [==============================] - 0s 24us/step - loss: 0.6420 - accuracy: 0.6485\n",
      "Epoch 72/100\n",
      "2996/2996 [==============================] - 0s 23us/step - loss: 0.6231 - accuracy: 0.6615\n",
      "Epoch 73/100\n",
      "2996/2996 [==============================] - 0s 23us/step - loss: 0.6326 - accuracy: 0.6499\n",
      "Epoch 74/100\n",
      "2996/2996 [==============================] - 0s 26us/step - loss: 0.6229 - accuracy: 0.6562\n",
      "Epoch 75/100\n",
      "2996/2996 [==============================] - 0s 24us/step - loss: 0.6283 - accuracy: 0.6555\n",
      "Epoch 76/100\n",
      "2996/2996 [==============================] - 0s 25us/step - loss: 0.6219 - accuracy: 0.6569\n",
      "Epoch 77/100\n",
      "2996/2996 [==============================] - 0s 23us/step - loss: 0.6193 - accuracy: 0.6529\n",
      "Epoch 78/100\n",
      "2996/2996 [==============================] - 0s 23us/step - loss: 0.6232 - accuracy: 0.6615\n",
      "Epoch 79/100\n",
      "2996/2996 [==============================] - 0s 23us/step - loss: 0.6261 - accuracy: 0.6479\n",
      "Epoch 80/100\n",
      "2996/2996 [==============================] - 0s 23us/step - loss: 0.6240 - accuracy: 0.6509\n",
      "Epoch 81/100\n",
      "2996/2996 [==============================] - 0s 23us/step - loss: 0.6183 - accuracy: 0.6615\n",
      "Epoch 82/100\n",
      "2996/2996 [==============================] - 0s 23us/step - loss: 0.6193 - accuracy: 0.6712\n",
      "Epoch 83/100\n",
      "2996/2996 [==============================] - 0s 22us/step - loss: 0.6215 - accuracy: 0.6699\n",
      "Epoch 84/100\n",
      "2996/2996 [==============================] - 0s 22us/step - loss: 0.6157 - accuracy: 0.6646\n",
      "Epoch 85/100\n",
      "2996/2996 [==============================] - 0s 23us/step - loss: 0.6123 - accuracy: 0.6692\n",
      "Epoch 86/100\n",
      "2996/2996 [==============================] - 0s 24us/step - loss: 0.6129 - accuracy: 0.6722\n",
      "Epoch 87/100\n",
      "2996/2996 [==============================] - 0s 24us/step - loss: 0.6211 - accuracy: 0.6646\n",
      "Epoch 88/100\n",
      "2996/2996 [==============================] - 0s 23us/step - loss: 0.6031 - accuracy: 0.6739\n",
      "Epoch 89/100\n",
      "2996/2996 [==============================] - 0s 25us/step - loss: 0.6101 - accuracy: 0.6679\n",
      "Epoch 90/100\n",
      "2996/2996 [==============================] - 0s 23us/step - loss: 0.6381 - accuracy: 0.6639\n",
      "Epoch 91/100\n",
      "2996/2996 [==============================] - 0s 25us/step - loss: 0.6077 - accuracy: 0.6742\n",
      "Epoch 92/100\n",
      "2996/2996 [==============================] - 0s 25us/step - loss: 0.6143 - accuracy: 0.6796\n",
      "Epoch 93/100\n",
      "2996/2996 [==============================] - 0s 26us/step - loss: 0.6066 - accuracy: 0.6679\n",
      "Epoch 94/100\n",
      "2996/2996 [==============================] - 0s 26us/step - loss: 0.6041 - accuracy: 0.6722\n",
      "Epoch 95/100\n",
      "2996/2996 [==============================] - 0s 25us/step - loss: 0.6113 - accuracy: 0.6739\n",
      "Epoch 96/100\n",
      "2996/2996 [==============================] - 0s 26us/step - loss: 0.6121 - accuracy: 0.6729\n",
      "Epoch 97/100\n",
      "2996/2996 [==============================] - 0s 27us/step - loss: 0.6035 - accuracy: 0.6692\n",
      "Epoch 98/100\n",
      "2996/2996 [==============================] - 0s 25us/step - loss: 0.6009 - accuracy: 0.6712\n",
      "Epoch 99/100\n",
      "2996/2996 [==============================] - 0s 24us/step - loss: 0.6037 - accuracy: 0.6699\n",
      "Epoch 100/100\n",
      "2996/2996 [==============================] - 0s 27us/step - loss: 0.6155 - accuracy: 0.6829\n"
     ]
    },
    {
     "data": {
      "text/plain": [
       "<keras.callbacks.callbacks.History at 0x222f503c4e0>"
      ]
     },
     "execution_count": 279,
     "metadata": {},
     "output_type": "execute_result"
    }
   ],
   "source": [
    "model = Sequential()\n",
    "model.add(Dense(32, input_dim=29, activation='relu'))\n",
    "model.add(Dropout(0.03))\n",
    "\n",
    "model.add(Dense(10, activation='relu'))\n",
    "model.add(Dense(2, activation='softmax'))\n",
    "\n",
    "model.compile(loss='categorical_crossentropy',\n",
    "              optimizer=\"AdaDelta\",\n",
    "#               optimizer=\"adam\",\n",
    "              metrics=['accuracy'])\n",
    "print(model.summary())\n",
    "\n",
    "model.fit(X_train, y_train,\n",
    "          epochs=100,\n",
    "          batch_size=128)"
   ]
  },
  {
   "cell_type": "code",
   "execution_count": 280,
   "metadata": {},
   "outputs": [
    {
     "name": "stdout",
     "output_type": "stream",
     "text": [
      "2996/2996 [==============================] - 1s 318us/step\n",
      "1476/1476 [==============================] - 0s 139us/step\n",
      "train_acc 0.692923903465271\n",
      "test_acc 0.574525773525238\n"
     ]
    }
   ],
   "source": [
    "_, train_acc = model.evaluate(X_train, y_train, batch_size=16)\n",
    "_, test_acc = model.evaluate(X_test, y_test, batch_size=16)\n",
    "print('train_acc', train_acc)\n",
    "print('test_acc', test_acc)"
   ]
  }
 ],
 "metadata": {
  "_change_revision": 0,
  "_is_fork": false,
  "kernelspec": {
   "display_name": "Python 3",
   "language": "python",
   "name": "python3"
  },
  "language_info": {
   "codemirror_mode": {
    "name": "ipython",
    "version": 3
   },
   "file_extension": ".py",
   "mimetype": "text/x-python",
   "name": "python",
   "nbconvert_exporter": "python",
   "pygments_lexer": "ipython3",
   "version": "3.6.9"
  }
 },
 "nbformat": 4,
 "nbformat_minor": 1
}
